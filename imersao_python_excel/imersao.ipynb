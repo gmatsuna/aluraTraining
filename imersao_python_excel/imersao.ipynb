{
 "cells": [
  {
   "cell_type": "code",
   "execution_count": 138,
   "metadata": {},
   "outputs": [],
   "source": [
    "import pandas as pd\n",
    "import plotly.express as px\n",
    "pd.options.display.float_format = \"{:,.2f}\".format"
   ]
  },
  {
   "cell_type": "code",
   "execution_count": 139,
   "metadata": {},
   "outputs": [
    {
     "data": {
      "text/html": [
       "<div>\n",
       "<style scoped>\n",
       "    .dataframe tbody tr th:only-of-type {\n",
       "        vertical-align: middle;\n",
       "    }\n",
       "\n",
       "    .dataframe tbody tr th {\n",
       "        vertical-align: top;\n",
       "    }\n",
       "\n",
       "    .dataframe thead th {\n",
       "        text-align: right;\n",
       "    }\n",
       "</style>\n",
       "<table border=\"1\" class=\"dataframe\">\n",
       "  <thead>\n",
       "    <tr style=\"text-align: right;\">\n",
       "      <th></th>\n",
       "      <th>ticker</th>\n",
       "      <th>valor_final</th>\n",
       "      <th>var_dia_pct</th>\n",
       "      <th>var_semanal_pct</th>\n",
       "      <th>var_mensal_pct</th>\n",
       "      <th>var_anual_pct</th>\n",
       "      <th>var_12m_pct</th>\n",
       "    </tr>\n",
       "  </thead>\n",
       "  <tbody>\n",
       "    <tr>\n",
       "      <th>0</th>\n",
       "      <td>USIM5</td>\n",
       "      <td>9.50</td>\n",
       "      <td>5.20</td>\n",
       "      <td>11.76</td>\n",
       "      <td>2.26</td>\n",
       "      <td>2.26</td>\n",
       "      <td>15.97</td>\n",
       "    </tr>\n",
       "    <tr>\n",
       "      <th>1</th>\n",
       "      <td>CMIN3</td>\n",
       "      <td>6.82</td>\n",
       "      <td>2.40</td>\n",
       "      <td>2.40</td>\n",
       "      <td>-12.11</td>\n",
       "      <td>-12.11</td>\n",
       "      <td>50.56</td>\n",
       "    </tr>\n",
       "    <tr>\n",
       "      <th>2</th>\n",
       "      <td>PETR3</td>\n",
       "      <td>41.96</td>\n",
       "      <td>2.19</td>\n",
       "      <td>7.73</td>\n",
       "      <td>7.64</td>\n",
       "      <td>7.64</td>\n",
       "      <td>77.55</td>\n",
       "    </tr>\n",
       "    <tr>\n",
       "      <th>3</th>\n",
       "      <td>SUZB3</td>\n",
       "      <td>52.91</td>\n",
       "      <td>2.04</td>\n",
       "      <td>2.14</td>\n",
       "      <td>-4.89</td>\n",
       "      <td>-4.89</td>\n",
       "      <td>18.85</td>\n",
       "    </tr>\n",
       "    <tr>\n",
       "      <th>4</th>\n",
       "      <td>CPFE3</td>\n",
       "      <td>37.10</td>\n",
       "      <td>2.03</td>\n",
       "      <td>2.49</td>\n",
       "      <td>-3.66</td>\n",
       "      <td>-3.66</td>\n",
       "      <td>20.70</td>\n",
       "    </tr>\n",
       "    <tr>\n",
       "      <th>...</th>\n",
       "      <td>...</td>\n",
       "      <td>...</td>\n",
       "      <td>...</td>\n",
       "      <td>...</td>\n",
       "      <td>...</td>\n",
       "      <td>...</td>\n",
       "      <td>...</td>\n",
       "    </tr>\n",
       "    <tr>\n",
       "      <th>75</th>\n",
       "      <td>LREN3</td>\n",
       "      <td>15.78</td>\n",
       "      <td>-2.29</td>\n",
       "      <td>-5.62</td>\n",
       "      <td>-9.41</td>\n",
       "      <td>-9.41</td>\n",
       "      <td>-24.94</td>\n",
       "    </tr>\n",
       "    <tr>\n",
       "      <th>76</th>\n",
       "      <td>CRFB3</td>\n",
       "      <td>10.71</td>\n",
       "      <td>-2.45</td>\n",
       "      <td>-9.47</td>\n",
       "      <td>-13.98</td>\n",
       "      <td>-13.98</td>\n",
       "      <td>-32.72</td>\n",
       "    </tr>\n",
       "    <tr>\n",
       "      <th>77</th>\n",
       "      <td>RENT3</td>\n",
       "      <td>56.24</td>\n",
       "      <td>-3.63</td>\n",
       "      <td>-6.41</td>\n",
       "      <td>-11.57</td>\n",
       "      <td>-11.57</td>\n",
       "      <td>-2.77</td>\n",
       "    </tr>\n",
       "    <tr>\n",
       "      <th>78</th>\n",
       "      <td>CVCB3</td>\n",
       "      <td>3.07</td>\n",
       "      <td>-4.36</td>\n",
       "      <td>-5.54</td>\n",
       "      <td>-12.29</td>\n",
       "      <td>-12.29</td>\n",
       "      <td>-36.83</td>\n",
       "    </tr>\n",
       "    <tr>\n",
       "      <th>79</th>\n",
       "      <td>GOLL4</td>\n",
       "      <td>5.92</td>\n",
       "      <td>-8.07</td>\n",
       "      <td>-15.91</td>\n",
       "      <td>-34.00</td>\n",
       "      <td>-34.00</td>\n",
       "      <td>-25.44</td>\n",
       "    </tr>\n",
       "  </tbody>\n",
       "</table>\n",
       "<p>80 rows × 7 columns</p>\n",
       "</div>"
      ],
      "text/plain": [
       "   ticker  valor_final  var_dia_pct  var_semanal_pct  var_mensal_pct  \\\n",
       "0   USIM5         9.50         5.20            11.76            2.26   \n",
       "1   CMIN3         6.82         2.40             2.40          -12.11   \n",
       "2   PETR3        41.96         2.19             7.73            7.64   \n",
       "3   SUZB3        52.91         2.04             2.14           -4.89   \n",
       "4   CPFE3        37.10         2.03             2.49           -3.66   \n",
       "..    ...          ...          ...              ...             ...   \n",
       "75  LREN3        15.78        -2.29            -5.62           -9.41   \n",
       "76  CRFB3        10.71        -2.45            -9.47          -13.98   \n",
       "77  RENT3        56.24        -3.63            -6.41          -11.57   \n",
       "78  CVCB3         3.07        -4.36            -5.54          -12.29   \n",
       "79  GOLL4         5.92        -8.07           -15.91          -34.00   \n",
       "\n",
       "    var_anual_pct  var_12m_pct  \n",
       "0            2.26        15.97  \n",
       "1          -12.11        50.56  \n",
       "2            7.64        77.55  \n",
       "3           -4.89        18.85  \n",
       "4           -3.66        20.70  \n",
       "..            ...          ...  \n",
       "75          -9.41       -24.94  \n",
       "76         -13.98       -32.72  \n",
       "77         -11.57        -2.77  \n",
       "78         -12.29       -36.83  \n",
       "79         -34.00       -25.44  \n",
       "\n",
       "[80 rows x 7 columns]"
      ]
     },
     "execution_count": 139,
     "metadata": {},
     "output_type": "execute_result"
    }
   ],
   "source": [
    "df_principal = pd.read_excel(\"acoes_pura.xlsx\", sheet_name=\"Principal\")\n",
    "df_principal = df_principal[[\n",
    "    \"Ativo\",\n",
    "    \"Ultimo (R$)\",\n",
    "    \"Var. Dia (%)\",\n",
    "    \"Var. Sem. (%)\",\n",
    "    \"Var. Mês (%)\",\n",
    "    \"Var. Ano (%)\",\n",
    "    \"Var. 12M (%)\"\n",
    "    ]].rename(columns = {\n",
    "        \"Ativo\": \"ticker\",\n",
    "        \"Ultimo (R$)\": \"valor_final\",\n",
    "        \"Var. Dia (%)\": \"var_dia_pct\",\n",
    "        \"Var. Sem. (%)\": \"var_semanal_pct\",\n",
    "        \"Var. Mês (%)\": \"var_mensal_pct\",\n",
    "        \"Var. Ano (%)\": \"var_anual_pct\",\n",
    "        \"Var. 12M (%)\": \"var_12m_pct\"\n",
    "        }).copy()\n",
    "df_principal"
   ]
  },
  {
   "cell_type": "code",
   "execution_count": 140,
   "metadata": {},
   "outputs": [
    {
     "data": {
      "text/html": [
       "<div>\n",
       "<style scoped>\n",
       "    .dataframe tbody tr th:only-of-type {\n",
       "        vertical-align: middle;\n",
       "    }\n",
       "\n",
       "    .dataframe tbody tr th {\n",
       "        vertical-align: top;\n",
       "    }\n",
       "\n",
       "    .dataframe thead th {\n",
       "        text-align: right;\n",
       "    }\n",
       "</style>\n",
       "<table border=\"1\" class=\"dataframe\">\n",
       "  <thead>\n",
       "    <tr style=\"text-align: right;\">\n",
       "      <th></th>\n",
       "      <th>ticker</th>\n",
       "      <th>qtd_teorica</th>\n",
       "    </tr>\n",
       "  </thead>\n",
       "  <tbody>\n",
       "    <tr>\n",
       "      <th>0</th>\n",
       "      <td>RRRP3</td>\n",
       "      <td>235665566</td>\n",
       "    </tr>\n",
       "    <tr>\n",
       "      <th>1</th>\n",
       "      <td>ALOS3</td>\n",
       "      <td>532616595</td>\n",
       "    </tr>\n",
       "    <tr>\n",
       "      <th>2</th>\n",
       "      <td>ALPA4</td>\n",
       "      <td>176733968</td>\n",
       "    </tr>\n",
       "    <tr>\n",
       "      <th>3</th>\n",
       "      <td>ABEV3</td>\n",
       "      <td>4394245879</td>\n",
       "    </tr>\n",
       "    <tr>\n",
       "      <th>4</th>\n",
       "      <td>ARZZ3</td>\n",
       "      <td>62305891</td>\n",
       "    </tr>\n",
       "    <tr>\n",
       "      <th>...</th>\n",
       "      <td>...</td>\n",
       "      <td>...</td>\n",
       "    </tr>\n",
       "    <tr>\n",
       "      <th>85</th>\n",
       "      <td>WEGE3</td>\n",
       "      <td>1481593024</td>\n",
       "    </tr>\n",
       "    <tr>\n",
       "      <th>86</th>\n",
       "      <td>YDUQ3</td>\n",
       "      <td>289347914</td>\n",
       "    </tr>\n",
       "    <tr>\n",
       "      <th>87</th>\n",
       "      <td>CPLE3</td>\n",
       "      <td>2982810591</td>\n",
       "    </tr>\n",
       "    <tr>\n",
       "      <th>88</th>\n",
       "      <td>Quantidade Teórica Total</td>\n",
       "      <td>96372098181</td>\n",
       "    </tr>\n",
       "    <tr>\n",
       "      <th>89</th>\n",
       "      <td>Redutor</td>\n",
       "      <td>17047850</td>\n",
       "    </tr>\n",
       "  </tbody>\n",
       "</table>\n",
       "<p>90 rows × 2 columns</p>\n",
       "</div>"
      ],
      "text/plain": [
       "                      ticker  qtd_teorica\n",
       "0                      RRRP3    235665566\n",
       "1                      ALOS3    532616595\n",
       "2                      ALPA4    176733968\n",
       "3                      ABEV3   4394245879\n",
       "4                      ARZZ3     62305891\n",
       "..                       ...          ...\n",
       "85                     WEGE3   1481593024\n",
       "86                     YDUQ3    289347914\n",
       "87                     CPLE3   2982810591\n",
       "88  Quantidade Teórica Total  96372098181\n",
       "89                   Redutor     17047850\n",
       "\n",
       "[90 rows x 2 columns]"
      ]
     },
     "execution_count": 140,
     "metadata": {},
     "output_type": "execute_result"
    }
   ],
   "source": [
    "df_total_acoes = pd.read_excel(\"acoes_pura.xlsx\", sheet_name=\"Total_de_acoes\").rename(columns = {\n",
    "    \"Código\": \"ticker\",\n",
    "    \"Qtde. Teórica\": \"qtd_teorica\"\n",
    "})\n",
    "df_total_acoes[\"qtd_teorica\"] = df_total_acoes[\"qtd_teorica\"].astype(\"int64\").copy()\n",
    "df_total_acoes"
   ]
  },
  {
   "cell_type": "code",
   "execution_count": 141,
   "metadata": {},
   "outputs": [
    {
     "data": {
      "text/html": [
       "<div>\n",
       "<style scoped>\n",
       "    .dataframe tbody tr th:only-of-type {\n",
       "        vertical-align: middle;\n",
       "    }\n",
       "\n",
       "    .dataframe tbody tr th {\n",
       "        vertical-align: top;\n",
       "    }\n",
       "\n",
       "    .dataframe thead th {\n",
       "        text-align: right;\n",
       "    }\n",
       "</style>\n",
       "<table border=\"1\" class=\"dataframe\">\n",
       "  <thead>\n",
       "    <tr style=\"text-align: right;\">\n",
       "      <th></th>\n",
       "      <th>ticker</th>\n",
       "      <th>nome</th>\n",
       "    </tr>\n",
       "  </thead>\n",
       "  <tbody>\n",
       "    <tr>\n",
       "      <th>0</th>\n",
       "      <td>MGLU3</td>\n",
       "      <td>Magazine Luiza</td>\n",
       "    </tr>\n",
       "    <tr>\n",
       "      <th>1</th>\n",
       "      <td>HAPV3</td>\n",
       "      <td>Hapvida</td>\n",
       "    </tr>\n",
       "    <tr>\n",
       "      <th>2</th>\n",
       "      <td>PETR4</td>\n",
       "      <td>Petrobras4</td>\n",
       "    </tr>\n",
       "    <tr>\n",
       "      <th>3</th>\n",
       "      <td>B3SA3</td>\n",
       "      <td>B3</td>\n",
       "    </tr>\n",
       "    <tr>\n",
       "      <th>4</th>\n",
       "      <td>USIM5</td>\n",
       "      <td>Usiminas</td>\n",
       "    </tr>\n",
       "    <tr>\n",
       "      <th>...</th>\n",
       "      <td>...</td>\n",
       "      <td>...</td>\n",
       "    </tr>\n",
       "    <tr>\n",
       "      <th>530</th>\n",
       "      <td>TKNO3</td>\n",
       "      <td>Tekno</td>\n",
       "    </tr>\n",
       "    <tr>\n",
       "      <th>531</th>\n",
       "      <td>COCE6</td>\n",
       "      <td>Coelce</td>\n",
       "    </tr>\n",
       "    <tr>\n",
       "      <th>532</th>\n",
       "      <td>MGEL3</td>\n",
       "      <td>Mangels</td>\n",
       "    </tr>\n",
       "    <tr>\n",
       "      <th>533</th>\n",
       "      <td>CTSA8</td>\n",
       "      <td>Santanense</td>\n",
       "    </tr>\n",
       "    <tr>\n",
       "      <th>534</th>\n",
       "      <td>MMAQ4</td>\n",
       "      <td>Minasmáquinas</td>\n",
       "    </tr>\n",
       "  </tbody>\n",
       "</table>\n",
       "<p>535 rows × 2 columns</p>\n",
       "</div>"
      ],
      "text/plain": [
       "    ticker            nome\n",
       "0    MGLU3  Magazine Luiza\n",
       "1    HAPV3         Hapvida\n",
       "2    PETR4      Petrobras4\n",
       "3    B3SA3              B3\n",
       "4    USIM5        Usiminas\n",
       "..     ...             ...\n",
       "530  TKNO3           Tekno\n",
       "531  COCE6          Coelce\n",
       "532  MGEL3         Mangels\n",
       "533  CTSA8      Santanense\n",
       "534  MMAQ4   Minasmáquinas\n",
       "\n",
       "[535 rows x 2 columns]"
      ]
     },
     "execution_count": 141,
     "metadata": {},
     "output_type": "execute_result"
    }
   ],
   "source": [
    "df_tickers = pd.read_excel(\"acoes_pura.xlsx\", sheet_name=\"Ticker\").rename(columns={\n",
    "    \"Ticker\": \"ticker\",\n",
    "    \"Nome\": \"nome\"\n",
    "}).copy()\n",
    "df_tickers"
   ]
  },
  {
   "cell_type": "code",
   "execution_count": 142,
   "metadata": {},
   "outputs": [
    {
     "data": {
      "text/html": [
       "<div>\n",
       "<style scoped>\n",
       "    .dataframe tbody tr th:only-of-type {\n",
       "        vertical-align: middle;\n",
       "    }\n",
       "\n",
       "    .dataframe tbody tr th {\n",
       "        vertical-align: top;\n",
       "    }\n",
       "\n",
       "    .dataframe thead th {\n",
       "        text-align: right;\n",
       "    }\n",
       "</style>\n",
       "<table border=\"1\" class=\"dataframe\">\n",
       "  <thead>\n",
       "    <tr style=\"text-align: right;\">\n",
       "      <th></th>\n",
       "      <th>ticker</th>\n",
       "      <th>empresa</th>\n",
       "      <th>segmento</th>\n",
       "      <th>idade</th>\n",
       "    </tr>\n",
       "  </thead>\n",
       "  <tbody>\n",
       "    <tr>\n",
       "      <th>0</th>\n",
       "      <td>USIM5</td>\n",
       "      <td>Usiminas</td>\n",
       "      <td>Siderurgia</td>\n",
       "      <td>59</td>\n",
       "    </tr>\n",
       "    <tr>\n",
       "      <th>1</th>\n",
       "      <td>CMIN3</td>\n",
       "      <td>CSN Mineração</td>\n",
       "      <td>Mineração</td>\n",
       "      <td>81</td>\n",
       "    </tr>\n",
       "    <tr>\n",
       "      <th>2</th>\n",
       "      <td>PETR4</td>\n",
       "      <td>Petrobras4</td>\n",
       "      <td>Petróleo e Gás</td>\n",
       "      <td>68</td>\n",
       "    </tr>\n",
       "    <tr>\n",
       "      <th>3</th>\n",
       "      <td>PETR3</td>\n",
       "      <td>Petrobras3</td>\n",
       "      <td>Petróleo e Gás</td>\n",
       "      <td>68</td>\n",
       "    </tr>\n",
       "    <tr>\n",
       "      <th>4</th>\n",
       "      <td>SUZB3</td>\n",
       "      <td>Suzano</td>\n",
       "      <td>Papel e Celulose</td>\n",
       "      <td>97</td>\n",
       "    </tr>\n",
       "    <tr>\n",
       "      <th>...</th>\n",
       "      <td>...</td>\n",
       "      <td>...</td>\n",
       "      <td>...</td>\n",
       "      <td>...</td>\n",
       "    </tr>\n",
       "    <tr>\n",
       "      <th>74</th>\n",
       "      <td>CRFB3</td>\n",
       "      <td>Carrefour Brasil</td>\n",
       "      <td>Varejo</td>\n",
       "      <td>44</td>\n",
       "    </tr>\n",
       "    <tr>\n",
       "      <th>75</th>\n",
       "      <td>RENT3</td>\n",
       "      <td>Localiza</td>\n",
       "      <td>Aluguel de Carros</td>\n",
       "      <td>48</td>\n",
       "    </tr>\n",
       "    <tr>\n",
       "      <th>76</th>\n",
       "      <td>CVCB3</td>\n",
       "      <td>CVC</td>\n",
       "      <td>Turismo</td>\n",
       "      <td>49</td>\n",
       "    </tr>\n",
       "    <tr>\n",
       "      <th>77</th>\n",
       "      <td>GOLL4</td>\n",
       "      <td>GOL</td>\n",
       "      <td>Transporte Aéreo</td>\n",
       "      <td>22</td>\n",
       "    </tr>\n",
       "    <tr>\n",
       "      <th>78</th>\n",
       "      <td>DXCO3</td>\n",
       "      <td>Dexco</td>\n",
       "      <td>Comércio</td>\n",
       "      <td>72</td>\n",
       "    </tr>\n",
       "  </tbody>\n",
       "</table>\n",
       "<p>79 rows × 4 columns</p>\n",
       "</div>"
      ],
      "text/plain": [
       "   ticker           empresa           segmento  idade\n",
       "0   USIM5          Usiminas         Siderurgia     59\n",
       "1   CMIN3     CSN Mineração          Mineração     81\n",
       "2   PETR4        Petrobras4     Petróleo e Gás     68\n",
       "3   PETR3        Petrobras3     Petróleo e Gás     68\n",
       "4   SUZB3            Suzano   Papel e Celulose     97\n",
       "..    ...               ...                ...    ...\n",
       "74  CRFB3  Carrefour Brasil             Varejo     44\n",
       "75  RENT3          Localiza  Aluguel de Carros     48\n",
       "76  CVCB3               CVC            Turismo     49\n",
       "77  GOLL4               GOL   Transporte Aéreo     22\n",
       "78  DXCO3             Dexco           Comércio     72\n",
       "\n",
       "[79 rows x 4 columns]"
      ]
     },
     "execution_count": 142,
     "metadata": {},
     "output_type": "execute_result"
    }
   ],
   "source": [
    "df_chatgpt = pd.read_excel(\"acoes_pura.xlsx\", sheet_name=\"Chatgpt\").rename(columns={\n",
    "    \"Ticker\": \"ticker\",\n",
    "    \"Empresa\": \"empresa\",\n",
    "    \"Segmento\": \"segmento\",\n",
    "    \"Idade (em anos)\": \"idade\",\n",
    "}).copy()\n",
    "df_chatgpt"
   ]
  },
  {
   "cell_type": "code",
   "execution_count": 143,
   "metadata": {},
   "outputs": [
    {
     "data": {
      "text/html": [
       "<div>\n",
       "<style scoped>\n",
       "    .dataframe tbody tr th:only-of-type {\n",
       "        vertical-align: middle;\n",
       "    }\n",
       "\n",
       "    .dataframe tbody tr th {\n",
       "        vertical-align: top;\n",
       "    }\n",
       "\n",
       "    .dataframe thead th {\n",
       "        text-align: right;\n",
       "    }\n",
       "</style>\n",
       "<table border=\"1\" class=\"dataframe\">\n",
       "  <thead>\n",
       "    <tr style=\"text-align: right;\">\n",
       "      <th></th>\n",
       "      <th>ticker</th>\n",
       "      <th>valor_final</th>\n",
       "      <th>var_dia_pct</th>\n",
       "      <th>var_semanal_pct</th>\n",
       "      <th>var_mensal_pct</th>\n",
       "      <th>var_anual_pct</th>\n",
       "      <th>var_12m_pct</th>\n",
       "      <th>qtd_teorica</th>\n",
       "      <th>nome</th>\n",
       "      <th>segmento</th>\n",
       "      <th>idade</th>\n",
       "    </tr>\n",
       "  </thead>\n",
       "  <tbody>\n",
       "    <tr>\n",
       "      <th>0</th>\n",
       "      <td>USIM5</td>\n",
       "      <td>9.50</td>\n",
       "      <td>5.20</td>\n",
       "      <td>11.76</td>\n",
       "      <td>2.26</td>\n",
       "      <td>2.26</td>\n",
       "      <td>15.97</td>\n",
       "      <td>515117391</td>\n",
       "      <td>Usiminas</td>\n",
       "      <td>Siderurgia</td>\n",
       "      <td>59</td>\n",
       "    </tr>\n",
       "    <tr>\n",
       "      <th>1</th>\n",
       "      <td>CMIN3</td>\n",
       "      <td>6.82</td>\n",
       "      <td>2.40</td>\n",
       "      <td>2.40</td>\n",
       "      <td>-12.11</td>\n",
       "      <td>-12.11</td>\n",
       "      <td>50.56</td>\n",
       "      <td>1110559345</td>\n",
       "      <td>CSN Mineração</td>\n",
       "      <td>Mineração</td>\n",
       "      <td>81</td>\n",
       "    </tr>\n",
       "    <tr>\n",
       "      <th>2</th>\n",
       "      <td>PETR3</td>\n",
       "      <td>41.96</td>\n",
       "      <td>2.19</td>\n",
       "      <td>7.73</td>\n",
       "      <td>7.64</td>\n",
       "      <td>7.64</td>\n",
       "      <td>77.55</td>\n",
       "      <td>2379877655</td>\n",
       "      <td>Petrobras 3</td>\n",
       "      <td>Petróleo e Gás</td>\n",
       "      <td>68</td>\n",
       "    </tr>\n",
       "    <tr>\n",
       "      <th>3</th>\n",
       "      <td>SUZB3</td>\n",
       "      <td>52.91</td>\n",
       "      <td>2.04</td>\n",
       "      <td>2.14</td>\n",
       "      <td>-4.89</td>\n",
       "      <td>-4.89</td>\n",
       "      <td>18.85</td>\n",
       "      <td>683452836</td>\n",
       "      <td>Suzano</td>\n",
       "      <td>Papel e Celulose</td>\n",
       "      <td>97</td>\n",
       "    </tr>\n",
       "    <tr>\n",
       "      <th>4</th>\n",
       "      <td>CPFE3</td>\n",
       "      <td>37.10</td>\n",
       "      <td>2.03</td>\n",
       "      <td>2.49</td>\n",
       "      <td>-3.66</td>\n",
       "      <td>-3.66</td>\n",
       "      <td>20.70</td>\n",
       "      <td>187732538</td>\n",
       "      <td>CPFL Energia</td>\n",
       "      <td>Energia</td>\n",
       "      <td>109</td>\n",
       "    </tr>\n",
       "    <tr>\n",
       "      <th>...</th>\n",
       "      <td>...</td>\n",
       "      <td>...</td>\n",
       "      <td>...</td>\n",
       "      <td>...</td>\n",
       "      <td>...</td>\n",
       "      <td>...</td>\n",
       "      <td>...</td>\n",
       "      <td>...</td>\n",
       "      <td>...</td>\n",
       "      <td>...</td>\n",
       "      <td>...</td>\n",
       "    </tr>\n",
       "    <tr>\n",
       "      <th>78</th>\n",
       "      <td>LREN3</td>\n",
       "      <td>15.78</td>\n",
       "      <td>-2.29</td>\n",
       "      <td>-5.62</td>\n",
       "      <td>-9.41</td>\n",
       "      <td>-9.41</td>\n",
       "      <td>-24.94</td>\n",
       "      <td>951329770</td>\n",
       "      <td>Lojas Renner</td>\n",
       "      <td>Vestuário</td>\n",
       "      <td>54</td>\n",
       "    </tr>\n",
       "    <tr>\n",
       "      <th>79</th>\n",
       "      <td>CRFB3</td>\n",
       "      <td>10.71</td>\n",
       "      <td>-2.45</td>\n",
       "      <td>-9.47</td>\n",
       "      <td>-13.98</td>\n",
       "      <td>-13.98</td>\n",
       "      <td>-32.72</td>\n",
       "      <td>533990587</td>\n",
       "      <td>Carrefour Brasil</td>\n",
       "      <td>Varejo</td>\n",
       "      <td>44</td>\n",
       "    </tr>\n",
       "    <tr>\n",
       "      <th>80</th>\n",
       "      <td>RENT3</td>\n",
       "      <td>56.24</td>\n",
       "      <td>-3.63</td>\n",
       "      <td>-6.41</td>\n",
       "      <td>-11.57</td>\n",
       "      <td>-11.57</td>\n",
       "      <td>-2.77</td>\n",
       "      <td>853202347</td>\n",
       "      <td>Localiza</td>\n",
       "      <td>Aluguel de Carros</td>\n",
       "      <td>48</td>\n",
       "    </tr>\n",
       "    <tr>\n",
       "      <th>81</th>\n",
       "      <td>CVCB3</td>\n",
       "      <td>3.07</td>\n",
       "      <td>-4.36</td>\n",
       "      <td>-5.54</td>\n",
       "      <td>-12.29</td>\n",
       "      <td>-12.29</td>\n",
       "      <td>-36.83</td>\n",
       "      <td>525582771</td>\n",
       "      <td>CVC</td>\n",
       "      <td>Turismo</td>\n",
       "      <td>49</td>\n",
       "    </tr>\n",
       "    <tr>\n",
       "      <th>82</th>\n",
       "      <td>GOLL4</td>\n",
       "      <td>5.92</td>\n",
       "      <td>-8.07</td>\n",
       "      <td>-15.91</td>\n",
       "      <td>-34.00</td>\n",
       "      <td>-34.00</td>\n",
       "      <td>-25.44</td>\n",
       "      <td>198184909</td>\n",
       "      <td>GOL</td>\n",
       "      <td>Transporte Aéreo</td>\n",
       "      <td>22</td>\n",
       "    </tr>\n",
       "  </tbody>\n",
       "</table>\n",
       "<p>83 rows × 11 columns</p>\n",
       "</div>"
      ],
      "text/plain": [
       "   ticker  valor_final  var_dia_pct  var_semanal_pct  var_mensal_pct  \\\n",
       "0   USIM5         9.50         5.20            11.76            2.26   \n",
       "1   CMIN3         6.82         2.40             2.40          -12.11   \n",
       "2   PETR3        41.96         2.19             7.73            7.64   \n",
       "3   SUZB3        52.91         2.04             2.14           -4.89   \n",
       "4   CPFE3        37.10         2.03             2.49           -3.66   \n",
       "..    ...          ...          ...              ...             ...   \n",
       "78  LREN3        15.78        -2.29            -5.62           -9.41   \n",
       "79  CRFB3        10.71        -2.45            -9.47          -13.98   \n",
       "80  RENT3        56.24        -3.63            -6.41          -11.57   \n",
       "81  CVCB3         3.07        -4.36            -5.54          -12.29   \n",
       "82  GOLL4         5.92        -8.07           -15.91          -34.00   \n",
       "\n",
       "    var_anual_pct  var_12m_pct  qtd_teorica              nome  \\\n",
       "0            2.26        15.97    515117391          Usiminas   \n",
       "1          -12.11        50.56   1110559345     CSN Mineração   \n",
       "2            7.64        77.55   2379877655       Petrobras 3   \n",
       "3           -4.89        18.85    683452836            Suzano   \n",
       "4           -3.66        20.70    187732538      CPFL Energia   \n",
       "..            ...          ...          ...               ...   \n",
       "78          -9.41       -24.94    951329770      Lojas Renner   \n",
       "79         -13.98       -32.72    533990587  Carrefour Brasil   \n",
       "80         -11.57        -2.77    853202347          Localiza   \n",
       "81         -12.29       -36.83    525582771               CVC   \n",
       "82         -34.00       -25.44    198184909               GOL   \n",
       "\n",
       "             segmento  idade  \n",
       "0          Siderurgia     59  \n",
       "1           Mineração     81  \n",
       "2      Petróleo e Gás     68  \n",
       "3    Papel e Celulose     97  \n",
       "4             Energia    109  \n",
       "..                ...    ...  \n",
       "78          Vestuário     54  \n",
       "79             Varejo     44  \n",
       "80  Aluguel de Carros     48  \n",
       "81            Turismo     49  \n",
       "82   Transporte Aéreo     22  \n",
       "\n",
       "[83 rows x 11 columns]"
      ]
     },
     "execution_count": 143,
     "metadata": {},
     "output_type": "execute_result"
    }
   ],
   "source": [
    "df_principal = df_principal.merge(df_total_acoes, left_on=\"ticker\", right_on=\"ticker\" , how=\"left\")\n",
    "df_principal = df_principal.merge(df_tickers, left_on=\"ticker\", right_on=\"ticker\", how=\"left\")\n",
    "df_principal = df_principal.merge(df_chatgpt, left_on=\"ticker\", right_on=\"ticker\", how=\"left\").drop(columns=[\"empresa\"])\n",
    "df_principal"
   ]
  },
  {
   "cell_type": "code",
   "execution_count": 144,
   "metadata": {},
   "outputs": [
    {
     "data": {
      "text/html": [
       "<div>\n",
       "<style scoped>\n",
       "    .dataframe tbody tr th:only-of-type {\n",
       "        vertical-align: middle;\n",
       "    }\n",
       "\n",
       "    .dataframe tbody tr th {\n",
       "        vertical-align: top;\n",
       "    }\n",
       "\n",
       "    .dataframe thead th {\n",
       "        text-align: right;\n",
       "    }\n",
       "</style>\n",
       "<table border=\"1\" class=\"dataframe\">\n",
       "  <thead>\n",
       "    <tr style=\"text-align: right;\">\n",
       "      <th></th>\n",
       "      <th>ticker</th>\n",
       "      <th>valor_final</th>\n",
       "      <th>var_dia_pct</th>\n",
       "      <th>qtd_teorica</th>\n",
       "      <th>nome</th>\n",
       "      <th>segmento</th>\n",
       "      <th>idade</th>\n",
       "    </tr>\n",
       "  </thead>\n",
       "  <tbody>\n",
       "    <tr>\n",
       "      <th>0</th>\n",
       "      <td>USIM5</td>\n",
       "      <td>9.50</td>\n",
       "      <td>5.20</td>\n",
       "      <td>515117391</td>\n",
       "      <td>Usiminas</td>\n",
       "      <td>Siderurgia</td>\n",
       "      <td>59</td>\n",
       "    </tr>\n",
       "    <tr>\n",
       "      <th>1</th>\n",
       "      <td>CMIN3</td>\n",
       "      <td>6.82</td>\n",
       "      <td>2.40</td>\n",
       "      <td>1110559345</td>\n",
       "      <td>CSN Mineração</td>\n",
       "      <td>Mineração</td>\n",
       "      <td>81</td>\n",
       "    </tr>\n",
       "    <tr>\n",
       "      <th>2</th>\n",
       "      <td>PETR3</td>\n",
       "      <td>41.96</td>\n",
       "      <td>2.19</td>\n",
       "      <td>2379877655</td>\n",
       "      <td>Petrobras 3</td>\n",
       "      <td>Petróleo e Gás</td>\n",
       "      <td>68</td>\n",
       "    </tr>\n",
       "    <tr>\n",
       "      <th>3</th>\n",
       "      <td>SUZB3</td>\n",
       "      <td>52.91</td>\n",
       "      <td>2.04</td>\n",
       "      <td>683452836</td>\n",
       "      <td>Suzano</td>\n",
       "      <td>Papel e Celulose</td>\n",
       "      <td>97</td>\n",
       "    </tr>\n",
       "    <tr>\n",
       "      <th>4</th>\n",
       "      <td>CPFE3</td>\n",
       "      <td>37.10</td>\n",
       "      <td>2.03</td>\n",
       "      <td>187732538</td>\n",
       "      <td>CPFL Energia</td>\n",
       "      <td>Energia</td>\n",
       "      <td>109</td>\n",
       "    </tr>\n",
       "    <tr>\n",
       "      <th>...</th>\n",
       "      <td>...</td>\n",
       "      <td>...</td>\n",
       "      <td>...</td>\n",
       "      <td>...</td>\n",
       "      <td>...</td>\n",
       "      <td>...</td>\n",
       "      <td>...</td>\n",
       "    </tr>\n",
       "    <tr>\n",
       "      <th>78</th>\n",
       "      <td>LREN3</td>\n",
       "      <td>15.78</td>\n",
       "      <td>-2.29</td>\n",
       "      <td>951329770</td>\n",
       "      <td>Lojas Renner</td>\n",
       "      <td>Vestuário</td>\n",
       "      <td>54</td>\n",
       "    </tr>\n",
       "    <tr>\n",
       "      <th>79</th>\n",
       "      <td>CRFB3</td>\n",
       "      <td>10.71</td>\n",
       "      <td>-2.45</td>\n",
       "      <td>533990587</td>\n",
       "      <td>Carrefour Brasil</td>\n",
       "      <td>Varejo</td>\n",
       "      <td>44</td>\n",
       "    </tr>\n",
       "    <tr>\n",
       "      <th>80</th>\n",
       "      <td>RENT3</td>\n",
       "      <td>56.24</td>\n",
       "      <td>-3.63</td>\n",
       "      <td>853202347</td>\n",
       "      <td>Localiza</td>\n",
       "      <td>Aluguel de Carros</td>\n",
       "      <td>48</td>\n",
       "    </tr>\n",
       "    <tr>\n",
       "      <th>81</th>\n",
       "      <td>CVCB3</td>\n",
       "      <td>3.07</td>\n",
       "      <td>-4.36</td>\n",
       "      <td>525582771</td>\n",
       "      <td>CVC</td>\n",
       "      <td>Turismo</td>\n",
       "      <td>49</td>\n",
       "    </tr>\n",
       "    <tr>\n",
       "      <th>82</th>\n",
       "      <td>GOLL4</td>\n",
       "      <td>5.92</td>\n",
       "      <td>-8.07</td>\n",
       "      <td>198184909</td>\n",
       "      <td>GOL</td>\n",
       "      <td>Transporte Aéreo</td>\n",
       "      <td>22</td>\n",
       "    </tr>\n",
       "  </tbody>\n",
       "</table>\n",
       "<p>83 rows × 7 columns</p>\n",
       "</div>"
      ],
      "text/plain": [
       "   ticker  valor_final  var_dia_pct  qtd_teorica              nome  \\\n",
       "0   USIM5         9.50         5.20    515117391          Usiminas   \n",
       "1   CMIN3         6.82         2.40   1110559345     CSN Mineração   \n",
       "2   PETR3        41.96         2.19   2379877655       Petrobras 3   \n",
       "3   SUZB3        52.91         2.04    683452836            Suzano   \n",
       "4   CPFE3        37.10         2.03    187732538      CPFL Energia   \n",
       "..    ...          ...          ...          ...               ...   \n",
       "78  LREN3        15.78        -2.29    951329770      Lojas Renner   \n",
       "79  CRFB3        10.71        -2.45    533990587  Carrefour Brasil   \n",
       "80  RENT3        56.24        -3.63    853202347          Localiza   \n",
       "81  CVCB3         3.07        -4.36    525582771               CVC   \n",
       "82  GOLL4         5.92        -8.07    198184909               GOL   \n",
       "\n",
       "             segmento  idade  \n",
       "0          Siderurgia     59  \n",
       "1           Mineração     81  \n",
       "2      Petróleo e Gás     68  \n",
       "3    Papel e Celulose     97  \n",
       "4             Energia    109  \n",
       "..                ...    ...  \n",
       "78          Vestuário     54  \n",
       "79             Varejo     44  \n",
       "80  Aluguel de Carros     48  \n",
       "81            Turismo     49  \n",
       "82   Transporte Aéreo     22  \n",
       "\n",
       "[83 rows x 7 columns]"
      ]
     },
     "execution_count": 144,
     "metadata": {},
     "output_type": "execute_result"
    }
   ],
   "source": [
    "df_principal_dia = df_principal[[\n",
    "    \"ticker\",\n",
    "    \"valor_final\",\n",
    "    \"var_dia_pct\",\n",
    "    \"qtd_teorica\",\n",
    "    \"nome\",\n",
    "    \"segmento\",\n",
    "    \"idade\"\n",
    "    ]].copy()\n",
    "df_principal_dia"
   ]
  },
  {
   "cell_type": "code",
   "execution_count": 145,
   "metadata": {},
   "outputs": [
    {
     "data": {
      "text/html": [
       "<div>\n",
       "<style scoped>\n",
       "    .dataframe tbody tr th:only-of-type {\n",
       "        vertical-align: middle;\n",
       "    }\n",
       "\n",
       "    .dataframe tbody tr th {\n",
       "        vertical-align: top;\n",
       "    }\n",
       "\n",
       "    .dataframe thead th {\n",
       "        text-align: right;\n",
       "    }\n",
       "</style>\n",
       "<table border=\"1\" class=\"dataframe\">\n",
       "  <thead>\n",
       "    <tr style=\"text-align: right;\">\n",
       "      <th></th>\n",
       "      <th>ticker</th>\n",
       "      <th>valor_final</th>\n",
       "      <th>var_dia_pct</th>\n",
       "      <th>qtd_teorica</th>\n",
       "      <th>nome</th>\n",
       "      <th>segmento</th>\n",
       "      <th>idade</th>\n",
       "      <th>var_pct</th>\n",
       "      <th>valor_inicial</th>\n",
       "      <th>var_reais</th>\n",
       "      <th>var_reais_total</th>\n",
       "    </tr>\n",
       "  </thead>\n",
       "  <tbody>\n",
       "    <tr>\n",
       "      <th>0</th>\n",
       "      <td>USIM5</td>\n",
       "      <td>9.50</td>\n",
       "      <td>5.20</td>\n",
       "      <td>515117391</td>\n",
       "      <td>Usiminas</td>\n",
       "      <td>Siderurgia</td>\n",
       "      <td>59</td>\n",
       "      <td>0.05</td>\n",
       "      <td>9.03</td>\n",
       "      <td>0.47</td>\n",
       "      <td>241,889,725.43</td>\n",
       "    </tr>\n",
       "    <tr>\n",
       "      <th>1</th>\n",
       "      <td>CMIN3</td>\n",
       "      <td>6.82</td>\n",
       "      <td>2.40</td>\n",
       "      <td>1110559345</td>\n",
       "      <td>CSN Mineração</td>\n",
       "      <td>Mineração</td>\n",
       "      <td>81</td>\n",
       "      <td>0.02</td>\n",
       "      <td>6.66</td>\n",
       "      <td>0.16</td>\n",
       "      <td>177,515,970.30</td>\n",
       "    </tr>\n",
       "    <tr>\n",
       "      <th>2</th>\n",
       "      <td>PETR3</td>\n",
       "      <td>41.96</td>\n",
       "      <td>2.19</td>\n",
       "      <td>2379877655</td>\n",
       "      <td>Petrobras 3</td>\n",
       "      <td>Petróleo e Gás</td>\n",
       "      <td>68</td>\n",
       "      <td>0.02</td>\n",
       "      <td>41.06</td>\n",
       "      <td>0.90</td>\n",
       "      <td>2,140,059,393.53</td>\n",
       "    </tr>\n",
       "    <tr>\n",
       "      <th>3</th>\n",
       "      <td>SUZB3</td>\n",
       "      <td>52.91</td>\n",
       "      <td>2.04</td>\n",
       "      <td>683452836</td>\n",
       "      <td>Suzano</td>\n",
       "      <td>Papel e Celulose</td>\n",
       "      <td>97</td>\n",
       "      <td>0.02</td>\n",
       "      <td>51.85</td>\n",
       "      <td>1.06</td>\n",
       "      <td>722,946,282.71</td>\n",
       "    </tr>\n",
       "    <tr>\n",
       "      <th>4</th>\n",
       "      <td>CPFE3</td>\n",
       "      <td>37.10</td>\n",
       "      <td>2.03</td>\n",
       "      <td>187732538</td>\n",
       "      <td>CPFL Energia</td>\n",
       "      <td>Energia</td>\n",
       "      <td>109</td>\n",
       "      <td>0.02</td>\n",
       "      <td>36.36</td>\n",
       "      <td>0.74</td>\n",
       "      <td>138,573,955.06</td>\n",
       "    </tr>\n",
       "    <tr>\n",
       "      <th>...</th>\n",
       "      <td>...</td>\n",
       "      <td>...</td>\n",
       "      <td>...</td>\n",
       "      <td>...</td>\n",
       "      <td>...</td>\n",
       "      <td>...</td>\n",
       "      <td>...</td>\n",
       "      <td>...</td>\n",
       "      <td>...</td>\n",
       "      <td>...</td>\n",
       "      <td>...</td>\n",
       "    </tr>\n",
       "    <tr>\n",
       "      <th>78</th>\n",
       "      <td>LREN3</td>\n",
       "      <td>15.78</td>\n",
       "      <td>-2.29</td>\n",
       "      <td>951329770</td>\n",
       "      <td>Lojas Renner</td>\n",
       "      <td>Vestuário</td>\n",
       "      <td>54</td>\n",
       "      <td>-0.02</td>\n",
       "      <td>16.15</td>\n",
       "      <td>-0.37</td>\n",
       "      <td>-351,831,366.64</td>\n",
       "    </tr>\n",
       "    <tr>\n",
       "      <th>79</th>\n",
       "      <td>CRFB3</td>\n",
       "      <td>10.71</td>\n",
       "      <td>-2.45</td>\n",
       "      <td>533990587</td>\n",
       "      <td>Carrefour Brasil</td>\n",
       "      <td>Varejo</td>\n",
       "      <td>44</td>\n",
       "      <td>-0.02</td>\n",
       "      <td>10.98</td>\n",
       "      <td>-0.27</td>\n",
       "      <td>-143,635,530.57</td>\n",
       "    </tr>\n",
       "    <tr>\n",
       "      <th>80</th>\n",
       "      <td>RENT3</td>\n",
       "      <td>56.24</td>\n",
       "      <td>-3.63</td>\n",
       "      <td>853202347</td>\n",
       "      <td>Localiza</td>\n",
       "      <td>Aluguel de Carros</td>\n",
       "      <td>48</td>\n",
       "      <td>-0.04</td>\n",
       "      <td>58.36</td>\n",
       "      <td>-2.12</td>\n",
       "      <td>-1,807,432,634.46</td>\n",
       "    </tr>\n",
       "    <tr>\n",
       "      <th>81</th>\n",
       "      <td>CVCB3</td>\n",
       "      <td>3.07</td>\n",
       "      <td>-4.36</td>\n",
       "      <td>525582771</td>\n",
       "      <td>CVC</td>\n",
       "      <td>Turismo</td>\n",
       "      <td>49</td>\n",
       "      <td>-0.04</td>\n",
       "      <td>3.21</td>\n",
       "      <td>-0.14</td>\n",
       "      <td>-73,557,408.06</td>\n",
       "    </tr>\n",
       "    <tr>\n",
       "      <th>82</th>\n",
       "      <td>GOLL4</td>\n",
       "      <td>5.92</td>\n",
       "      <td>-8.07</td>\n",
       "      <td>198184909</td>\n",
       "      <td>GOL</td>\n",
       "      <td>Transporte Aéreo</td>\n",
       "      <td>22</td>\n",
       "      <td>-0.08</td>\n",
       "      <td>6.44</td>\n",
       "      <td>-0.52</td>\n",
       "      <td>-102,993,202.62</td>\n",
       "    </tr>\n",
       "  </tbody>\n",
       "</table>\n",
       "<p>83 rows × 11 columns</p>\n",
       "</div>"
      ],
      "text/plain": [
       "   ticker  valor_final  var_dia_pct  qtd_teorica              nome  \\\n",
       "0   USIM5         9.50         5.20    515117391          Usiminas   \n",
       "1   CMIN3         6.82         2.40   1110559345     CSN Mineração   \n",
       "2   PETR3        41.96         2.19   2379877655       Petrobras 3   \n",
       "3   SUZB3        52.91         2.04    683452836            Suzano   \n",
       "4   CPFE3        37.10         2.03    187732538      CPFL Energia   \n",
       "..    ...          ...          ...          ...               ...   \n",
       "78  LREN3        15.78        -2.29    951329770      Lojas Renner   \n",
       "79  CRFB3        10.71        -2.45    533990587  Carrefour Brasil   \n",
       "80  RENT3        56.24        -3.63    853202347          Localiza   \n",
       "81  CVCB3         3.07        -4.36    525582771               CVC   \n",
       "82  GOLL4         5.92        -8.07    198184909               GOL   \n",
       "\n",
       "             segmento  idade  var_pct  valor_inicial  var_reais  \\\n",
       "0          Siderurgia     59     0.05           9.03       0.47   \n",
       "1           Mineração     81     0.02           6.66       0.16   \n",
       "2      Petróleo e Gás     68     0.02          41.06       0.90   \n",
       "3    Papel e Celulose     97     0.02          51.85       1.06   \n",
       "4             Energia    109     0.02          36.36       0.74   \n",
       "..                ...    ...      ...            ...        ...   \n",
       "78          Vestuário     54    -0.02          16.15      -0.37   \n",
       "79             Varejo     44    -0.02          10.98      -0.27   \n",
       "80  Aluguel de Carros     48    -0.04          58.36      -2.12   \n",
       "81            Turismo     49    -0.04           3.21      -0.14   \n",
       "82   Transporte Aéreo     22    -0.08           6.44      -0.52   \n",
       "\n",
       "     var_reais_total  \n",
       "0     241,889,725.43  \n",
       "1     177,515,970.30  \n",
       "2   2,140,059,393.53  \n",
       "3     722,946,282.71  \n",
       "4     138,573,955.06  \n",
       "..               ...  \n",
       "78   -351,831,366.64  \n",
       "79   -143,635,530.57  \n",
       "80 -1,807,432,634.46  \n",
       "81    -73,557,408.06  \n",
       "82   -102,993,202.62  \n",
       "\n",
       "[83 rows x 11 columns]"
      ]
     },
     "execution_count": 145,
     "metadata": {},
     "output_type": "execute_result"
    }
   ],
   "source": [
    "df_principal_dia[\"var_pct\"] = df_principal_dia[\"var_dia_pct\"]/100\n",
    "df_principal_dia[\"valor_inicial\"] = df_principal_dia[\"valor_final\"]/(df_principal_dia[\"var_pct\"]+1)\n",
    "df_principal_dia[\"var_reais\"] = df_principal_dia[\"valor_final\"]-df_principal_dia[\"valor_inicial\"]\n",
    "df_principal_dia[\"var_reais_total\"] = df_principal_dia[\"var_reais\"]*df_principal_dia[\"qtd_teorica\"]\n",
    "df_principal_dia"
   ]
  },
  {
   "cell_type": "code",
   "execution_count": 146,
   "metadata": {},
   "outputs": [
    {
     "data": {
      "text/html": [
       "<div>\n",
       "<style scoped>\n",
       "    .dataframe tbody tr th:only-of-type {\n",
       "        vertical-align: middle;\n",
       "    }\n",
       "\n",
       "    .dataframe tbody tr th {\n",
       "        vertical-align: top;\n",
       "    }\n",
       "\n",
       "    .dataframe thead th {\n",
       "        text-align: right;\n",
       "    }\n",
       "</style>\n",
       "<table border=\"1\" class=\"dataframe\">\n",
       "  <thead>\n",
       "    <tr style=\"text-align: right;\">\n",
       "      <th></th>\n",
       "      <th>ticker</th>\n",
       "      <th>valor_final</th>\n",
       "      <th>var_dia_pct</th>\n",
       "      <th>qtd_teorica</th>\n",
       "      <th>nome</th>\n",
       "      <th>segmento</th>\n",
       "      <th>idade</th>\n",
       "      <th>var_pct</th>\n",
       "      <th>valor_inicial</th>\n",
       "      <th>var_reais</th>\n",
       "      <th>var_reais_total</th>\n",
       "      <th>resultado</th>\n",
       "      <th>cat_idade</th>\n",
       "    </tr>\n",
       "  </thead>\n",
       "  <tbody>\n",
       "    <tr>\n",
       "      <th>0</th>\n",
       "      <td>USIM5</td>\n",
       "      <td>9.50</td>\n",
       "      <td>5.20</td>\n",
       "      <td>515117391</td>\n",
       "      <td>Usiminas</td>\n",
       "      <td>Siderurgia</td>\n",
       "      <td>59</td>\n",
       "      <td>0.05</td>\n",
       "      <td>9.03</td>\n",
       "      <td>0.47</td>\n",
       "      <td>241,889,725.43</td>\n",
       "      <td>Subiu</td>\n",
       "      <td>Entre 50 e 100</td>\n",
       "    </tr>\n",
       "    <tr>\n",
       "      <th>1</th>\n",
       "      <td>CMIN3</td>\n",
       "      <td>6.82</td>\n",
       "      <td>2.40</td>\n",
       "      <td>1110559345</td>\n",
       "      <td>CSN Mineração</td>\n",
       "      <td>Mineração</td>\n",
       "      <td>81</td>\n",
       "      <td>0.02</td>\n",
       "      <td>6.66</td>\n",
       "      <td>0.16</td>\n",
       "      <td>177,515,970.30</td>\n",
       "      <td>Subiu</td>\n",
       "      <td>Entre 50 e 100</td>\n",
       "    </tr>\n",
       "    <tr>\n",
       "      <th>2</th>\n",
       "      <td>PETR3</td>\n",
       "      <td>41.96</td>\n",
       "      <td>2.19</td>\n",
       "      <td>2379877655</td>\n",
       "      <td>Petrobras 3</td>\n",
       "      <td>Petróleo e Gás</td>\n",
       "      <td>68</td>\n",
       "      <td>0.02</td>\n",
       "      <td>41.06</td>\n",
       "      <td>0.90</td>\n",
       "      <td>2,140,059,393.53</td>\n",
       "      <td>Subiu</td>\n",
       "      <td>Entre 50 e 100</td>\n",
       "    </tr>\n",
       "    <tr>\n",
       "      <th>3</th>\n",
       "      <td>SUZB3</td>\n",
       "      <td>52.91</td>\n",
       "      <td>2.04</td>\n",
       "      <td>683452836</td>\n",
       "      <td>Suzano</td>\n",
       "      <td>Papel e Celulose</td>\n",
       "      <td>97</td>\n",
       "      <td>0.02</td>\n",
       "      <td>51.85</td>\n",
       "      <td>1.06</td>\n",
       "      <td>722,946,282.71</td>\n",
       "      <td>Subiu</td>\n",
       "      <td>Entre 50 e 100</td>\n",
       "    </tr>\n",
       "    <tr>\n",
       "      <th>4</th>\n",
       "      <td>CPFE3</td>\n",
       "      <td>37.10</td>\n",
       "      <td>2.03</td>\n",
       "      <td>187732538</td>\n",
       "      <td>CPFL Energia</td>\n",
       "      <td>Energia</td>\n",
       "      <td>109</td>\n",
       "      <td>0.02</td>\n",
       "      <td>36.36</td>\n",
       "      <td>0.74</td>\n",
       "      <td>138,573,955.06</td>\n",
       "      <td>Subiu</td>\n",
       "      <td>Mais que 100</td>\n",
       "    </tr>\n",
       "    <tr>\n",
       "      <th>...</th>\n",
       "      <td>...</td>\n",
       "      <td>...</td>\n",
       "      <td>...</td>\n",
       "      <td>...</td>\n",
       "      <td>...</td>\n",
       "      <td>...</td>\n",
       "      <td>...</td>\n",
       "      <td>...</td>\n",
       "      <td>...</td>\n",
       "      <td>...</td>\n",
       "      <td>...</td>\n",
       "      <td>...</td>\n",
       "      <td>...</td>\n",
       "    </tr>\n",
       "    <tr>\n",
       "      <th>78</th>\n",
       "      <td>LREN3</td>\n",
       "      <td>15.78</td>\n",
       "      <td>-2.29</td>\n",
       "      <td>951329770</td>\n",
       "      <td>Lojas Renner</td>\n",
       "      <td>Vestuário</td>\n",
       "      <td>54</td>\n",
       "      <td>-0.02</td>\n",
       "      <td>16.15</td>\n",
       "      <td>-0.37</td>\n",
       "      <td>-351,831,366.64</td>\n",
       "      <td>Desceu</td>\n",
       "      <td>Entre 50 e 100</td>\n",
       "    </tr>\n",
       "    <tr>\n",
       "      <th>79</th>\n",
       "      <td>CRFB3</td>\n",
       "      <td>10.71</td>\n",
       "      <td>-2.45</td>\n",
       "      <td>533990587</td>\n",
       "      <td>Carrefour Brasil</td>\n",
       "      <td>Varejo</td>\n",
       "      <td>44</td>\n",
       "      <td>-0.02</td>\n",
       "      <td>10.98</td>\n",
       "      <td>-0.27</td>\n",
       "      <td>-143,635,530.57</td>\n",
       "      <td>Desceu</td>\n",
       "      <td>Menos que 50 anos</td>\n",
       "    </tr>\n",
       "    <tr>\n",
       "      <th>80</th>\n",
       "      <td>RENT3</td>\n",
       "      <td>56.24</td>\n",
       "      <td>-3.63</td>\n",
       "      <td>853202347</td>\n",
       "      <td>Localiza</td>\n",
       "      <td>Aluguel de Carros</td>\n",
       "      <td>48</td>\n",
       "      <td>-0.04</td>\n",
       "      <td>58.36</td>\n",
       "      <td>-2.12</td>\n",
       "      <td>-1,807,432,634.46</td>\n",
       "      <td>Desceu</td>\n",
       "      <td>Menos que 50 anos</td>\n",
       "    </tr>\n",
       "    <tr>\n",
       "      <th>81</th>\n",
       "      <td>CVCB3</td>\n",
       "      <td>3.07</td>\n",
       "      <td>-4.36</td>\n",
       "      <td>525582771</td>\n",
       "      <td>CVC</td>\n",
       "      <td>Turismo</td>\n",
       "      <td>49</td>\n",
       "      <td>-0.04</td>\n",
       "      <td>3.21</td>\n",
       "      <td>-0.14</td>\n",
       "      <td>-73,557,408.06</td>\n",
       "      <td>Desceu</td>\n",
       "      <td>Menos que 50 anos</td>\n",
       "    </tr>\n",
       "    <tr>\n",
       "      <th>82</th>\n",
       "      <td>GOLL4</td>\n",
       "      <td>5.92</td>\n",
       "      <td>-8.07</td>\n",
       "      <td>198184909</td>\n",
       "      <td>GOL</td>\n",
       "      <td>Transporte Aéreo</td>\n",
       "      <td>22</td>\n",
       "      <td>-0.08</td>\n",
       "      <td>6.44</td>\n",
       "      <td>-0.52</td>\n",
       "      <td>-102,993,202.62</td>\n",
       "      <td>Desceu</td>\n",
       "      <td>Menos que 50 anos</td>\n",
       "    </tr>\n",
       "  </tbody>\n",
       "</table>\n",
       "<p>83 rows × 13 columns</p>\n",
       "</div>"
      ],
      "text/plain": [
       "   ticker  valor_final  var_dia_pct  qtd_teorica              nome  \\\n",
       "0   USIM5         9.50         5.20    515117391          Usiminas   \n",
       "1   CMIN3         6.82         2.40   1110559345     CSN Mineração   \n",
       "2   PETR3        41.96         2.19   2379877655       Petrobras 3   \n",
       "3   SUZB3        52.91         2.04    683452836            Suzano   \n",
       "4   CPFE3        37.10         2.03    187732538      CPFL Energia   \n",
       "..    ...          ...          ...          ...               ...   \n",
       "78  LREN3        15.78        -2.29    951329770      Lojas Renner   \n",
       "79  CRFB3        10.71        -2.45    533990587  Carrefour Brasil   \n",
       "80  RENT3        56.24        -3.63    853202347          Localiza   \n",
       "81  CVCB3         3.07        -4.36    525582771               CVC   \n",
       "82  GOLL4         5.92        -8.07    198184909               GOL   \n",
       "\n",
       "             segmento  idade  var_pct  valor_inicial  var_reais  \\\n",
       "0          Siderurgia     59     0.05           9.03       0.47   \n",
       "1           Mineração     81     0.02           6.66       0.16   \n",
       "2      Petróleo e Gás     68     0.02          41.06       0.90   \n",
       "3    Papel e Celulose     97     0.02          51.85       1.06   \n",
       "4             Energia    109     0.02          36.36       0.74   \n",
       "..                ...    ...      ...            ...        ...   \n",
       "78          Vestuário     54    -0.02          16.15      -0.37   \n",
       "79             Varejo     44    -0.02          10.98      -0.27   \n",
       "80  Aluguel de Carros     48    -0.04          58.36      -2.12   \n",
       "81            Turismo     49    -0.04           3.21      -0.14   \n",
       "82   Transporte Aéreo     22    -0.08           6.44      -0.52   \n",
       "\n",
       "     var_reais_total resultado          cat_idade  \n",
       "0     241,889,725.43     Subiu     Entre 50 e 100  \n",
       "1     177,515,970.30     Subiu     Entre 50 e 100  \n",
       "2   2,140,059,393.53     Subiu     Entre 50 e 100  \n",
       "3     722,946,282.71     Subiu     Entre 50 e 100  \n",
       "4     138,573,955.06     Subiu       Mais que 100  \n",
       "..               ...       ...                ...  \n",
       "78   -351,831,366.64    Desceu     Entre 50 e 100  \n",
       "79   -143,635,530.57    Desceu  Menos que 50 anos  \n",
       "80 -1,807,432,634.46    Desceu  Menos que 50 anos  \n",
       "81    -73,557,408.06    Desceu  Menos que 50 anos  \n",
       "82   -102,993,202.62    Desceu  Menos que 50 anos  \n",
       "\n",
       "[83 rows x 13 columns]"
      ]
     },
     "execution_count": 146,
     "metadata": {},
     "output_type": "execute_result"
    }
   ],
   "source": [
    "df_principal_dia[\"resultado\"] = df_principal_dia[\"var_reais\"].apply(lambda x:\"Subiu\" if x > 0 else (\"Desceu\" if x<0 else \"Estavel\"))\n",
    "df_principal_dia[\"cat_idade\"] = df_principal_dia[\"idade\"].apply(lambda x:\"Menos que 50 anos\" if x<50 else (\"Mais que 100\" if x>100 else \"Entre 50 e 100\"))\n",
    "df_principal_dia"
   ]
  },
  {
   "cell_type": "code",
   "execution_count": 147,
   "metadata": {},
   "outputs": [
    {
     "data": {
      "text/html": [
       "<div>\n",
       "<style scoped>\n",
       "    .dataframe tbody tr th:only-of-type {\n",
       "        vertical-align: middle;\n",
       "    }\n",
       "\n",
       "    .dataframe tbody tr th {\n",
       "        vertical-align: top;\n",
       "    }\n",
       "\n",
       "    .dataframe thead th {\n",
       "        text-align: right;\n",
       "    }\n",
       "</style>\n",
       "<table border=\"1\" class=\"dataframe\">\n",
       "  <thead>\n",
       "    <tr style=\"text-align: right;\">\n",
       "      <th></th>\n",
       "      <th>ticker</th>\n",
       "      <th>nome</th>\n",
       "      <th>valor_inicial</th>\n",
       "      <th>valor_final</th>\n",
       "      <th>var_reais</th>\n",
       "      <th>var_dia_pct</th>\n",
       "      <th>var_pct</th>\n",
       "      <th>qtd_teorica</th>\n",
       "      <th>var_reais_total</th>\n",
       "      <th>resultado</th>\n",
       "      <th>segmento</th>\n",
       "      <th>idade</th>\n",
       "      <th>cat_idade</th>\n",
       "    </tr>\n",
       "  </thead>\n",
       "  <tbody>\n",
       "    <tr>\n",
       "      <th>0</th>\n",
       "      <td>USIM5</td>\n",
       "      <td>Usiminas</td>\n",
       "      <td>9.03</td>\n",
       "      <td>9.50</td>\n",
       "      <td>0.47</td>\n",
       "      <td>5.20</td>\n",
       "      <td>0.05</td>\n",
       "      <td>515117391</td>\n",
       "      <td>241,889,725.43</td>\n",
       "      <td>Subiu</td>\n",
       "      <td>Siderurgia</td>\n",
       "      <td>59</td>\n",
       "      <td>Entre 50 e 100</td>\n",
       "    </tr>\n",
       "    <tr>\n",
       "      <th>1</th>\n",
       "      <td>CMIN3</td>\n",
       "      <td>CSN Mineração</td>\n",
       "      <td>6.66</td>\n",
       "      <td>6.82</td>\n",
       "      <td>0.16</td>\n",
       "      <td>2.40</td>\n",
       "      <td>0.02</td>\n",
       "      <td>1110559345</td>\n",
       "      <td>177,515,970.30</td>\n",
       "      <td>Subiu</td>\n",
       "      <td>Mineração</td>\n",
       "      <td>81</td>\n",
       "      <td>Entre 50 e 100</td>\n",
       "    </tr>\n",
       "    <tr>\n",
       "      <th>2</th>\n",
       "      <td>PETR3</td>\n",
       "      <td>Petrobras 3</td>\n",
       "      <td>41.06</td>\n",
       "      <td>41.96</td>\n",
       "      <td>0.90</td>\n",
       "      <td>2.19</td>\n",
       "      <td>0.02</td>\n",
       "      <td>2379877655</td>\n",
       "      <td>2,140,059,393.53</td>\n",
       "      <td>Subiu</td>\n",
       "      <td>Petróleo e Gás</td>\n",
       "      <td>68</td>\n",
       "      <td>Entre 50 e 100</td>\n",
       "    </tr>\n",
       "    <tr>\n",
       "      <th>3</th>\n",
       "      <td>SUZB3</td>\n",
       "      <td>Suzano</td>\n",
       "      <td>51.85</td>\n",
       "      <td>52.91</td>\n",
       "      <td>1.06</td>\n",
       "      <td>2.04</td>\n",
       "      <td>0.02</td>\n",
       "      <td>683452836</td>\n",
       "      <td>722,946,282.71</td>\n",
       "      <td>Subiu</td>\n",
       "      <td>Papel e Celulose</td>\n",
       "      <td>97</td>\n",
       "      <td>Entre 50 e 100</td>\n",
       "    </tr>\n",
       "    <tr>\n",
       "      <th>4</th>\n",
       "      <td>CPFE3</td>\n",
       "      <td>CPFL Energia</td>\n",
       "      <td>36.36</td>\n",
       "      <td>37.10</td>\n",
       "      <td>0.74</td>\n",
       "      <td>2.03</td>\n",
       "      <td>0.02</td>\n",
       "      <td>187732538</td>\n",
       "      <td>138,573,955.06</td>\n",
       "      <td>Subiu</td>\n",
       "      <td>Energia</td>\n",
       "      <td>109</td>\n",
       "      <td>Mais que 100</td>\n",
       "    </tr>\n",
       "    <tr>\n",
       "      <th>...</th>\n",
       "      <td>...</td>\n",
       "      <td>...</td>\n",
       "      <td>...</td>\n",
       "      <td>...</td>\n",
       "      <td>...</td>\n",
       "      <td>...</td>\n",
       "      <td>...</td>\n",
       "      <td>...</td>\n",
       "      <td>...</td>\n",
       "      <td>...</td>\n",
       "      <td>...</td>\n",
       "      <td>...</td>\n",
       "      <td>...</td>\n",
       "    </tr>\n",
       "    <tr>\n",
       "      <th>78</th>\n",
       "      <td>LREN3</td>\n",
       "      <td>Lojas Renner</td>\n",
       "      <td>16.15</td>\n",
       "      <td>15.78</td>\n",
       "      <td>-0.37</td>\n",
       "      <td>-2.29</td>\n",
       "      <td>-0.02</td>\n",
       "      <td>951329770</td>\n",
       "      <td>-351,831,366.64</td>\n",
       "      <td>Desceu</td>\n",
       "      <td>Vestuário</td>\n",
       "      <td>54</td>\n",
       "      <td>Entre 50 e 100</td>\n",
       "    </tr>\n",
       "    <tr>\n",
       "      <th>79</th>\n",
       "      <td>CRFB3</td>\n",
       "      <td>Carrefour Brasil</td>\n",
       "      <td>10.98</td>\n",
       "      <td>10.71</td>\n",
       "      <td>-0.27</td>\n",
       "      <td>-2.45</td>\n",
       "      <td>-0.02</td>\n",
       "      <td>533990587</td>\n",
       "      <td>-143,635,530.57</td>\n",
       "      <td>Desceu</td>\n",
       "      <td>Varejo</td>\n",
       "      <td>44</td>\n",
       "      <td>Menos que 50 anos</td>\n",
       "    </tr>\n",
       "    <tr>\n",
       "      <th>80</th>\n",
       "      <td>RENT3</td>\n",
       "      <td>Localiza</td>\n",
       "      <td>58.36</td>\n",
       "      <td>56.24</td>\n",
       "      <td>-2.12</td>\n",
       "      <td>-3.63</td>\n",
       "      <td>-0.04</td>\n",
       "      <td>853202347</td>\n",
       "      <td>-1,807,432,634.46</td>\n",
       "      <td>Desceu</td>\n",
       "      <td>Aluguel de Carros</td>\n",
       "      <td>48</td>\n",
       "      <td>Menos que 50 anos</td>\n",
       "    </tr>\n",
       "    <tr>\n",
       "      <th>81</th>\n",
       "      <td>CVCB3</td>\n",
       "      <td>CVC</td>\n",
       "      <td>3.21</td>\n",
       "      <td>3.07</td>\n",
       "      <td>-0.14</td>\n",
       "      <td>-4.36</td>\n",
       "      <td>-0.04</td>\n",
       "      <td>525582771</td>\n",
       "      <td>-73,557,408.06</td>\n",
       "      <td>Desceu</td>\n",
       "      <td>Turismo</td>\n",
       "      <td>49</td>\n",
       "      <td>Menos que 50 anos</td>\n",
       "    </tr>\n",
       "    <tr>\n",
       "      <th>82</th>\n",
       "      <td>GOLL4</td>\n",
       "      <td>GOL</td>\n",
       "      <td>6.44</td>\n",
       "      <td>5.92</td>\n",
       "      <td>-0.52</td>\n",
       "      <td>-8.07</td>\n",
       "      <td>-0.08</td>\n",
       "      <td>198184909</td>\n",
       "      <td>-102,993,202.62</td>\n",
       "      <td>Desceu</td>\n",
       "      <td>Transporte Aéreo</td>\n",
       "      <td>22</td>\n",
       "      <td>Menos que 50 anos</td>\n",
       "    </tr>\n",
       "  </tbody>\n",
       "</table>\n",
       "<p>83 rows × 13 columns</p>\n",
       "</div>"
      ],
      "text/plain": [
       "   ticker              nome  valor_inicial  valor_final  var_reais  \\\n",
       "0   USIM5          Usiminas           9.03         9.50       0.47   \n",
       "1   CMIN3     CSN Mineração           6.66         6.82       0.16   \n",
       "2   PETR3       Petrobras 3          41.06        41.96       0.90   \n",
       "3   SUZB3            Suzano          51.85        52.91       1.06   \n",
       "4   CPFE3      CPFL Energia          36.36        37.10       0.74   \n",
       "..    ...               ...            ...          ...        ...   \n",
       "78  LREN3      Lojas Renner          16.15        15.78      -0.37   \n",
       "79  CRFB3  Carrefour Brasil          10.98        10.71      -0.27   \n",
       "80  RENT3          Localiza          58.36        56.24      -2.12   \n",
       "81  CVCB3               CVC           3.21         3.07      -0.14   \n",
       "82  GOLL4               GOL           6.44         5.92      -0.52   \n",
       "\n",
       "    var_dia_pct  var_pct  qtd_teorica   var_reais_total resultado  \\\n",
       "0          5.20     0.05    515117391    241,889,725.43     Subiu   \n",
       "1          2.40     0.02   1110559345    177,515,970.30     Subiu   \n",
       "2          2.19     0.02   2379877655  2,140,059,393.53     Subiu   \n",
       "3          2.04     0.02    683452836    722,946,282.71     Subiu   \n",
       "4          2.03     0.02    187732538    138,573,955.06     Subiu   \n",
       "..          ...      ...          ...               ...       ...   \n",
       "78        -2.29    -0.02    951329770   -351,831,366.64    Desceu   \n",
       "79        -2.45    -0.02    533990587   -143,635,530.57    Desceu   \n",
       "80        -3.63    -0.04    853202347 -1,807,432,634.46    Desceu   \n",
       "81        -4.36    -0.04    525582771    -73,557,408.06    Desceu   \n",
       "82        -8.07    -0.08    198184909   -102,993,202.62    Desceu   \n",
       "\n",
       "             segmento  idade          cat_idade  \n",
       "0          Siderurgia     59     Entre 50 e 100  \n",
       "1           Mineração     81     Entre 50 e 100  \n",
       "2      Petróleo e Gás     68     Entre 50 e 100  \n",
       "3    Papel e Celulose     97     Entre 50 e 100  \n",
       "4             Energia    109       Mais que 100  \n",
       "..                ...    ...                ...  \n",
       "78          Vestuário     54     Entre 50 e 100  \n",
       "79             Varejo     44  Menos que 50 anos  \n",
       "80  Aluguel de Carros     48  Menos que 50 anos  \n",
       "81            Turismo     49  Menos que 50 anos  \n",
       "82   Transporte Aéreo     22  Menos que 50 anos  \n",
       "\n",
       "[83 rows x 13 columns]"
      ]
     },
     "execution_count": 147,
     "metadata": {},
     "output_type": "execute_result"
    }
   ],
   "source": [
    "df_principal_dia = df_principal_dia[[\n",
    "    \"ticker\",\n",
    "    \"nome\",\n",
    "    \"valor_inicial\",\n",
    "    \"valor_final\",\n",
    "    \"var_reais\",\n",
    "    \"var_dia_pct\",\n",
    "    \"var_pct\",\n",
    "    \"qtd_teorica\",\n",
    "    \"var_reais_total\",\n",
    "    \"resultado\",\n",
    "    \"segmento\",\n",
    "    \"idade\",\n",
    "    \"cat_idade\"\n",
    "    ]]\n",
    "df_principal_dia"
   ]
  },
  {
   "cell_type": "code",
   "execution_count": 148,
   "metadata": {},
   "outputs": [
    {
     "name": "stdout",
     "output_type": "stream",
     "text": [
      "Maior\tR$ 4,762,926,995.25\n",
      "Menor\tR$ -1,807,432,634.46\n",
      "Média\tR$ 152,168,463.69\n",
      "Média de quem subiu\tR$ 440,024,022.12\n",
      "Média de quem desceu\tR$ -199,197,180.81\n"
     ]
    }
   ],
   "source": [
    "# Calculando o maior valor\n",
    "maior = df_principal_dia['var_reais_total'].max()\n",
    "\n",
    "# Calculando o menor valor\n",
    "menor = df_principal_dia['var_reais_total'].min()\n",
    "\n",
    "# Calculando a média\n",
    "media = df_principal_dia['var_reais_total'].mean()\n",
    "\n",
    "# Calculando a média de quem subiu\n",
    "media_subiu = df_principal_dia[df_principal_dia['resultado'] == 'Subiu']['var_reais_total'].mean()\n",
    "\n",
    "# Calculando a média de quem desceu\n",
    "media_desceu = df_principal_dia[df_principal_dia['resultado'] == 'Desceu']['var_reais_total'].mean()\n",
    "\n",
    "# Imprimindo os resultados\n",
    "print(f\"Maior\\tR$ {maior:,.2f}\")\n",
    "print(f\"Menor\\tR$ {menor:,.2f}\")\n",
    "print(f\"Média\\tR$ {media:,.2f}\")\n",
    "print(f\"Média de quem subiu\\tR$ {media_subiu:,.2f}\")\n",
    "print(f\"Média de quem desceu\\tR$ {media_desceu:,.2f}\")"
   ]
  },
  {
   "cell_type": "code",
   "execution_count": 149,
   "metadata": {},
   "outputs": [
    {
     "data": {
      "text/html": [
       "<div>\n",
       "<style scoped>\n",
       "    .dataframe tbody tr th:only-of-type {\n",
       "        vertical-align: middle;\n",
       "    }\n",
       "\n",
       "    .dataframe tbody tr th {\n",
       "        vertical-align: top;\n",
       "    }\n",
       "\n",
       "    .dataframe thead th {\n",
       "        text-align: right;\n",
       "    }\n",
       "</style>\n",
       "<table border=\"1\" class=\"dataframe\">\n",
       "  <thead>\n",
       "    <tr style=\"text-align: right;\">\n",
       "      <th></th>\n",
       "      <th>ticker</th>\n",
       "      <th>nome</th>\n",
       "      <th>valor_inicial</th>\n",
       "      <th>valor_final</th>\n",
       "      <th>var_reais</th>\n",
       "      <th>var_dia_pct</th>\n",
       "      <th>var_pct</th>\n",
       "      <th>qtd_teorica</th>\n",
       "      <th>var_reais_total</th>\n",
       "      <th>resultado</th>\n",
       "      <th>segmento</th>\n",
       "      <th>idade</th>\n",
       "      <th>cat_idade</th>\n",
       "    </tr>\n",
       "  </thead>\n",
       "  <tbody>\n",
       "    <tr>\n",
       "      <th>0</th>\n",
       "      <td>USIM5</td>\n",
       "      <td>Usiminas</td>\n",
       "      <td>9.03</td>\n",
       "      <td>9.50</td>\n",
       "      <td>0.47</td>\n",
       "      <td>5.20</td>\n",
       "      <td>0.05</td>\n",
       "      <td>515117391</td>\n",
       "      <td>241,889,725.43</td>\n",
       "      <td>Subiu</td>\n",
       "      <td>Siderurgia</td>\n",
       "      <td>59</td>\n",
       "      <td>Entre 50 e 100</td>\n",
       "    </tr>\n",
       "    <tr>\n",
       "      <th>1</th>\n",
       "      <td>CMIN3</td>\n",
       "      <td>CSN Mineração</td>\n",
       "      <td>6.66</td>\n",
       "      <td>6.82</td>\n",
       "      <td>0.16</td>\n",
       "      <td>2.40</td>\n",
       "      <td>0.02</td>\n",
       "      <td>1110559345</td>\n",
       "      <td>177,515,970.30</td>\n",
       "      <td>Subiu</td>\n",
       "      <td>Mineração</td>\n",
       "      <td>81</td>\n",
       "      <td>Entre 50 e 100</td>\n",
       "    </tr>\n",
       "    <tr>\n",
       "      <th>2</th>\n",
       "      <td>PETR3</td>\n",
       "      <td>Petrobras 3</td>\n",
       "      <td>41.06</td>\n",
       "      <td>41.96</td>\n",
       "      <td>0.90</td>\n",
       "      <td>2.19</td>\n",
       "      <td>0.02</td>\n",
       "      <td>2379877655</td>\n",
       "      <td>2,140,059,393.53</td>\n",
       "      <td>Subiu</td>\n",
       "      <td>Petróleo e Gás</td>\n",
       "      <td>68</td>\n",
       "      <td>Entre 50 e 100</td>\n",
       "    </tr>\n",
       "    <tr>\n",
       "      <th>3</th>\n",
       "      <td>SUZB3</td>\n",
       "      <td>Suzano</td>\n",
       "      <td>51.85</td>\n",
       "      <td>52.91</td>\n",
       "      <td>1.06</td>\n",
       "      <td>2.04</td>\n",
       "      <td>0.02</td>\n",
       "      <td>683452836</td>\n",
       "      <td>722,946,282.71</td>\n",
       "      <td>Subiu</td>\n",
       "      <td>Papel e Celulose</td>\n",
       "      <td>97</td>\n",
       "      <td>Entre 50 e 100</td>\n",
       "    </tr>\n",
       "    <tr>\n",
       "      <th>4</th>\n",
       "      <td>CPFE3</td>\n",
       "      <td>CPFL Energia</td>\n",
       "      <td>36.36</td>\n",
       "      <td>37.10</td>\n",
       "      <td>0.74</td>\n",
       "      <td>2.03</td>\n",
       "      <td>0.02</td>\n",
       "      <td>187732538</td>\n",
       "      <td>138,573,955.06</td>\n",
       "      <td>Subiu</td>\n",
       "      <td>Energia</td>\n",
       "      <td>109</td>\n",
       "      <td>Mais que 100</td>\n",
       "    </tr>\n",
       "    <tr>\n",
       "      <th>5</th>\n",
       "      <td>PRIO3</td>\n",
       "      <td>PetroRio</td>\n",
       "      <td>44.80</td>\n",
       "      <td>45.69</td>\n",
       "      <td>0.89</td>\n",
       "      <td>1.98</td>\n",
       "      <td>0.02</td>\n",
       "      <td>800010734</td>\n",
       "      <td>709,687,498.18</td>\n",
       "      <td>Subiu</td>\n",
       "      <td>Petróleo e Gás</td>\n",
       "      <td>8</td>\n",
       "      <td>Menos que 50 anos</td>\n",
       "    </tr>\n",
       "    <tr>\n",
       "      <th>6</th>\n",
       "      <td>PETR4</td>\n",
       "      <td>Petrobras4</td>\n",
       "      <td>39.28</td>\n",
       "      <td>39.96</td>\n",
       "      <td>0.68</td>\n",
       "      <td>1.73</td>\n",
       "      <td>0.02</td>\n",
       "      <td>4566445852</td>\n",
       "      <td>3,103,136,291.22</td>\n",
       "      <td>Subiu</td>\n",
       "      <td>Petróleo e Gás</td>\n",
       "      <td>68</td>\n",
       "      <td>Entre 50 e 100</td>\n",
       "    </tr>\n",
       "    <tr>\n",
       "      <th>7</th>\n",
       "      <td>VALE3</td>\n",
       "      <td>Vale</td>\n",
       "      <td>68.37</td>\n",
       "      <td>69.50</td>\n",
       "      <td>1.13</td>\n",
       "      <td>1.66</td>\n",
       "      <td>0.02</td>\n",
       "      <td>4196924316</td>\n",
       "      <td>4,762,926,995.25</td>\n",
       "      <td>Subiu</td>\n",
       "      <td>Mineração</td>\n",
       "      <td>79</td>\n",
       "      <td>Entre 50 e 100</td>\n",
       "    </tr>\n",
       "    <tr>\n",
       "      <th>8</th>\n",
       "      <td>MULT3</td>\n",
       "      <td>Multiplan</td>\n",
       "      <td>27.75</td>\n",
       "      <td>28.19</td>\n",
       "      <td>0.44</td>\n",
       "      <td>1.58</td>\n",
       "      <td>0.02</td>\n",
       "      <td>268505432</td>\n",
       "      <td>117,732,680.08</td>\n",
       "      <td>Subiu</td>\n",
       "      <td>Shopping Centers</td>\n",
       "      <td>50</td>\n",
       "      <td>Entre 50 e 100</td>\n",
       "    </tr>\n",
       "    <tr>\n",
       "      <th>9</th>\n",
       "      <td>ITUB4</td>\n",
       "      <td>Itaú Unibanco</td>\n",
       "      <td>32.33</td>\n",
       "      <td>32.81</td>\n",
       "      <td>0.48</td>\n",
       "      <td>1.48</td>\n",
       "      <td>0.01</td>\n",
       "      <td>4801593832</td>\n",
       "      <td>2,297,591,984.33</td>\n",
       "      <td>Subiu</td>\n",
       "      <td>Bancos</td>\n",
       "      <td>98</td>\n",
       "      <td>Entre 50 e 100</td>\n",
       "    </tr>\n",
       "    <tr>\n",
       "      <th>10</th>\n",
       "      <td>RDOR3</td>\n",
       "      <td>Rede D'Or</td>\n",
       "      <td>27.17</td>\n",
       "      <td>27.56</td>\n",
       "      <td>0.39</td>\n",
       "      <td>1.43</td>\n",
       "      <td>0.01</td>\n",
       "      <td>1168230366</td>\n",
       "      <td>453,917,907.01</td>\n",
       "      <td>Subiu</td>\n",
       "      <td>Saúde</td>\n",
       "      <td>50</td>\n",
       "      <td>Entre 50 e 100</td>\n",
       "    </tr>\n",
       "    <tr>\n",
       "      <th>11</th>\n",
       "      <td>BRKM5</td>\n",
       "      <td>Braskem</td>\n",
       "      <td>18.29</td>\n",
       "      <td>18.55</td>\n",
       "      <td>0.26</td>\n",
       "      <td>1.42</td>\n",
       "      <td>0.01</td>\n",
       "      <td>265877867</td>\n",
       "      <td>69,054,317.64</td>\n",
       "      <td>Subiu</td>\n",
       "      <td>Petroquímica</td>\n",
       "      <td>19</td>\n",
       "      <td>Menos que 50 anos</td>\n",
       "    </tr>\n",
       "    <tr>\n",
       "      <th>12</th>\n",
       "      <td>AZUL4</td>\n",
       "      <td>Azul</td>\n",
       "      <td>14.07</td>\n",
       "      <td>14.27</td>\n",
       "      <td>0.20</td>\n",
       "      <td>1.42</td>\n",
       "      <td>0.01</td>\n",
       "      <td>327593725</td>\n",
       "      <td>65,452,205.55</td>\n",
       "      <td>Subiu</td>\n",
       "      <td>Transporte Aéreo</td>\n",
       "      <td>13</td>\n",
       "      <td>Menos que 50 anos</td>\n",
       "    </tr>\n",
       "    <tr>\n",
       "      <th>13</th>\n",
       "      <td>RRRP3</td>\n",
       "      <td>3R Petroleum</td>\n",
       "      <td>28.35</td>\n",
       "      <td>28.75</td>\n",
       "      <td>0.40</td>\n",
       "      <td>1.41</td>\n",
       "      <td>0.01</td>\n",
       "      <td>235665566</td>\n",
       "      <td>94,204,643.35</td>\n",
       "      <td>Subiu</td>\n",
       "      <td>Petróleo e Gás</td>\n",
       "      <td>9</td>\n",
       "      <td>Menos que 50 anos</td>\n",
       "    </tr>\n",
       "    <tr>\n",
       "      <th>14</th>\n",
       "      <td>EQTL3</td>\n",
       "      <td>Equatorial Energia</td>\n",
       "      <td>34.85</td>\n",
       "      <td>35.32</td>\n",
       "      <td>0.47</td>\n",
       "      <td>1.34</td>\n",
       "      <td>0.01</td>\n",
       "      <td>1095587251</td>\n",
       "      <td>511,671,895.45</td>\n",
       "      <td>Subiu</td>\n",
       "      <td>Energia</td>\n",
       "      <td>24</td>\n",
       "      <td>Menos que 50 anos</td>\n",
       "    </tr>\n",
       "    <tr>\n",
       "      <th>15</th>\n",
       "      <td>CSNA3</td>\n",
       "      <td>Siderúrgica Nacional</td>\n",
       "      <td>17.92</td>\n",
       "      <td>18.16</td>\n",
       "      <td>0.24</td>\n",
       "      <td>1.33</td>\n",
       "      <td>0.01</td>\n",
       "      <td>600865451</td>\n",
       "      <td>143,220,991.46</td>\n",
       "      <td>Subiu</td>\n",
       "      <td>Siderurgia</td>\n",
       "      <td>78</td>\n",
       "      <td>Entre 50 e 100</td>\n",
       "    </tr>\n",
       "    <tr>\n",
       "      <th>16</th>\n",
       "      <td>YDUQ3</td>\n",
       "      <td>YDUQS</td>\n",
       "      <td>19.52</td>\n",
       "      <td>19.77</td>\n",
       "      <td>0.25</td>\n",
       "      <td>1.28</td>\n",
       "      <td>0.01</td>\n",
       "      <td>289347914</td>\n",
       "      <td>72,295,838.99</td>\n",
       "      <td>Subiu</td>\n",
       "      <td>Educação</td>\n",
       "      <td>56</td>\n",
       "      <td>Entre 50 e 100</td>\n",
       "    </tr>\n",
       "    <tr>\n",
       "      <th>17</th>\n",
       "      <td>UGPA3</td>\n",
       "      <td>Ultrapar</td>\n",
       "      <td>27.95</td>\n",
       "      <td>28.31</td>\n",
       "      <td>0.36</td>\n",
       "      <td>1.28</td>\n",
       "      <td>0.01</td>\n",
       "      <td>1086411192</td>\n",
       "      <td>388,705,223.96</td>\n",
       "      <td>Subiu</td>\n",
       "      <td>Conglomerado</td>\n",
       "      <td>84</td>\n",
       "      <td>Entre 50 e 100</td>\n",
       "    </tr>\n",
       "    <tr>\n",
       "      <th>18</th>\n",
       "      <td>MRVE3</td>\n",
       "      <td>MRV</td>\n",
       "      <td>7.98</td>\n",
       "      <td>8.08</td>\n",
       "      <td>0.10</td>\n",
       "      <td>1.25</td>\n",
       "      <td>0.01</td>\n",
       "      <td>376187582</td>\n",
       "      <td>37,525,872.38</td>\n",
       "      <td>Subiu</td>\n",
       "      <td>Construção Civil</td>\n",
       "      <td>42</td>\n",
       "      <td>Menos que 50 anos</td>\n",
       "    </tr>\n",
       "    <tr>\n",
       "      <th>19</th>\n",
       "      <td>ARZZ3</td>\n",
       "      <td>Arezzo</td>\n",
       "      <td>57.25</td>\n",
       "      <td>57.91</td>\n",
       "      <td>0.66</td>\n",
       "      <td>1.15</td>\n",
       "      <td>0.01</td>\n",
       "      <td>62305891</td>\n",
       "      <td>41,021,792.09</td>\n",
       "      <td>Subiu</td>\n",
       "      <td>Vestuário e Calçados</td>\n",
       "      <td>49</td>\n",
       "      <td>Menos que 50 anos</td>\n",
       "    </tr>\n",
       "    <tr>\n",
       "      <th>20</th>\n",
       "      <td>BBDC4</td>\n",
       "      <td>Banco Bradesco4</td>\n",
       "      <td>15.36</td>\n",
       "      <td>15.52</td>\n",
       "      <td>0.16</td>\n",
       "      <td>1.04</td>\n",
       "      <td>0.01</td>\n",
       "      <td>5146576868</td>\n",
       "      <td>822,148,336.41</td>\n",
       "      <td>Subiu</td>\n",
       "      <td>Bancos</td>\n",
       "      <td>78</td>\n",
       "      <td>Entre 50 e 100</td>\n",
       "    </tr>\n",
       "    <tr>\n",
       "      <th>21</th>\n",
       "      <td>BEEF3</td>\n",
       "      <td>Minerva</td>\n",
       "      <td>7.12</td>\n",
       "      <td>7.19</td>\n",
       "      <td>0.07</td>\n",
       "      <td>0.98</td>\n",
       "      <td>0.01</td>\n",
       "      <td>261036182</td>\n",
       "      <td>18,214,628.10</td>\n",
       "      <td>Subiu</td>\n",
       "      <td>Alimentos</td>\n",
       "      <td>29</td>\n",
       "      <td>Menos que 50 anos</td>\n",
       "    </tr>\n",
       "    <tr>\n",
       "      <th>22</th>\n",
       "      <td>PCAR3</td>\n",
       "      <td>Grupo Pão de Açúcar</td>\n",
       "      <td>4.10</td>\n",
       "      <td>4.14</td>\n",
       "      <td>0.04</td>\n",
       "      <td>0.97</td>\n",
       "      <td>0.01</td>\n",
       "      <td>159430826</td>\n",
       "      <td>6,340,916.22</td>\n",
       "      <td>Subiu</td>\n",
       "      <td>Varejo</td>\n",
       "      <td>62</td>\n",
       "      <td>Entre 50 e 100</td>\n",
       "    </tr>\n",
       "    <tr>\n",
       "      <th>23</th>\n",
       "      <td>BRFS3</td>\n",
       "      <td>BRF</td>\n",
       "      <td>14.47</td>\n",
       "      <td>14.61</td>\n",
       "      <td>0.14</td>\n",
       "      <td>0.96</td>\n",
       "      <td>0.01</td>\n",
       "      <td>1677525446</td>\n",
       "      <td>233,045,769.57</td>\n",
       "      <td>Subiu</td>\n",
       "      <td>Alimentos</td>\n",
       "      <td>85</td>\n",
       "      <td>Entre 50 e 100</td>\n",
       "    </tr>\n",
       "    <tr>\n",
       "      <th>24</th>\n",
       "      <td>VIVT3</td>\n",
       "      <td>Vivo</td>\n",
       "      <td>50.75</td>\n",
       "      <td>51.20</td>\n",
       "      <td>0.45</td>\n",
       "      <td>0.88</td>\n",
       "      <td>0.01</td>\n",
       "      <td>423091712</td>\n",
       "      <td>188,965,307.06</td>\n",
       "      <td>Subiu</td>\n",
       "      <td>Telecomunicações</td>\n",
       "      <td>23</td>\n",
       "      <td>Menos que 50 anos</td>\n",
       "    </tr>\n",
       "    <tr>\n",
       "      <th>25</th>\n",
       "      <td>RAIL3</td>\n",
       "      <td>Rumo</td>\n",
       "      <td>22.45</td>\n",
       "      <td>22.64</td>\n",
       "      <td>0.19</td>\n",
       "      <td>0.84</td>\n",
       "      <td>0.01</td>\n",
       "      <td>1218352541</td>\n",
       "      <td>229,771,333.63</td>\n",
       "      <td>Subiu</td>\n",
       "      <td>Logística</td>\n",
       "      <td>13</td>\n",
       "      <td>Menos que 50 anos</td>\n",
       "    </tr>\n",
       "    <tr>\n",
       "      <th>26</th>\n",
       "      <td>CIEL3</td>\n",
       "      <td>Cielo</td>\n",
       "      <td>4.86</td>\n",
       "      <td>4.90</td>\n",
       "      <td>0.04</td>\n",
       "      <td>0.82</td>\n",
       "      <td>0.01</td>\n",
       "      <td>1095462329</td>\n",
       "      <td>43,657,683.38</td>\n",
       "      <td>Subiu</td>\n",
       "      <td>Serviços Financeiros</td>\n",
       "      <td>23</td>\n",
       "      <td>Menos que 50 anos</td>\n",
       "    </tr>\n",
       "    <tr>\n",
       "      <th>27</th>\n",
       "      <td>DXCO3</td>\n",
       "      <td>Dexco</td>\n",
       "      <td>7.75</td>\n",
       "      <td>7.81</td>\n",
       "      <td>0.06</td>\n",
       "      <td>0.77</td>\n",
       "      <td>0.01</td>\n",
       "      <td>302768240</td>\n",
       "      <td>18,068,446.61</td>\n",
       "      <td>Subiu</td>\n",
       "      <td>Comércio</td>\n",
       "      <td>72</td>\n",
       "      <td>Entre 50 e 100</td>\n",
       "    </tr>\n",
       "    <tr>\n",
       "      <th>28</th>\n",
       "      <td>TIMS3</td>\n",
       "      <td>TIM</td>\n",
       "      <td>17.39</td>\n",
       "      <td>17.52</td>\n",
       "      <td>0.13</td>\n",
       "      <td>0.74</td>\n",
       "      <td>0.01</td>\n",
       "      <td>807896814</td>\n",
       "      <td>103,972,807.37</td>\n",
       "      <td>Subiu</td>\n",
       "      <td>Telecomunicações</td>\n",
       "      <td>25</td>\n",
       "      <td>Menos que 50 anos</td>\n",
       "    </tr>\n",
       "    <tr>\n",
       "      <th>29</th>\n",
       "      <td>BRAP4</td>\n",
       "      <td>Bradespar</td>\n",
       "      <td>23.05</td>\n",
       "      <td>23.22</td>\n",
       "      <td>0.17</td>\n",
       "      <td>0.73</td>\n",
       "      <td>0.01</td>\n",
       "      <td>251003438</td>\n",
       "      <td>42,238,249.54</td>\n",
       "      <td>Subiu</td>\n",
       "      <td>Investimentos</td>\n",
       "      <td>63</td>\n",
       "      <td>Entre 50 e 100</td>\n",
       "    </tr>\n",
       "    <tr>\n",
       "      <th>30</th>\n",
       "      <td>LWSA3</td>\n",
       "      <td>Locaweb</td>\n",
       "      <td>5.51</td>\n",
       "      <td>5.55</td>\n",
       "      <td>0.04</td>\n",
       "      <td>0.72</td>\n",
       "      <td>0.01</td>\n",
       "      <td>393173139</td>\n",
       "      <td>15,598,886.65</td>\n",
       "      <td>Subiu</td>\n",
       "      <td>Tecnologia</td>\n",
       "      <td>24</td>\n",
       "      <td>Menos que 50 anos</td>\n",
       "    </tr>\n",
       "    <tr>\n",
       "      <th>31</th>\n",
       "      <td>RECV3</td>\n",
       "      <td>PetroRecôncavo</td>\n",
       "      <td>23.66</td>\n",
       "      <td>23.83</td>\n",
       "      <td>0.17</td>\n",
       "      <td>0.71</td>\n",
       "      <td>0.01</td>\n",
       "      <td>275005663</td>\n",
       "      <td>46,201,006.00</td>\n",
       "      <td>Subiu</td>\n",
       "      <td>Petróleo e Gás</td>\n",
       "      <td>9</td>\n",
       "      <td>Menos que 50 anos</td>\n",
       "    </tr>\n",
       "    <tr>\n",
       "      <th>32</th>\n",
       "      <td>ITSA4</td>\n",
       "      <td>Itaúsa</td>\n",
       "      <td>9.94</td>\n",
       "      <td>10.01</td>\n",
       "      <td>0.07</td>\n",
       "      <td>0.70</td>\n",
       "      <td>0.01</td>\n",
       "      <td>5372783971</td>\n",
       "      <td>373,853,994.88</td>\n",
       "      <td>Subiu</td>\n",
       "      <td>Holding Financeira</td>\n",
       "      <td>56</td>\n",
       "      <td>Entre 50 e 100</td>\n",
       "    </tr>\n",
       "    <tr>\n",
       "      <th>33</th>\n",
       "      <td>BBAS3</td>\n",
       "      <td>Banco do Brasil</td>\n",
       "      <td>56.59</td>\n",
       "      <td>56.97</td>\n",
       "      <td>0.38</td>\n",
       "      <td>0.68</td>\n",
       "      <td>0.01</td>\n",
       "      <td>1420949112</td>\n",
       "      <td>546,752,087.99</td>\n",
       "      <td>Subiu</td>\n",
       "      <td>Bancos</td>\n",
       "      <td>214</td>\n",
       "      <td>Mais que 100</td>\n",
       "    </tr>\n",
       "    <tr>\n",
       "      <th>34</th>\n",
       "      <td>RADL3</td>\n",
       "      <td>RaiaDrogasil</td>\n",
       "      <td>26.00</td>\n",
       "      <td>26.16</td>\n",
       "      <td>0.16</td>\n",
       "      <td>0.61</td>\n",
       "      <td>0.01</td>\n",
       "      <td>1275798515</td>\n",
       "      <td>202,352,473.74</td>\n",
       "      <td>Subiu</td>\n",
       "      <td>Varejo Farmacêutico</td>\n",
       "      <td>118</td>\n",
       "      <td>Mais que 100</td>\n",
       "    </tr>\n",
       "    <tr>\n",
       "      <th>35</th>\n",
       "      <td>GOAU4</td>\n",
       "      <td>Metalúrgica Gerdau</td>\n",
       "      <td>10.02</td>\n",
       "      <td>10.08</td>\n",
       "      <td>0.06</td>\n",
       "      <td>0.59</td>\n",
       "      <td>0.01</td>\n",
       "      <td>660411219</td>\n",
       "      <td>39,045,606.94</td>\n",
       "      <td>Subiu</td>\n",
       "      <td>Siderurgia</td>\n",
       "      <td>120</td>\n",
       "      <td>Mais que 100</td>\n",
       "    </tr>\n",
       "    <tr>\n",
       "      <th>36</th>\n",
       "      <td>CSAN3</td>\n",
       "      <td>Cosan</td>\n",
       "      <td>18.46</td>\n",
       "      <td>18.57</td>\n",
       "      <td>0.11</td>\n",
       "      <td>0.59</td>\n",
       "      <td>0.01</td>\n",
       "      <td>1168097881</td>\n",
       "      <td>127,229,653.18</td>\n",
       "      <td>Subiu</td>\n",
       "      <td>Energia</td>\n",
       "      <td>14</td>\n",
       "      <td>Menos que 50 anos</td>\n",
       "    </tr>\n",
       "    <tr>\n",
       "      <th>37</th>\n",
       "      <td>JBSS3</td>\n",
       "      <td>JBS</td>\n",
       "      <td>24.20</td>\n",
       "      <td>24.34</td>\n",
       "      <td>0.14</td>\n",
       "      <td>0.57</td>\n",
       "      <td>0.01</td>\n",
       "      <td>1134986472</td>\n",
       "      <td>156,573,285.43</td>\n",
       "      <td>Subiu</td>\n",
       "      <td>Alimentos</td>\n",
       "      <td>68</td>\n",
       "      <td>Entre 50 e 100</td>\n",
       "    </tr>\n",
       "    <tr>\n",
       "      <th>38</th>\n",
       "      <td>MGLU3</td>\n",
       "      <td>Magazine Luiza</td>\n",
       "      <td>2.07</td>\n",
       "      <td>2.08</td>\n",
       "      <td>0.01</td>\n",
       "      <td>0.48</td>\n",
       "      <td>0.00</td>\n",
       "      <td>2867627068</td>\n",
       "      <td>28,493,619.27</td>\n",
       "      <td>Subiu</td>\n",
       "      <td>Varejo</td>\n",
       "      <td>64</td>\n",
       "      <td>Entre 50 e 100</td>\n",
       "    </tr>\n",
       "    <tr>\n",
       "      <th>39</th>\n",
       "      <td>BBDC3</td>\n",
       "      <td>Banco Bradesco3</td>\n",
       "      <td>13.70</td>\n",
       "      <td>13.75</td>\n",
       "      <td>0.05</td>\n",
       "      <td>0.36</td>\n",
       "      <td>0.00</td>\n",
       "      <td>1500728902</td>\n",
       "      <td>74,019,610.05</td>\n",
       "      <td>Subiu</td>\n",
       "      <td>Bancos</td>\n",
       "      <td>78</td>\n",
       "      <td>Entre 50 e 100</td>\n",
       "    </tr>\n",
       "    <tr>\n",
       "      <th>40</th>\n",
       "      <td>GGBR4</td>\n",
       "      <td>Gerdau</td>\n",
       "      <td>21.78</td>\n",
       "      <td>21.84</td>\n",
       "      <td>0.06</td>\n",
       "      <td>0.27</td>\n",
       "      <td>0.00</td>\n",
       "      <td>1118525506</td>\n",
       "      <td>65,779,607.10</td>\n",
       "      <td>Subiu</td>\n",
       "      <td>Siderurgia</td>\n",
       "      <td>122</td>\n",
       "      <td>Mais que 100</td>\n",
       "    </tr>\n",
       "    <tr>\n",
       "      <th>41</th>\n",
       "      <td>RAIZ4</td>\n",
       "      <td>Raízen</td>\n",
       "      <td>3.73</td>\n",
       "      <td>3.74</td>\n",
       "      <td>0.01</td>\n",
       "      <td>0.26</td>\n",
       "      <td>0.00</td>\n",
       "      <td>1193047233</td>\n",
       "      <td>11,571,106.42</td>\n",
       "      <td>Subiu</td>\n",
       "      <td>Energia</td>\n",
       "      <td>10</td>\n",
       "      <td>Menos que 50 anos</td>\n",
       "    </tr>\n",
       "    <tr>\n",
       "      <th>42</th>\n",
       "      <td>CPLE3</td>\n",
       "      <td>Copel</td>\n",
       "      <td>10.05</td>\n",
       "      <td>10.07</td>\n",
       "      <td>0.02</td>\n",
       "      <td>0.19</td>\n",
       "      <td>0.00</td>\n",
       "      <td>2982810591</td>\n",
       "      <td>56,961,887.45</td>\n",
       "      <td>Subiu</td>\n",
       "      <td>Energia</td>\n",
       "      <td>67</td>\n",
       "      <td>Entre 50 e 100</td>\n",
       "    </tr>\n",
       "    <tr>\n",
       "      <th>43</th>\n",
       "      <td>CPLE3</td>\n",
       "      <td>Copel</td>\n",
       "      <td>10.05</td>\n",
       "      <td>10.07</td>\n",
       "      <td>0.02</td>\n",
       "      <td>0.19</td>\n",
       "      <td>0.00</td>\n",
       "      <td>2982810591</td>\n",
       "      <td>56,961,887.45</td>\n",
       "      <td>Subiu</td>\n",
       "      <td>Energia</td>\n",
       "      <td>67</td>\n",
       "      <td>Entre 50 e 100</td>\n",
       "    </tr>\n",
       "    <tr>\n",
       "      <th>44</th>\n",
       "      <td>VAMO3</td>\n",
       "      <td>Grupo Vamos</td>\n",
       "      <td>8.17</td>\n",
       "      <td>8.18</td>\n",
       "      <td>0.01</td>\n",
       "      <td>0.12</td>\n",
       "      <td>0.00</td>\n",
       "      <td>421383330</td>\n",
       "      <td>4,131,341.16</td>\n",
       "      <td>Subiu</td>\n",
       "      <td>Aluguel de Carros</td>\n",
       "      <td>9</td>\n",
       "      <td>Menos que 50 anos</td>\n",
       "    </tr>\n",
       "  </tbody>\n",
       "</table>\n",
       "</div>"
      ],
      "text/plain": [
       "   ticker                  nome  valor_inicial  valor_final  var_reais  \\\n",
       "0   USIM5              Usiminas           9.03         9.50       0.47   \n",
       "1   CMIN3         CSN Mineração           6.66         6.82       0.16   \n",
       "2   PETR3           Petrobras 3          41.06        41.96       0.90   \n",
       "3   SUZB3                Suzano          51.85        52.91       1.06   \n",
       "4   CPFE3          CPFL Energia          36.36        37.10       0.74   \n",
       "5   PRIO3              PetroRio          44.80        45.69       0.89   \n",
       "6   PETR4            Petrobras4          39.28        39.96       0.68   \n",
       "7   VALE3                  Vale          68.37        69.50       1.13   \n",
       "8   MULT3             Multiplan          27.75        28.19       0.44   \n",
       "9   ITUB4         Itaú Unibanco          32.33        32.81       0.48   \n",
       "10  RDOR3             Rede D'Or          27.17        27.56       0.39   \n",
       "11  BRKM5               Braskem          18.29        18.55       0.26   \n",
       "12  AZUL4                  Azul          14.07        14.27       0.20   \n",
       "13  RRRP3          3R Petroleum          28.35        28.75       0.40   \n",
       "14  EQTL3    Equatorial Energia          34.85        35.32       0.47   \n",
       "15  CSNA3  Siderúrgica Nacional          17.92        18.16       0.24   \n",
       "16  YDUQ3                 YDUQS          19.52        19.77       0.25   \n",
       "17  UGPA3              Ultrapar          27.95        28.31       0.36   \n",
       "18  MRVE3                   MRV           7.98         8.08       0.10   \n",
       "19  ARZZ3                Arezzo          57.25        57.91       0.66   \n",
       "20  BBDC4       Banco Bradesco4          15.36        15.52       0.16   \n",
       "21  BEEF3               Minerva           7.12         7.19       0.07   \n",
       "22  PCAR3   Grupo Pão de Açúcar           4.10         4.14       0.04   \n",
       "23  BRFS3                   BRF          14.47        14.61       0.14   \n",
       "24  VIVT3                  Vivo          50.75        51.20       0.45   \n",
       "25  RAIL3                  Rumo          22.45        22.64       0.19   \n",
       "26  CIEL3                 Cielo           4.86         4.90       0.04   \n",
       "27  DXCO3                 Dexco           7.75         7.81       0.06   \n",
       "28  TIMS3                   TIM          17.39        17.52       0.13   \n",
       "29  BRAP4             Bradespar          23.05        23.22       0.17   \n",
       "30  LWSA3               Locaweb           5.51         5.55       0.04   \n",
       "31  RECV3        PetroRecôncavo          23.66        23.83       0.17   \n",
       "32  ITSA4                Itaúsa           9.94        10.01       0.07   \n",
       "33  BBAS3       Banco do Brasil          56.59        56.97       0.38   \n",
       "34  RADL3          RaiaDrogasil          26.00        26.16       0.16   \n",
       "35  GOAU4    Metalúrgica Gerdau          10.02        10.08       0.06   \n",
       "36  CSAN3                 Cosan          18.46        18.57       0.11   \n",
       "37  JBSS3                   JBS          24.20        24.34       0.14   \n",
       "38  MGLU3        Magazine Luiza           2.07         2.08       0.01   \n",
       "39  BBDC3       Banco Bradesco3          13.70        13.75       0.05   \n",
       "40  GGBR4                Gerdau          21.78        21.84       0.06   \n",
       "41  RAIZ4                Raízen           3.73         3.74       0.01   \n",
       "42  CPLE3                 Copel          10.05        10.07       0.02   \n",
       "43  CPLE3                 Copel          10.05        10.07       0.02   \n",
       "44  VAMO3           Grupo Vamos           8.17         8.18       0.01   \n",
       "\n",
       "    var_dia_pct  var_pct  qtd_teorica  var_reais_total resultado  \\\n",
       "0          5.20     0.05    515117391   241,889,725.43     Subiu   \n",
       "1          2.40     0.02   1110559345   177,515,970.30     Subiu   \n",
       "2          2.19     0.02   2379877655 2,140,059,393.53     Subiu   \n",
       "3          2.04     0.02    683452836   722,946,282.71     Subiu   \n",
       "4          2.03     0.02    187732538   138,573,955.06     Subiu   \n",
       "5          1.98     0.02    800010734   709,687,498.18     Subiu   \n",
       "6          1.73     0.02   4566445852 3,103,136,291.22     Subiu   \n",
       "7          1.66     0.02   4196924316 4,762,926,995.25     Subiu   \n",
       "8          1.58     0.02    268505432   117,732,680.08     Subiu   \n",
       "9          1.48     0.01   4801593832 2,297,591,984.33     Subiu   \n",
       "10         1.43     0.01   1168230366   453,917,907.01     Subiu   \n",
       "11         1.42     0.01    265877867    69,054,317.64     Subiu   \n",
       "12         1.42     0.01    327593725    65,452,205.55     Subiu   \n",
       "13         1.41     0.01    235665566    94,204,643.35     Subiu   \n",
       "14         1.34     0.01   1095587251   511,671,895.45     Subiu   \n",
       "15         1.33     0.01    600865451   143,220,991.46     Subiu   \n",
       "16         1.28     0.01    289347914    72,295,838.99     Subiu   \n",
       "17         1.28     0.01   1086411192   388,705,223.96     Subiu   \n",
       "18         1.25     0.01    376187582    37,525,872.38     Subiu   \n",
       "19         1.15     0.01     62305891    41,021,792.09     Subiu   \n",
       "20         1.04     0.01   5146576868   822,148,336.41     Subiu   \n",
       "21         0.98     0.01    261036182    18,214,628.10     Subiu   \n",
       "22         0.97     0.01    159430826     6,340,916.22     Subiu   \n",
       "23         0.96     0.01   1677525446   233,045,769.57     Subiu   \n",
       "24         0.88     0.01    423091712   188,965,307.06     Subiu   \n",
       "25         0.84     0.01   1218352541   229,771,333.63     Subiu   \n",
       "26         0.82     0.01   1095462329    43,657,683.38     Subiu   \n",
       "27         0.77     0.01    302768240    18,068,446.61     Subiu   \n",
       "28         0.74     0.01    807896814   103,972,807.37     Subiu   \n",
       "29         0.73     0.01    251003438    42,238,249.54     Subiu   \n",
       "30         0.72     0.01    393173139    15,598,886.65     Subiu   \n",
       "31         0.71     0.01    275005663    46,201,006.00     Subiu   \n",
       "32         0.70     0.01   5372783971   373,853,994.88     Subiu   \n",
       "33         0.68     0.01   1420949112   546,752,087.99     Subiu   \n",
       "34         0.61     0.01   1275798515   202,352,473.74     Subiu   \n",
       "35         0.59     0.01    660411219    39,045,606.94     Subiu   \n",
       "36         0.59     0.01   1168097881   127,229,653.18     Subiu   \n",
       "37         0.57     0.01   1134986472   156,573,285.43     Subiu   \n",
       "38         0.48     0.00   2867627068    28,493,619.27     Subiu   \n",
       "39         0.36     0.00   1500728902    74,019,610.05     Subiu   \n",
       "40         0.27     0.00   1118525506    65,779,607.10     Subiu   \n",
       "41         0.26     0.00   1193047233    11,571,106.42     Subiu   \n",
       "42         0.19     0.00   2982810591    56,961,887.45     Subiu   \n",
       "43         0.19     0.00   2982810591    56,961,887.45     Subiu   \n",
       "44         0.12     0.00    421383330     4,131,341.16     Subiu   \n",
       "\n",
       "                segmento  idade          cat_idade  \n",
       "0             Siderurgia     59     Entre 50 e 100  \n",
       "1              Mineração     81     Entre 50 e 100  \n",
       "2         Petróleo e Gás     68     Entre 50 e 100  \n",
       "3       Papel e Celulose     97     Entre 50 e 100  \n",
       "4                Energia    109       Mais que 100  \n",
       "5         Petróleo e Gás      8  Menos que 50 anos  \n",
       "6         Petróleo e Gás     68     Entre 50 e 100  \n",
       "7              Mineração     79     Entre 50 e 100  \n",
       "8       Shopping Centers     50     Entre 50 e 100  \n",
       "9                 Bancos     98     Entre 50 e 100  \n",
       "10                 Saúde     50     Entre 50 e 100  \n",
       "11          Petroquímica     19  Menos que 50 anos  \n",
       "12      Transporte Aéreo     13  Menos que 50 anos  \n",
       "13        Petróleo e Gás      9  Menos que 50 anos  \n",
       "14               Energia     24  Menos que 50 anos  \n",
       "15            Siderurgia     78     Entre 50 e 100  \n",
       "16              Educação     56     Entre 50 e 100  \n",
       "17          Conglomerado     84     Entre 50 e 100  \n",
       "18      Construção Civil     42  Menos que 50 anos  \n",
       "19  Vestuário e Calçados     49  Menos que 50 anos  \n",
       "20                Bancos     78     Entre 50 e 100  \n",
       "21             Alimentos     29  Menos que 50 anos  \n",
       "22                Varejo     62     Entre 50 e 100  \n",
       "23             Alimentos     85     Entre 50 e 100  \n",
       "24      Telecomunicações     23  Menos que 50 anos  \n",
       "25             Logística     13  Menos que 50 anos  \n",
       "26  Serviços Financeiros     23  Menos que 50 anos  \n",
       "27              Comércio     72     Entre 50 e 100  \n",
       "28      Telecomunicações     25  Menos que 50 anos  \n",
       "29         Investimentos     63     Entre 50 e 100  \n",
       "30            Tecnologia     24  Menos que 50 anos  \n",
       "31        Petróleo e Gás      9  Menos que 50 anos  \n",
       "32    Holding Financeira     56     Entre 50 e 100  \n",
       "33                Bancos    214       Mais que 100  \n",
       "34   Varejo Farmacêutico    118       Mais que 100  \n",
       "35            Siderurgia    120       Mais que 100  \n",
       "36               Energia     14  Menos que 50 anos  \n",
       "37             Alimentos     68     Entre 50 e 100  \n",
       "38                Varejo     64     Entre 50 e 100  \n",
       "39                Bancos     78     Entre 50 e 100  \n",
       "40            Siderurgia    122       Mais que 100  \n",
       "41               Energia     10  Menos que 50 anos  \n",
       "42               Energia     67     Entre 50 e 100  \n",
       "43               Energia     67     Entre 50 e 100  \n",
       "44     Aluguel de Carros      9  Menos que 50 anos  "
      ]
     },
     "execution_count": 149,
     "metadata": {},
     "output_type": "execute_result"
    }
   ],
   "source": [
    "df_principal_dia_subiu = df_principal_dia[df_principal_dia['resultado'] == \"Subiu\"]\n",
    "df_principal_dia_subiu"
   ]
  },
  {
   "cell_type": "code",
   "execution_count": 150,
   "metadata": {},
   "outputs": [
    {
     "data": {
      "text/html": [
       "<div>\n",
       "<style scoped>\n",
       "    .dataframe tbody tr th:only-of-type {\n",
       "        vertical-align: middle;\n",
       "    }\n",
       "\n",
       "    .dataframe tbody tr th {\n",
       "        vertical-align: top;\n",
       "    }\n",
       "\n",
       "    .dataframe thead th {\n",
       "        text-align: right;\n",
       "    }\n",
       "</style>\n",
       "<table border=\"1\" class=\"dataframe\">\n",
       "  <thead>\n",
       "    <tr style=\"text-align: right;\">\n",
       "      <th></th>\n",
       "      <th>segmento</th>\n",
       "      <th>var_reais_total</th>\n",
       "    </tr>\n",
       "  </thead>\n",
       "  <tbody>\n",
       "    <tr>\n",
       "      <th>0</th>\n",
       "      <td>Alimentos</td>\n",
       "      <td>407,833,683.09</td>\n",
       "    </tr>\n",
       "    <tr>\n",
       "      <th>1</th>\n",
       "      <td>Aluguel de Carros</td>\n",
       "      <td>4,131,341.16</td>\n",
       "    </tr>\n",
       "    <tr>\n",
       "      <th>2</th>\n",
       "      <td>Bancos</td>\n",
       "      <td>3,740,512,018.78</td>\n",
       "    </tr>\n",
       "    <tr>\n",
       "      <th>3</th>\n",
       "      <td>Comércio</td>\n",
       "      <td>18,068,446.61</td>\n",
       "    </tr>\n",
       "    <tr>\n",
       "      <th>4</th>\n",
       "      <td>Conglomerado</td>\n",
       "      <td>388,705,223.96</td>\n",
       "    </tr>\n",
       "    <tr>\n",
       "      <th>5</th>\n",
       "      <td>Construção Civil</td>\n",
       "      <td>37,525,872.38</td>\n",
       "    </tr>\n",
       "    <tr>\n",
       "      <th>6</th>\n",
       "      <td>Educação</td>\n",
       "      <td>72,295,838.99</td>\n",
       "    </tr>\n",
       "    <tr>\n",
       "      <th>7</th>\n",
       "      <td>Energia</td>\n",
       "      <td>902,970,385.01</td>\n",
       "    </tr>\n",
       "    <tr>\n",
       "      <th>8</th>\n",
       "      <td>Holding Financeira</td>\n",
       "      <td>373,853,994.88</td>\n",
       "    </tr>\n",
       "    <tr>\n",
       "      <th>9</th>\n",
       "      <td>Investimentos</td>\n",
       "      <td>42,238,249.54</td>\n",
       "    </tr>\n",
       "    <tr>\n",
       "      <th>10</th>\n",
       "      <td>Logística</td>\n",
       "      <td>229,771,333.63</td>\n",
       "    </tr>\n",
       "    <tr>\n",
       "      <th>11</th>\n",
       "      <td>Mineração</td>\n",
       "      <td>4,940,442,965.55</td>\n",
       "    </tr>\n",
       "    <tr>\n",
       "      <th>12</th>\n",
       "      <td>Papel e Celulose</td>\n",
       "      <td>722,946,282.71</td>\n",
       "    </tr>\n",
       "    <tr>\n",
       "      <th>13</th>\n",
       "      <td>Petroquímica</td>\n",
       "      <td>69,054,317.64</td>\n",
       "    </tr>\n",
       "    <tr>\n",
       "      <th>14</th>\n",
       "      <td>Petróleo e Gás</td>\n",
       "      <td>6,093,288,832.26</td>\n",
       "    </tr>\n",
       "    <tr>\n",
       "      <th>15</th>\n",
       "      <td>Saúde</td>\n",
       "      <td>453,917,907.01</td>\n",
       "    </tr>\n",
       "    <tr>\n",
       "      <th>16</th>\n",
       "      <td>Serviços Financeiros</td>\n",
       "      <td>43,657,683.38</td>\n",
       "    </tr>\n",
       "    <tr>\n",
       "      <th>17</th>\n",
       "      <td>Shopping Centers</td>\n",
       "      <td>117,732,680.08</td>\n",
       "    </tr>\n",
       "    <tr>\n",
       "      <th>18</th>\n",
       "      <td>Siderurgia</td>\n",
       "      <td>489,935,930.93</td>\n",
       "    </tr>\n",
       "    <tr>\n",
       "      <th>19</th>\n",
       "      <td>Tecnologia</td>\n",
       "      <td>15,598,886.65</td>\n",
       "    </tr>\n",
       "    <tr>\n",
       "      <th>20</th>\n",
       "      <td>Telecomunicações</td>\n",
       "      <td>292,938,114.42</td>\n",
       "    </tr>\n",
       "    <tr>\n",
       "      <th>21</th>\n",
       "      <td>Transporte Aéreo</td>\n",
       "      <td>65,452,205.55</td>\n",
       "    </tr>\n",
       "    <tr>\n",
       "      <th>22</th>\n",
       "      <td>Varejo</td>\n",
       "      <td>34,834,535.50</td>\n",
       "    </tr>\n",
       "    <tr>\n",
       "      <th>23</th>\n",
       "      <td>Varejo Farmacêutico</td>\n",
       "      <td>202,352,473.74</td>\n",
       "    </tr>\n",
       "    <tr>\n",
       "      <th>24</th>\n",
       "      <td>Vestuário e Calçados</td>\n",
       "      <td>41,021,792.09</td>\n",
       "    </tr>\n",
       "  </tbody>\n",
       "</table>\n",
       "</div>"
      ],
      "text/plain": [
       "                segmento  var_reais_total\n",
       "0              Alimentos   407,833,683.09\n",
       "1      Aluguel de Carros     4,131,341.16\n",
       "2                 Bancos 3,740,512,018.78\n",
       "3               Comércio    18,068,446.61\n",
       "4           Conglomerado   388,705,223.96\n",
       "5       Construção Civil    37,525,872.38\n",
       "6               Educação    72,295,838.99\n",
       "7                Energia   902,970,385.01\n",
       "8     Holding Financeira   373,853,994.88\n",
       "9          Investimentos    42,238,249.54\n",
       "10             Logística   229,771,333.63\n",
       "11             Mineração 4,940,442,965.55\n",
       "12      Papel e Celulose   722,946,282.71\n",
       "13          Petroquímica    69,054,317.64\n",
       "14        Petróleo e Gás 6,093,288,832.26\n",
       "15                 Saúde   453,917,907.01\n",
       "16  Serviços Financeiros    43,657,683.38\n",
       "17      Shopping Centers   117,732,680.08\n",
       "18            Siderurgia   489,935,930.93\n",
       "19            Tecnologia    15,598,886.65\n",
       "20      Telecomunicações   292,938,114.42\n",
       "21      Transporte Aéreo    65,452,205.55\n",
       "22                Varejo    34,834,535.50\n",
       "23   Varejo Farmacêutico   202,352,473.74\n",
       "24  Vestuário e Calçados    41,021,792.09"
      ]
     },
     "execution_count": 150,
     "metadata": {},
     "output_type": "execute_result"
    }
   ],
   "source": [
    "df_analise_segmento_dia = df_principal_dia_subiu.groupby('segmento')[\"var_reais_total\"].sum().reset_index()\n",
    "df_analise_segmento_dia"
   ]
  },
  {
   "cell_type": "code",
   "execution_count": 167,
   "metadata": {},
   "outputs": [
    {
     "data": {
      "application/vnd.plotly.v1+json": {
       "config": {
        "plotlyServerURL": "https://plot.ly"
       },
       "data": [
        {
         "customdata": [
          [
           "Alimentos"
          ],
          [
           "Aluguel de Carros"
          ],
          [
           "Bancos"
          ],
          [
           "Comércio"
          ],
          [
           "Conglomerado"
          ],
          [
           "Construção Civil"
          ],
          [
           "Educação"
          ],
          [
           "Energia"
          ],
          [
           "Holding Financeira"
          ],
          [
           "Investimentos"
          ],
          [
           "Logística"
          ],
          [
           "Mineração"
          ],
          [
           "Papel e Celulose"
          ],
          [
           "Petroquímica"
          ],
          [
           "Petróleo e Gás"
          ],
          [
           "Saúde"
          ],
          [
           "Serviços Financeiros"
          ],
          [
           "Shopping Centers"
          ],
          [
           "Siderurgia"
          ],
          [
           "Tecnologia"
          ],
          [
           "Telecomunicações"
          ],
          [
           "Transporte Aéreo"
          ],
          [
           "Varejo"
          ],
          [
           "Varejo Farmacêutico"
          ],
          [
           "Vestuário e Calçados"
          ]
         ],
         "domain": {
          "x": [
           0,
           1
          ],
          "y": [
           0,
           1
          ]
         },
         "hovertemplate": "segmento=%{customdata[0]}<br>var_reais_total=%{value}<extra></extra>",
         "labels": [
          "Alimentos",
          "Aluguel de Carros",
          "Bancos",
          "Comércio",
          "Conglomerado",
          "Construção Civil",
          "Educação",
          "Energia",
          "Holding Financeira",
          "Investimentos",
          "Logística",
          "Mineração",
          "Papel e Celulose",
          "Petroquímica",
          "Petróleo e Gás",
          "Saúde",
          "Serviços Financeiros",
          "Shopping Centers",
          "Siderurgia",
          "Tecnologia",
          "Telecomunicações",
          "Transporte Aéreo",
          "Varejo",
          "Varejo Farmacêutico",
          "Vestuário e Calçados"
         ],
         "legendgroup": "",
         "name": "",
         "showlegend": true,
         "textposition": "inside",
         "type": "pie",
         "values": [
          407833683.0924499,
          4131341.15789051,
          3740512018.7834516,
          18068446.60998324,
          388705223.95601785,
          37525872.37728388,
          72295838.98616095,
          902970385.0106554,
          373853994.88377655,
          42238249.53998644,
          229771333.63468358,
          4940442965.550434,
          722946282.7090385,
          69054317.63603853,
          6093288832.2628355,
          453917907.01324,
          43657683.37554085,
          117732680.0784251,
          489935930.9283229,
          15598886.650556229,
          292938114.42357796,
          65452205.552800186,
          34834535.49753806,
          202352473.73982856,
          41021792.09077153
         ]
        }
       ],
       "layout": {
        "legend": {
         "tracegroupgap": 0
        },
        "template": {
         "data": {
          "bar": [
           {
            "error_x": {
             "color": "#2a3f5f"
            },
            "error_y": {
             "color": "#2a3f5f"
            },
            "marker": {
             "line": {
              "color": "#E5ECF6",
              "width": 0.5
             },
             "pattern": {
              "fillmode": "overlay",
              "size": 10,
              "solidity": 0.2
             }
            },
            "type": "bar"
           }
          ],
          "barpolar": [
           {
            "marker": {
             "line": {
              "color": "#E5ECF6",
              "width": 0.5
             },
             "pattern": {
              "fillmode": "overlay",
              "size": 10,
              "solidity": 0.2
             }
            },
            "type": "barpolar"
           }
          ],
          "carpet": [
           {
            "aaxis": {
             "endlinecolor": "#2a3f5f",
             "gridcolor": "white",
             "linecolor": "white",
             "minorgridcolor": "white",
             "startlinecolor": "#2a3f5f"
            },
            "baxis": {
             "endlinecolor": "#2a3f5f",
             "gridcolor": "white",
             "linecolor": "white",
             "minorgridcolor": "white",
             "startlinecolor": "#2a3f5f"
            },
            "type": "carpet"
           }
          ],
          "choropleth": [
           {
            "colorbar": {
             "outlinewidth": 0,
             "ticks": ""
            },
            "type": "choropleth"
           }
          ],
          "contour": [
           {
            "colorbar": {
             "outlinewidth": 0,
             "ticks": ""
            },
            "colorscale": [
             [
              0,
              "#0d0887"
             ],
             [
              0.1111111111111111,
              "#46039f"
             ],
             [
              0.2222222222222222,
              "#7201a8"
             ],
             [
              0.3333333333333333,
              "#9c179e"
             ],
             [
              0.4444444444444444,
              "#bd3786"
             ],
             [
              0.5555555555555556,
              "#d8576b"
             ],
             [
              0.6666666666666666,
              "#ed7953"
             ],
             [
              0.7777777777777778,
              "#fb9f3a"
             ],
             [
              0.8888888888888888,
              "#fdca26"
             ],
             [
              1,
              "#f0f921"
             ]
            ],
            "type": "contour"
           }
          ],
          "contourcarpet": [
           {
            "colorbar": {
             "outlinewidth": 0,
             "ticks": ""
            },
            "type": "contourcarpet"
           }
          ],
          "heatmap": [
           {
            "colorbar": {
             "outlinewidth": 0,
             "ticks": ""
            },
            "colorscale": [
             [
              0,
              "#0d0887"
             ],
             [
              0.1111111111111111,
              "#46039f"
             ],
             [
              0.2222222222222222,
              "#7201a8"
             ],
             [
              0.3333333333333333,
              "#9c179e"
             ],
             [
              0.4444444444444444,
              "#bd3786"
             ],
             [
              0.5555555555555556,
              "#d8576b"
             ],
             [
              0.6666666666666666,
              "#ed7953"
             ],
             [
              0.7777777777777778,
              "#fb9f3a"
             ],
             [
              0.8888888888888888,
              "#fdca26"
             ],
             [
              1,
              "#f0f921"
             ]
            ],
            "type": "heatmap"
           }
          ],
          "heatmapgl": [
           {
            "colorbar": {
             "outlinewidth": 0,
             "ticks": ""
            },
            "colorscale": [
             [
              0,
              "#0d0887"
             ],
             [
              0.1111111111111111,
              "#46039f"
             ],
             [
              0.2222222222222222,
              "#7201a8"
             ],
             [
              0.3333333333333333,
              "#9c179e"
             ],
             [
              0.4444444444444444,
              "#bd3786"
             ],
             [
              0.5555555555555556,
              "#d8576b"
             ],
             [
              0.6666666666666666,
              "#ed7953"
             ],
             [
              0.7777777777777778,
              "#fb9f3a"
             ],
             [
              0.8888888888888888,
              "#fdca26"
             ],
             [
              1,
              "#f0f921"
             ]
            ],
            "type": "heatmapgl"
           }
          ],
          "histogram": [
           {
            "marker": {
             "pattern": {
              "fillmode": "overlay",
              "size": 10,
              "solidity": 0.2
             }
            },
            "type": "histogram"
           }
          ],
          "histogram2d": [
           {
            "colorbar": {
             "outlinewidth": 0,
             "ticks": ""
            },
            "colorscale": [
             [
              0,
              "#0d0887"
             ],
             [
              0.1111111111111111,
              "#46039f"
             ],
             [
              0.2222222222222222,
              "#7201a8"
             ],
             [
              0.3333333333333333,
              "#9c179e"
             ],
             [
              0.4444444444444444,
              "#bd3786"
             ],
             [
              0.5555555555555556,
              "#d8576b"
             ],
             [
              0.6666666666666666,
              "#ed7953"
             ],
             [
              0.7777777777777778,
              "#fb9f3a"
             ],
             [
              0.8888888888888888,
              "#fdca26"
             ],
             [
              1,
              "#f0f921"
             ]
            ],
            "type": "histogram2d"
           }
          ],
          "histogram2dcontour": [
           {
            "colorbar": {
             "outlinewidth": 0,
             "ticks": ""
            },
            "colorscale": [
             [
              0,
              "#0d0887"
             ],
             [
              0.1111111111111111,
              "#46039f"
             ],
             [
              0.2222222222222222,
              "#7201a8"
             ],
             [
              0.3333333333333333,
              "#9c179e"
             ],
             [
              0.4444444444444444,
              "#bd3786"
             ],
             [
              0.5555555555555556,
              "#d8576b"
             ],
             [
              0.6666666666666666,
              "#ed7953"
             ],
             [
              0.7777777777777778,
              "#fb9f3a"
             ],
             [
              0.8888888888888888,
              "#fdca26"
             ],
             [
              1,
              "#f0f921"
             ]
            ],
            "type": "histogram2dcontour"
           }
          ],
          "mesh3d": [
           {
            "colorbar": {
             "outlinewidth": 0,
             "ticks": ""
            },
            "type": "mesh3d"
           }
          ],
          "parcoords": [
           {
            "line": {
             "colorbar": {
              "outlinewidth": 0,
              "ticks": ""
             }
            },
            "type": "parcoords"
           }
          ],
          "pie": [
           {
            "automargin": true,
            "type": "pie"
           }
          ],
          "scatter": [
           {
            "fillpattern": {
             "fillmode": "overlay",
             "size": 10,
             "solidity": 0.2
            },
            "type": "scatter"
           }
          ],
          "scatter3d": [
           {
            "line": {
             "colorbar": {
              "outlinewidth": 0,
              "ticks": ""
             }
            },
            "marker": {
             "colorbar": {
              "outlinewidth": 0,
              "ticks": ""
             }
            },
            "type": "scatter3d"
           }
          ],
          "scattercarpet": [
           {
            "marker": {
             "colorbar": {
              "outlinewidth": 0,
              "ticks": ""
             }
            },
            "type": "scattercarpet"
           }
          ],
          "scattergeo": [
           {
            "marker": {
             "colorbar": {
              "outlinewidth": 0,
              "ticks": ""
             }
            },
            "type": "scattergeo"
           }
          ],
          "scattergl": [
           {
            "marker": {
             "colorbar": {
              "outlinewidth": 0,
              "ticks": ""
             }
            },
            "type": "scattergl"
           }
          ],
          "scattermapbox": [
           {
            "marker": {
             "colorbar": {
              "outlinewidth": 0,
              "ticks": ""
             }
            },
            "type": "scattermapbox"
           }
          ],
          "scatterpolar": [
           {
            "marker": {
             "colorbar": {
              "outlinewidth": 0,
              "ticks": ""
             }
            },
            "type": "scatterpolar"
           }
          ],
          "scatterpolargl": [
           {
            "marker": {
             "colorbar": {
              "outlinewidth": 0,
              "ticks": ""
             }
            },
            "type": "scatterpolargl"
           }
          ],
          "scatterternary": [
           {
            "marker": {
             "colorbar": {
              "outlinewidth": 0,
              "ticks": ""
             }
            },
            "type": "scatterternary"
           }
          ],
          "surface": [
           {
            "colorbar": {
             "outlinewidth": 0,
             "ticks": ""
            },
            "colorscale": [
             [
              0,
              "#0d0887"
             ],
             [
              0.1111111111111111,
              "#46039f"
             ],
             [
              0.2222222222222222,
              "#7201a8"
             ],
             [
              0.3333333333333333,
              "#9c179e"
             ],
             [
              0.4444444444444444,
              "#bd3786"
             ],
             [
              0.5555555555555556,
              "#d8576b"
             ],
             [
              0.6666666666666666,
              "#ed7953"
             ],
             [
              0.7777777777777778,
              "#fb9f3a"
             ],
             [
              0.8888888888888888,
              "#fdca26"
             ],
             [
              1,
              "#f0f921"
             ]
            ],
            "type": "surface"
           }
          ],
          "table": [
           {
            "cells": {
             "fill": {
              "color": "#EBF0F8"
             },
             "line": {
              "color": "white"
             }
            },
            "header": {
             "fill": {
              "color": "#C8D4E3"
             },
             "line": {
              "color": "white"
             }
            },
            "type": "table"
           }
          ]
         },
         "layout": {
          "annotationdefaults": {
           "arrowcolor": "#2a3f5f",
           "arrowhead": 0,
           "arrowwidth": 1
          },
          "autotypenumbers": "strict",
          "coloraxis": {
           "colorbar": {
            "outlinewidth": 0,
            "ticks": ""
           }
          },
          "colorscale": {
           "diverging": [
            [
             0,
             "#8e0152"
            ],
            [
             0.1,
             "#c51b7d"
            ],
            [
             0.2,
             "#de77ae"
            ],
            [
             0.3,
             "#f1b6da"
            ],
            [
             0.4,
             "#fde0ef"
            ],
            [
             0.5,
             "#f7f7f7"
            ],
            [
             0.6,
             "#e6f5d0"
            ],
            [
             0.7,
             "#b8e186"
            ],
            [
             0.8,
             "#7fbc41"
            ],
            [
             0.9,
             "#4d9221"
            ],
            [
             1,
             "#276419"
            ]
           ],
           "sequential": [
            [
             0,
             "#0d0887"
            ],
            [
             0.1111111111111111,
             "#46039f"
            ],
            [
             0.2222222222222222,
             "#7201a8"
            ],
            [
             0.3333333333333333,
             "#9c179e"
            ],
            [
             0.4444444444444444,
             "#bd3786"
            ],
            [
             0.5555555555555556,
             "#d8576b"
            ],
            [
             0.6666666666666666,
             "#ed7953"
            ],
            [
             0.7777777777777778,
             "#fb9f3a"
            ],
            [
             0.8888888888888888,
             "#fdca26"
            ],
            [
             1,
             "#f0f921"
            ]
           ],
           "sequentialminus": [
            [
             0,
             "#0d0887"
            ],
            [
             0.1111111111111111,
             "#46039f"
            ],
            [
             0.2222222222222222,
             "#7201a8"
            ],
            [
             0.3333333333333333,
             "#9c179e"
            ],
            [
             0.4444444444444444,
             "#bd3786"
            ],
            [
             0.5555555555555556,
             "#d8576b"
            ],
            [
             0.6666666666666666,
             "#ed7953"
            ],
            [
             0.7777777777777778,
             "#fb9f3a"
            ],
            [
             0.8888888888888888,
             "#fdca26"
            ],
            [
             1,
             "#f0f921"
            ]
           ]
          },
          "colorway": [
           "#636efa",
           "#EF553B",
           "#00cc96",
           "#ab63fa",
           "#FFA15A",
           "#19d3f3",
           "#FF6692",
           "#B6E880",
           "#FF97FF",
           "#FECB52"
          ],
          "font": {
           "color": "#2a3f5f"
          },
          "geo": {
           "bgcolor": "white",
           "lakecolor": "white",
           "landcolor": "#E5ECF6",
           "showlakes": true,
           "showland": true,
           "subunitcolor": "white"
          },
          "hoverlabel": {
           "align": "left"
          },
          "hovermode": "closest",
          "mapbox": {
           "style": "light"
          },
          "paper_bgcolor": "white",
          "plot_bgcolor": "#E5ECF6",
          "polar": {
           "angularaxis": {
            "gridcolor": "white",
            "linecolor": "white",
            "ticks": ""
           },
           "bgcolor": "#E5ECF6",
           "radialaxis": {
            "gridcolor": "white",
            "linecolor": "white",
            "ticks": ""
           }
          },
          "scene": {
           "xaxis": {
            "backgroundcolor": "#E5ECF6",
            "gridcolor": "white",
            "gridwidth": 2,
            "linecolor": "white",
            "showbackground": true,
            "ticks": "",
            "zerolinecolor": "white"
           },
           "yaxis": {
            "backgroundcolor": "#E5ECF6",
            "gridcolor": "white",
            "gridwidth": 2,
            "linecolor": "white",
            "showbackground": true,
            "ticks": "",
            "zerolinecolor": "white"
           },
           "zaxis": {
            "backgroundcolor": "#E5ECF6",
            "gridcolor": "white",
            "gridwidth": 2,
            "linecolor": "white",
            "showbackground": true,
            "ticks": "",
            "zerolinecolor": "white"
           }
          },
          "shapedefaults": {
           "line": {
            "color": "#2a3f5f"
           }
          },
          "ternary": {
           "aaxis": {
            "gridcolor": "white",
            "linecolor": "white",
            "ticks": ""
           },
           "baxis": {
            "gridcolor": "white",
            "linecolor": "white",
            "ticks": ""
           },
           "bgcolor": "#E5ECF6",
           "caxis": {
            "gridcolor": "white",
            "linecolor": "white",
            "ticks": ""
           }
          },
          "title": {
           "x": 0.05
          },
          "xaxis": {
           "automargin": true,
           "gridcolor": "white",
           "linecolor": "white",
           "ticks": "",
           "title": {
            "standoff": 15
           },
           "zerolinecolor": "white",
           "zerolinewidth": 2
          },
          "yaxis": {
           "automargin": true,
           "gridcolor": "white",
           "linecolor": "white",
           "ticks": "",
           "title": {
            "standoff": 15
           },
           "zerolinecolor": "white",
           "zerolinewidth": 2
          }
         }
        },
        "title": {
         "text": "Quantidade de acoes por segmento."
        }
       }
      }
     },
     "metadata": {},
     "output_type": "display_data"
    }
   ],
   "source": [
    "fig_dia = px.pie(df_analise_segmento_dia,\n",
    "                 values=\"var_reais_total\",\n",
    "                 names=\"segmento\",\n",
    "                 title=\"Quantidade de acoes por segmento.\",\n",
    "                 hover_data=[\"segmento\"]\n",
    "                 )\n",
    "fig_dia.update_traces(textposition = \"inside\")\n",
    "fig_dia.show()"
   ]
  },
  {
   "cell_type": "code",
   "execution_count": 151,
   "metadata": {},
   "outputs": [
    {
     "data": {
      "text/html": [
       "<div>\n",
       "<style scoped>\n",
       "    .dataframe tbody tr th:only-of-type {\n",
       "        vertical-align: middle;\n",
       "    }\n",
       "\n",
       "    .dataframe tbody tr th {\n",
       "        vertical-align: top;\n",
       "    }\n",
       "\n",
       "    .dataframe thead th {\n",
       "        text-align: right;\n",
       "    }\n",
       "</style>\n",
       "<table border=\"1\" class=\"dataframe\">\n",
       "  <thead>\n",
       "    <tr style=\"text-align: right;\">\n",
       "      <th></th>\n",
       "      <th>resultado</th>\n",
       "      <th>var_reais_total</th>\n",
       "    </tr>\n",
       "  </thead>\n",
       "  <tbody>\n",
       "    <tr>\n",
       "      <th>0</th>\n",
       "      <td>Desceu</td>\n",
       "      <td>-7,171,098,509.02</td>\n",
       "    </tr>\n",
       "    <tr>\n",
       "      <th>1</th>\n",
       "      <td>Estavel</td>\n",
       "      <td>0.00</td>\n",
       "    </tr>\n",
       "    <tr>\n",
       "      <th>2</th>\n",
       "      <td>Subiu</td>\n",
       "      <td>19,801,080,995.54</td>\n",
       "    </tr>\n",
       "  </tbody>\n",
       "</table>\n",
       "</div>"
      ],
      "text/plain": [
       "  resultado   var_reais_total\n",
       "0    Desceu -7,171,098,509.02\n",
       "1   Estavel              0.00\n",
       "2     Subiu 19,801,080,995.54"
      ]
     },
     "execution_count": 151,
     "metadata": {},
     "output_type": "execute_result"
    }
   ],
   "source": [
    "df_analise_dia_saldo = df_principal_dia.groupby('resultado')['var_reais_total'].sum().reset_index()\n",
    "df_analise_dia_saldo"
   ]
  },
  {
   "cell_type": "code",
   "execution_count": 156,
   "metadata": {},
   "outputs": [
    {
     "data": {
      "application/vnd.plotly.v1+json": {
       "config": {
        "plotlyServerURL": "https://plot.ly"
       },
       "data": [
        {
         "alignmentgroup": "True",
         "hovertemplate": "var_reais_total=%{x}<br>resultado=%{y}<extra></extra>",
         "legendgroup": "",
         "marker": {
          "color": "#636efa",
          "pattern": {
           "shape": ""
          }
         },
         "name": "",
         "offsetgroup": "",
         "orientation": "h",
         "showlegend": false,
         "textposition": "auto",
         "type": "bar",
         "x": [
          -7171098509.021535,
          0,
          19801080995.541286
         ],
         "xaxis": "x",
         "y": [
          "Desceu",
          "Estavel",
          "Subiu"
         ],
         "yaxis": "y"
        }
       ],
       "layout": {
        "barmode": "relative",
        "legend": {
         "tracegroupgap": 0
        },
        "template": {
         "data": {
          "bar": [
           {
            "error_x": {
             "color": "#2a3f5f"
            },
            "error_y": {
             "color": "#2a3f5f"
            },
            "marker": {
             "line": {
              "color": "#E5ECF6",
              "width": 0.5
             },
             "pattern": {
              "fillmode": "overlay",
              "size": 10,
              "solidity": 0.2
             }
            },
            "type": "bar"
           }
          ],
          "barpolar": [
           {
            "marker": {
             "line": {
              "color": "#E5ECF6",
              "width": 0.5
             },
             "pattern": {
              "fillmode": "overlay",
              "size": 10,
              "solidity": 0.2
             }
            },
            "type": "barpolar"
           }
          ],
          "carpet": [
           {
            "aaxis": {
             "endlinecolor": "#2a3f5f",
             "gridcolor": "white",
             "linecolor": "white",
             "minorgridcolor": "white",
             "startlinecolor": "#2a3f5f"
            },
            "baxis": {
             "endlinecolor": "#2a3f5f",
             "gridcolor": "white",
             "linecolor": "white",
             "minorgridcolor": "white",
             "startlinecolor": "#2a3f5f"
            },
            "type": "carpet"
           }
          ],
          "choropleth": [
           {
            "colorbar": {
             "outlinewidth": 0,
             "ticks": ""
            },
            "type": "choropleth"
           }
          ],
          "contour": [
           {
            "colorbar": {
             "outlinewidth": 0,
             "ticks": ""
            },
            "colorscale": [
             [
              0,
              "#0d0887"
             ],
             [
              0.1111111111111111,
              "#46039f"
             ],
             [
              0.2222222222222222,
              "#7201a8"
             ],
             [
              0.3333333333333333,
              "#9c179e"
             ],
             [
              0.4444444444444444,
              "#bd3786"
             ],
             [
              0.5555555555555556,
              "#d8576b"
             ],
             [
              0.6666666666666666,
              "#ed7953"
             ],
             [
              0.7777777777777778,
              "#fb9f3a"
             ],
             [
              0.8888888888888888,
              "#fdca26"
             ],
             [
              1,
              "#f0f921"
             ]
            ],
            "type": "contour"
           }
          ],
          "contourcarpet": [
           {
            "colorbar": {
             "outlinewidth": 0,
             "ticks": ""
            },
            "type": "contourcarpet"
           }
          ],
          "heatmap": [
           {
            "colorbar": {
             "outlinewidth": 0,
             "ticks": ""
            },
            "colorscale": [
             [
              0,
              "#0d0887"
             ],
             [
              0.1111111111111111,
              "#46039f"
             ],
             [
              0.2222222222222222,
              "#7201a8"
             ],
             [
              0.3333333333333333,
              "#9c179e"
             ],
             [
              0.4444444444444444,
              "#bd3786"
             ],
             [
              0.5555555555555556,
              "#d8576b"
             ],
             [
              0.6666666666666666,
              "#ed7953"
             ],
             [
              0.7777777777777778,
              "#fb9f3a"
             ],
             [
              0.8888888888888888,
              "#fdca26"
             ],
             [
              1,
              "#f0f921"
             ]
            ],
            "type": "heatmap"
           }
          ],
          "heatmapgl": [
           {
            "colorbar": {
             "outlinewidth": 0,
             "ticks": ""
            },
            "colorscale": [
             [
              0,
              "#0d0887"
             ],
             [
              0.1111111111111111,
              "#46039f"
             ],
             [
              0.2222222222222222,
              "#7201a8"
             ],
             [
              0.3333333333333333,
              "#9c179e"
             ],
             [
              0.4444444444444444,
              "#bd3786"
             ],
             [
              0.5555555555555556,
              "#d8576b"
             ],
             [
              0.6666666666666666,
              "#ed7953"
             ],
             [
              0.7777777777777778,
              "#fb9f3a"
             ],
             [
              0.8888888888888888,
              "#fdca26"
             ],
             [
              1,
              "#f0f921"
             ]
            ],
            "type": "heatmapgl"
           }
          ],
          "histogram": [
           {
            "marker": {
             "pattern": {
              "fillmode": "overlay",
              "size": 10,
              "solidity": 0.2
             }
            },
            "type": "histogram"
           }
          ],
          "histogram2d": [
           {
            "colorbar": {
             "outlinewidth": 0,
             "ticks": ""
            },
            "colorscale": [
             [
              0,
              "#0d0887"
             ],
             [
              0.1111111111111111,
              "#46039f"
             ],
             [
              0.2222222222222222,
              "#7201a8"
             ],
             [
              0.3333333333333333,
              "#9c179e"
             ],
             [
              0.4444444444444444,
              "#bd3786"
             ],
             [
              0.5555555555555556,
              "#d8576b"
             ],
             [
              0.6666666666666666,
              "#ed7953"
             ],
             [
              0.7777777777777778,
              "#fb9f3a"
             ],
             [
              0.8888888888888888,
              "#fdca26"
             ],
             [
              1,
              "#f0f921"
             ]
            ],
            "type": "histogram2d"
           }
          ],
          "histogram2dcontour": [
           {
            "colorbar": {
             "outlinewidth": 0,
             "ticks": ""
            },
            "colorscale": [
             [
              0,
              "#0d0887"
             ],
             [
              0.1111111111111111,
              "#46039f"
             ],
             [
              0.2222222222222222,
              "#7201a8"
             ],
             [
              0.3333333333333333,
              "#9c179e"
             ],
             [
              0.4444444444444444,
              "#bd3786"
             ],
             [
              0.5555555555555556,
              "#d8576b"
             ],
             [
              0.6666666666666666,
              "#ed7953"
             ],
             [
              0.7777777777777778,
              "#fb9f3a"
             ],
             [
              0.8888888888888888,
              "#fdca26"
             ],
             [
              1,
              "#f0f921"
             ]
            ],
            "type": "histogram2dcontour"
           }
          ],
          "mesh3d": [
           {
            "colorbar": {
             "outlinewidth": 0,
             "ticks": ""
            },
            "type": "mesh3d"
           }
          ],
          "parcoords": [
           {
            "line": {
             "colorbar": {
              "outlinewidth": 0,
              "ticks": ""
             }
            },
            "type": "parcoords"
           }
          ],
          "pie": [
           {
            "automargin": true,
            "type": "pie"
           }
          ],
          "scatter": [
           {
            "fillpattern": {
             "fillmode": "overlay",
             "size": 10,
             "solidity": 0.2
            },
            "type": "scatter"
           }
          ],
          "scatter3d": [
           {
            "line": {
             "colorbar": {
              "outlinewidth": 0,
              "ticks": ""
             }
            },
            "marker": {
             "colorbar": {
              "outlinewidth": 0,
              "ticks": ""
             }
            },
            "type": "scatter3d"
           }
          ],
          "scattercarpet": [
           {
            "marker": {
             "colorbar": {
              "outlinewidth": 0,
              "ticks": ""
             }
            },
            "type": "scattercarpet"
           }
          ],
          "scattergeo": [
           {
            "marker": {
             "colorbar": {
              "outlinewidth": 0,
              "ticks": ""
             }
            },
            "type": "scattergeo"
           }
          ],
          "scattergl": [
           {
            "marker": {
             "colorbar": {
              "outlinewidth": 0,
              "ticks": ""
             }
            },
            "type": "scattergl"
           }
          ],
          "scattermapbox": [
           {
            "marker": {
             "colorbar": {
              "outlinewidth": 0,
              "ticks": ""
             }
            },
            "type": "scattermapbox"
           }
          ],
          "scatterpolar": [
           {
            "marker": {
             "colorbar": {
              "outlinewidth": 0,
              "ticks": ""
             }
            },
            "type": "scatterpolar"
           }
          ],
          "scatterpolargl": [
           {
            "marker": {
             "colorbar": {
              "outlinewidth": 0,
              "ticks": ""
             }
            },
            "type": "scatterpolargl"
           }
          ],
          "scatterternary": [
           {
            "marker": {
             "colorbar": {
              "outlinewidth": 0,
              "ticks": ""
             }
            },
            "type": "scatterternary"
           }
          ],
          "surface": [
           {
            "colorbar": {
             "outlinewidth": 0,
             "ticks": ""
            },
            "colorscale": [
             [
              0,
              "#0d0887"
             ],
             [
              0.1111111111111111,
              "#46039f"
             ],
             [
              0.2222222222222222,
              "#7201a8"
             ],
             [
              0.3333333333333333,
              "#9c179e"
             ],
             [
              0.4444444444444444,
              "#bd3786"
             ],
             [
              0.5555555555555556,
              "#d8576b"
             ],
             [
              0.6666666666666666,
              "#ed7953"
             ],
             [
              0.7777777777777778,
              "#fb9f3a"
             ],
             [
              0.8888888888888888,
              "#fdca26"
             ],
             [
              1,
              "#f0f921"
             ]
            ],
            "type": "surface"
           }
          ],
          "table": [
           {
            "cells": {
             "fill": {
              "color": "#EBF0F8"
             },
             "line": {
              "color": "white"
             }
            },
            "header": {
             "fill": {
              "color": "#C8D4E3"
             },
             "line": {
              "color": "white"
             }
            },
            "type": "table"
           }
          ]
         },
         "layout": {
          "annotationdefaults": {
           "arrowcolor": "#2a3f5f",
           "arrowhead": 0,
           "arrowwidth": 1
          },
          "autotypenumbers": "strict",
          "coloraxis": {
           "colorbar": {
            "outlinewidth": 0,
            "ticks": ""
           }
          },
          "colorscale": {
           "diverging": [
            [
             0,
             "#8e0152"
            ],
            [
             0.1,
             "#c51b7d"
            ],
            [
             0.2,
             "#de77ae"
            ],
            [
             0.3,
             "#f1b6da"
            ],
            [
             0.4,
             "#fde0ef"
            ],
            [
             0.5,
             "#f7f7f7"
            ],
            [
             0.6,
             "#e6f5d0"
            ],
            [
             0.7,
             "#b8e186"
            ],
            [
             0.8,
             "#7fbc41"
            ],
            [
             0.9,
             "#4d9221"
            ],
            [
             1,
             "#276419"
            ]
           ],
           "sequential": [
            [
             0,
             "#0d0887"
            ],
            [
             0.1111111111111111,
             "#46039f"
            ],
            [
             0.2222222222222222,
             "#7201a8"
            ],
            [
             0.3333333333333333,
             "#9c179e"
            ],
            [
             0.4444444444444444,
             "#bd3786"
            ],
            [
             0.5555555555555556,
             "#d8576b"
            ],
            [
             0.6666666666666666,
             "#ed7953"
            ],
            [
             0.7777777777777778,
             "#fb9f3a"
            ],
            [
             0.8888888888888888,
             "#fdca26"
            ],
            [
             1,
             "#f0f921"
            ]
           ],
           "sequentialminus": [
            [
             0,
             "#0d0887"
            ],
            [
             0.1111111111111111,
             "#46039f"
            ],
            [
             0.2222222222222222,
             "#7201a8"
            ],
            [
             0.3333333333333333,
             "#9c179e"
            ],
            [
             0.4444444444444444,
             "#bd3786"
            ],
            [
             0.5555555555555556,
             "#d8576b"
            ],
            [
             0.6666666666666666,
             "#ed7953"
            ],
            [
             0.7777777777777778,
             "#fb9f3a"
            ],
            [
             0.8888888888888888,
             "#fdca26"
            ],
            [
             1,
             "#f0f921"
            ]
           ]
          },
          "colorway": [
           "#636efa",
           "#EF553B",
           "#00cc96",
           "#ab63fa",
           "#FFA15A",
           "#19d3f3",
           "#FF6692",
           "#B6E880",
           "#FF97FF",
           "#FECB52"
          ],
          "font": {
           "color": "#2a3f5f"
          },
          "geo": {
           "bgcolor": "white",
           "lakecolor": "white",
           "landcolor": "#E5ECF6",
           "showlakes": true,
           "showland": true,
           "subunitcolor": "white"
          },
          "hoverlabel": {
           "align": "left"
          },
          "hovermode": "closest",
          "mapbox": {
           "style": "light"
          },
          "paper_bgcolor": "white",
          "plot_bgcolor": "#E5ECF6",
          "polar": {
           "angularaxis": {
            "gridcolor": "white",
            "linecolor": "white",
            "ticks": ""
           },
           "bgcolor": "#E5ECF6",
           "radialaxis": {
            "gridcolor": "white",
            "linecolor": "white",
            "ticks": ""
           }
          },
          "scene": {
           "xaxis": {
            "backgroundcolor": "#E5ECF6",
            "gridcolor": "white",
            "gridwidth": 2,
            "linecolor": "white",
            "showbackground": true,
            "ticks": "",
            "zerolinecolor": "white"
           },
           "yaxis": {
            "backgroundcolor": "#E5ECF6",
            "gridcolor": "white",
            "gridwidth": 2,
            "linecolor": "white",
            "showbackground": true,
            "ticks": "",
            "zerolinecolor": "white"
           },
           "zaxis": {
            "backgroundcolor": "#E5ECF6",
            "gridcolor": "white",
            "gridwidth": 2,
            "linecolor": "white",
            "showbackground": true,
            "ticks": "",
            "zerolinecolor": "white"
           }
          },
          "shapedefaults": {
           "line": {
            "color": "#2a3f5f"
           }
          },
          "ternary": {
           "aaxis": {
            "gridcolor": "white",
            "linecolor": "white",
            "ticks": ""
           },
           "baxis": {
            "gridcolor": "white",
            "linecolor": "white",
            "ticks": ""
           },
           "bgcolor": "#E5ECF6",
           "caxis": {
            "gridcolor": "white",
            "linecolor": "white",
            "ticks": ""
           }
          },
          "title": {
           "x": 0.05
          },
          "xaxis": {
           "automargin": true,
           "gridcolor": "white",
           "linecolor": "white",
           "ticks": "",
           "title": {
            "standoff": 15
           },
           "zerolinecolor": "white",
           "zerolinewidth": 2
          },
          "yaxis": {
           "automargin": true,
           "gridcolor": "white",
           "linecolor": "white",
           "ticks": "",
           "title": {
            "standoff": 15
           },
           "zerolinecolor": "white",
           "zerolinewidth": 2
          }
         }
        },
        "title": {
         "text": "Variação Reais por Resultado"
        },
        "xaxis": {
         "anchor": "y",
         "domain": [
          0,
          1
         ],
         "title": {
          "text": "var_reais_total"
         }
        },
        "yaxis": {
         "anchor": "x",
         "domain": [
          0,
          1
         ],
         "title": {
          "text": "resultado"
         }
        }
       }
      }
     },
     "metadata": {},
     "output_type": "display_data"
    }
   ],
   "source": [
    "fig_dia = px.bar(df_analise_dia_saldo, x= \"var_reais_total\", y=\"resultado\", title=\"Variação Reais por Resultado\")\n",
    "fig_dia.show()"
   ]
  },
  {
   "cell_type": "code",
   "execution_count": null,
   "metadata": {},
   "outputs": [
    {
     "data": {
      "text/html": [
       "<div>\n",
       "<style scoped>\n",
       "    .dataframe tbody tr th:only-of-type {\n",
       "        vertical-align: middle;\n",
       "    }\n",
       "\n",
       "    .dataframe tbody tr th {\n",
       "        vertical-align: top;\n",
       "    }\n",
       "\n",
       "    .dataframe thead th {\n",
       "        text-align: right;\n",
       "    }\n",
       "</style>\n",
       "<table border=\"1\" class=\"dataframe\">\n",
       "  <thead>\n",
       "    <tr style=\"text-align: right;\">\n",
       "      <th></th>\n",
       "      <th>ticker</th>\n",
       "      <th>nome</th>\n",
       "      <th>valor_final</th>\n",
       "      <th>var_semanal_pct</th>\n",
       "      <th>qtd_teorica</th>\n",
       "      <th>segmento</th>\n",
       "      <th>idade</th>\n",
       "    </tr>\n",
       "  </thead>\n",
       "  <tbody>\n",
       "    <tr>\n",
       "      <th>0</th>\n",
       "      <td>USIM5</td>\n",
       "      <td>Usiminas</td>\n",
       "      <td>9.50</td>\n",
       "      <td>11.76</td>\n",
       "      <td>515117391</td>\n",
       "      <td>Siderurgia</td>\n",
       "      <td>59</td>\n",
       "    </tr>\n",
       "    <tr>\n",
       "      <th>1</th>\n",
       "      <td>CMIN3</td>\n",
       "      <td>CSN Mineração</td>\n",
       "      <td>6.82</td>\n",
       "      <td>2.40</td>\n",
       "      <td>1110559345</td>\n",
       "      <td>Mineração</td>\n",
       "      <td>81</td>\n",
       "    </tr>\n",
       "    <tr>\n",
       "      <th>2</th>\n",
       "      <td>PETR3</td>\n",
       "      <td>Petrobras 3</td>\n",
       "      <td>41.96</td>\n",
       "      <td>7.73</td>\n",
       "      <td>2379877655</td>\n",
       "      <td>Petróleo e Gás</td>\n",
       "      <td>68</td>\n",
       "    </tr>\n",
       "    <tr>\n",
       "      <th>3</th>\n",
       "      <td>SUZB3</td>\n",
       "      <td>Suzano</td>\n",
       "      <td>52.91</td>\n",
       "      <td>2.14</td>\n",
       "      <td>683452836</td>\n",
       "      <td>Papel e Celulose</td>\n",
       "      <td>97</td>\n",
       "    </tr>\n",
       "    <tr>\n",
       "      <th>4</th>\n",
       "      <td>CPFE3</td>\n",
       "      <td>CPFL Energia</td>\n",
       "      <td>37.10</td>\n",
       "      <td>2.49</td>\n",
       "      <td>187732538</td>\n",
       "      <td>Energia</td>\n",
       "      <td>109</td>\n",
       "    </tr>\n",
       "    <tr>\n",
       "      <th>...</th>\n",
       "      <td>...</td>\n",
       "      <td>...</td>\n",
       "      <td>...</td>\n",
       "      <td>...</td>\n",
       "      <td>...</td>\n",
       "      <td>...</td>\n",
       "      <td>...</td>\n",
       "    </tr>\n",
       "    <tr>\n",
       "      <th>78</th>\n",
       "      <td>LREN3</td>\n",
       "      <td>Lojas Renner</td>\n",
       "      <td>15.78</td>\n",
       "      <td>-5.62</td>\n",
       "      <td>951329770</td>\n",
       "      <td>Vestuário</td>\n",
       "      <td>54</td>\n",
       "    </tr>\n",
       "    <tr>\n",
       "      <th>79</th>\n",
       "      <td>CRFB3</td>\n",
       "      <td>Carrefour Brasil</td>\n",
       "      <td>10.71</td>\n",
       "      <td>-9.47</td>\n",
       "      <td>533990587</td>\n",
       "      <td>Varejo</td>\n",
       "      <td>44</td>\n",
       "    </tr>\n",
       "    <tr>\n",
       "      <th>80</th>\n",
       "      <td>RENT3</td>\n",
       "      <td>Localiza</td>\n",
       "      <td>56.24</td>\n",
       "      <td>-6.41</td>\n",
       "      <td>853202347</td>\n",
       "      <td>Aluguel de Carros</td>\n",
       "      <td>48</td>\n",
       "    </tr>\n",
       "    <tr>\n",
       "      <th>81</th>\n",
       "      <td>CVCB3</td>\n",
       "      <td>CVC</td>\n",
       "      <td>3.07</td>\n",
       "      <td>-5.54</td>\n",
       "      <td>525582771</td>\n",
       "      <td>Turismo</td>\n",
       "      <td>49</td>\n",
       "    </tr>\n",
       "    <tr>\n",
       "      <th>82</th>\n",
       "      <td>GOLL4</td>\n",
       "      <td>GOL</td>\n",
       "      <td>5.92</td>\n",
       "      <td>-15.91</td>\n",
       "      <td>198184909</td>\n",
       "      <td>Transporte Aéreo</td>\n",
       "      <td>22</td>\n",
       "    </tr>\n",
       "  </tbody>\n",
       "</table>\n",
       "<p>83 rows × 7 columns</p>\n",
       "</div>"
      ],
      "text/plain": [
       "   ticker              nome  valor_final  var_semanal_pct  qtd_teorica  \\\n",
       "0   USIM5          Usiminas         9.50            11.76    515117391   \n",
       "1   CMIN3     CSN Mineração         6.82             2.40   1110559345   \n",
       "2   PETR3       Petrobras 3        41.96             7.73   2379877655   \n",
       "3   SUZB3            Suzano        52.91             2.14    683452836   \n",
       "4   CPFE3      CPFL Energia        37.10             2.49    187732538   \n",
       "..    ...               ...          ...              ...          ...   \n",
       "78  LREN3      Lojas Renner        15.78            -5.62    951329770   \n",
       "79  CRFB3  Carrefour Brasil        10.71            -9.47    533990587   \n",
       "80  RENT3          Localiza        56.24            -6.41    853202347   \n",
       "81  CVCB3               CVC         3.07            -5.54    525582771   \n",
       "82  GOLL4               GOL         5.92           -15.91    198184909   \n",
       "\n",
       "             segmento  idade  \n",
       "0          Siderurgia     59  \n",
       "1           Mineração     81  \n",
       "2      Petróleo e Gás     68  \n",
       "3    Papel e Celulose     97  \n",
       "4             Energia    109  \n",
       "..                ...    ...  \n",
       "78          Vestuário     54  \n",
       "79             Varejo     44  \n",
       "80  Aluguel de Carros     48  \n",
       "81            Turismo     49  \n",
       "82   Transporte Aéreo     22  \n",
       "\n",
       "[83 rows x 7 columns]"
      ]
     },
     "execution_count": 105,
     "metadata": {},
     "output_type": "execute_result"
    }
   ],
   "source": [
    "df_principal_semana = df_principal[[\n",
    "    \"ticker\",\n",
    "    \"nome\",\n",
    "    \"valor_final\",\n",
    "    \"var_semanal_pct\",\n",
    "    \"qtd_teorica\",\n",
    "    \"segmento\",\n",
    "    \"idade\"\n",
    "    ]].copy()\n",
    "df_principal_semana"
   ]
  },
  {
   "cell_type": "code",
   "execution_count": null,
   "metadata": {},
   "outputs": [
    {
     "data": {
      "text/html": [
       "<div>\n",
       "<style scoped>\n",
       "    .dataframe tbody tr th:only-of-type {\n",
       "        vertical-align: middle;\n",
       "    }\n",
       "\n",
       "    .dataframe tbody tr th {\n",
       "        vertical-align: top;\n",
       "    }\n",
       "\n",
       "    .dataframe thead th {\n",
       "        text-align: right;\n",
       "    }\n",
       "</style>\n",
       "<table border=\"1\" class=\"dataframe\">\n",
       "  <thead>\n",
       "    <tr style=\"text-align: right;\">\n",
       "      <th></th>\n",
       "      <th>ticker</th>\n",
       "      <th>nome</th>\n",
       "      <th>valor_final</th>\n",
       "      <th>var_semanal_pct</th>\n",
       "      <th>qtd_teorica</th>\n",
       "      <th>segmento</th>\n",
       "      <th>idade</th>\n",
       "      <th>var_pct</th>\n",
       "      <th>valor_inicial</th>\n",
       "      <th>var_reais</th>\n",
       "      <th>var_reais_total</th>\n",
       "    </tr>\n",
       "  </thead>\n",
       "  <tbody>\n",
       "    <tr>\n",
       "      <th>0</th>\n",
       "      <td>USIM5</td>\n",
       "      <td>Usiminas</td>\n",
       "      <td>9.50</td>\n",
       "      <td>11.76</td>\n",
       "      <td>515117391</td>\n",
       "      <td>Siderurgia</td>\n",
       "      <td>59</td>\n",
       "      <td>0.12</td>\n",
       "      <td>8.50</td>\n",
       "      <td>1.00</td>\n",
       "      <td>514,933,025.43</td>\n",
       "    </tr>\n",
       "    <tr>\n",
       "      <th>1</th>\n",
       "      <td>CMIN3</td>\n",
       "      <td>CSN Mineração</td>\n",
       "      <td>6.82</td>\n",
       "      <td>2.40</td>\n",
       "      <td>1110559345</td>\n",
       "      <td>Mineração</td>\n",
       "      <td>81</td>\n",
       "      <td>0.02</td>\n",
       "      <td>6.66</td>\n",
       "      <td>0.16</td>\n",
       "      <td>177,515,970.30</td>\n",
       "    </tr>\n",
       "    <tr>\n",
       "      <th>2</th>\n",
       "      <td>PETR3</td>\n",
       "      <td>Petrobras 3</td>\n",
       "      <td>41.96</td>\n",
       "      <td>7.73</td>\n",
       "      <td>2379877655</td>\n",
       "      <td>Petróleo e Gás</td>\n",
       "      <td>68</td>\n",
       "      <td>0.08</td>\n",
       "      <td>38.95</td>\n",
       "      <td>3.01</td>\n",
       "      <td>7,165,276,351.08</td>\n",
       "    </tr>\n",
       "    <tr>\n",
       "      <th>3</th>\n",
       "      <td>SUZB3</td>\n",
       "      <td>Suzano</td>\n",
       "      <td>52.91</td>\n",
       "      <td>2.14</td>\n",
       "      <td>683452836</td>\n",
       "      <td>Papel e Celulose</td>\n",
       "      <td>97</td>\n",
       "      <td>0.02</td>\n",
       "      <td>51.80</td>\n",
       "      <td>1.11</td>\n",
       "      <td>757,642,330.56</td>\n",
       "    </tr>\n",
       "    <tr>\n",
       "      <th>4</th>\n",
       "      <td>CPFE3</td>\n",
       "      <td>CPFL Energia</td>\n",
       "      <td>37.10</td>\n",
       "      <td>2.49</td>\n",
       "      <td>187732538</td>\n",
       "      <td>Energia</td>\n",
       "      <td>109</td>\n",
       "      <td>0.02</td>\n",
       "      <td>36.20</td>\n",
       "      <td>0.90</td>\n",
       "      <td>169,212,060.96</td>\n",
       "    </tr>\n",
       "    <tr>\n",
       "      <th>...</th>\n",
       "      <td>...</td>\n",
       "      <td>...</td>\n",
       "      <td>...</td>\n",
       "      <td>...</td>\n",
       "      <td>...</td>\n",
       "      <td>...</td>\n",
       "      <td>...</td>\n",
       "      <td>...</td>\n",
       "      <td>...</td>\n",
       "      <td>...</td>\n",
       "      <td>...</td>\n",
       "    </tr>\n",
       "    <tr>\n",
       "      <th>78</th>\n",
       "      <td>LREN3</td>\n",
       "      <td>Lojas Renner</td>\n",
       "      <td>15.78</td>\n",
       "      <td>-5.62</td>\n",
       "      <td>951329770</td>\n",
       "      <td>Vestuário</td>\n",
       "      <td>54</td>\n",
       "      <td>-0.06</td>\n",
       "      <td>16.72</td>\n",
       "      <td>-0.94</td>\n",
       "      <td>-893,911,303.14</td>\n",
       "    </tr>\n",
       "    <tr>\n",
       "      <th>79</th>\n",
       "      <td>CRFB3</td>\n",
       "      <td>Carrefour Brasil</td>\n",
       "      <td>10.71</td>\n",
       "      <td>-9.47</td>\n",
       "      <td>533990587</td>\n",
       "      <td>Varejo</td>\n",
       "      <td>44</td>\n",
       "      <td>-0.09</td>\n",
       "      <td>11.83</td>\n",
       "      <td>-1.12</td>\n",
       "      <td>-598,247,002.08</td>\n",
       "    </tr>\n",
       "    <tr>\n",
       "      <th>80</th>\n",
       "      <td>RENT3</td>\n",
       "      <td>Localiza</td>\n",
       "      <td>56.24</td>\n",
       "      <td>-6.41</td>\n",
       "      <td>853202347</td>\n",
       "      <td>Aluguel de Carros</td>\n",
       "      <td>48</td>\n",
       "      <td>-0.06</td>\n",
       "      <td>60.09</td>\n",
       "      <td>-3.85</td>\n",
       "      <td>-3,286,441,724.22</td>\n",
       "    </tr>\n",
       "    <tr>\n",
       "      <th>81</th>\n",
       "      <td>CVCB3</td>\n",
       "      <td>CVC</td>\n",
       "      <td>3.07</td>\n",
       "      <td>-5.54</td>\n",
       "      <td>525582771</td>\n",
       "      <td>Turismo</td>\n",
       "      <td>49</td>\n",
       "      <td>-0.06</td>\n",
       "      <td>3.25</td>\n",
       "      <td>-0.18</td>\n",
       "      <td>-94,632,719.17</td>\n",
       "    </tr>\n",
       "    <tr>\n",
       "      <th>82</th>\n",
       "      <td>GOLL4</td>\n",
       "      <td>GOL</td>\n",
       "      <td>5.92</td>\n",
       "      <td>-15.91</td>\n",
       "      <td>198184909</td>\n",
       "      <td>Transporte Aéreo</td>\n",
       "      <td>22</td>\n",
       "      <td>-0.16</td>\n",
       "      <td>7.04</td>\n",
       "      <td>-1.12</td>\n",
       "      <td>-221,982,181.72</td>\n",
       "    </tr>\n",
       "  </tbody>\n",
       "</table>\n",
       "<p>83 rows × 11 columns</p>\n",
       "</div>"
      ],
      "text/plain": [
       "   ticker              nome  valor_final  var_semanal_pct  qtd_teorica  \\\n",
       "0   USIM5          Usiminas         9.50            11.76    515117391   \n",
       "1   CMIN3     CSN Mineração         6.82             2.40   1110559345   \n",
       "2   PETR3       Petrobras 3        41.96             7.73   2379877655   \n",
       "3   SUZB3            Suzano        52.91             2.14    683452836   \n",
       "4   CPFE3      CPFL Energia        37.10             2.49    187732538   \n",
       "..    ...               ...          ...              ...          ...   \n",
       "78  LREN3      Lojas Renner        15.78            -5.62    951329770   \n",
       "79  CRFB3  Carrefour Brasil        10.71            -9.47    533990587   \n",
       "80  RENT3          Localiza        56.24            -6.41    853202347   \n",
       "81  CVCB3               CVC         3.07            -5.54    525582771   \n",
       "82  GOLL4               GOL         5.92           -15.91    198184909   \n",
       "\n",
       "             segmento  idade  var_pct  valor_inicial  var_reais  \\\n",
       "0          Siderurgia     59     0.12           8.50       1.00   \n",
       "1           Mineração     81     0.02           6.66       0.16   \n",
       "2      Petróleo e Gás     68     0.08          38.95       3.01   \n",
       "3    Papel e Celulose     97     0.02          51.80       1.11   \n",
       "4             Energia    109     0.02          36.20       0.90   \n",
       "..                ...    ...      ...            ...        ...   \n",
       "78          Vestuário     54    -0.06          16.72      -0.94   \n",
       "79             Varejo     44    -0.09          11.83      -1.12   \n",
       "80  Aluguel de Carros     48    -0.06          60.09      -3.85   \n",
       "81            Turismo     49    -0.06           3.25      -0.18   \n",
       "82   Transporte Aéreo     22    -0.16           7.04      -1.12   \n",
       "\n",
       "     var_reais_total  \n",
       "0     514,933,025.43  \n",
       "1     177,515,970.30  \n",
       "2   7,165,276,351.08  \n",
       "3     757,642,330.56  \n",
       "4     169,212,060.96  \n",
       "..               ...  \n",
       "78   -893,911,303.14  \n",
       "79   -598,247,002.08  \n",
       "80 -3,286,441,724.22  \n",
       "81    -94,632,719.17  \n",
       "82   -221,982,181.72  \n",
       "\n",
       "[83 rows x 11 columns]"
      ]
     },
     "execution_count": 106,
     "metadata": {},
     "output_type": "execute_result"
    }
   ],
   "source": [
    "df_principal_semana[\"var_pct\"] = df_principal_semana[\"var_semanal_pct\"]/100\n",
    "df_principal_semana[\"valor_inicial\"] = df_principal_semana[\"valor_final\"]/(df_principal_semana[\"var_pct\"]+1)\n",
    "df_principal_semana[\"var_reais\"] = df_principal_semana[\"valor_final\"]-df_principal_semana[\"valor_inicial\"]\n",
    "df_principal_semana[\"var_reais_total\"] = df_principal_semana[\"var_reais\"]*df_principal_semana[\"qtd_teorica\"]\n",
    "df_principal_semana"
   ]
  },
  {
   "cell_type": "code",
   "execution_count": null,
   "metadata": {},
   "outputs": [
    {
     "data": {
      "text/html": [
       "<div>\n",
       "<style scoped>\n",
       "    .dataframe tbody tr th:only-of-type {\n",
       "        vertical-align: middle;\n",
       "    }\n",
       "\n",
       "    .dataframe tbody tr th {\n",
       "        vertical-align: top;\n",
       "    }\n",
       "\n",
       "    .dataframe thead th {\n",
       "        text-align: right;\n",
       "    }\n",
       "</style>\n",
       "<table border=\"1\" class=\"dataframe\">\n",
       "  <thead>\n",
       "    <tr style=\"text-align: right;\">\n",
       "      <th></th>\n",
       "      <th>ticker</th>\n",
       "      <th>nome</th>\n",
       "      <th>valor_final</th>\n",
       "      <th>var_semanal_pct</th>\n",
       "      <th>qtd_teorica</th>\n",
       "      <th>segmento</th>\n",
       "      <th>idade</th>\n",
       "      <th>var_pct</th>\n",
       "      <th>valor_inicial</th>\n",
       "      <th>var_reais</th>\n",
       "      <th>var_reais_total</th>\n",
       "      <th>resultado</th>\n",
       "      <th>cat_idade</th>\n",
       "    </tr>\n",
       "  </thead>\n",
       "  <tbody>\n",
       "    <tr>\n",
       "      <th>0</th>\n",
       "      <td>USIM5</td>\n",
       "      <td>Usiminas</td>\n",
       "      <td>9.50</td>\n",
       "      <td>11.76</td>\n",
       "      <td>515117391</td>\n",
       "      <td>Siderurgia</td>\n",
       "      <td>59</td>\n",
       "      <td>0.12</td>\n",
       "      <td>8.50</td>\n",
       "      <td>1.00</td>\n",
       "      <td>514,933,025.43</td>\n",
       "      <td>Subiu</td>\n",
       "      <td>Entre 50 e 100</td>\n",
       "    </tr>\n",
       "    <tr>\n",
       "      <th>1</th>\n",
       "      <td>CMIN3</td>\n",
       "      <td>CSN Mineração</td>\n",
       "      <td>6.82</td>\n",
       "      <td>2.40</td>\n",
       "      <td>1110559345</td>\n",
       "      <td>Mineração</td>\n",
       "      <td>81</td>\n",
       "      <td>0.02</td>\n",
       "      <td>6.66</td>\n",
       "      <td>0.16</td>\n",
       "      <td>177,515,970.30</td>\n",
       "      <td>Subiu</td>\n",
       "      <td>Entre 50 e 100</td>\n",
       "    </tr>\n",
       "    <tr>\n",
       "      <th>2</th>\n",
       "      <td>PETR3</td>\n",
       "      <td>Petrobras 3</td>\n",
       "      <td>41.96</td>\n",
       "      <td>7.73</td>\n",
       "      <td>2379877655</td>\n",
       "      <td>Petróleo e Gás</td>\n",
       "      <td>68</td>\n",
       "      <td>0.08</td>\n",
       "      <td>38.95</td>\n",
       "      <td>3.01</td>\n",
       "      <td>7,165,276,351.08</td>\n",
       "      <td>Subiu</td>\n",
       "      <td>Entre 50 e 100</td>\n",
       "    </tr>\n",
       "    <tr>\n",
       "      <th>3</th>\n",
       "      <td>SUZB3</td>\n",
       "      <td>Suzano</td>\n",
       "      <td>52.91</td>\n",
       "      <td>2.14</td>\n",
       "      <td>683452836</td>\n",
       "      <td>Papel e Celulose</td>\n",
       "      <td>97</td>\n",
       "      <td>0.02</td>\n",
       "      <td>51.80</td>\n",
       "      <td>1.11</td>\n",
       "      <td>757,642,330.56</td>\n",
       "      <td>Subiu</td>\n",
       "      <td>Entre 50 e 100</td>\n",
       "    </tr>\n",
       "    <tr>\n",
       "      <th>4</th>\n",
       "      <td>CPFE3</td>\n",
       "      <td>CPFL Energia</td>\n",
       "      <td>37.10</td>\n",
       "      <td>2.49</td>\n",
       "      <td>187732538</td>\n",
       "      <td>Energia</td>\n",
       "      <td>109</td>\n",
       "      <td>0.02</td>\n",
       "      <td>36.20</td>\n",
       "      <td>0.90</td>\n",
       "      <td>169,212,060.96</td>\n",
       "      <td>Subiu</td>\n",
       "      <td>Mais que 100</td>\n",
       "    </tr>\n",
       "    <tr>\n",
       "      <th>...</th>\n",
       "      <td>...</td>\n",
       "      <td>...</td>\n",
       "      <td>...</td>\n",
       "      <td>...</td>\n",
       "      <td>...</td>\n",
       "      <td>...</td>\n",
       "      <td>...</td>\n",
       "      <td>...</td>\n",
       "      <td>...</td>\n",
       "      <td>...</td>\n",
       "      <td>...</td>\n",
       "      <td>...</td>\n",
       "      <td>...</td>\n",
       "    </tr>\n",
       "    <tr>\n",
       "      <th>78</th>\n",
       "      <td>LREN3</td>\n",
       "      <td>Lojas Renner</td>\n",
       "      <td>15.78</td>\n",
       "      <td>-5.62</td>\n",
       "      <td>951329770</td>\n",
       "      <td>Vestuário</td>\n",
       "      <td>54</td>\n",
       "      <td>-0.06</td>\n",
       "      <td>16.72</td>\n",
       "      <td>-0.94</td>\n",
       "      <td>-893,911,303.14</td>\n",
       "      <td>Desceu</td>\n",
       "      <td>Entre 50 e 100</td>\n",
       "    </tr>\n",
       "    <tr>\n",
       "      <th>79</th>\n",
       "      <td>CRFB3</td>\n",
       "      <td>Carrefour Brasil</td>\n",
       "      <td>10.71</td>\n",
       "      <td>-9.47</td>\n",
       "      <td>533990587</td>\n",
       "      <td>Varejo</td>\n",
       "      <td>44</td>\n",
       "      <td>-0.09</td>\n",
       "      <td>11.83</td>\n",
       "      <td>-1.12</td>\n",
       "      <td>-598,247,002.08</td>\n",
       "      <td>Desceu</td>\n",
       "      <td>Menos que 50 anos</td>\n",
       "    </tr>\n",
       "    <tr>\n",
       "      <th>80</th>\n",
       "      <td>RENT3</td>\n",
       "      <td>Localiza</td>\n",
       "      <td>56.24</td>\n",
       "      <td>-6.41</td>\n",
       "      <td>853202347</td>\n",
       "      <td>Aluguel de Carros</td>\n",
       "      <td>48</td>\n",
       "      <td>-0.06</td>\n",
       "      <td>60.09</td>\n",
       "      <td>-3.85</td>\n",
       "      <td>-3,286,441,724.22</td>\n",
       "      <td>Desceu</td>\n",
       "      <td>Menos que 50 anos</td>\n",
       "    </tr>\n",
       "    <tr>\n",
       "      <th>81</th>\n",
       "      <td>CVCB3</td>\n",
       "      <td>CVC</td>\n",
       "      <td>3.07</td>\n",
       "      <td>-5.54</td>\n",
       "      <td>525582771</td>\n",
       "      <td>Turismo</td>\n",
       "      <td>49</td>\n",
       "      <td>-0.06</td>\n",
       "      <td>3.25</td>\n",
       "      <td>-0.18</td>\n",
       "      <td>-94,632,719.17</td>\n",
       "      <td>Desceu</td>\n",
       "      <td>Menos que 50 anos</td>\n",
       "    </tr>\n",
       "    <tr>\n",
       "      <th>82</th>\n",
       "      <td>GOLL4</td>\n",
       "      <td>GOL</td>\n",
       "      <td>5.92</td>\n",
       "      <td>-15.91</td>\n",
       "      <td>198184909</td>\n",
       "      <td>Transporte Aéreo</td>\n",
       "      <td>22</td>\n",
       "      <td>-0.16</td>\n",
       "      <td>7.04</td>\n",
       "      <td>-1.12</td>\n",
       "      <td>-221,982,181.72</td>\n",
       "      <td>Desceu</td>\n",
       "      <td>Menos que 50 anos</td>\n",
       "    </tr>\n",
       "  </tbody>\n",
       "</table>\n",
       "<p>83 rows × 13 columns</p>\n",
       "</div>"
      ],
      "text/plain": [
       "   ticker              nome  valor_final  var_semanal_pct  qtd_teorica  \\\n",
       "0   USIM5          Usiminas         9.50            11.76    515117391   \n",
       "1   CMIN3     CSN Mineração         6.82             2.40   1110559345   \n",
       "2   PETR3       Petrobras 3        41.96             7.73   2379877655   \n",
       "3   SUZB3            Suzano        52.91             2.14    683452836   \n",
       "4   CPFE3      CPFL Energia        37.10             2.49    187732538   \n",
       "..    ...               ...          ...              ...          ...   \n",
       "78  LREN3      Lojas Renner        15.78            -5.62    951329770   \n",
       "79  CRFB3  Carrefour Brasil        10.71            -9.47    533990587   \n",
       "80  RENT3          Localiza        56.24            -6.41    853202347   \n",
       "81  CVCB3               CVC         3.07            -5.54    525582771   \n",
       "82  GOLL4               GOL         5.92           -15.91    198184909   \n",
       "\n",
       "             segmento  idade  var_pct  valor_inicial  var_reais  \\\n",
       "0          Siderurgia     59     0.12           8.50       1.00   \n",
       "1           Mineração     81     0.02           6.66       0.16   \n",
       "2      Petróleo e Gás     68     0.08          38.95       3.01   \n",
       "3    Papel e Celulose     97     0.02          51.80       1.11   \n",
       "4             Energia    109     0.02          36.20       0.90   \n",
       "..                ...    ...      ...            ...        ...   \n",
       "78          Vestuário     54    -0.06          16.72      -0.94   \n",
       "79             Varejo     44    -0.09          11.83      -1.12   \n",
       "80  Aluguel de Carros     48    -0.06          60.09      -3.85   \n",
       "81            Turismo     49    -0.06           3.25      -0.18   \n",
       "82   Transporte Aéreo     22    -0.16           7.04      -1.12   \n",
       "\n",
       "     var_reais_total resultado          cat_idade  \n",
       "0     514,933,025.43     Subiu     Entre 50 e 100  \n",
       "1     177,515,970.30     Subiu     Entre 50 e 100  \n",
       "2   7,165,276,351.08     Subiu     Entre 50 e 100  \n",
       "3     757,642,330.56     Subiu     Entre 50 e 100  \n",
       "4     169,212,060.96     Subiu       Mais que 100  \n",
       "..               ...       ...                ...  \n",
       "78   -893,911,303.14    Desceu     Entre 50 e 100  \n",
       "79   -598,247,002.08    Desceu  Menos que 50 anos  \n",
       "80 -3,286,441,724.22    Desceu  Menos que 50 anos  \n",
       "81    -94,632,719.17    Desceu  Menos que 50 anos  \n",
       "82   -221,982,181.72    Desceu  Menos que 50 anos  \n",
       "\n",
       "[83 rows x 13 columns]"
      ]
     },
     "execution_count": 107,
     "metadata": {},
     "output_type": "execute_result"
    }
   ],
   "source": [
    "df_principal_semana[\"resultado\"] = df_principal_semana[\"var_reais\"].apply(lambda x:\"Subiu\" if x > 0 else (\"Desceu\" if x<0 else \"Estavel\"))\n",
    "df_principal_semana[\"cat_idade\"] = df_principal_semana[\"idade\"].apply(lambda x:\"Menos que 50 anos\" if x<50 else (\"Mais que 100\" if x>100 else \"Entre 50 e 100\"))\n",
    "df_principal_semana"
   ]
  },
  {
   "cell_type": "code",
   "execution_count": null,
   "metadata": {},
   "outputs": [
    {
     "data": {
      "text/html": [
       "<div>\n",
       "<style scoped>\n",
       "    .dataframe tbody tr th:only-of-type {\n",
       "        vertical-align: middle;\n",
       "    }\n",
       "\n",
       "    .dataframe tbody tr th {\n",
       "        vertical-align: top;\n",
       "    }\n",
       "\n",
       "    .dataframe thead th {\n",
       "        text-align: right;\n",
       "    }\n",
       "</style>\n",
       "<table border=\"1\" class=\"dataframe\">\n",
       "  <thead>\n",
       "    <tr style=\"text-align: right;\">\n",
       "      <th></th>\n",
       "      <th>ticker</th>\n",
       "      <th>nome</th>\n",
       "      <th>valor_inicial</th>\n",
       "      <th>valor_final</th>\n",
       "      <th>var_reais</th>\n",
       "      <th>var_semanal_pct</th>\n",
       "      <th>var_pct</th>\n",
       "      <th>qtd_teorica</th>\n",
       "      <th>var_reais_total</th>\n",
       "      <th>resultado</th>\n",
       "      <th>segmento</th>\n",
       "      <th>idade</th>\n",
       "      <th>cat_idade</th>\n",
       "    </tr>\n",
       "  </thead>\n",
       "  <tbody>\n",
       "    <tr>\n",
       "      <th>0</th>\n",
       "      <td>USIM5</td>\n",
       "      <td>Usiminas</td>\n",
       "      <td>8.50</td>\n",
       "      <td>9.50</td>\n",
       "      <td>1.00</td>\n",
       "      <td>11.76</td>\n",
       "      <td>0.12</td>\n",
       "      <td>515117391</td>\n",
       "      <td>514,933,025.43</td>\n",
       "      <td>Subiu</td>\n",
       "      <td>Siderurgia</td>\n",
       "      <td>59</td>\n",
       "      <td>Entre 50 e 100</td>\n",
       "    </tr>\n",
       "    <tr>\n",
       "      <th>1</th>\n",
       "      <td>CMIN3</td>\n",
       "      <td>CSN Mineração</td>\n",
       "      <td>6.66</td>\n",
       "      <td>6.82</td>\n",
       "      <td>0.16</td>\n",
       "      <td>2.40</td>\n",
       "      <td>0.02</td>\n",
       "      <td>1110559345</td>\n",
       "      <td>177,515,970.30</td>\n",
       "      <td>Subiu</td>\n",
       "      <td>Mineração</td>\n",
       "      <td>81</td>\n",
       "      <td>Entre 50 e 100</td>\n",
       "    </tr>\n",
       "    <tr>\n",
       "      <th>2</th>\n",
       "      <td>PETR3</td>\n",
       "      <td>Petrobras 3</td>\n",
       "      <td>38.95</td>\n",
       "      <td>41.96</td>\n",
       "      <td>3.01</td>\n",
       "      <td>7.73</td>\n",
       "      <td>0.08</td>\n",
       "      <td>2379877655</td>\n",
       "      <td>7,165,276,351.08</td>\n",
       "      <td>Subiu</td>\n",
       "      <td>Petróleo e Gás</td>\n",
       "      <td>68</td>\n",
       "      <td>Entre 50 e 100</td>\n",
       "    </tr>\n",
       "    <tr>\n",
       "      <th>3</th>\n",
       "      <td>SUZB3</td>\n",
       "      <td>Suzano</td>\n",
       "      <td>51.80</td>\n",
       "      <td>52.91</td>\n",
       "      <td>1.11</td>\n",
       "      <td>2.14</td>\n",
       "      <td>0.02</td>\n",
       "      <td>683452836</td>\n",
       "      <td>757,642,330.56</td>\n",
       "      <td>Subiu</td>\n",
       "      <td>Papel e Celulose</td>\n",
       "      <td>97</td>\n",
       "      <td>Entre 50 e 100</td>\n",
       "    </tr>\n",
       "    <tr>\n",
       "      <th>4</th>\n",
       "      <td>CPFE3</td>\n",
       "      <td>CPFL Energia</td>\n",
       "      <td>36.20</td>\n",
       "      <td>37.10</td>\n",
       "      <td>0.90</td>\n",
       "      <td>2.49</td>\n",
       "      <td>0.02</td>\n",
       "      <td>187732538</td>\n",
       "      <td>169,212,060.96</td>\n",
       "      <td>Subiu</td>\n",
       "      <td>Energia</td>\n",
       "      <td>109</td>\n",
       "      <td>Mais que 100</td>\n",
       "    </tr>\n",
       "    <tr>\n",
       "      <th>...</th>\n",
       "      <td>...</td>\n",
       "      <td>...</td>\n",
       "      <td>...</td>\n",
       "      <td>...</td>\n",
       "      <td>...</td>\n",
       "      <td>...</td>\n",
       "      <td>...</td>\n",
       "      <td>...</td>\n",
       "      <td>...</td>\n",
       "      <td>...</td>\n",
       "      <td>...</td>\n",
       "      <td>...</td>\n",
       "      <td>...</td>\n",
       "    </tr>\n",
       "    <tr>\n",
       "      <th>78</th>\n",
       "      <td>LREN3</td>\n",
       "      <td>Lojas Renner</td>\n",
       "      <td>16.72</td>\n",
       "      <td>15.78</td>\n",
       "      <td>-0.94</td>\n",
       "      <td>-5.62</td>\n",
       "      <td>-0.06</td>\n",
       "      <td>951329770</td>\n",
       "      <td>-893,911,303.14</td>\n",
       "      <td>Desceu</td>\n",
       "      <td>Vestuário</td>\n",
       "      <td>54</td>\n",
       "      <td>Entre 50 e 100</td>\n",
       "    </tr>\n",
       "    <tr>\n",
       "      <th>79</th>\n",
       "      <td>CRFB3</td>\n",
       "      <td>Carrefour Brasil</td>\n",
       "      <td>11.83</td>\n",
       "      <td>10.71</td>\n",
       "      <td>-1.12</td>\n",
       "      <td>-9.47</td>\n",
       "      <td>-0.09</td>\n",
       "      <td>533990587</td>\n",
       "      <td>-598,247,002.08</td>\n",
       "      <td>Desceu</td>\n",
       "      <td>Varejo</td>\n",
       "      <td>44</td>\n",
       "      <td>Menos que 50 anos</td>\n",
       "    </tr>\n",
       "    <tr>\n",
       "      <th>80</th>\n",
       "      <td>RENT3</td>\n",
       "      <td>Localiza</td>\n",
       "      <td>60.09</td>\n",
       "      <td>56.24</td>\n",
       "      <td>-3.85</td>\n",
       "      <td>-6.41</td>\n",
       "      <td>-0.06</td>\n",
       "      <td>853202347</td>\n",
       "      <td>-3,286,441,724.22</td>\n",
       "      <td>Desceu</td>\n",
       "      <td>Aluguel de Carros</td>\n",
       "      <td>48</td>\n",
       "      <td>Menos que 50 anos</td>\n",
       "    </tr>\n",
       "    <tr>\n",
       "      <th>81</th>\n",
       "      <td>CVCB3</td>\n",
       "      <td>CVC</td>\n",
       "      <td>3.25</td>\n",
       "      <td>3.07</td>\n",
       "      <td>-0.18</td>\n",
       "      <td>-5.54</td>\n",
       "      <td>-0.06</td>\n",
       "      <td>525582771</td>\n",
       "      <td>-94,632,719.17</td>\n",
       "      <td>Desceu</td>\n",
       "      <td>Turismo</td>\n",
       "      <td>49</td>\n",
       "      <td>Menos que 50 anos</td>\n",
       "    </tr>\n",
       "    <tr>\n",
       "      <th>82</th>\n",
       "      <td>GOLL4</td>\n",
       "      <td>GOL</td>\n",
       "      <td>7.04</td>\n",
       "      <td>5.92</td>\n",
       "      <td>-1.12</td>\n",
       "      <td>-15.91</td>\n",
       "      <td>-0.16</td>\n",
       "      <td>198184909</td>\n",
       "      <td>-221,982,181.72</td>\n",
       "      <td>Desceu</td>\n",
       "      <td>Transporte Aéreo</td>\n",
       "      <td>22</td>\n",
       "      <td>Menos que 50 anos</td>\n",
       "    </tr>\n",
       "  </tbody>\n",
       "</table>\n",
       "<p>83 rows × 13 columns</p>\n",
       "</div>"
      ],
      "text/plain": [
       "   ticker              nome  valor_inicial  valor_final  var_reais  \\\n",
       "0   USIM5          Usiminas           8.50         9.50       1.00   \n",
       "1   CMIN3     CSN Mineração           6.66         6.82       0.16   \n",
       "2   PETR3       Petrobras 3          38.95        41.96       3.01   \n",
       "3   SUZB3            Suzano          51.80        52.91       1.11   \n",
       "4   CPFE3      CPFL Energia          36.20        37.10       0.90   \n",
       "..    ...               ...            ...          ...        ...   \n",
       "78  LREN3      Lojas Renner          16.72        15.78      -0.94   \n",
       "79  CRFB3  Carrefour Brasil          11.83        10.71      -1.12   \n",
       "80  RENT3          Localiza          60.09        56.24      -3.85   \n",
       "81  CVCB3               CVC           3.25         3.07      -0.18   \n",
       "82  GOLL4               GOL           7.04         5.92      -1.12   \n",
       "\n",
       "    var_semanal_pct  var_pct  qtd_teorica   var_reais_total resultado  \\\n",
       "0             11.76     0.12    515117391    514,933,025.43     Subiu   \n",
       "1              2.40     0.02   1110559345    177,515,970.30     Subiu   \n",
       "2              7.73     0.08   2379877655  7,165,276,351.08     Subiu   \n",
       "3              2.14     0.02    683452836    757,642,330.56     Subiu   \n",
       "4              2.49     0.02    187732538    169,212,060.96     Subiu   \n",
       "..              ...      ...          ...               ...       ...   \n",
       "78            -5.62    -0.06    951329770   -893,911,303.14    Desceu   \n",
       "79            -9.47    -0.09    533990587   -598,247,002.08    Desceu   \n",
       "80            -6.41    -0.06    853202347 -3,286,441,724.22    Desceu   \n",
       "81            -5.54    -0.06    525582771    -94,632,719.17    Desceu   \n",
       "82           -15.91    -0.16    198184909   -221,982,181.72    Desceu   \n",
       "\n",
       "             segmento  idade          cat_idade  \n",
       "0          Siderurgia     59     Entre 50 e 100  \n",
       "1           Mineração     81     Entre 50 e 100  \n",
       "2      Petróleo e Gás     68     Entre 50 e 100  \n",
       "3    Papel e Celulose     97     Entre 50 e 100  \n",
       "4             Energia    109       Mais que 100  \n",
       "..                ...    ...                ...  \n",
       "78          Vestuário     54     Entre 50 e 100  \n",
       "79             Varejo     44  Menos que 50 anos  \n",
       "80  Aluguel de Carros     48  Menos que 50 anos  \n",
       "81            Turismo     49  Menos que 50 anos  \n",
       "82   Transporte Aéreo     22  Menos que 50 anos  \n",
       "\n",
       "[83 rows x 13 columns]"
      ]
     },
     "execution_count": 108,
     "metadata": {},
     "output_type": "execute_result"
    }
   ],
   "source": [
    "df_principal_semana = df_principal_semana[[\n",
    "    \"ticker\",\n",
    "    \"nome\",\n",
    "    \"valor_inicial\",\n",
    "    \"valor_final\",\n",
    "    \"var_reais\",\n",
    "    \"var_semanal_pct\",\n",
    "    \"var_pct\",\n",
    "    \"qtd_teorica\",\n",
    "    \"var_reais_total\",\n",
    "    \"resultado\",\n",
    "    \"segmento\",\n",
    "    \"idade\",\n",
    "    \"cat_idade\"\n",
    "    ]]\n",
    "df_principal_semana"
   ]
  },
  {
   "cell_type": "code",
   "execution_count": null,
   "metadata": {},
   "outputs": [
    {
     "name": "stdout",
     "output_type": "stream",
     "text": [
      "Maior\tR$ 11,088,704,708.47\n",
      "Menor\tR$ -3,286,441,724.22\n",
      "Mésemana\tR$ 227,460,248.25\n",
      "Mésemana de quem subiu\tR$ 919,057,586.25\n",
      "Mésemana de quem desceu\tR$ -649,929,121.19\n"
     ]
    }
   ],
   "source": [
    "# Calculando o maior valor\n",
    "maior = df_principal_semana['var_reais_total'].max()\n",
    "\n",
    "# Calculando o menor valor\n",
    "menor = df_principal_semana['var_reais_total'].min()\n",
    "\n",
    "# Calculando a mésemana\n",
    "mesemana = df_principal_semana['var_reais_total'].mean()\n",
    "\n",
    "# Calculando a mésemana de quem subiu\n",
    "mesemana_subiu = df_principal_semana[df_principal_semana['resultado'] == 'Subiu']['var_reais_total'].mean()\n",
    "\n",
    "# Calculando a mésemana de quem desceu\n",
    "mesemana_desceu = df_principal_semana[df_principal_semana['resultado'] == 'Desceu']['var_reais_total'].mean()\n",
    "\n",
    "# Imprimindo os resultados\n",
    "print(f\"Maior\\tR$ {maior:,.2f}\")\n",
    "print(f\"Menor\\tR$ {menor:,.2f}\")\n",
    "print(f\"Mésemana\\tR$ {mesemana:,.2f}\")\n",
    "print(f\"Mésemana de quem subiu\\tR$ {mesemana_subiu:,.2f}\")\n",
    "print(f\"Mésemana de quem desceu\\tR$ {mesemana_desceu:,.2f}\")"
   ]
  },
  {
   "cell_type": "code",
   "execution_count": null,
   "metadata": {},
   "outputs": [
    {
     "data": {
      "text/html": [
       "<div>\n",
       "<style scoped>\n",
       "    .dataframe tbody tr th:only-of-type {\n",
       "        vertical-align: middle;\n",
       "    }\n",
       "\n",
       "    .dataframe tbody tr th {\n",
       "        vertical-align: top;\n",
       "    }\n",
       "\n",
       "    .dataframe thead th {\n",
       "        text-align: right;\n",
       "    }\n",
       "</style>\n",
       "<table border=\"1\" class=\"dataframe\">\n",
       "  <thead>\n",
       "    <tr style=\"text-align: right;\">\n",
       "      <th></th>\n",
       "      <th>ticker</th>\n",
       "      <th>nome</th>\n",
       "      <th>valor_inicial</th>\n",
       "      <th>valor_final</th>\n",
       "      <th>var_reais</th>\n",
       "      <th>var_semanal_pct</th>\n",
       "      <th>var_pct</th>\n",
       "      <th>qtd_teorica</th>\n",
       "      <th>var_reais_total</th>\n",
       "      <th>resultado</th>\n",
       "      <th>segmento</th>\n",
       "      <th>idade</th>\n",
       "      <th>cat_idade</th>\n",
       "    </tr>\n",
       "  </thead>\n",
       "  <tbody>\n",
       "    <tr>\n",
       "      <th>0</th>\n",
       "      <td>USIM5</td>\n",
       "      <td>Usiminas</td>\n",
       "      <td>8.50</td>\n",
       "      <td>9.50</td>\n",
       "      <td>1.00</td>\n",
       "      <td>11.76</td>\n",
       "      <td>0.12</td>\n",
       "      <td>515117391</td>\n",
       "      <td>514,933,025.43</td>\n",
       "      <td>Subiu</td>\n",
       "      <td>Siderurgia</td>\n",
       "      <td>59</td>\n",
       "      <td>Entre 50 e 100</td>\n",
       "    </tr>\n",
       "    <tr>\n",
       "      <th>1</th>\n",
       "      <td>CMIN3</td>\n",
       "      <td>CSN Mineração</td>\n",
       "      <td>6.66</td>\n",
       "      <td>6.82</td>\n",
       "      <td>0.16</td>\n",
       "      <td>2.40</td>\n",
       "      <td>0.02</td>\n",
       "      <td>1110559345</td>\n",
       "      <td>177,515,970.30</td>\n",
       "      <td>Subiu</td>\n",
       "      <td>Mineração</td>\n",
       "      <td>81</td>\n",
       "      <td>Entre 50 e 100</td>\n",
       "    </tr>\n",
       "    <tr>\n",
       "      <th>2</th>\n",
       "      <td>PETR3</td>\n",
       "      <td>Petrobras 3</td>\n",
       "      <td>38.95</td>\n",
       "      <td>41.96</td>\n",
       "      <td>3.01</td>\n",
       "      <td>7.73</td>\n",
       "      <td>0.08</td>\n",
       "      <td>2379877655</td>\n",
       "      <td>7,165,276,351.08</td>\n",
       "      <td>Subiu</td>\n",
       "      <td>Petróleo e Gás</td>\n",
       "      <td>68</td>\n",
       "      <td>Entre 50 e 100</td>\n",
       "    </tr>\n",
       "    <tr>\n",
       "      <th>3</th>\n",
       "      <td>SUZB3</td>\n",
       "      <td>Suzano</td>\n",
       "      <td>51.80</td>\n",
       "      <td>52.91</td>\n",
       "      <td>1.11</td>\n",
       "      <td>2.14</td>\n",
       "      <td>0.02</td>\n",
       "      <td>683452836</td>\n",
       "      <td>757,642,330.56</td>\n",
       "      <td>Subiu</td>\n",
       "      <td>Papel e Celulose</td>\n",
       "      <td>97</td>\n",
       "      <td>Entre 50 e 100</td>\n",
       "    </tr>\n",
       "    <tr>\n",
       "      <th>4</th>\n",
       "      <td>CPFE3</td>\n",
       "      <td>CPFL Energia</td>\n",
       "      <td>36.20</td>\n",
       "      <td>37.10</td>\n",
       "      <td>0.90</td>\n",
       "      <td>2.49</td>\n",
       "      <td>0.02</td>\n",
       "      <td>187732538</td>\n",
       "      <td>169,212,060.96</td>\n",
       "      <td>Subiu</td>\n",
       "      <td>Energia</td>\n",
       "      <td>109</td>\n",
       "      <td>Mais que 100</td>\n",
       "    </tr>\n",
       "    <tr>\n",
       "      <th>5</th>\n",
       "      <td>PRIO3</td>\n",
       "      <td>PetroRio</td>\n",
       "      <td>44.61</td>\n",
       "      <td>45.69</td>\n",
       "      <td>1.08</td>\n",
       "      <td>2.42</td>\n",
       "      <td>0.02</td>\n",
       "      <td>800010734</td>\n",
       "      <td>863,669,467.45</td>\n",
       "      <td>Subiu</td>\n",
       "      <td>Petróleo e Gás</td>\n",
       "      <td>8</td>\n",
       "      <td>Menos que 50 anos</td>\n",
       "    </tr>\n",
       "    <tr>\n",
       "      <th>6</th>\n",
       "      <td>PETR4</td>\n",
       "      <td>Petrobras4</td>\n",
       "      <td>37.53</td>\n",
       "      <td>39.96</td>\n",
       "      <td>2.43</td>\n",
       "      <td>6.47</td>\n",
       "      <td>0.06</td>\n",
       "      <td>4566445852</td>\n",
       "      <td>11,088,704,708.47</td>\n",
       "      <td>Subiu</td>\n",
       "      <td>Petróleo e Gás</td>\n",
       "      <td>68</td>\n",
       "      <td>Entre 50 e 100</td>\n",
       "    </tr>\n",
       "    <tr>\n",
       "      <th>7</th>\n",
       "      <td>VALE3</td>\n",
       "      <td>Vale</td>\n",
       "      <td>68.10</td>\n",
       "      <td>69.50</td>\n",
       "      <td>1.40</td>\n",
       "      <td>2.06</td>\n",
       "      <td>0.02</td>\n",
       "      <td>4196924316</td>\n",
       "      <td>5,887,454,970.82</td>\n",
       "      <td>Subiu</td>\n",
       "      <td>Mineração</td>\n",
       "      <td>79</td>\n",
       "      <td>Entre 50 e 100</td>\n",
       "    </tr>\n",
       "    <tr>\n",
       "      <th>8</th>\n",
       "      <td>MULT3</td>\n",
       "      <td>Multiplan</td>\n",
       "      <td>27.63</td>\n",
       "      <td>28.19</td>\n",
       "      <td>0.56</td>\n",
       "      <td>2.03</td>\n",
       "      <td>0.02</td>\n",
       "      <td>268505432</td>\n",
       "      <td>150,596,994.02</td>\n",
       "      <td>Subiu</td>\n",
       "      <td>Shopping Centers</td>\n",
       "      <td>50</td>\n",
       "      <td>Entre 50 e 100</td>\n",
       "    </tr>\n",
       "    <tr>\n",
       "      <th>10</th>\n",
       "      <td>RDOR3</td>\n",
       "      <td>Rede D'Or</td>\n",
       "      <td>26.65</td>\n",
       "      <td>27.56</td>\n",
       "      <td>0.91</td>\n",
       "      <td>3.41</td>\n",
       "      <td>0.03</td>\n",
       "      <td>1168230366</td>\n",
       "      <td>1,061,694,444.49</td>\n",
       "      <td>Subiu</td>\n",
       "      <td>Saúde</td>\n",
       "      <td>50</td>\n",
       "      <td>Entre 50 e 100</td>\n",
       "    </tr>\n",
       "    <tr>\n",
       "      <th>11</th>\n",
       "      <td>BRKM5</td>\n",
       "      <td>Braskem</td>\n",
       "      <td>17.65</td>\n",
       "      <td>18.55</td>\n",
       "      <td>0.90</td>\n",
       "      <td>5.10</td>\n",
       "      <td>0.05</td>\n",
       "      <td>265877867</td>\n",
       "      <td>239,328,026.71</td>\n",
       "      <td>Subiu</td>\n",
       "      <td>Petroquímica</td>\n",
       "      <td>19</td>\n",
       "      <td>Menos que 50 anos</td>\n",
       "    </tr>\n",
       "    <tr>\n",
       "      <th>12</th>\n",
       "      <td>AZUL4</td>\n",
       "      <td>Azul</td>\n",
       "      <td>13.11</td>\n",
       "      <td>14.27</td>\n",
       "      <td>1.16</td>\n",
       "      <td>8.85</td>\n",
       "      <td>0.09</td>\n",
       "      <td>327593725</td>\n",
       "      <td>380,079,446.33</td>\n",
       "      <td>Subiu</td>\n",
       "      <td>Transporte Aéreo</td>\n",
       "      <td>13</td>\n",
       "      <td>Menos que 50 anos</td>\n",
       "    </tr>\n",
       "    <tr>\n",
       "      <th>14</th>\n",
       "      <td>EQTL3</td>\n",
       "      <td>Equatorial Energia</td>\n",
       "      <td>34.37</td>\n",
       "      <td>35.32</td>\n",
       "      <td>0.95</td>\n",
       "      <td>2.76</td>\n",
       "      <td>0.03</td>\n",
       "      <td>1095587251</td>\n",
       "      <td>1,039,328,056.70</td>\n",
       "      <td>Subiu</td>\n",
       "      <td>Energia</td>\n",
       "      <td>24</td>\n",
       "      <td>Menos que 50 anos</td>\n",
       "    </tr>\n",
       "    <tr>\n",
       "      <th>15</th>\n",
       "      <td>CSNA3</td>\n",
       "      <td>Siderúrgica Nacional</td>\n",
       "      <td>17.33</td>\n",
       "      <td>18.16</td>\n",
       "      <td>0.83</td>\n",
       "      <td>4.79</td>\n",
       "      <td>0.05</td>\n",
       "      <td>600865451</td>\n",
       "      <td>498,779,678.09</td>\n",
       "      <td>Subiu</td>\n",
       "      <td>Siderurgia</td>\n",
       "      <td>78</td>\n",
       "      <td>Entre 50 e 100</td>\n",
       "    </tr>\n",
       "    <tr>\n",
       "      <th>17</th>\n",
       "      <td>UGPA3</td>\n",
       "      <td>Ultrapar</td>\n",
       "      <td>27.66</td>\n",
       "      <td>28.31</td>\n",
       "      <td>0.65</td>\n",
       "      <td>2.35</td>\n",
       "      <td>0.02</td>\n",
       "      <td>1086411192</td>\n",
       "      <td>706,177,889.47</td>\n",
       "      <td>Subiu</td>\n",
       "      <td>Conglomerado</td>\n",
       "      <td>84</td>\n",
       "      <td>Entre 50 e 100</td>\n",
       "    </tr>\n",
       "    <tr>\n",
       "      <th>18</th>\n",
       "      <td>MRVE3</td>\n",
       "      <td>MRV</td>\n",
       "      <td>7.97</td>\n",
       "      <td>8.08</td>\n",
       "      <td>0.11</td>\n",
       "      <td>1.38</td>\n",
       "      <td>0.01</td>\n",
       "      <td>376187582</td>\n",
       "      <td>41,375,439.08</td>\n",
       "      <td>Subiu</td>\n",
       "      <td>Construção Civil</td>\n",
       "      <td>42</td>\n",
       "      <td>Menos que 50 anos</td>\n",
       "    </tr>\n",
       "    <tr>\n",
       "      <th>21</th>\n",
       "      <td>BEEF3</td>\n",
       "      <td>Minerva</td>\n",
       "      <td>6.78</td>\n",
       "      <td>7.19</td>\n",
       "      <td>0.41</td>\n",
       "      <td>6.05</td>\n",
       "      <td>0.06</td>\n",
       "      <td>261036182</td>\n",
       "      <td>107,071,602.06</td>\n",
       "      <td>Subiu</td>\n",
       "      <td>Alimentos</td>\n",
       "      <td>29</td>\n",
       "      <td>Menos que 50 anos</td>\n",
       "    </tr>\n",
       "    <tr>\n",
       "      <th>23</th>\n",
       "      <td>BRFS3</td>\n",
       "      <td>BRF</td>\n",
       "      <td>13.00</td>\n",
       "      <td>14.61</td>\n",
       "      <td>1.61</td>\n",
       "      <td>12.38</td>\n",
       "      <td>0.12</td>\n",
       "      <td>1677525446</td>\n",
       "      <td>2,699,920,332.48</td>\n",
       "      <td>Subiu</td>\n",
       "      <td>Alimentos</td>\n",
       "      <td>85</td>\n",
       "      <td>Entre 50 e 100</td>\n",
       "    </tr>\n",
       "    <tr>\n",
       "      <th>24</th>\n",
       "      <td>VIVT3</td>\n",
       "      <td>Vivo</td>\n",
       "      <td>50.65</td>\n",
       "      <td>51.20</td>\n",
       "      <td>0.55</td>\n",
       "      <td>1.09</td>\n",
       "      <td>0.01</td>\n",
       "      <td>423091712</td>\n",
       "      <td>233,573,076.10</td>\n",
       "      <td>Subiu</td>\n",
       "      <td>Telecomunicações</td>\n",
       "      <td>23</td>\n",
       "      <td>Menos que 50 anos</td>\n",
       "    </tr>\n",
       "    <tr>\n",
       "      <th>25</th>\n",
       "      <td>RAIL3</td>\n",
       "      <td>Rumo</td>\n",
       "      <td>22.40</td>\n",
       "      <td>22.64</td>\n",
       "      <td>0.24</td>\n",
       "      <td>1.07</td>\n",
       "      <td>0.01</td>\n",
       "      <td>1218352541</td>\n",
       "      <td>292,018,864.50</td>\n",
       "      <td>Subiu</td>\n",
       "      <td>Logística</td>\n",
       "      <td>13</td>\n",
       "      <td>Menos que 50 anos</td>\n",
       "    </tr>\n",
       "    <tr>\n",
       "      <th>26</th>\n",
       "      <td>CIEL3</td>\n",
       "      <td>Cielo</td>\n",
       "      <td>4.48</td>\n",
       "      <td>4.90</td>\n",
       "      <td>0.42</td>\n",
       "      <td>9.38</td>\n",
       "      <td>0.09</td>\n",
       "      <td>1095462329</td>\n",
       "      <td>460,318,518.61</td>\n",
       "      <td>Subiu</td>\n",
       "      <td>Serviços Financeiros</td>\n",
       "      <td>23</td>\n",
       "      <td>Menos que 50 anos</td>\n",
       "    </tr>\n",
       "    <tr>\n",
       "      <th>27</th>\n",
       "      <td>DXCO3</td>\n",
       "      <td>Dexco</td>\n",
       "      <td>7.57</td>\n",
       "      <td>7.81</td>\n",
       "      <td>0.24</td>\n",
       "      <td>3.17</td>\n",
       "      <td>0.03</td>\n",
       "      <td>302768240</td>\n",
       "      <td>72,655,280.17</td>\n",
       "      <td>Subiu</td>\n",
       "      <td>Comércio</td>\n",
       "      <td>72</td>\n",
       "      <td>Entre 50 e 100</td>\n",
       "    </tr>\n",
       "    <tr>\n",
       "      <th>29</th>\n",
       "      <td>BRAP4</td>\n",
       "      <td>Bradespar</td>\n",
       "      <td>22.78</td>\n",
       "      <td>23.22</td>\n",
       "      <td>0.44</td>\n",
       "      <td>1.93</td>\n",
       "      <td>0.02</td>\n",
       "      <td>251003438</td>\n",
       "      <td>110,356,309.94</td>\n",
       "      <td>Subiu</td>\n",
       "      <td>Investimentos</td>\n",
       "      <td>63</td>\n",
       "      <td>Entre 50 e 100</td>\n",
       "    </tr>\n",
       "    <tr>\n",
       "      <th>31</th>\n",
       "      <td>RECV3</td>\n",
       "      <td>PetroRecôncavo</td>\n",
       "      <td>23.48</td>\n",
       "      <td>23.83</td>\n",
       "      <td>0.35</td>\n",
       "      <td>1.49</td>\n",
       "      <td>0.01</td>\n",
       "      <td>275005663</td>\n",
       "      <td>96,211,878.75</td>\n",
       "      <td>Subiu</td>\n",
       "      <td>Petróleo e Gás</td>\n",
       "      <td>9</td>\n",
       "      <td>Menos que 50 anos</td>\n",
       "    </tr>\n",
       "    <tr>\n",
       "      <th>33</th>\n",
       "      <td>BBAS3</td>\n",
       "      <td>Banco do Brasil</td>\n",
       "      <td>55.92</td>\n",
       "      <td>56.97</td>\n",
       "      <td>1.05</td>\n",
       "      <td>1.88</td>\n",
       "      <td>0.02</td>\n",
       "      <td>1420949112</td>\n",
       "      <td>1,493,804,135.37</td>\n",
       "      <td>Subiu</td>\n",
       "      <td>Bancos</td>\n",
       "      <td>214</td>\n",
       "      <td>Mais que 100</td>\n",
       "    </tr>\n",
       "    <tr>\n",
       "      <th>35</th>\n",
       "      <td>GOAU4</td>\n",
       "      <td>Metalúrgica Gerdau</td>\n",
       "      <td>9.76</td>\n",
       "      <td>10.08</td>\n",
       "      <td>0.32</td>\n",
       "      <td>3.28</td>\n",
       "      <td>0.03</td>\n",
       "      <td>660411219</td>\n",
       "      <td>211,413,438.10</td>\n",
       "      <td>Subiu</td>\n",
       "      <td>Siderurgia</td>\n",
       "      <td>120</td>\n",
       "      <td>Mais que 100</td>\n",
       "    </tr>\n",
       "    <tr>\n",
       "      <th>36</th>\n",
       "      <td>CSAN3</td>\n",
       "      <td>Cosan</td>\n",
       "      <td>18.09</td>\n",
       "      <td>18.57</td>\n",
       "      <td>0.48</td>\n",
       "      <td>2.65</td>\n",
       "      <td>0.03</td>\n",
       "      <td>1168097881</td>\n",
       "      <td>559,987,148.30</td>\n",
       "      <td>Subiu</td>\n",
       "      <td>Energia</td>\n",
       "      <td>14</td>\n",
       "      <td>Menos que 50 anos</td>\n",
       "    </tr>\n",
       "    <tr>\n",
       "      <th>37</th>\n",
       "      <td>JBSS3</td>\n",
       "      <td>JBS</td>\n",
       "      <td>23.75</td>\n",
       "      <td>24.34</td>\n",
       "      <td>0.59</td>\n",
       "      <td>2.48</td>\n",
       "      <td>0.02</td>\n",
       "      <td>1134986472</td>\n",
       "      <td>668,534,498.50</td>\n",
       "      <td>Subiu</td>\n",
       "      <td>Alimentos</td>\n",
       "      <td>68</td>\n",
       "      <td>Entre 50 e 100</td>\n",
       "    </tr>\n",
       "    <tr>\n",
       "      <th>38</th>\n",
       "      <td>MGLU3</td>\n",
       "      <td>Magazine Luiza</td>\n",
       "      <td>2.03</td>\n",
       "      <td>2.08</td>\n",
       "      <td>0.05</td>\n",
       "      <td>2.46</td>\n",
       "      <td>0.02</td>\n",
       "      <td>2867627068</td>\n",
       "      <td>143,207,829.22</td>\n",
       "      <td>Subiu</td>\n",
       "      <td>Varejo</td>\n",
       "      <td>64</td>\n",
       "      <td>Entre 50 e 100</td>\n",
       "    </tr>\n",
       "    <tr>\n",
       "      <th>40</th>\n",
       "      <td>GGBR4</td>\n",
       "      <td>Gerdau</td>\n",
       "      <td>21.07</td>\n",
       "      <td>21.84</td>\n",
       "      <td>0.77</td>\n",
       "      <td>3.65</td>\n",
       "      <td>0.04</td>\n",
       "      <td>1118525506</td>\n",
       "      <td>860,244,855.15</td>\n",
       "      <td>Subiu</td>\n",
       "      <td>Siderurgia</td>\n",
       "      <td>122</td>\n",
       "      <td>Mais que 100</td>\n",
       "    </tr>\n",
       "    <tr>\n",
       "      <th>42</th>\n",
       "      <td>CPLE3</td>\n",
       "      <td>Copel</td>\n",
       "      <td>9.98</td>\n",
       "      <td>10.07</td>\n",
       "      <td>0.09</td>\n",
       "      <td>0.90</td>\n",
       "      <td>0.01</td>\n",
       "      <td>2982810591</td>\n",
       "      <td>267,920,836.34</td>\n",
       "      <td>Subiu</td>\n",
       "      <td>Energia</td>\n",
       "      <td>67</td>\n",
       "      <td>Entre 50 e 100</td>\n",
       "    </tr>\n",
       "    <tr>\n",
       "      <th>43</th>\n",
       "      <td>CPLE3</td>\n",
       "      <td>Copel</td>\n",
       "      <td>9.98</td>\n",
       "      <td>10.07</td>\n",
       "      <td>0.09</td>\n",
       "      <td>0.90</td>\n",
       "      <td>0.01</td>\n",
       "      <td>2982810591</td>\n",
       "      <td>267,920,836.34</td>\n",
       "      <td>Subiu</td>\n",
       "      <td>Energia</td>\n",
       "      <td>67</td>\n",
       "      <td>Entre 50 e 100</td>\n",
       "    </tr>\n",
       "    <tr>\n",
       "      <th>45</th>\n",
       "      <td>MRFG3</td>\n",
       "      <td>Marfrig</td>\n",
       "      <td>9.25</td>\n",
       "      <td>9.74</td>\n",
       "      <td>0.49</td>\n",
       "      <td>5.30</td>\n",
       "      <td>0.05</td>\n",
       "      <td>331799687</td>\n",
       "      <td>162,660,621.48</td>\n",
       "      <td>Subiu</td>\n",
       "      <td>Alimentos</td>\n",
       "      <td>12</td>\n",
       "      <td>Menos que 50 anos</td>\n",
       "    </tr>\n",
       "    <tr>\n",
       "      <th>48</th>\n",
       "      <td>SBSP3</td>\n",
       "      <td>Sabesp</td>\n",
       "      <td>76.00</td>\n",
       "      <td>77.04</td>\n",
       "      <td>1.04</td>\n",
       "      <td>1.37</td>\n",
       "      <td>0.01</td>\n",
       "      <td>340001799</td>\n",
       "      <td>354,004,359.03</td>\n",
       "      <td>Subiu</td>\n",
       "      <td>Saneamento</td>\n",
       "      <td>48</td>\n",
       "      <td>Menos que 50 anos</td>\n",
       "    </tr>\n",
       "    <tr>\n",
       "      <th>50</th>\n",
       "      <td>CMIG4</td>\n",
       "      <td>CEMIG</td>\n",
       "      <td>11.53</td>\n",
       "      <td>11.64</td>\n",
       "      <td>0.11</td>\n",
       "      <td>0.95</td>\n",
       "      <td>0.01</td>\n",
       "      <td>1437415777</td>\n",
       "      <td>157,453,627.16</td>\n",
       "      <td>Subiu</td>\n",
       "      <td>Energia</td>\n",
       "      <td>70</td>\n",
       "      <td>Entre 50 e 100</td>\n",
       "    </tr>\n",
       "    <tr>\n",
       "      <th>53</th>\n",
       "      <td>ENEV3</td>\n",
       "      <td>Eneva</td>\n",
       "      <td>12.69</td>\n",
       "      <td>12.87</td>\n",
       "      <td>0.18</td>\n",
       "      <td>1.42</td>\n",
       "      <td>0.01</td>\n",
       "      <td>1579130168</td>\n",
       "      <td>284,551,720.29</td>\n",
       "      <td>Subiu</td>\n",
       "      <td>Energia</td>\n",
       "      <td>20</td>\n",
       "      <td>Menos que 50 anos</td>\n",
       "    </tr>\n",
       "    <tr>\n",
       "      <th>55</th>\n",
       "      <td>SLCE3</td>\n",
       "      <td>SLC Agrícola</td>\n",
       "      <td>18.92</td>\n",
       "      <td>19.30</td>\n",
       "      <td>0.38</td>\n",
       "      <td>2.01</td>\n",
       "      <td>0.02</td>\n",
       "      <td>195751130</td>\n",
       "      <td>74,441,462.47</td>\n",
       "      <td>Subiu</td>\n",
       "      <td>Agronegócio</td>\n",
       "      <td>44</td>\n",
       "      <td>Menos que 50 anos</td>\n",
       "    </tr>\n",
       "    <tr>\n",
       "      <th>56</th>\n",
       "      <td>ALOS3</td>\n",
       "      <td>ALOS3</td>\n",
       "      <td>24.49</td>\n",
       "      <td>24.62</td>\n",
       "      <td>0.13</td>\n",
       "      <td>0.53</td>\n",
       "      <td>0.01</td>\n",
       "      <td>532616595</td>\n",
       "      <td>69,132,606.20</td>\n",
       "      <td>Subiu</td>\n",
       "      <td>Calçados</td>\n",
       "      <td>113</td>\n",
       "      <td>Mais que 100</td>\n",
       "    </tr>\n",
       "    <tr>\n",
       "      <th>60</th>\n",
       "      <td>EGIE3</td>\n",
       "      <td>Engie</td>\n",
       "      <td>40.81</td>\n",
       "      <td>41.04</td>\n",
       "      <td>0.23</td>\n",
       "      <td>0.56</td>\n",
       "      <td>0.01</td>\n",
       "      <td>255236961</td>\n",
       "      <td>58,332,915.00</td>\n",
       "      <td>Subiu</td>\n",
       "      <td>Energia</td>\n",
       "      <td>28</td>\n",
       "      <td>Menos que 50 anos</td>\n",
       "    </tr>\n",
       "    <tr>\n",
       "      <th>61</th>\n",
       "      <td>VBBR3</td>\n",
       "      <td>Vibra Energia</td>\n",
       "      <td>22.68</td>\n",
       "      <td>23.23</td>\n",
       "      <td>0.55</td>\n",
       "      <td>2.43</td>\n",
       "      <td>0.02</td>\n",
       "      <td>1114412532</td>\n",
       "      <td>614,149,776.21</td>\n",
       "      <td>Subiu</td>\n",
       "      <td>Energia</td>\n",
       "      <td>11</td>\n",
       "      <td>Menos que 50 anos</td>\n",
       "    </tr>\n",
       "    <tr>\n",
       "      <th>62</th>\n",
       "      <td>IRBR3</td>\n",
       "      <td>IRB Brasil RE</td>\n",
       "      <td>38.55</td>\n",
       "      <td>40.65</td>\n",
       "      <td>2.10</td>\n",
       "      <td>5.45</td>\n",
       "      <td>0.05</td>\n",
       "      <td>81838843</td>\n",
       "      <td>171,937,239.22</td>\n",
       "      <td>Subiu</td>\n",
       "      <td>Seguros</td>\n",
       "      <td>84</td>\n",
       "      <td>Entre 50 e 100</td>\n",
       "    </tr>\n",
       "    <tr>\n",
       "      <th>67</th>\n",
       "      <td>FLRY3</td>\n",
       "      <td>Fleury</td>\n",
       "      <td>16.32</td>\n",
       "      <td>16.49</td>\n",
       "      <td>0.17</td>\n",
       "      <td>1.04</td>\n",
       "      <td>0.01</td>\n",
       "      <td>240822651</td>\n",
       "      <td>40,875,021.14</td>\n",
       "      <td>Subiu</td>\n",
       "      <td>Saúde</td>\n",
       "      <td>94</td>\n",
       "      <td>Entre 50 e 100</td>\n",
       "    </tr>\n",
       "    <tr>\n",
       "      <th>69</th>\n",
       "      <td>ALPA4</td>\n",
       "      <td>Alpargatas4</td>\n",
       "      <td>8.33</td>\n",
       "      <td>8.67</td>\n",
       "      <td>0.34</td>\n",
       "      <td>4.08</td>\n",
       "      <td>0.04</td>\n",
       "      <td>176733968</td>\n",
       "      <td>60,066,455.52</td>\n",
       "      <td>Subiu</td>\n",
       "      <td>Calçados</td>\n",
       "      <td>113</td>\n",
       "      <td>Mais que 100</td>\n",
       "    </tr>\n",
       "    <tr>\n",
       "      <th>70</th>\n",
       "      <td>CYRE3</td>\n",
       "      <td>Cyrela</td>\n",
       "      <td>22.31</td>\n",
       "      <td>22.84</td>\n",
       "      <td>0.53</td>\n",
       "      <td>2.38</td>\n",
       "      <td>0.02</td>\n",
       "      <td>265784616</td>\n",
       "      <td>141,119,741.14</td>\n",
       "      <td>Subiu</td>\n",
       "      <td>Construção Civil</td>\n",
       "      <td>59</td>\n",
       "      <td>Entre 50 e 100</td>\n",
       "    </tr>\n",
       "    <tr>\n",
       "      <th>71</th>\n",
       "      <td>EMBR3</td>\n",
       "      <td>Embraer</td>\n",
       "      <td>21.33</td>\n",
       "      <td>22.40</td>\n",
       "      <td>1.07</td>\n",
       "      <td>5.02</td>\n",
       "      <td>0.05</td>\n",
       "      <td>734632705</td>\n",
       "      <td>786,592,824.34</td>\n",
       "      <td>Subiu</td>\n",
       "      <td>Aeroespacial</td>\n",
       "      <td>53</td>\n",
       "      <td>Entre 50 e 100</td>\n",
       "    </tr>\n",
       "    <tr>\n",
       "      <th>76</th>\n",
       "      <td>SMTO3</td>\n",
       "      <td>São Martinho</td>\n",
       "      <td>28.10</td>\n",
       "      <td>28.20</td>\n",
       "      <td>0.10</td>\n",
       "      <td>0.36</td>\n",
       "      <td>0.00</td>\n",
       "      <td>142377330</td>\n",
       "      <td>14,402,298.27</td>\n",
       "      <td>Subiu</td>\n",
       "      <td>Açúcar e Álcool</td>\n",
       "      <td>81</td>\n",
       "      <td>Entre 50 e 100</td>\n",
       "    </tr>\n",
       "  </tbody>\n",
       "</table>\n",
       "</div>"
      ],
      "text/plain": [
       "   ticker                  nome  valor_inicial  valor_final  var_reais  \\\n",
       "0   USIM5              Usiminas           8.50         9.50       1.00   \n",
       "1   CMIN3         CSN Mineração           6.66         6.82       0.16   \n",
       "2   PETR3           Petrobras 3          38.95        41.96       3.01   \n",
       "3   SUZB3                Suzano          51.80        52.91       1.11   \n",
       "4   CPFE3          CPFL Energia          36.20        37.10       0.90   \n",
       "5   PRIO3              PetroRio          44.61        45.69       1.08   \n",
       "6   PETR4            Petrobras4          37.53        39.96       2.43   \n",
       "7   VALE3                  Vale          68.10        69.50       1.40   \n",
       "8   MULT3             Multiplan          27.63        28.19       0.56   \n",
       "10  RDOR3             Rede D'Or          26.65        27.56       0.91   \n",
       "11  BRKM5               Braskem          17.65        18.55       0.90   \n",
       "12  AZUL4                  Azul          13.11        14.27       1.16   \n",
       "14  EQTL3    Equatorial Energia          34.37        35.32       0.95   \n",
       "15  CSNA3  Siderúrgica Nacional          17.33        18.16       0.83   \n",
       "17  UGPA3              Ultrapar          27.66        28.31       0.65   \n",
       "18  MRVE3                   MRV           7.97         8.08       0.11   \n",
       "21  BEEF3               Minerva           6.78         7.19       0.41   \n",
       "23  BRFS3                   BRF          13.00        14.61       1.61   \n",
       "24  VIVT3                  Vivo          50.65        51.20       0.55   \n",
       "25  RAIL3                  Rumo          22.40        22.64       0.24   \n",
       "26  CIEL3                 Cielo           4.48         4.90       0.42   \n",
       "27  DXCO3                 Dexco           7.57         7.81       0.24   \n",
       "29  BRAP4             Bradespar          22.78        23.22       0.44   \n",
       "31  RECV3        PetroRecôncavo          23.48        23.83       0.35   \n",
       "33  BBAS3       Banco do Brasil          55.92        56.97       1.05   \n",
       "35  GOAU4    Metalúrgica Gerdau           9.76        10.08       0.32   \n",
       "36  CSAN3                 Cosan          18.09        18.57       0.48   \n",
       "37  JBSS3                   JBS          23.75        24.34       0.59   \n",
       "38  MGLU3        Magazine Luiza           2.03         2.08       0.05   \n",
       "40  GGBR4                Gerdau          21.07        21.84       0.77   \n",
       "42  CPLE3                 Copel           9.98        10.07       0.09   \n",
       "43  CPLE3                 Copel           9.98        10.07       0.09   \n",
       "45  MRFG3               Marfrig           9.25         9.74       0.49   \n",
       "48  SBSP3                Sabesp          76.00        77.04       1.04   \n",
       "50  CMIG4                 CEMIG          11.53        11.64       0.11   \n",
       "53  ENEV3                 Eneva          12.69        12.87       0.18   \n",
       "55  SLCE3          SLC Agrícola          18.92        19.30       0.38   \n",
       "56  ALOS3                 ALOS3          24.49        24.62       0.13   \n",
       "60  EGIE3                 Engie          40.81        41.04       0.23   \n",
       "61  VBBR3         Vibra Energia          22.68        23.23       0.55   \n",
       "62  IRBR3         IRB Brasil RE          38.55        40.65       2.10   \n",
       "67  FLRY3                Fleury          16.32        16.49       0.17   \n",
       "69  ALPA4           Alpargatas4           8.33         8.67       0.34   \n",
       "70  CYRE3                Cyrela          22.31        22.84       0.53   \n",
       "71  EMBR3               Embraer          21.33        22.40       1.07   \n",
       "76  SMTO3          São Martinho          28.10        28.20       0.10   \n",
       "\n",
       "    var_semanal_pct  var_pct  qtd_teorica   var_reais_total resultado  \\\n",
       "0             11.76     0.12    515117391    514,933,025.43     Subiu   \n",
       "1              2.40     0.02   1110559345    177,515,970.30     Subiu   \n",
       "2              7.73     0.08   2379877655  7,165,276,351.08     Subiu   \n",
       "3              2.14     0.02    683452836    757,642,330.56     Subiu   \n",
       "4              2.49     0.02    187732538    169,212,060.96     Subiu   \n",
       "5              2.42     0.02    800010734    863,669,467.45     Subiu   \n",
       "6              6.47     0.06   4566445852 11,088,704,708.47     Subiu   \n",
       "7              2.06     0.02   4196924316  5,887,454,970.82     Subiu   \n",
       "8              2.03     0.02    268505432    150,596,994.02     Subiu   \n",
       "10             3.41     0.03   1168230366  1,061,694,444.49     Subiu   \n",
       "11             5.10     0.05    265877867    239,328,026.71     Subiu   \n",
       "12             8.85     0.09    327593725    380,079,446.33     Subiu   \n",
       "14             2.76     0.03   1095587251  1,039,328,056.70     Subiu   \n",
       "15             4.79     0.05    600865451    498,779,678.09     Subiu   \n",
       "17             2.35     0.02   1086411192    706,177,889.47     Subiu   \n",
       "18             1.38     0.01    376187582     41,375,439.08     Subiu   \n",
       "21             6.05     0.06    261036182    107,071,602.06     Subiu   \n",
       "23            12.38     0.12   1677525446  2,699,920,332.48     Subiu   \n",
       "24             1.09     0.01    423091712    233,573,076.10     Subiu   \n",
       "25             1.07     0.01   1218352541    292,018,864.50     Subiu   \n",
       "26             9.38     0.09   1095462329    460,318,518.61     Subiu   \n",
       "27             3.17     0.03    302768240     72,655,280.17     Subiu   \n",
       "29             1.93     0.02    251003438    110,356,309.94     Subiu   \n",
       "31             1.49     0.01    275005663     96,211,878.75     Subiu   \n",
       "33             1.88     0.02   1420949112  1,493,804,135.37     Subiu   \n",
       "35             3.28     0.03    660411219    211,413,438.10     Subiu   \n",
       "36             2.65     0.03   1168097881    559,987,148.30     Subiu   \n",
       "37             2.48     0.02   1134986472    668,534,498.50     Subiu   \n",
       "38             2.46     0.02   2867627068    143,207,829.22     Subiu   \n",
       "40             3.65     0.04   1118525506    860,244,855.15     Subiu   \n",
       "42             0.90     0.01   2982810591    267,920,836.34     Subiu   \n",
       "43             0.90     0.01   2982810591    267,920,836.34     Subiu   \n",
       "45             5.30     0.05    331799687    162,660,621.48     Subiu   \n",
       "48             1.37     0.01    340001799    354,004,359.03     Subiu   \n",
       "50             0.95     0.01   1437415777    157,453,627.16     Subiu   \n",
       "53             1.42     0.01   1579130168    284,551,720.29     Subiu   \n",
       "55             2.01     0.02    195751130     74,441,462.47     Subiu   \n",
       "56             0.53     0.01    532616595     69,132,606.20     Subiu   \n",
       "60             0.56     0.01    255236961     58,332,915.00     Subiu   \n",
       "61             2.43     0.02   1114412532    614,149,776.21     Subiu   \n",
       "62             5.45     0.05     81838843    171,937,239.22     Subiu   \n",
       "67             1.04     0.01    240822651     40,875,021.14     Subiu   \n",
       "69             4.08     0.04    176733968     60,066,455.52     Subiu   \n",
       "70             2.38     0.02    265784616    141,119,741.14     Subiu   \n",
       "71             5.02     0.05    734632705    786,592,824.34     Subiu   \n",
       "76             0.36     0.00    142377330     14,402,298.27     Subiu   \n",
       "\n",
       "                segmento  idade          cat_idade  \n",
       "0             Siderurgia     59     Entre 50 e 100  \n",
       "1              Mineração     81     Entre 50 e 100  \n",
       "2         Petróleo e Gás     68     Entre 50 e 100  \n",
       "3       Papel e Celulose     97     Entre 50 e 100  \n",
       "4                Energia    109       Mais que 100  \n",
       "5         Petróleo e Gás      8  Menos que 50 anos  \n",
       "6         Petróleo e Gás     68     Entre 50 e 100  \n",
       "7              Mineração     79     Entre 50 e 100  \n",
       "8       Shopping Centers     50     Entre 50 e 100  \n",
       "10                 Saúde     50     Entre 50 e 100  \n",
       "11          Petroquímica     19  Menos que 50 anos  \n",
       "12      Transporte Aéreo     13  Menos que 50 anos  \n",
       "14               Energia     24  Menos que 50 anos  \n",
       "15            Siderurgia     78     Entre 50 e 100  \n",
       "17          Conglomerado     84     Entre 50 e 100  \n",
       "18      Construção Civil     42  Menos que 50 anos  \n",
       "21             Alimentos     29  Menos que 50 anos  \n",
       "23             Alimentos     85     Entre 50 e 100  \n",
       "24      Telecomunicações     23  Menos que 50 anos  \n",
       "25             Logística     13  Menos que 50 anos  \n",
       "26  Serviços Financeiros     23  Menos que 50 anos  \n",
       "27              Comércio     72     Entre 50 e 100  \n",
       "29         Investimentos     63     Entre 50 e 100  \n",
       "31        Petróleo e Gás      9  Menos que 50 anos  \n",
       "33                Bancos    214       Mais que 100  \n",
       "35            Siderurgia    120       Mais que 100  \n",
       "36               Energia     14  Menos que 50 anos  \n",
       "37             Alimentos     68     Entre 50 e 100  \n",
       "38                Varejo     64     Entre 50 e 100  \n",
       "40            Siderurgia    122       Mais que 100  \n",
       "42               Energia     67     Entre 50 e 100  \n",
       "43               Energia     67     Entre 50 e 100  \n",
       "45             Alimentos     12  Menos que 50 anos  \n",
       "48            Saneamento     48  Menos que 50 anos  \n",
       "50               Energia     70     Entre 50 e 100  \n",
       "53               Energia     20  Menos que 50 anos  \n",
       "55           Agronegócio     44  Menos que 50 anos  \n",
       "56              Calçados    113       Mais que 100  \n",
       "60               Energia     28  Menos que 50 anos  \n",
       "61               Energia     11  Menos que 50 anos  \n",
       "62               Seguros     84     Entre 50 e 100  \n",
       "67                 Saúde     94     Entre 50 e 100  \n",
       "69              Calçados    113       Mais que 100  \n",
       "70      Construção Civil     59     Entre 50 e 100  \n",
       "71          Aeroespacial     53     Entre 50 e 100  \n",
       "76       Açúcar e Álcool     81     Entre 50 e 100  "
      ]
     },
     "execution_count": 110,
     "metadata": {},
     "output_type": "execute_result"
    }
   ],
   "source": [
    "df_principal_semana_subiu = df_principal_semana[df_principal_semana['resultado'] == \"Subiu\"]\n",
    "df_principal_semana_subiu"
   ]
  },
  {
   "cell_type": "code",
   "execution_count": null,
   "metadata": {},
   "outputs": [
    {
     "data": {
      "text/html": [
       "<div>\n",
       "<style scoped>\n",
       "    .dataframe tbody tr th:only-of-type {\n",
       "        vertical-align: middle;\n",
       "    }\n",
       "\n",
       "    .dataframe tbody tr th {\n",
       "        vertical-align: top;\n",
       "    }\n",
       "\n",
       "    .dataframe thead th {\n",
       "        text-align: right;\n",
       "    }\n",
       "</style>\n",
       "<table border=\"1\" class=\"dataframe\">\n",
       "  <thead>\n",
       "    <tr style=\"text-align: right;\">\n",
       "      <th></th>\n",
       "      <th>segmento</th>\n",
       "      <th>var_reais_total</th>\n",
       "    </tr>\n",
       "  </thead>\n",
       "  <tbody>\n",
       "    <tr>\n",
       "      <th>0</th>\n",
       "      <td>Aeroespacial</td>\n",
       "      <td>786,592,824.34</td>\n",
       "    </tr>\n",
       "    <tr>\n",
       "      <th>1</th>\n",
       "      <td>Agronegócio</td>\n",
       "      <td>74,441,462.47</td>\n",
       "    </tr>\n",
       "    <tr>\n",
       "      <th>2</th>\n",
       "      <td>Alimentos</td>\n",
       "      <td>3,638,187,054.53</td>\n",
       "    </tr>\n",
       "    <tr>\n",
       "      <th>3</th>\n",
       "      <td>Açúcar e Álcool</td>\n",
       "      <td>14,402,298.27</td>\n",
       "    </tr>\n",
       "    <tr>\n",
       "      <th>4</th>\n",
       "      <td>Bancos</td>\n",
       "      <td>1,493,804,135.37</td>\n",
       "    </tr>\n",
       "    <tr>\n",
       "      <th>5</th>\n",
       "      <td>Calçados</td>\n",
       "      <td>129,199,061.72</td>\n",
       "    </tr>\n",
       "    <tr>\n",
       "      <th>6</th>\n",
       "      <td>Comércio</td>\n",
       "      <td>72,655,280.17</td>\n",
       "    </tr>\n",
       "    <tr>\n",
       "      <th>7</th>\n",
       "      <td>Conglomerado</td>\n",
       "      <td>706,177,889.47</td>\n",
       "    </tr>\n",
       "    <tr>\n",
       "      <th>8</th>\n",
       "      <td>Construção Civil</td>\n",
       "      <td>182,495,180.23</td>\n",
       "    </tr>\n",
       "    <tr>\n",
       "      <th>9</th>\n",
       "      <td>Energia</td>\n",
       "      <td>3,418,856,977.31</td>\n",
       "    </tr>\n",
       "    <tr>\n",
       "      <th>10</th>\n",
       "      <td>Investimentos</td>\n",
       "      <td>110,356,309.94</td>\n",
       "    </tr>\n",
       "    <tr>\n",
       "      <th>11</th>\n",
       "      <td>Logística</td>\n",
       "      <td>292,018,864.50</td>\n",
       "    </tr>\n",
       "    <tr>\n",
       "      <th>12</th>\n",
       "      <td>Mineração</td>\n",
       "      <td>6,064,970,941.12</td>\n",
       "    </tr>\n",
       "    <tr>\n",
       "      <th>13</th>\n",
       "      <td>Papel e Celulose</td>\n",
       "      <td>757,642,330.56</td>\n",
       "    </tr>\n",
       "    <tr>\n",
       "      <th>14</th>\n",
       "      <td>Petroquímica</td>\n",
       "      <td>239,328,026.71</td>\n",
       "    </tr>\n",
       "    <tr>\n",
       "      <th>15</th>\n",
       "      <td>Petróleo e Gás</td>\n",
       "      <td>19,213,862,405.75</td>\n",
       "    </tr>\n",
       "    <tr>\n",
       "      <th>16</th>\n",
       "      <td>Saneamento</td>\n",
       "      <td>354,004,359.03</td>\n",
       "    </tr>\n",
       "    <tr>\n",
       "      <th>17</th>\n",
       "      <td>Saúde</td>\n",
       "      <td>1,102,569,465.62</td>\n",
       "    </tr>\n",
       "    <tr>\n",
       "      <th>18</th>\n",
       "      <td>Seguros</td>\n",
       "      <td>171,937,239.22</td>\n",
       "    </tr>\n",
       "    <tr>\n",
       "      <th>19</th>\n",
       "      <td>Serviços Financeiros</td>\n",
       "      <td>460,318,518.61</td>\n",
       "    </tr>\n",
       "    <tr>\n",
       "      <th>20</th>\n",
       "      <td>Shopping Centers</td>\n",
       "      <td>150,596,994.02</td>\n",
       "    </tr>\n",
       "    <tr>\n",
       "      <th>21</th>\n",
       "      <td>Siderurgia</td>\n",
       "      <td>2,085,370,996.77</td>\n",
       "    </tr>\n",
       "    <tr>\n",
       "      <th>22</th>\n",
       "      <td>Telecomunicações</td>\n",
       "      <td>233,573,076.10</td>\n",
       "    </tr>\n",
       "    <tr>\n",
       "      <th>23</th>\n",
       "      <td>Transporte Aéreo</td>\n",
       "      <td>380,079,446.33</td>\n",
       "    </tr>\n",
       "    <tr>\n",
       "      <th>24</th>\n",
       "      <td>Varejo</td>\n",
       "      <td>143,207,829.22</td>\n",
       "    </tr>\n",
       "  </tbody>\n",
       "</table>\n",
       "</div>"
      ],
      "text/plain": [
       "                segmento   var_reais_total\n",
       "0           Aeroespacial    786,592,824.34\n",
       "1            Agronegócio     74,441,462.47\n",
       "2              Alimentos  3,638,187,054.53\n",
       "3        Açúcar e Álcool     14,402,298.27\n",
       "4                 Bancos  1,493,804,135.37\n",
       "5               Calçados    129,199,061.72\n",
       "6               Comércio     72,655,280.17\n",
       "7           Conglomerado    706,177,889.47\n",
       "8       Construção Civil    182,495,180.23\n",
       "9                Energia  3,418,856,977.31\n",
       "10         Investimentos    110,356,309.94\n",
       "11             Logística    292,018,864.50\n",
       "12             Mineração  6,064,970,941.12\n",
       "13      Papel e Celulose    757,642,330.56\n",
       "14          Petroquímica    239,328,026.71\n",
       "15        Petróleo e Gás 19,213,862,405.75\n",
       "16            Saneamento    354,004,359.03\n",
       "17                 Saúde  1,102,569,465.62\n",
       "18               Seguros    171,937,239.22\n",
       "19  Serviços Financeiros    460,318,518.61\n",
       "20      Shopping Centers    150,596,994.02\n",
       "21            Siderurgia  2,085,370,996.77\n",
       "22      Telecomunicações    233,573,076.10\n",
       "23      Transporte Aéreo    380,079,446.33\n",
       "24                Varejo    143,207,829.22"
      ]
     },
     "execution_count": 111,
     "metadata": {},
     "output_type": "execute_result"
    }
   ],
   "source": [
    "df_analise_segmento_semana = df_principal_semana_subiu.groupby('segmento')[\"var_reais_total\"].sum().reset_index()\n",
    "df_analise_segmento_semana"
   ]
  },
  {
   "cell_type": "code",
   "execution_count": 168,
   "metadata": {},
   "outputs": [
    {
     "data": {
      "application/vnd.plotly.v1+json": {
       "config": {
        "plotlyServerURL": "https://plot.ly"
       },
       "data": [
        {
         "customdata": [
          [
           "Aeroespacial"
          ],
          [
           "Agronegócio"
          ],
          [
           "Alimentos"
          ],
          [
           "Açúcar e Álcool"
          ],
          [
           "Bancos"
          ],
          [
           "Calçados"
          ],
          [
           "Comércio"
          ],
          [
           "Conglomerado"
          ],
          [
           "Construção Civil"
          ],
          [
           "Energia"
          ],
          [
           "Investimentos"
          ],
          [
           "Logística"
          ],
          [
           "Mineração"
          ],
          [
           "Papel e Celulose"
          ],
          [
           "Petroquímica"
          ],
          [
           "Petróleo e Gás"
          ],
          [
           "Saneamento"
          ],
          [
           "Saúde"
          ],
          [
           "Seguros"
          ],
          [
           "Serviços Financeiros"
          ],
          [
           "Shopping Centers"
          ],
          [
           "Siderurgia"
          ],
          [
           "Telecomunicações"
          ],
          [
           "Transporte Aéreo"
          ],
          [
           "Varejo"
          ]
         ],
         "domain": {
          "x": [
           0,
           1
          ],
          "y": [
           0,
           1
          ]
         },
         "hovertemplate": "segmento=%{customdata[0]}<br>var_reais_total=%{value}<extra></extra>",
         "labels": [
          "Aeroespacial",
          "Agronegócio",
          "Alimentos",
          "Açúcar e Álcool",
          "Bancos",
          "Calçados",
          "Comércio",
          "Conglomerado",
          "Construção Civil",
          "Energia",
          "Investimentos",
          "Logística",
          "Mineração",
          "Papel e Celulose",
          "Petroquímica",
          "Petróleo e Gás",
          "Saneamento",
          "Saúde",
          "Seguros",
          "Serviços Financeiros",
          "Shopping Centers",
          "Siderurgia",
          "Telecomunicações",
          "Transporte Aéreo",
          "Varejo"
         ],
         "legendgroup": "",
         "name": "",
         "showlegend": true,
         "textposition": "inside",
         "type": "pie",
         "values": [
          786592824.3366992,
          74441462.4653467,
          3638187054.5295954,
          14402298.267836107,
          1493804135.3749816,
          129199061.72156179,
          72655280.17299604,
          706177889.4672407,
          182495180.22547328,
          3418856977.3052435,
          110356309.94402866,
          292018864.50199336,
          6064970941.120669,
          757642330.5551882,
          239328026.71298718,
          19213862405.74948,
          354004359.0322106,
          1102569465.6243668,
          171937239.21600303,
          460318518.609417,
          150596994.02138925,
          2085370996.7733135,
          233573076.10342932,
          380079446.33337176,
          143207829.21669352
         ]
        }
       ],
       "layout": {
        "legend": {
         "tracegroupgap": 0
        },
        "template": {
         "data": {
          "bar": [
           {
            "error_x": {
             "color": "#2a3f5f"
            },
            "error_y": {
             "color": "#2a3f5f"
            },
            "marker": {
             "line": {
              "color": "#E5ECF6",
              "width": 0.5
             },
             "pattern": {
              "fillmode": "overlay",
              "size": 10,
              "solidity": 0.2
             }
            },
            "type": "bar"
           }
          ],
          "barpolar": [
           {
            "marker": {
             "line": {
              "color": "#E5ECF6",
              "width": 0.5
             },
             "pattern": {
              "fillmode": "overlay",
              "size": 10,
              "solidity": 0.2
             }
            },
            "type": "barpolar"
           }
          ],
          "carpet": [
           {
            "aaxis": {
             "endlinecolor": "#2a3f5f",
             "gridcolor": "white",
             "linecolor": "white",
             "minorgridcolor": "white",
             "startlinecolor": "#2a3f5f"
            },
            "baxis": {
             "endlinecolor": "#2a3f5f",
             "gridcolor": "white",
             "linecolor": "white",
             "minorgridcolor": "white",
             "startlinecolor": "#2a3f5f"
            },
            "type": "carpet"
           }
          ],
          "choropleth": [
           {
            "colorbar": {
             "outlinewidth": 0,
             "ticks": ""
            },
            "type": "choropleth"
           }
          ],
          "contour": [
           {
            "colorbar": {
             "outlinewidth": 0,
             "ticks": ""
            },
            "colorscale": [
             [
              0,
              "#0d0887"
             ],
             [
              0.1111111111111111,
              "#46039f"
             ],
             [
              0.2222222222222222,
              "#7201a8"
             ],
             [
              0.3333333333333333,
              "#9c179e"
             ],
             [
              0.4444444444444444,
              "#bd3786"
             ],
             [
              0.5555555555555556,
              "#d8576b"
             ],
             [
              0.6666666666666666,
              "#ed7953"
             ],
             [
              0.7777777777777778,
              "#fb9f3a"
             ],
             [
              0.8888888888888888,
              "#fdca26"
             ],
             [
              1,
              "#f0f921"
             ]
            ],
            "type": "contour"
           }
          ],
          "contourcarpet": [
           {
            "colorbar": {
             "outlinewidth": 0,
             "ticks": ""
            },
            "type": "contourcarpet"
           }
          ],
          "heatmap": [
           {
            "colorbar": {
             "outlinewidth": 0,
             "ticks": ""
            },
            "colorscale": [
             [
              0,
              "#0d0887"
             ],
             [
              0.1111111111111111,
              "#46039f"
             ],
             [
              0.2222222222222222,
              "#7201a8"
             ],
             [
              0.3333333333333333,
              "#9c179e"
             ],
             [
              0.4444444444444444,
              "#bd3786"
             ],
             [
              0.5555555555555556,
              "#d8576b"
             ],
             [
              0.6666666666666666,
              "#ed7953"
             ],
             [
              0.7777777777777778,
              "#fb9f3a"
             ],
             [
              0.8888888888888888,
              "#fdca26"
             ],
             [
              1,
              "#f0f921"
             ]
            ],
            "type": "heatmap"
           }
          ],
          "heatmapgl": [
           {
            "colorbar": {
             "outlinewidth": 0,
             "ticks": ""
            },
            "colorscale": [
             [
              0,
              "#0d0887"
             ],
             [
              0.1111111111111111,
              "#46039f"
             ],
             [
              0.2222222222222222,
              "#7201a8"
             ],
             [
              0.3333333333333333,
              "#9c179e"
             ],
             [
              0.4444444444444444,
              "#bd3786"
             ],
             [
              0.5555555555555556,
              "#d8576b"
             ],
             [
              0.6666666666666666,
              "#ed7953"
             ],
             [
              0.7777777777777778,
              "#fb9f3a"
             ],
             [
              0.8888888888888888,
              "#fdca26"
             ],
             [
              1,
              "#f0f921"
             ]
            ],
            "type": "heatmapgl"
           }
          ],
          "histogram": [
           {
            "marker": {
             "pattern": {
              "fillmode": "overlay",
              "size": 10,
              "solidity": 0.2
             }
            },
            "type": "histogram"
           }
          ],
          "histogram2d": [
           {
            "colorbar": {
             "outlinewidth": 0,
             "ticks": ""
            },
            "colorscale": [
             [
              0,
              "#0d0887"
             ],
             [
              0.1111111111111111,
              "#46039f"
             ],
             [
              0.2222222222222222,
              "#7201a8"
             ],
             [
              0.3333333333333333,
              "#9c179e"
             ],
             [
              0.4444444444444444,
              "#bd3786"
             ],
             [
              0.5555555555555556,
              "#d8576b"
             ],
             [
              0.6666666666666666,
              "#ed7953"
             ],
             [
              0.7777777777777778,
              "#fb9f3a"
             ],
             [
              0.8888888888888888,
              "#fdca26"
             ],
             [
              1,
              "#f0f921"
             ]
            ],
            "type": "histogram2d"
           }
          ],
          "histogram2dcontour": [
           {
            "colorbar": {
             "outlinewidth": 0,
             "ticks": ""
            },
            "colorscale": [
             [
              0,
              "#0d0887"
             ],
             [
              0.1111111111111111,
              "#46039f"
             ],
             [
              0.2222222222222222,
              "#7201a8"
             ],
             [
              0.3333333333333333,
              "#9c179e"
             ],
             [
              0.4444444444444444,
              "#bd3786"
             ],
             [
              0.5555555555555556,
              "#d8576b"
             ],
             [
              0.6666666666666666,
              "#ed7953"
             ],
             [
              0.7777777777777778,
              "#fb9f3a"
             ],
             [
              0.8888888888888888,
              "#fdca26"
             ],
             [
              1,
              "#f0f921"
             ]
            ],
            "type": "histogram2dcontour"
           }
          ],
          "mesh3d": [
           {
            "colorbar": {
             "outlinewidth": 0,
             "ticks": ""
            },
            "type": "mesh3d"
           }
          ],
          "parcoords": [
           {
            "line": {
             "colorbar": {
              "outlinewidth": 0,
              "ticks": ""
             }
            },
            "type": "parcoords"
           }
          ],
          "pie": [
           {
            "automargin": true,
            "type": "pie"
           }
          ],
          "scatter": [
           {
            "fillpattern": {
             "fillmode": "overlay",
             "size": 10,
             "solidity": 0.2
            },
            "type": "scatter"
           }
          ],
          "scatter3d": [
           {
            "line": {
             "colorbar": {
              "outlinewidth": 0,
              "ticks": ""
             }
            },
            "marker": {
             "colorbar": {
              "outlinewidth": 0,
              "ticks": ""
             }
            },
            "type": "scatter3d"
           }
          ],
          "scattercarpet": [
           {
            "marker": {
             "colorbar": {
              "outlinewidth": 0,
              "ticks": ""
             }
            },
            "type": "scattercarpet"
           }
          ],
          "scattergeo": [
           {
            "marker": {
             "colorbar": {
              "outlinewidth": 0,
              "ticks": ""
             }
            },
            "type": "scattergeo"
           }
          ],
          "scattergl": [
           {
            "marker": {
             "colorbar": {
              "outlinewidth": 0,
              "ticks": ""
             }
            },
            "type": "scattergl"
           }
          ],
          "scattermapbox": [
           {
            "marker": {
             "colorbar": {
              "outlinewidth": 0,
              "ticks": ""
             }
            },
            "type": "scattermapbox"
           }
          ],
          "scatterpolar": [
           {
            "marker": {
             "colorbar": {
              "outlinewidth": 0,
              "ticks": ""
             }
            },
            "type": "scatterpolar"
           }
          ],
          "scatterpolargl": [
           {
            "marker": {
             "colorbar": {
              "outlinewidth": 0,
              "ticks": ""
             }
            },
            "type": "scatterpolargl"
           }
          ],
          "scatterternary": [
           {
            "marker": {
             "colorbar": {
              "outlinewidth": 0,
              "ticks": ""
             }
            },
            "type": "scatterternary"
           }
          ],
          "surface": [
           {
            "colorbar": {
             "outlinewidth": 0,
             "ticks": ""
            },
            "colorscale": [
             [
              0,
              "#0d0887"
             ],
             [
              0.1111111111111111,
              "#46039f"
             ],
             [
              0.2222222222222222,
              "#7201a8"
             ],
             [
              0.3333333333333333,
              "#9c179e"
             ],
             [
              0.4444444444444444,
              "#bd3786"
             ],
             [
              0.5555555555555556,
              "#d8576b"
             ],
             [
              0.6666666666666666,
              "#ed7953"
             ],
             [
              0.7777777777777778,
              "#fb9f3a"
             ],
             [
              0.8888888888888888,
              "#fdca26"
             ],
             [
              1,
              "#f0f921"
             ]
            ],
            "type": "surface"
           }
          ],
          "table": [
           {
            "cells": {
             "fill": {
              "color": "#EBF0F8"
             },
             "line": {
              "color": "white"
             }
            },
            "header": {
             "fill": {
              "color": "#C8D4E3"
             },
             "line": {
              "color": "white"
             }
            },
            "type": "table"
           }
          ]
         },
         "layout": {
          "annotationdefaults": {
           "arrowcolor": "#2a3f5f",
           "arrowhead": 0,
           "arrowwidth": 1
          },
          "autotypenumbers": "strict",
          "coloraxis": {
           "colorbar": {
            "outlinewidth": 0,
            "ticks": ""
           }
          },
          "colorscale": {
           "diverging": [
            [
             0,
             "#8e0152"
            ],
            [
             0.1,
             "#c51b7d"
            ],
            [
             0.2,
             "#de77ae"
            ],
            [
             0.3,
             "#f1b6da"
            ],
            [
             0.4,
             "#fde0ef"
            ],
            [
             0.5,
             "#f7f7f7"
            ],
            [
             0.6,
             "#e6f5d0"
            ],
            [
             0.7,
             "#b8e186"
            ],
            [
             0.8,
             "#7fbc41"
            ],
            [
             0.9,
             "#4d9221"
            ],
            [
             1,
             "#276419"
            ]
           ],
           "sequential": [
            [
             0,
             "#0d0887"
            ],
            [
             0.1111111111111111,
             "#46039f"
            ],
            [
             0.2222222222222222,
             "#7201a8"
            ],
            [
             0.3333333333333333,
             "#9c179e"
            ],
            [
             0.4444444444444444,
             "#bd3786"
            ],
            [
             0.5555555555555556,
             "#d8576b"
            ],
            [
             0.6666666666666666,
             "#ed7953"
            ],
            [
             0.7777777777777778,
             "#fb9f3a"
            ],
            [
             0.8888888888888888,
             "#fdca26"
            ],
            [
             1,
             "#f0f921"
            ]
           ],
           "sequentialminus": [
            [
             0,
             "#0d0887"
            ],
            [
             0.1111111111111111,
             "#46039f"
            ],
            [
             0.2222222222222222,
             "#7201a8"
            ],
            [
             0.3333333333333333,
             "#9c179e"
            ],
            [
             0.4444444444444444,
             "#bd3786"
            ],
            [
             0.5555555555555556,
             "#d8576b"
            ],
            [
             0.6666666666666666,
             "#ed7953"
            ],
            [
             0.7777777777777778,
             "#fb9f3a"
            ],
            [
             0.8888888888888888,
             "#fdca26"
            ],
            [
             1,
             "#f0f921"
            ]
           ]
          },
          "colorway": [
           "#636efa",
           "#EF553B",
           "#00cc96",
           "#ab63fa",
           "#FFA15A",
           "#19d3f3",
           "#FF6692",
           "#B6E880",
           "#FF97FF",
           "#FECB52"
          ],
          "font": {
           "color": "#2a3f5f"
          },
          "geo": {
           "bgcolor": "white",
           "lakecolor": "white",
           "landcolor": "#E5ECF6",
           "showlakes": true,
           "showland": true,
           "subunitcolor": "white"
          },
          "hoverlabel": {
           "align": "left"
          },
          "hovermode": "closest",
          "mapbox": {
           "style": "light"
          },
          "paper_bgcolor": "white",
          "plot_bgcolor": "#E5ECF6",
          "polar": {
           "angularaxis": {
            "gridcolor": "white",
            "linecolor": "white",
            "ticks": ""
           },
           "bgcolor": "#E5ECF6",
           "radialaxis": {
            "gridcolor": "white",
            "linecolor": "white",
            "ticks": ""
           }
          },
          "scene": {
           "xaxis": {
            "backgroundcolor": "#E5ECF6",
            "gridcolor": "white",
            "gridwidth": 2,
            "linecolor": "white",
            "showbackground": true,
            "ticks": "",
            "zerolinecolor": "white"
           },
           "yaxis": {
            "backgroundcolor": "#E5ECF6",
            "gridcolor": "white",
            "gridwidth": 2,
            "linecolor": "white",
            "showbackground": true,
            "ticks": "",
            "zerolinecolor": "white"
           },
           "zaxis": {
            "backgroundcolor": "#E5ECF6",
            "gridcolor": "white",
            "gridwidth": 2,
            "linecolor": "white",
            "showbackground": true,
            "ticks": "",
            "zerolinecolor": "white"
           }
          },
          "shapedefaults": {
           "line": {
            "color": "#2a3f5f"
           }
          },
          "ternary": {
           "aaxis": {
            "gridcolor": "white",
            "linecolor": "white",
            "ticks": ""
           },
           "baxis": {
            "gridcolor": "white",
            "linecolor": "white",
            "ticks": ""
           },
           "bgcolor": "#E5ECF6",
           "caxis": {
            "gridcolor": "white",
            "linecolor": "white",
            "ticks": ""
           }
          },
          "title": {
           "x": 0.05
          },
          "xaxis": {
           "automargin": true,
           "gridcolor": "white",
           "linecolor": "white",
           "ticks": "",
           "title": {
            "standoff": 15
           },
           "zerolinecolor": "white",
           "zerolinewidth": 2
          },
          "yaxis": {
           "automargin": true,
           "gridcolor": "white",
           "linecolor": "white",
           "ticks": "",
           "title": {
            "standoff": 15
           },
           "zerolinecolor": "white",
           "zerolinewidth": 2
          }
         }
        },
        "title": {
         "text": "Quantidade de acoes por segmento."
        }
       }
      }
     },
     "metadata": {},
     "output_type": "display_data"
    }
   ],
   "source": [
    "fig_semana = px.pie(df_analise_segmento_semana,\n",
    "                 values=\"var_reais_total\",\n",
    "                 names=\"segmento\",\n",
    "                 title=\"Quantidade de acoes por segmento.\",\n",
    "                 hover_data=[\"segmento\"]\n",
    "                 )\n",
    "fig_semana.update_traces(textposition = \"inside\")\n",
    "fig_semana.show()"
   ]
  },
  {
   "cell_type": "code",
   "execution_count": null,
   "metadata": {},
   "outputs": [
    {
     "data": {
      "text/html": [
       "<div>\n",
       "<style scoped>\n",
       "    .dataframe tbody tr th:only-of-type {\n",
       "        vertical-align: middle;\n",
       "    }\n",
       "\n",
       "    .dataframe tbody tr th {\n",
       "        vertical-align: top;\n",
       "    }\n",
       "\n",
       "    .dataframe thead th {\n",
       "        text-align: right;\n",
       "    }\n",
       "</style>\n",
       "<table border=\"1\" class=\"dataframe\">\n",
       "  <thead>\n",
       "    <tr style=\"text-align: right;\">\n",
       "      <th></th>\n",
       "      <th>resultado</th>\n",
       "      <th>var_reais_total</th>\n",
       "    </tr>\n",
       "  </thead>\n",
       "  <tbody>\n",
       "    <tr>\n",
       "      <th>0</th>\n",
       "      <td>Desceu</td>\n",
       "      <td>-23,397,448,362.92</td>\n",
       "    </tr>\n",
       "    <tr>\n",
       "      <th>1</th>\n",
       "      <td>Estavel</td>\n",
       "      <td>0.00</td>\n",
       "    </tr>\n",
       "    <tr>\n",
       "      <th>2</th>\n",
       "      <td>Subiu</td>\n",
       "      <td>42,276,648,967.38</td>\n",
       "    </tr>\n",
       "  </tbody>\n",
       "</table>\n",
       "</div>"
      ],
      "text/plain": [
       "  resultado    var_reais_total\n",
       "0    Desceu -23,397,448,362.92\n",
       "1   Estavel               0.00\n",
       "2     Subiu  42,276,648,967.38"
      ]
     },
     "execution_count": 112,
     "metadata": {},
     "output_type": "execute_result"
    }
   ],
   "source": [
    "df_analise_semana_saldo = df_principal_semana.groupby('resultado')['var_reais_total'].sum().reset_index()\n",
    "df_analise_semana_saldo"
   ]
  },
  {
   "cell_type": "code",
   "execution_count": 173,
   "metadata": {},
   "outputs": [
    {
     "data": {
      "application/vnd.plotly.v1+json": {
       "config": {
        "plotlyServerURL": "https://plot.ly"
       },
       "data": [
        {
         "alignmentgroup": "True",
         "hovertemplate": "resultado=%{x}<br>var_reais_total=%{y}<extra></extra>",
         "legendgroup": "",
         "marker": {
          "color": "#636efa",
          "pattern": {
           "shape": ""
          }
         },
         "name": "",
         "offsetgroup": "",
         "orientation": "v",
         "showlegend": false,
         "textposition": "auto",
         "type": "bar",
         "x": [
          "Desceu",
          "Estavel",
          "Subiu"
         ],
         "xaxis": "x",
         "y": [
          -23397448362.92125,
          0,
          42276648967.381516
         ],
         "yaxis": "y"
        }
       ],
       "layout": {
        "barmode": "relative",
        "legend": {
         "tracegroupgap": 0
        },
        "template": {
         "data": {
          "bar": [
           {
            "error_x": {
             "color": "#2a3f5f"
            },
            "error_y": {
             "color": "#2a3f5f"
            },
            "marker": {
             "line": {
              "color": "#E5ECF6",
              "width": 0.5
             },
             "pattern": {
              "fillmode": "overlay",
              "size": 10,
              "solidity": 0.2
             }
            },
            "type": "bar"
           }
          ],
          "barpolar": [
           {
            "marker": {
             "line": {
              "color": "#E5ECF6",
              "width": 0.5
             },
             "pattern": {
              "fillmode": "overlay",
              "size": 10,
              "solidity": 0.2
             }
            },
            "type": "barpolar"
           }
          ],
          "carpet": [
           {
            "aaxis": {
             "endlinecolor": "#2a3f5f",
             "gridcolor": "white",
             "linecolor": "white",
             "minorgridcolor": "white",
             "startlinecolor": "#2a3f5f"
            },
            "baxis": {
             "endlinecolor": "#2a3f5f",
             "gridcolor": "white",
             "linecolor": "white",
             "minorgridcolor": "white",
             "startlinecolor": "#2a3f5f"
            },
            "type": "carpet"
           }
          ],
          "choropleth": [
           {
            "colorbar": {
             "outlinewidth": 0,
             "ticks": ""
            },
            "type": "choropleth"
           }
          ],
          "contour": [
           {
            "colorbar": {
             "outlinewidth": 0,
             "ticks": ""
            },
            "colorscale": [
             [
              0,
              "#0d0887"
             ],
             [
              0.1111111111111111,
              "#46039f"
             ],
             [
              0.2222222222222222,
              "#7201a8"
             ],
             [
              0.3333333333333333,
              "#9c179e"
             ],
             [
              0.4444444444444444,
              "#bd3786"
             ],
             [
              0.5555555555555556,
              "#d8576b"
             ],
             [
              0.6666666666666666,
              "#ed7953"
             ],
             [
              0.7777777777777778,
              "#fb9f3a"
             ],
             [
              0.8888888888888888,
              "#fdca26"
             ],
             [
              1,
              "#f0f921"
             ]
            ],
            "type": "contour"
           }
          ],
          "contourcarpet": [
           {
            "colorbar": {
             "outlinewidth": 0,
             "ticks": ""
            },
            "type": "contourcarpet"
           }
          ],
          "heatmap": [
           {
            "colorbar": {
             "outlinewidth": 0,
             "ticks": ""
            },
            "colorscale": [
             [
              0,
              "#0d0887"
             ],
             [
              0.1111111111111111,
              "#46039f"
             ],
             [
              0.2222222222222222,
              "#7201a8"
             ],
             [
              0.3333333333333333,
              "#9c179e"
             ],
             [
              0.4444444444444444,
              "#bd3786"
             ],
             [
              0.5555555555555556,
              "#d8576b"
             ],
             [
              0.6666666666666666,
              "#ed7953"
             ],
             [
              0.7777777777777778,
              "#fb9f3a"
             ],
             [
              0.8888888888888888,
              "#fdca26"
             ],
             [
              1,
              "#f0f921"
             ]
            ],
            "type": "heatmap"
           }
          ],
          "heatmapgl": [
           {
            "colorbar": {
             "outlinewidth": 0,
             "ticks": ""
            },
            "colorscale": [
             [
              0,
              "#0d0887"
             ],
             [
              0.1111111111111111,
              "#46039f"
             ],
             [
              0.2222222222222222,
              "#7201a8"
             ],
             [
              0.3333333333333333,
              "#9c179e"
             ],
             [
              0.4444444444444444,
              "#bd3786"
             ],
             [
              0.5555555555555556,
              "#d8576b"
             ],
             [
              0.6666666666666666,
              "#ed7953"
             ],
             [
              0.7777777777777778,
              "#fb9f3a"
             ],
             [
              0.8888888888888888,
              "#fdca26"
             ],
             [
              1,
              "#f0f921"
             ]
            ],
            "type": "heatmapgl"
           }
          ],
          "histogram": [
           {
            "marker": {
             "pattern": {
              "fillmode": "overlay",
              "size": 10,
              "solidity": 0.2
             }
            },
            "type": "histogram"
           }
          ],
          "histogram2d": [
           {
            "colorbar": {
             "outlinewidth": 0,
             "ticks": ""
            },
            "colorscale": [
             [
              0,
              "#0d0887"
             ],
             [
              0.1111111111111111,
              "#46039f"
             ],
             [
              0.2222222222222222,
              "#7201a8"
             ],
             [
              0.3333333333333333,
              "#9c179e"
             ],
             [
              0.4444444444444444,
              "#bd3786"
             ],
             [
              0.5555555555555556,
              "#d8576b"
             ],
             [
              0.6666666666666666,
              "#ed7953"
             ],
             [
              0.7777777777777778,
              "#fb9f3a"
             ],
             [
              0.8888888888888888,
              "#fdca26"
             ],
             [
              1,
              "#f0f921"
             ]
            ],
            "type": "histogram2d"
           }
          ],
          "histogram2dcontour": [
           {
            "colorbar": {
             "outlinewidth": 0,
             "ticks": ""
            },
            "colorscale": [
             [
              0,
              "#0d0887"
             ],
             [
              0.1111111111111111,
              "#46039f"
             ],
             [
              0.2222222222222222,
              "#7201a8"
             ],
             [
              0.3333333333333333,
              "#9c179e"
             ],
             [
              0.4444444444444444,
              "#bd3786"
             ],
             [
              0.5555555555555556,
              "#d8576b"
             ],
             [
              0.6666666666666666,
              "#ed7953"
             ],
             [
              0.7777777777777778,
              "#fb9f3a"
             ],
             [
              0.8888888888888888,
              "#fdca26"
             ],
             [
              1,
              "#f0f921"
             ]
            ],
            "type": "histogram2dcontour"
           }
          ],
          "mesh3d": [
           {
            "colorbar": {
             "outlinewidth": 0,
             "ticks": ""
            },
            "type": "mesh3d"
           }
          ],
          "parcoords": [
           {
            "line": {
             "colorbar": {
              "outlinewidth": 0,
              "ticks": ""
             }
            },
            "type": "parcoords"
           }
          ],
          "pie": [
           {
            "automargin": true,
            "type": "pie"
           }
          ],
          "scatter": [
           {
            "fillpattern": {
             "fillmode": "overlay",
             "size": 10,
             "solidity": 0.2
            },
            "type": "scatter"
           }
          ],
          "scatter3d": [
           {
            "line": {
             "colorbar": {
              "outlinewidth": 0,
              "ticks": ""
             }
            },
            "marker": {
             "colorbar": {
              "outlinewidth": 0,
              "ticks": ""
             }
            },
            "type": "scatter3d"
           }
          ],
          "scattercarpet": [
           {
            "marker": {
             "colorbar": {
              "outlinewidth": 0,
              "ticks": ""
             }
            },
            "type": "scattercarpet"
           }
          ],
          "scattergeo": [
           {
            "marker": {
             "colorbar": {
              "outlinewidth": 0,
              "ticks": ""
             }
            },
            "type": "scattergeo"
           }
          ],
          "scattergl": [
           {
            "marker": {
             "colorbar": {
              "outlinewidth": 0,
              "ticks": ""
             }
            },
            "type": "scattergl"
           }
          ],
          "scattermapbox": [
           {
            "marker": {
             "colorbar": {
              "outlinewidth": 0,
              "ticks": ""
             }
            },
            "type": "scattermapbox"
           }
          ],
          "scatterpolar": [
           {
            "marker": {
             "colorbar": {
              "outlinewidth": 0,
              "ticks": ""
             }
            },
            "type": "scatterpolar"
           }
          ],
          "scatterpolargl": [
           {
            "marker": {
             "colorbar": {
              "outlinewidth": 0,
              "ticks": ""
             }
            },
            "type": "scatterpolargl"
           }
          ],
          "scatterternary": [
           {
            "marker": {
             "colorbar": {
              "outlinewidth": 0,
              "ticks": ""
             }
            },
            "type": "scatterternary"
           }
          ],
          "surface": [
           {
            "colorbar": {
             "outlinewidth": 0,
             "ticks": ""
            },
            "colorscale": [
             [
              0,
              "#0d0887"
             ],
             [
              0.1111111111111111,
              "#46039f"
             ],
             [
              0.2222222222222222,
              "#7201a8"
             ],
             [
              0.3333333333333333,
              "#9c179e"
             ],
             [
              0.4444444444444444,
              "#bd3786"
             ],
             [
              0.5555555555555556,
              "#d8576b"
             ],
             [
              0.6666666666666666,
              "#ed7953"
             ],
             [
              0.7777777777777778,
              "#fb9f3a"
             ],
             [
              0.8888888888888888,
              "#fdca26"
             ],
             [
              1,
              "#f0f921"
             ]
            ],
            "type": "surface"
           }
          ],
          "table": [
           {
            "cells": {
             "fill": {
              "color": "#EBF0F8"
             },
             "line": {
              "color": "white"
             }
            },
            "header": {
             "fill": {
              "color": "#C8D4E3"
             },
             "line": {
              "color": "white"
             }
            },
            "type": "table"
           }
          ]
         },
         "layout": {
          "annotationdefaults": {
           "arrowcolor": "#2a3f5f",
           "arrowhead": 0,
           "arrowwidth": 1
          },
          "autotypenumbers": "strict",
          "coloraxis": {
           "colorbar": {
            "outlinewidth": 0,
            "ticks": ""
           }
          },
          "colorscale": {
           "diverging": [
            [
             0,
             "#8e0152"
            ],
            [
             0.1,
             "#c51b7d"
            ],
            [
             0.2,
             "#de77ae"
            ],
            [
             0.3,
             "#f1b6da"
            ],
            [
             0.4,
             "#fde0ef"
            ],
            [
             0.5,
             "#f7f7f7"
            ],
            [
             0.6,
             "#e6f5d0"
            ],
            [
             0.7,
             "#b8e186"
            ],
            [
             0.8,
             "#7fbc41"
            ],
            [
             0.9,
             "#4d9221"
            ],
            [
             1,
             "#276419"
            ]
           ],
           "sequential": [
            [
             0,
             "#0d0887"
            ],
            [
             0.1111111111111111,
             "#46039f"
            ],
            [
             0.2222222222222222,
             "#7201a8"
            ],
            [
             0.3333333333333333,
             "#9c179e"
            ],
            [
             0.4444444444444444,
             "#bd3786"
            ],
            [
             0.5555555555555556,
             "#d8576b"
            ],
            [
             0.6666666666666666,
             "#ed7953"
            ],
            [
             0.7777777777777778,
             "#fb9f3a"
            ],
            [
             0.8888888888888888,
             "#fdca26"
            ],
            [
             1,
             "#f0f921"
            ]
           ],
           "sequentialminus": [
            [
             0,
             "#0d0887"
            ],
            [
             0.1111111111111111,
             "#46039f"
            ],
            [
             0.2222222222222222,
             "#7201a8"
            ],
            [
             0.3333333333333333,
             "#9c179e"
            ],
            [
             0.4444444444444444,
             "#bd3786"
            ],
            [
             0.5555555555555556,
             "#d8576b"
            ],
            [
             0.6666666666666666,
             "#ed7953"
            ],
            [
             0.7777777777777778,
             "#fb9f3a"
            ],
            [
             0.8888888888888888,
             "#fdca26"
            ],
            [
             1,
             "#f0f921"
            ]
           ]
          },
          "colorway": [
           "#636efa",
           "#EF553B",
           "#00cc96",
           "#ab63fa",
           "#FFA15A",
           "#19d3f3",
           "#FF6692",
           "#B6E880",
           "#FF97FF",
           "#FECB52"
          ],
          "font": {
           "color": "#2a3f5f"
          },
          "geo": {
           "bgcolor": "white",
           "lakecolor": "white",
           "landcolor": "#E5ECF6",
           "showlakes": true,
           "showland": true,
           "subunitcolor": "white"
          },
          "hoverlabel": {
           "align": "left"
          },
          "hovermode": "closest",
          "mapbox": {
           "style": "light"
          },
          "paper_bgcolor": "white",
          "plot_bgcolor": "#E5ECF6",
          "polar": {
           "angularaxis": {
            "gridcolor": "white",
            "linecolor": "white",
            "ticks": ""
           },
           "bgcolor": "#E5ECF6",
           "radialaxis": {
            "gridcolor": "white",
            "linecolor": "white",
            "ticks": ""
           }
          },
          "scene": {
           "xaxis": {
            "backgroundcolor": "#E5ECF6",
            "gridcolor": "white",
            "gridwidth": 2,
            "linecolor": "white",
            "showbackground": true,
            "ticks": "",
            "zerolinecolor": "white"
           },
           "yaxis": {
            "backgroundcolor": "#E5ECF6",
            "gridcolor": "white",
            "gridwidth": 2,
            "linecolor": "white",
            "showbackground": true,
            "ticks": "",
            "zerolinecolor": "white"
           },
           "zaxis": {
            "backgroundcolor": "#E5ECF6",
            "gridcolor": "white",
            "gridwidth": 2,
            "linecolor": "white",
            "showbackground": true,
            "ticks": "",
            "zerolinecolor": "white"
           }
          },
          "shapedefaults": {
           "line": {
            "color": "#2a3f5f"
           }
          },
          "ternary": {
           "aaxis": {
            "gridcolor": "white",
            "linecolor": "white",
            "ticks": ""
           },
           "baxis": {
            "gridcolor": "white",
            "linecolor": "white",
            "ticks": ""
           },
           "bgcolor": "#E5ECF6",
           "caxis": {
            "gridcolor": "white",
            "linecolor": "white",
            "ticks": ""
           }
          },
          "title": {
           "x": 0.05
          },
          "xaxis": {
           "automargin": true,
           "gridcolor": "white",
           "linecolor": "white",
           "ticks": "",
           "title": {
            "standoff": 15
           },
           "zerolinecolor": "white",
           "zerolinewidth": 2
          },
          "yaxis": {
           "automargin": true,
           "gridcolor": "white",
           "linecolor": "white",
           "ticks": "",
           "title": {
            "standoff": 15
           },
           "zerolinecolor": "white",
           "zerolinewidth": 2
          }
         }
        },
        "title": {
         "text": "Variação Reais por Resultado"
        },
        "xaxis": {
         "anchor": "y",
         "domain": [
          0,
          1
         ],
         "title": {
          "text": "resultado"
         }
        },
        "yaxis": {
         "anchor": "x",
         "domain": [
          0,
          1
         ],
         "title": {
          "text": "var_reais_total"
         }
        }
       }
      }
     },
     "metadata": {},
     "output_type": "display_data"
    }
   ],
   "source": [
    "fig_semana = px.bar(df_analise_semana_saldo, y= \"var_reais_total\", x=\"resultado\", title=\"Variação Reais por Resultado\")\n",
    "fig_semana.show()"
   ]
  },
  {
   "cell_type": "code",
   "execution_count": null,
   "metadata": {},
   "outputs": [
    {
     "data": {
      "text/html": [
       "<div>\n",
       "<style scoped>\n",
       "    .dataframe tbody tr th:only-of-type {\n",
       "        vertical-align: middle;\n",
       "    }\n",
       "\n",
       "    .dataframe tbody tr th {\n",
       "        vertical-align: top;\n",
       "    }\n",
       "\n",
       "    .dataframe thead th {\n",
       "        text-align: right;\n",
       "    }\n",
       "</style>\n",
       "<table border=\"1\" class=\"dataframe\">\n",
       "  <thead>\n",
       "    <tr style=\"text-align: right;\">\n",
       "      <th></th>\n",
       "      <th>ticker</th>\n",
       "      <th>nome</th>\n",
       "      <th>valor_final</th>\n",
       "      <th>var_mensal_pct</th>\n",
       "      <th>qtd_teorica</th>\n",
       "      <th>segmento</th>\n",
       "      <th>idade</th>\n",
       "    </tr>\n",
       "  </thead>\n",
       "  <tbody>\n",
       "    <tr>\n",
       "      <th>0</th>\n",
       "      <td>USIM5</td>\n",
       "      <td>Usiminas</td>\n",
       "      <td>9.50</td>\n",
       "      <td>2.26</td>\n",
       "      <td>515117391</td>\n",
       "      <td>Siderurgia</td>\n",
       "      <td>59</td>\n",
       "    </tr>\n",
       "    <tr>\n",
       "      <th>1</th>\n",
       "      <td>CMIN3</td>\n",
       "      <td>CSN Mineração</td>\n",
       "      <td>6.82</td>\n",
       "      <td>-12.11</td>\n",
       "      <td>1110559345</td>\n",
       "      <td>Mineração</td>\n",
       "      <td>81</td>\n",
       "    </tr>\n",
       "    <tr>\n",
       "      <th>2</th>\n",
       "      <td>PETR3</td>\n",
       "      <td>Petrobras 3</td>\n",
       "      <td>41.96</td>\n",
       "      <td>7.64</td>\n",
       "      <td>2379877655</td>\n",
       "      <td>Petróleo e Gás</td>\n",
       "      <td>68</td>\n",
       "    </tr>\n",
       "    <tr>\n",
       "      <th>3</th>\n",
       "      <td>SUZB3</td>\n",
       "      <td>Suzano</td>\n",
       "      <td>52.91</td>\n",
       "      <td>-4.89</td>\n",
       "      <td>683452836</td>\n",
       "      <td>Papel e Celulose</td>\n",
       "      <td>97</td>\n",
       "    </tr>\n",
       "    <tr>\n",
       "      <th>4</th>\n",
       "      <td>CPFE3</td>\n",
       "      <td>CPFL Energia</td>\n",
       "      <td>37.10</td>\n",
       "      <td>-3.66</td>\n",
       "      <td>187732538</td>\n",
       "      <td>Energia</td>\n",
       "      <td>109</td>\n",
       "    </tr>\n",
       "    <tr>\n",
       "      <th>...</th>\n",
       "      <td>...</td>\n",
       "      <td>...</td>\n",
       "      <td>...</td>\n",
       "      <td>...</td>\n",
       "      <td>...</td>\n",
       "      <td>...</td>\n",
       "      <td>...</td>\n",
       "    </tr>\n",
       "    <tr>\n",
       "      <th>78</th>\n",
       "      <td>LREN3</td>\n",
       "      <td>Lojas Renner</td>\n",
       "      <td>15.78</td>\n",
       "      <td>-9.41</td>\n",
       "      <td>951329770</td>\n",
       "      <td>Vestuário</td>\n",
       "      <td>54</td>\n",
       "    </tr>\n",
       "    <tr>\n",
       "      <th>79</th>\n",
       "      <td>CRFB3</td>\n",
       "      <td>Carrefour Brasil</td>\n",
       "      <td>10.71</td>\n",
       "      <td>-13.98</td>\n",
       "      <td>533990587</td>\n",
       "      <td>Varejo</td>\n",
       "      <td>44</td>\n",
       "    </tr>\n",
       "    <tr>\n",
       "      <th>80</th>\n",
       "      <td>RENT3</td>\n",
       "      <td>Localiza</td>\n",
       "      <td>56.24</td>\n",
       "      <td>-11.57</td>\n",
       "      <td>853202347</td>\n",
       "      <td>Aluguel de Carros</td>\n",
       "      <td>48</td>\n",
       "    </tr>\n",
       "    <tr>\n",
       "      <th>81</th>\n",
       "      <td>CVCB3</td>\n",
       "      <td>CVC</td>\n",
       "      <td>3.07</td>\n",
       "      <td>-12.29</td>\n",
       "      <td>525582771</td>\n",
       "      <td>Turismo</td>\n",
       "      <td>49</td>\n",
       "    </tr>\n",
       "    <tr>\n",
       "      <th>82</th>\n",
       "      <td>GOLL4</td>\n",
       "      <td>GOL</td>\n",
       "      <td>5.92</td>\n",
       "      <td>-34.00</td>\n",
       "      <td>198184909</td>\n",
       "      <td>Transporte Aéreo</td>\n",
       "      <td>22</td>\n",
       "    </tr>\n",
       "  </tbody>\n",
       "</table>\n",
       "<p>83 rows × 7 columns</p>\n",
       "</div>"
      ],
      "text/plain": [
       "   ticker              nome  valor_final  var_mensal_pct  qtd_teorica  \\\n",
       "0   USIM5          Usiminas         9.50            2.26    515117391   \n",
       "1   CMIN3     CSN Mineração         6.82          -12.11   1110559345   \n",
       "2   PETR3       Petrobras 3        41.96            7.64   2379877655   \n",
       "3   SUZB3            Suzano        52.91           -4.89    683452836   \n",
       "4   CPFE3      CPFL Energia        37.10           -3.66    187732538   \n",
       "..    ...               ...          ...             ...          ...   \n",
       "78  LREN3      Lojas Renner        15.78           -9.41    951329770   \n",
       "79  CRFB3  Carrefour Brasil        10.71          -13.98    533990587   \n",
       "80  RENT3          Localiza        56.24          -11.57    853202347   \n",
       "81  CVCB3               CVC         3.07          -12.29    525582771   \n",
       "82  GOLL4               GOL         5.92          -34.00    198184909   \n",
       "\n",
       "             segmento  idade  \n",
       "0          Siderurgia     59  \n",
       "1           Mineração     81  \n",
       "2      Petróleo e Gás     68  \n",
       "3    Papel e Celulose     97  \n",
       "4             Energia    109  \n",
       "..                ...    ...  \n",
       "78          Vestuário     54  \n",
       "79             Varejo     44  \n",
       "80  Aluguel de Carros     48  \n",
       "81            Turismo     49  \n",
       "82   Transporte Aéreo     22  \n",
       "\n",
       "[83 rows x 7 columns]"
      ]
     },
     "execution_count": 113,
     "metadata": {},
     "output_type": "execute_result"
    }
   ],
   "source": [
    "df_principal_mensal = df_principal[[\n",
    "    \"ticker\",\n",
    "    \"nome\",\n",
    "    \"valor_final\",\n",
    "    \"var_mensal_pct\",\n",
    "    \"qtd_teorica\",\n",
    "    \"segmento\",\n",
    "    \"idade\"\n",
    "    ]].copy()\n",
    "df_principal_mensal"
   ]
  },
  {
   "cell_type": "code",
   "execution_count": null,
   "metadata": {},
   "outputs": [
    {
     "data": {
      "text/html": [
       "<div>\n",
       "<style scoped>\n",
       "    .dataframe tbody tr th:only-of-type {\n",
       "        vertical-align: middle;\n",
       "    }\n",
       "\n",
       "    .dataframe tbody tr th {\n",
       "        vertical-align: top;\n",
       "    }\n",
       "\n",
       "    .dataframe thead th {\n",
       "        text-align: right;\n",
       "    }\n",
       "</style>\n",
       "<table border=\"1\" class=\"dataframe\">\n",
       "  <thead>\n",
       "    <tr style=\"text-align: right;\">\n",
       "      <th></th>\n",
       "      <th>ticker</th>\n",
       "      <th>nome</th>\n",
       "      <th>valor_final</th>\n",
       "      <th>var_mensal_pct</th>\n",
       "      <th>qtd_teorica</th>\n",
       "      <th>segmento</th>\n",
       "      <th>idade</th>\n",
       "      <th>var_pct</th>\n",
       "      <th>valor_inicial</th>\n",
       "      <th>var_reais</th>\n",
       "      <th>var_reais_total</th>\n",
       "    </tr>\n",
       "  </thead>\n",
       "  <tbody>\n",
       "    <tr>\n",
       "      <th>0</th>\n",
       "      <td>USIM5</td>\n",
       "      <td>Usiminas</td>\n",
       "      <td>9.50</td>\n",
       "      <td>2.26</td>\n",
       "      <td>515117391</td>\n",
       "      <td>Siderurgia</td>\n",
       "      <td>59</td>\n",
       "      <td>0.02</td>\n",
       "      <td>9.29</td>\n",
       "      <td>0.21</td>\n",
       "      <td>108,151,480.39</td>\n",
       "    </tr>\n",
       "    <tr>\n",
       "      <th>1</th>\n",
       "      <td>CMIN3</td>\n",
       "      <td>CSN Mineração</td>\n",
       "      <td>6.82</td>\n",
       "      <td>-12.11</td>\n",
       "      <td>1110559345</td>\n",
       "      <td>Mineração</td>\n",
       "      <td>81</td>\n",
       "      <td>-0.12</td>\n",
       "      <td>7.76</td>\n",
       "      <td>-0.94</td>\n",
       "      <td>-1,043,592,199.52</td>\n",
       "    </tr>\n",
       "    <tr>\n",
       "      <th>2</th>\n",
       "      <td>PETR3</td>\n",
       "      <td>Petrobras 3</td>\n",
       "      <td>41.96</td>\n",
       "      <td>7.64</td>\n",
       "      <td>2379877655</td>\n",
       "      <td>Petróleo e Gás</td>\n",
       "      <td>68</td>\n",
       "      <td>0.08</td>\n",
       "      <td>38.98</td>\n",
       "      <td>2.98</td>\n",
       "      <td>7,087,772,680.46</td>\n",
       "    </tr>\n",
       "    <tr>\n",
       "      <th>3</th>\n",
       "      <td>SUZB3</td>\n",
       "      <td>Suzano</td>\n",
       "      <td>52.91</td>\n",
       "      <td>-4.89</td>\n",
       "      <td>683452836</td>\n",
       "      <td>Papel e Celulose</td>\n",
       "      <td>97</td>\n",
       "      <td>-0.05</td>\n",
       "      <td>55.63</td>\n",
       "      <td>-2.72</td>\n",
       "      <td>-1,859,212,321.66</td>\n",
       "    </tr>\n",
       "    <tr>\n",
       "      <th>4</th>\n",
       "      <td>CPFE3</td>\n",
       "      <td>CPFL Energia</td>\n",
       "      <td>37.10</td>\n",
       "      <td>-3.66</td>\n",
       "      <td>187732538</td>\n",
       "      <td>Energia</td>\n",
       "      <td>109</td>\n",
       "      <td>-0.04</td>\n",
       "      <td>38.51</td>\n",
       "      <td>-1.41</td>\n",
       "      <td>-264,598,820.89</td>\n",
       "    </tr>\n",
       "    <tr>\n",
       "      <th>...</th>\n",
       "      <td>...</td>\n",
       "      <td>...</td>\n",
       "      <td>...</td>\n",
       "      <td>...</td>\n",
       "      <td>...</td>\n",
       "      <td>...</td>\n",
       "      <td>...</td>\n",
       "      <td>...</td>\n",
       "      <td>...</td>\n",
       "      <td>...</td>\n",
       "      <td>...</td>\n",
       "    </tr>\n",
       "    <tr>\n",
       "      <th>78</th>\n",
       "      <td>LREN3</td>\n",
       "      <td>Lojas Renner</td>\n",
       "      <td>15.78</td>\n",
       "      <td>-9.41</td>\n",
       "      <td>951329770</td>\n",
       "      <td>Vestuário</td>\n",
       "      <td>54</td>\n",
       "      <td>-0.09</td>\n",
       "      <td>17.42</td>\n",
       "      <td>-1.64</td>\n",
       "      <td>-1,559,363,807.06</td>\n",
       "    </tr>\n",
       "    <tr>\n",
       "      <th>79</th>\n",
       "      <td>CRFB3</td>\n",
       "      <td>Carrefour Brasil</td>\n",
       "      <td>10.71</td>\n",
       "      <td>-13.98</td>\n",
       "      <td>533990587</td>\n",
       "      <td>Varejo</td>\n",
       "      <td>44</td>\n",
       "      <td>-0.14</td>\n",
       "      <td>12.45</td>\n",
       "      <td>-1.74</td>\n",
       "      <td>-929,460,216.59</td>\n",
       "    </tr>\n",
       "    <tr>\n",
       "      <th>80</th>\n",
       "      <td>RENT3</td>\n",
       "      <td>Localiza</td>\n",
       "      <td>56.24</td>\n",
       "      <td>-11.57</td>\n",
       "      <td>853202347</td>\n",
       "      <td>Aluguel de Carros</td>\n",
       "      <td>48</td>\n",
       "      <td>-0.12</td>\n",
       "      <td>63.60</td>\n",
       "      <td>-7.36</td>\n",
       "      <td>-6,278,141,320.20</td>\n",
       "    </tr>\n",
       "    <tr>\n",
       "      <th>81</th>\n",
       "      <td>CVCB3</td>\n",
       "      <td>CVC</td>\n",
       "      <td>3.07</td>\n",
       "      <td>-12.29</td>\n",
       "      <td>525582771</td>\n",
       "      <td>Turismo</td>\n",
       "      <td>49</td>\n",
       "      <td>-0.12</td>\n",
       "      <td>3.50</td>\n",
       "      <td>-0.43</td>\n",
       "      <td>-226,090,475.71</td>\n",
       "    </tr>\n",
       "    <tr>\n",
       "      <th>82</th>\n",
       "      <td>GOLL4</td>\n",
       "      <td>GOL</td>\n",
       "      <td>5.92</td>\n",
       "      <td>-34.00</td>\n",
       "      <td>198184909</td>\n",
       "      <td>Transporte Aéreo</td>\n",
       "      <td>22</td>\n",
       "      <td>-0.34</td>\n",
       "      <td>8.97</td>\n",
       "      <td>-3.05</td>\n",
       "      <td>-604,403,916.42</td>\n",
       "    </tr>\n",
       "  </tbody>\n",
       "</table>\n",
       "<p>83 rows × 11 columns</p>\n",
       "</div>"
      ],
      "text/plain": [
       "   ticker              nome  valor_final  var_mensal_pct  qtd_teorica  \\\n",
       "0   USIM5          Usiminas         9.50            2.26    515117391   \n",
       "1   CMIN3     CSN Mineração         6.82          -12.11   1110559345   \n",
       "2   PETR3       Petrobras 3        41.96            7.64   2379877655   \n",
       "3   SUZB3            Suzano        52.91           -4.89    683452836   \n",
       "4   CPFE3      CPFL Energia        37.10           -3.66    187732538   \n",
       "..    ...               ...          ...             ...          ...   \n",
       "78  LREN3      Lojas Renner        15.78           -9.41    951329770   \n",
       "79  CRFB3  Carrefour Brasil        10.71          -13.98    533990587   \n",
       "80  RENT3          Localiza        56.24          -11.57    853202347   \n",
       "81  CVCB3               CVC         3.07          -12.29    525582771   \n",
       "82  GOLL4               GOL         5.92          -34.00    198184909   \n",
       "\n",
       "             segmento  idade  var_pct  valor_inicial  var_reais  \\\n",
       "0          Siderurgia     59     0.02           9.29       0.21   \n",
       "1           Mineração     81    -0.12           7.76      -0.94   \n",
       "2      Petróleo e Gás     68     0.08          38.98       2.98   \n",
       "3    Papel e Celulose     97    -0.05          55.63      -2.72   \n",
       "4             Energia    109    -0.04          38.51      -1.41   \n",
       "..                ...    ...      ...            ...        ...   \n",
       "78          Vestuário     54    -0.09          17.42      -1.64   \n",
       "79             Varejo     44    -0.14          12.45      -1.74   \n",
       "80  Aluguel de Carros     48    -0.12          63.60      -7.36   \n",
       "81            Turismo     49    -0.12           3.50      -0.43   \n",
       "82   Transporte Aéreo     22    -0.34           8.97      -3.05   \n",
       "\n",
       "     var_reais_total  \n",
       "0     108,151,480.39  \n",
       "1  -1,043,592,199.52  \n",
       "2   7,087,772,680.46  \n",
       "3  -1,859,212,321.66  \n",
       "4    -264,598,820.89  \n",
       "..               ...  \n",
       "78 -1,559,363,807.06  \n",
       "79   -929,460,216.59  \n",
       "80 -6,278,141,320.20  \n",
       "81   -226,090,475.71  \n",
       "82   -604,403,916.42  \n",
       "\n",
       "[83 rows x 11 columns]"
      ]
     },
     "execution_count": 114,
     "metadata": {},
     "output_type": "execute_result"
    }
   ],
   "source": [
    "df_principal_mensal[\"var_pct\"] = df_principal_mensal[\"var_mensal_pct\"]/100\n",
    "df_principal_mensal[\"valor_inicial\"] = df_principal_mensal[\"valor_final\"]/(df_principal_mensal[\"var_pct\"]+1)\n",
    "df_principal_mensal[\"var_reais\"] = df_principal_mensal[\"valor_final\"]-df_principal_mensal[\"valor_inicial\"]\n",
    "df_principal_mensal[\"var_reais_total\"] = df_principal_mensal[\"var_reais\"]*df_principal_mensal[\"qtd_teorica\"]\n",
    "df_principal_mensal"
   ]
  },
  {
   "cell_type": "code",
   "execution_count": null,
   "metadata": {},
   "outputs": [
    {
     "data": {
      "text/html": [
       "<div>\n",
       "<style scoped>\n",
       "    .dataframe tbody tr th:only-of-type {\n",
       "        vertical-align: middle;\n",
       "    }\n",
       "\n",
       "    .dataframe tbody tr th {\n",
       "        vertical-align: top;\n",
       "    }\n",
       "\n",
       "    .dataframe thead th {\n",
       "        text-align: right;\n",
       "    }\n",
       "</style>\n",
       "<table border=\"1\" class=\"dataframe\">\n",
       "  <thead>\n",
       "    <tr style=\"text-align: right;\">\n",
       "      <th></th>\n",
       "      <th>ticker</th>\n",
       "      <th>nome</th>\n",
       "      <th>valor_final</th>\n",
       "      <th>var_mensal_pct</th>\n",
       "      <th>qtd_teorica</th>\n",
       "      <th>segmento</th>\n",
       "      <th>idade</th>\n",
       "      <th>var_pct</th>\n",
       "      <th>valor_inicial</th>\n",
       "      <th>var_reais</th>\n",
       "      <th>var_reais_total</th>\n",
       "      <th>resultado</th>\n",
       "      <th>cat_idade</th>\n",
       "    </tr>\n",
       "  </thead>\n",
       "  <tbody>\n",
       "    <tr>\n",
       "      <th>0</th>\n",
       "      <td>USIM5</td>\n",
       "      <td>Usiminas</td>\n",
       "      <td>9.50</td>\n",
       "      <td>2.26</td>\n",
       "      <td>515117391</td>\n",
       "      <td>Siderurgia</td>\n",
       "      <td>59</td>\n",
       "      <td>0.02</td>\n",
       "      <td>9.29</td>\n",
       "      <td>0.21</td>\n",
       "      <td>108,151,480.39</td>\n",
       "      <td>Subiu</td>\n",
       "      <td>Entre 50 e 100</td>\n",
       "    </tr>\n",
       "    <tr>\n",
       "      <th>1</th>\n",
       "      <td>CMIN3</td>\n",
       "      <td>CSN Mineração</td>\n",
       "      <td>6.82</td>\n",
       "      <td>-12.11</td>\n",
       "      <td>1110559345</td>\n",
       "      <td>Mineração</td>\n",
       "      <td>81</td>\n",
       "      <td>-0.12</td>\n",
       "      <td>7.76</td>\n",
       "      <td>-0.94</td>\n",
       "      <td>-1,043,592,199.52</td>\n",
       "      <td>Desceu</td>\n",
       "      <td>Entre 50 e 100</td>\n",
       "    </tr>\n",
       "    <tr>\n",
       "      <th>2</th>\n",
       "      <td>PETR3</td>\n",
       "      <td>Petrobras 3</td>\n",
       "      <td>41.96</td>\n",
       "      <td>7.64</td>\n",
       "      <td>2379877655</td>\n",
       "      <td>Petróleo e Gás</td>\n",
       "      <td>68</td>\n",
       "      <td>0.08</td>\n",
       "      <td>38.98</td>\n",
       "      <td>2.98</td>\n",
       "      <td>7,087,772,680.46</td>\n",
       "      <td>Subiu</td>\n",
       "      <td>Entre 50 e 100</td>\n",
       "    </tr>\n",
       "    <tr>\n",
       "      <th>3</th>\n",
       "      <td>SUZB3</td>\n",
       "      <td>Suzano</td>\n",
       "      <td>52.91</td>\n",
       "      <td>-4.89</td>\n",
       "      <td>683452836</td>\n",
       "      <td>Papel e Celulose</td>\n",
       "      <td>97</td>\n",
       "      <td>-0.05</td>\n",
       "      <td>55.63</td>\n",
       "      <td>-2.72</td>\n",
       "      <td>-1,859,212,321.66</td>\n",
       "      <td>Desceu</td>\n",
       "      <td>Entre 50 e 100</td>\n",
       "    </tr>\n",
       "    <tr>\n",
       "      <th>4</th>\n",
       "      <td>CPFE3</td>\n",
       "      <td>CPFL Energia</td>\n",
       "      <td>37.10</td>\n",
       "      <td>-3.66</td>\n",
       "      <td>187732538</td>\n",
       "      <td>Energia</td>\n",
       "      <td>109</td>\n",
       "      <td>-0.04</td>\n",
       "      <td>38.51</td>\n",
       "      <td>-1.41</td>\n",
       "      <td>-264,598,820.89</td>\n",
       "      <td>Desceu</td>\n",
       "      <td>Mais que 100</td>\n",
       "    </tr>\n",
       "    <tr>\n",
       "      <th>...</th>\n",
       "      <td>...</td>\n",
       "      <td>...</td>\n",
       "      <td>...</td>\n",
       "      <td>...</td>\n",
       "      <td>...</td>\n",
       "      <td>...</td>\n",
       "      <td>...</td>\n",
       "      <td>...</td>\n",
       "      <td>...</td>\n",
       "      <td>...</td>\n",
       "      <td>...</td>\n",
       "      <td>...</td>\n",
       "      <td>...</td>\n",
       "    </tr>\n",
       "    <tr>\n",
       "      <th>78</th>\n",
       "      <td>LREN3</td>\n",
       "      <td>Lojas Renner</td>\n",
       "      <td>15.78</td>\n",
       "      <td>-9.41</td>\n",
       "      <td>951329770</td>\n",
       "      <td>Vestuário</td>\n",
       "      <td>54</td>\n",
       "      <td>-0.09</td>\n",
       "      <td>17.42</td>\n",
       "      <td>-1.64</td>\n",
       "      <td>-1,559,363,807.06</td>\n",
       "      <td>Desceu</td>\n",
       "      <td>Entre 50 e 100</td>\n",
       "    </tr>\n",
       "    <tr>\n",
       "      <th>79</th>\n",
       "      <td>CRFB3</td>\n",
       "      <td>Carrefour Brasil</td>\n",
       "      <td>10.71</td>\n",
       "      <td>-13.98</td>\n",
       "      <td>533990587</td>\n",
       "      <td>Varejo</td>\n",
       "      <td>44</td>\n",
       "      <td>-0.14</td>\n",
       "      <td>12.45</td>\n",
       "      <td>-1.74</td>\n",
       "      <td>-929,460,216.59</td>\n",
       "      <td>Desceu</td>\n",
       "      <td>Menos que 50 anos</td>\n",
       "    </tr>\n",
       "    <tr>\n",
       "      <th>80</th>\n",
       "      <td>RENT3</td>\n",
       "      <td>Localiza</td>\n",
       "      <td>56.24</td>\n",
       "      <td>-11.57</td>\n",
       "      <td>853202347</td>\n",
       "      <td>Aluguel de Carros</td>\n",
       "      <td>48</td>\n",
       "      <td>-0.12</td>\n",
       "      <td>63.60</td>\n",
       "      <td>-7.36</td>\n",
       "      <td>-6,278,141,320.20</td>\n",
       "      <td>Desceu</td>\n",
       "      <td>Menos que 50 anos</td>\n",
       "    </tr>\n",
       "    <tr>\n",
       "      <th>81</th>\n",
       "      <td>CVCB3</td>\n",
       "      <td>CVC</td>\n",
       "      <td>3.07</td>\n",
       "      <td>-12.29</td>\n",
       "      <td>525582771</td>\n",
       "      <td>Turismo</td>\n",
       "      <td>49</td>\n",
       "      <td>-0.12</td>\n",
       "      <td>3.50</td>\n",
       "      <td>-0.43</td>\n",
       "      <td>-226,090,475.71</td>\n",
       "      <td>Desceu</td>\n",
       "      <td>Menos que 50 anos</td>\n",
       "    </tr>\n",
       "    <tr>\n",
       "      <th>82</th>\n",
       "      <td>GOLL4</td>\n",
       "      <td>GOL</td>\n",
       "      <td>5.92</td>\n",
       "      <td>-34.00</td>\n",
       "      <td>198184909</td>\n",
       "      <td>Transporte Aéreo</td>\n",
       "      <td>22</td>\n",
       "      <td>-0.34</td>\n",
       "      <td>8.97</td>\n",
       "      <td>-3.05</td>\n",
       "      <td>-604,403,916.42</td>\n",
       "      <td>Desceu</td>\n",
       "      <td>Menos que 50 anos</td>\n",
       "    </tr>\n",
       "  </tbody>\n",
       "</table>\n",
       "<p>83 rows × 13 columns</p>\n",
       "</div>"
      ],
      "text/plain": [
       "   ticker              nome  valor_final  var_mensal_pct  qtd_teorica  \\\n",
       "0   USIM5          Usiminas         9.50            2.26    515117391   \n",
       "1   CMIN3     CSN Mineração         6.82          -12.11   1110559345   \n",
       "2   PETR3       Petrobras 3        41.96            7.64   2379877655   \n",
       "3   SUZB3            Suzano        52.91           -4.89    683452836   \n",
       "4   CPFE3      CPFL Energia        37.10           -3.66    187732538   \n",
       "..    ...               ...          ...             ...          ...   \n",
       "78  LREN3      Lojas Renner        15.78           -9.41    951329770   \n",
       "79  CRFB3  Carrefour Brasil        10.71          -13.98    533990587   \n",
       "80  RENT3          Localiza        56.24          -11.57    853202347   \n",
       "81  CVCB3               CVC         3.07          -12.29    525582771   \n",
       "82  GOLL4               GOL         5.92          -34.00    198184909   \n",
       "\n",
       "             segmento  idade  var_pct  valor_inicial  var_reais  \\\n",
       "0          Siderurgia     59     0.02           9.29       0.21   \n",
       "1           Mineração     81    -0.12           7.76      -0.94   \n",
       "2      Petróleo e Gás     68     0.08          38.98       2.98   \n",
       "3    Papel e Celulose     97    -0.05          55.63      -2.72   \n",
       "4             Energia    109    -0.04          38.51      -1.41   \n",
       "..                ...    ...      ...            ...        ...   \n",
       "78          Vestuário     54    -0.09          17.42      -1.64   \n",
       "79             Varejo     44    -0.14          12.45      -1.74   \n",
       "80  Aluguel de Carros     48    -0.12          63.60      -7.36   \n",
       "81            Turismo     49    -0.12           3.50      -0.43   \n",
       "82   Transporte Aéreo     22    -0.34           8.97      -3.05   \n",
       "\n",
       "     var_reais_total resultado          cat_idade  \n",
       "0     108,151,480.39     Subiu     Entre 50 e 100  \n",
       "1  -1,043,592,199.52    Desceu     Entre 50 e 100  \n",
       "2   7,087,772,680.46     Subiu     Entre 50 e 100  \n",
       "3  -1,859,212,321.66    Desceu     Entre 50 e 100  \n",
       "4    -264,598,820.89    Desceu       Mais que 100  \n",
       "..               ...       ...                ...  \n",
       "78 -1,559,363,807.06    Desceu     Entre 50 e 100  \n",
       "79   -929,460,216.59    Desceu  Menos que 50 anos  \n",
       "80 -6,278,141,320.20    Desceu  Menos que 50 anos  \n",
       "81   -226,090,475.71    Desceu  Menos que 50 anos  \n",
       "82   -604,403,916.42    Desceu  Menos que 50 anos  \n",
       "\n",
       "[83 rows x 13 columns]"
      ]
     },
     "execution_count": 115,
     "metadata": {},
     "output_type": "execute_result"
    }
   ],
   "source": [
    "df_principal_mensal[\"resultado\"] = df_principal_mensal[\"var_reais\"].apply(lambda x:\"Subiu\" if x > 0 else (\"Desceu\" if x<0 else \"Estavel\"))\n",
    "df_principal_mensal[\"cat_idade\"] = df_principal_mensal[\"idade\"].apply(lambda x:\"Menos que 50 anos\" if x<50 else (\"Mais que 100\" if x>100 else \"Entre 50 e 100\"))\n",
    "df_principal_mensal"
   ]
  },
  {
   "cell_type": "code",
   "execution_count": null,
   "metadata": {},
   "outputs": [
    {
     "data": {
      "text/html": [
       "<div>\n",
       "<style scoped>\n",
       "    .dataframe tbody tr th:only-of-type {\n",
       "        vertical-align: middle;\n",
       "    }\n",
       "\n",
       "    .dataframe tbody tr th {\n",
       "        vertical-align: top;\n",
       "    }\n",
       "\n",
       "    .dataframe thead th {\n",
       "        text-align: right;\n",
       "    }\n",
       "</style>\n",
       "<table border=\"1\" class=\"dataframe\">\n",
       "  <thead>\n",
       "    <tr style=\"text-align: right;\">\n",
       "      <th></th>\n",
       "      <th>ticker</th>\n",
       "      <th>nome</th>\n",
       "      <th>valor_inicial</th>\n",
       "      <th>valor_final</th>\n",
       "      <th>var_reais</th>\n",
       "      <th>var_mensal_pct</th>\n",
       "      <th>var_pct</th>\n",
       "      <th>qtd_teorica</th>\n",
       "      <th>var_reais_total</th>\n",
       "      <th>resultado</th>\n",
       "      <th>segmento</th>\n",
       "      <th>idade</th>\n",
       "      <th>cat_idade</th>\n",
       "    </tr>\n",
       "  </thead>\n",
       "  <tbody>\n",
       "    <tr>\n",
       "      <th>0</th>\n",
       "      <td>USIM5</td>\n",
       "      <td>Usiminas</td>\n",
       "      <td>9.29</td>\n",
       "      <td>9.50</td>\n",
       "      <td>0.21</td>\n",
       "      <td>2.26</td>\n",
       "      <td>0.02</td>\n",
       "      <td>515117391</td>\n",
       "      <td>108,151,480.39</td>\n",
       "      <td>Subiu</td>\n",
       "      <td>Siderurgia</td>\n",
       "      <td>59</td>\n",
       "      <td>Entre 50 e 100</td>\n",
       "    </tr>\n",
       "    <tr>\n",
       "      <th>1</th>\n",
       "      <td>CMIN3</td>\n",
       "      <td>CSN Mineração</td>\n",
       "      <td>7.76</td>\n",
       "      <td>6.82</td>\n",
       "      <td>-0.94</td>\n",
       "      <td>-12.11</td>\n",
       "      <td>-0.12</td>\n",
       "      <td>1110559345</td>\n",
       "      <td>-1,043,592,199.52</td>\n",
       "      <td>Desceu</td>\n",
       "      <td>Mineração</td>\n",
       "      <td>81</td>\n",
       "      <td>Entre 50 e 100</td>\n",
       "    </tr>\n",
       "    <tr>\n",
       "      <th>2</th>\n",
       "      <td>PETR3</td>\n",
       "      <td>Petrobras 3</td>\n",
       "      <td>38.98</td>\n",
       "      <td>41.96</td>\n",
       "      <td>2.98</td>\n",
       "      <td>7.64</td>\n",
       "      <td>0.08</td>\n",
       "      <td>2379877655</td>\n",
       "      <td>7,087,772,680.46</td>\n",
       "      <td>Subiu</td>\n",
       "      <td>Petróleo e Gás</td>\n",
       "      <td>68</td>\n",
       "      <td>Entre 50 e 100</td>\n",
       "    </tr>\n",
       "    <tr>\n",
       "      <th>3</th>\n",
       "      <td>SUZB3</td>\n",
       "      <td>Suzano</td>\n",
       "      <td>55.63</td>\n",
       "      <td>52.91</td>\n",
       "      <td>-2.72</td>\n",
       "      <td>-4.89</td>\n",
       "      <td>-0.05</td>\n",
       "      <td>683452836</td>\n",
       "      <td>-1,859,212,321.66</td>\n",
       "      <td>Desceu</td>\n",
       "      <td>Papel e Celulose</td>\n",
       "      <td>97</td>\n",
       "      <td>Entre 50 e 100</td>\n",
       "    </tr>\n",
       "    <tr>\n",
       "      <th>4</th>\n",
       "      <td>CPFE3</td>\n",
       "      <td>CPFL Energia</td>\n",
       "      <td>38.51</td>\n",
       "      <td>37.10</td>\n",
       "      <td>-1.41</td>\n",
       "      <td>-3.66</td>\n",
       "      <td>-0.04</td>\n",
       "      <td>187732538</td>\n",
       "      <td>-264,598,820.89</td>\n",
       "      <td>Desceu</td>\n",
       "      <td>Energia</td>\n",
       "      <td>109</td>\n",
       "      <td>Mais que 100</td>\n",
       "    </tr>\n",
       "    <tr>\n",
       "      <th>...</th>\n",
       "      <td>...</td>\n",
       "      <td>...</td>\n",
       "      <td>...</td>\n",
       "      <td>...</td>\n",
       "      <td>...</td>\n",
       "      <td>...</td>\n",
       "      <td>...</td>\n",
       "      <td>...</td>\n",
       "      <td>...</td>\n",
       "      <td>...</td>\n",
       "      <td>...</td>\n",
       "      <td>...</td>\n",
       "      <td>...</td>\n",
       "    </tr>\n",
       "    <tr>\n",
       "      <th>78</th>\n",
       "      <td>LREN3</td>\n",
       "      <td>Lojas Renner</td>\n",
       "      <td>17.42</td>\n",
       "      <td>15.78</td>\n",
       "      <td>-1.64</td>\n",
       "      <td>-9.41</td>\n",
       "      <td>-0.09</td>\n",
       "      <td>951329770</td>\n",
       "      <td>-1,559,363,807.06</td>\n",
       "      <td>Desceu</td>\n",
       "      <td>Vestuário</td>\n",
       "      <td>54</td>\n",
       "      <td>Entre 50 e 100</td>\n",
       "    </tr>\n",
       "    <tr>\n",
       "      <th>79</th>\n",
       "      <td>CRFB3</td>\n",
       "      <td>Carrefour Brasil</td>\n",
       "      <td>12.45</td>\n",
       "      <td>10.71</td>\n",
       "      <td>-1.74</td>\n",
       "      <td>-13.98</td>\n",
       "      <td>-0.14</td>\n",
       "      <td>533990587</td>\n",
       "      <td>-929,460,216.59</td>\n",
       "      <td>Desceu</td>\n",
       "      <td>Varejo</td>\n",
       "      <td>44</td>\n",
       "      <td>Menos que 50 anos</td>\n",
       "    </tr>\n",
       "    <tr>\n",
       "      <th>80</th>\n",
       "      <td>RENT3</td>\n",
       "      <td>Localiza</td>\n",
       "      <td>63.60</td>\n",
       "      <td>56.24</td>\n",
       "      <td>-7.36</td>\n",
       "      <td>-11.57</td>\n",
       "      <td>-0.12</td>\n",
       "      <td>853202347</td>\n",
       "      <td>-6,278,141,320.20</td>\n",
       "      <td>Desceu</td>\n",
       "      <td>Aluguel de Carros</td>\n",
       "      <td>48</td>\n",
       "      <td>Menos que 50 anos</td>\n",
       "    </tr>\n",
       "    <tr>\n",
       "      <th>81</th>\n",
       "      <td>CVCB3</td>\n",
       "      <td>CVC</td>\n",
       "      <td>3.50</td>\n",
       "      <td>3.07</td>\n",
       "      <td>-0.43</td>\n",
       "      <td>-12.29</td>\n",
       "      <td>-0.12</td>\n",
       "      <td>525582771</td>\n",
       "      <td>-226,090,475.71</td>\n",
       "      <td>Desceu</td>\n",
       "      <td>Turismo</td>\n",
       "      <td>49</td>\n",
       "      <td>Menos que 50 anos</td>\n",
       "    </tr>\n",
       "    <tr>\n",
       "      <th>82</th>\n",
       "      <td>GOLL4</td>\n",
       "      <td>GOL</td>\n",
       "      <td>8.97</td>\n",
       "      <td>5.92</td>\n",
       "      <td>-3.05</td>\n",
       "      <td>-34.00</td>\n",
       "      <td>-0.34</td>\n",
       "      <td>198184909</td>\n",
       "      <td>-604,403,916.42</td>\n",
       "      <td>Desceu</td>\n",
       "      <td>Transporte Aéreo</td>\n",
       "      <td>22</td>\n",
       "      <td>Menos que 50 anos</td>\n",
       "    </tr>\n",
       "  </tbody>\n",
       "</table>\n",
       "<p>83 rows × 13 columns</p>\n",
       "</div>"
      ],
      "text/plain": [
       "   ticker              nome  valor_inicial  valor_final  var_reais  \\\n",
       "0   USIM5          Usiminas           9.29         9.50       0.21   \n",
       "1   CMIN3     CSN Mineração           7.76         6.82      -0.94   \n",
       "2   PETR3       Petrobras 3          38.98        41.96       2.98   \n",
       "3   SUZB3            Suzano          55.63        52.91      -2.72   \n",
       "4   CPFE3      CPFL Energia          38.51        37.10      -1.41   \n",
       "..    ...               ...            ...          ...        ...   \n",
       "78  LREN3      Lojas Renner          17.42        15.78      -1.64   \n",
       "79  CRFB3  Carrefour Brasil          12.45        10.71      -1.74   \n",
       "80  RENT3          Localiza          63.60        56.24      -7.36   \n",
       "81  CVCB3               CVC           3.50         3.07      -0.43   \n",
       "82  GOLL4               GOL           8.97         5.92      -3.05   \n",
       "\n",
       "    var_mensal_pct  var_pct  qtd_teorica   var_reais_total resultado  \\\n",
       "0             2.26     0.02    515117391    108,151,480.39     Subiu   \n",
       "1           -12.11    -0.12   1110559345 -1,043,592,199.52    Desceu   \n",
       "2             7.64     0.08   2379877655  7,087,772,680.46     Subiu   \n",
       "3            -4.89    -0.05    683452836 -1,859,212,321.66    Desceu   \n",
       "4            -3.66    -0.04    187732538   -264,598,820.89    Desceu   \n",
       "..             ...      ...          ...               ...       ...   \n",
       "78           -9.41    -0.09    951329770 -1,559,363,807.06    Desceu   \n",
       "79          -13.98    -0.14    533990587   -929,460,216.59    Desceu   \n",
       "80          -11.57    -0.12    853202347 -6,278,141,320.20    Desceu   \n",
       "81          -12.29    -0.12    525582771   -226,090,475.71    Desceu   \n",
       "82          -34.00    -0.34    198184909   -604,403,916.42    Desceu   \n",
       "\n",
       "             segmento  idade          cat_idade  \n",
       "0          Siderurgia     59     Entre 50 e 100  \n",
       "1           Mineração     81     Entre 50 e 100  \n",
       "2      Petróleo e Gás     68     Entre 50 e 100  \n",
       "3    Papel e Celulose     97     Entre 50 e 100  \n",
       "4             Energia    109       Mais que 100  \n",
       "..                ...    ...                ...  \n",
       "78          Vestuário     54     Entre 50 e 100  \n",
       "79             Varejo     44  Menos que 50 anos  \n",
       "80  Aluguel de Carros     48  Menos que 50 anos  \n",
       "81            Turismo     49  Menos que 50 anos  \n",
       "82   Transporte Aéreo     22  Menos que 50 anos  \n",
       "\n",
       "[83 rows x 13 columns]"
      ]
     },
     "execution_count": 116,
     "metadata": {},
     "output_type": "execute_result"
    }
   ],
   "source": [
    "df_principal_mensal = df_principal_mensal[[\n",
    "    \"ticker\",\n",
    "    \"nome\",\n",
    "    \"valor_inicial\",\n",
    "    \"valor_final\",\n",
    "    \"var_reais\",\n",
    "    \"var_mensal_pct\",\n",
    "    \"var_pct\",\n",
    "    \"qtd_teorica\",\n",
    "    \"var_reais_total\",\n",
    "    \"resultado\",\n",
    "    \"segmento\",\n",
    "    \"idade\",\n",
    "    \"cat_idade\"\n",
    "    ]]\n",
    "df_principal_mensal"
   ]
  },
  {
   "cell_type": "code",
   "execution_count": null,
   "metadata": {},
   "outputs": [
    {
     "name": "stdout",
     "output_type": "stream",
     "text": [
      "Maior\tR$ 12,414,434,171.44\n",
      "Menor\tR$ -32,301,586,275.92\n",
      "Mémensal\tR$ -1,128,731,359.51\n",
      "Mémensal de quem subiu\tR$ 1,582,080,068.31\n",
      "Mémensal de quem desceu\tR$ -1,879,417,601.07\n"
     ]
    }
   ],
   "source": [
    "# Calculando o maior valor\n",
    "maior = df_principal_mensal['var_reais_total'].max()\n",
    "\n",
    "# Calculando o menor valor\n",
    "menor = df_principal_mensal['var_reais_total'].min()\n",
    "\n",
    "# Calculando a mémensal\n",
    "memensal = df_principal_mensal['var_reais_total'].mean()\n",
    "\n",
    "# Calculando a mémensal de quem subiu\n",
    "memensal_subiu = df_principal_mensal[df_principal_mensal['resultado'] == 'Subiu']['var_reais_total'].mean()\n",
    "\n",
    "# Calculando a mémensal de quem desceu\n",
    "memensal_desceu = df_principal_mensal[df_principal_mensal['resultado'] == 'Desceu']['var_reais_total'].mean()\n",
    "\n",
    "# Imprimindo os resultados\n",
    "print(f\"Maior\\tR$ {maior:,.2f}\")\n",
    "print(f\"Menor\\tR$ {menor:,.2f}\")\n",
    "print(f\"Mémensal\\tR$ {memensal:,.2f}\")\n",
    "print(f\"Mémensal de quem subiu\\tR$ {memensal_subiu:,.2f}\")\n",
    "print(f\"Mémensal de quem desceu\\tR$ {memensal_desceu:,.2f}\")"
   ]
  },
  {
   "cell_type": "code",
   "execution_count": null,
   "metadata": {},
   "outputs": [
    {
     "data": {
      "text/html": [
       "<div>\n",
       "<style scoped>\n",
       "    .dataframe tbody tr th:only-of-type {\n",
       "        vertical-align: middle;\n",
       "    }\n",
       "\n",
       "    .dataframe tbody tr th {\n",
       "        vertical-align: top;\n",
       "    }\n",
       "\n",
       "    .dataframe thead th {\n",
       "        text-align: right;\n",
       "    }\n",
       "</style>\n",
       "<table border=\"1\" class=\"dataframe\">\n",
       "  <thead>\n",
       "    <tr style=\"text-align: right;\">\n",
       "      <th></th>\n",
       "      <th>ticker</th>\n",
       "      <th>nome</th>\n",
       "      <th>valor_inicial</th>\n",
       "      <th>valor_final</th>\n",
       "      <th>var_reais</th>\n",
       "      <th>var_mensal_pct</th>\n",
       "      <th>var_pct</th>\n",
       "      <th>qtd_teorica</th>\n",
       "      <th>var_reais_total</th>\n",
       "      <th>resultado</th>\n",
       "      <th>segmento</th>\n",
       "      <th>idade</th>\n",
       "      <th>cat_idade</th>\n",
       "    </tr>\n",
       "  </thead>\n",
       "  <tbody>\n",
       "    <tr>\n",
       "      <th>0</th>\n",
       "      <td>USIM5</td>\n",
       "      <td>Usiminas</td>\n",
       "      <td>9.29</td>\n",
       "      <td>9.50</td>\n",
       "      <td>0.21</td>\n",
       "      <td>2.26</td>\n",
       "      <td>0.02</td>\n",
       "      <td>515117391</td>\n",
       "      <td>108,151,480.39</td>\n",
       "      <td>Subiu</td>\n",
       "      <td>Siderurgia</td>\n",
       "      <td>59</td>\n",
       "      <td>Entre 50 e 100</td>\n",
       "    </tr>\n",
       "    <tr>\n",
       "      <th>2</th>\n",
       "      <td>PETR3</td>\n",
       "      <td>Petrobras 3</td>\n",
       "      <td>38.98</td>\n",
       "      <td>41.96</td>\n",
       "      <td>2.98</td>\n",
       "      <td>7.64</td>\n",
       "      <td>0.08</td>\n",
       "      <td>2379877655</td>\n",
       "      <td>7,087,772,680.46</td>\n",
       "      <td>Subiu</td>\n",
       "      <td>Petróleo e Gás</td>\n",
       "      <td>68</td>\n",
       "      <td>Entre 50 e 100</td>\n",
       "    </tr>\n",
       "    <tr>\n",
       "      <th>6</th>\n",
       "      <td>PETR4</td>\n",
       "      <td>Petrobras4</td>\n",
       "      <td>37.24</td>\n",
       "      <td>39.96</td>\n",
       "      <td>2.72</td>\n",
       "      <td>7.30</td>\n",
       "      <td>0.07</td>\n",
       "      <td>4566445852</td>\n",
       "      <td>12,414,434,171.44</td>\n",
       "      <td>Subiu</td>\n",
       "      <td>Petróleo e Gás</td>\n",
       "      <td>68</td>\n",
       "      <td>Entre 50 e 100</td>\n",
       "    </tr>\n",
       "    <tr>\n",
       "      <th>13</th>\n",
       "      <td>RRRP3</td>\n",
       "      <td>3R Petroleum</td>\n",
       "      <td>26.28</td>\n",
       "      <td>28.75</td>\n",
       "      <td>2.47</td>\n",
       "      <td>9.40</td>\n",
       "      <td>0.09</td>\n",
       "      <td>235665566</td>\n",
       "      <td>582,162,881.28</td>\n",
       "      <td>Subiu</td>\n",
       "      <td>Petróleo e Gás</td>\n",
       "      <td>9</td>\n",
       "      <td>Menos que 50 anos</td>\n",
       "    </tr>\n",
       "    <tr>\n",
       "      <th>17</th>\n",
       "      <td>UGPA3</td>\n",
       "      <td>Ultrapar</td>\n",
       "      <td>26.51</td>\n",
       "      <td>28.31</td>\n",
       "      <td>1.80</td>\n",
       "      <td>6.79</td>\n",
       "      <td>0.07</td>\n",
       "      <td>1086411192</td>\n",
       "      <td>1,955,569,648.29</td>\n",
       "      <td>Subiu</td>\n",
       "      <td>Conglomerado</td>\n",
       "      <td>84</td>\n",
       "      <td>Entre 50 e 100</td>\n",
       "    </tr>\n",
       "    <tr>\n",
       "      <th>22</th>\n",
       "      <td>PCAR3</td>\n",
       "      <td>Grupo Pão de Açúcar</td>\n",
       "      <td>4.06</td>\n",
       "      <td>4.14</td>\n",
       "      <td>0.08</td>\n",
       "      <td>1.97</td>\n",
       "      <td>0.02</td>\n",
       "      <td>159430826</td>\n",
       "      <td>12,751,651.77</td>\n",
       "      <td>Subiu</td>\n",
       "      <td>Varejo</td>\n",
       "      <td>62</td>\n",
       "      <td>Entre 50 e 100</td>\n",
       "    </tr>\n",
       "    <tr>\n",
       "      <th>23</th>\n",
       "      <td>BRFS3</td>\n",
       "      <td>BRF</td>\n",
       "      <td>13.81</td>\n",
       "      <td>14.61</td>\n",
       "      <td>0.80</td>\n",
       "      <td>5.79</td>\n",
       "      <td>0.06</td>\n",
       "      <td>1677525446</td>\n",
       "      <td>1,341,384,486.01</td>\n",
       "      <td>Subiu</td>\n",
       "      <td>Alimentos</td>\n",
       "      <td>85</td>\n",
       "      <td>Entre 50 e 100</td>\n",
       "    </tr>\n",
       "    <tr>\n",
       "      <th>26</th>\n",
       "      <td>CIEL3</td>\n",
       "      <td>Cielo</td>\n",
       "      <td>4.63</td>\n",
       "      <td>4.90</td>\n",
       "      <td>0.27</td>\n",
       "      <td>5.83</td>\n",
       "      <td>0.06</td>\n",
       "      <td>1095462329</td>\n",
       "      <td>295,701,335.66</td>\n",
       "      <td>Subiu</td>\n",
       "      <td>Serviços Financeiros</td>\n",
       "      <td>23</td>\n",
       "      <td>Menos que 50 anos</td>\n",
       "    </tr>\n",
       "    <tr>\n",
       "      <th>31</th>\n",
       "      <td>RECV3</td>\n",
       "      <td>PetroRecôncavo</td>\n",
       "      <td>21.72</td>\n",
       "      <td>23.83</td>\n",
       "      <td>2.11</td>\n",
       "      <td>9.71</td>\n",
       "      <td>0.10</td>\n",
       "      <td>275005663</td>\n",
       "      <td>580,014,290.93</td>\n",
       "      <td>Subiu</td>\n",
       "      <td>Petróleo e Gás</td>\n",
       "      <td>9</td>\n",
       "      <td>Menos que 50 anos</td>\n",
       "    </tr>\n",
       "    <tr>\n",
       "      <th>33</th>\n",
       "      <td>BBAS3</td>\n",
       "      <td>Banco do Brasil</td>\n",
       "      <td>55.39</td>\n",
       "      <td>56.97</td>\n",
       "      <td>1.58</td>\n",
       "      <td>2.85</td>\n",
       "      <td>0.03</td>\n",
       "      <td>1420949112</td>\n",
       "      <td>2,243,186,116.63</td>\n",
       "      <td>Subiu</td>\n",
       "      <td>Bancos</td>\n",
       "      <td>214</td>\n",
       "      <td>Mais que 100</td>\n",
       "    </tr>\n",
       "    <tr>\n",
       "      <th>45</th>\n",
       "      <td>MRFG3</td>\n",
       "      <td>Marfrig</td>\n",
       "      <td>9.70</td>\n",
       "      <td>9.74</td>\n",
       "      <td>0.04</td>\n",
       "      <td>0.41</td>\n",
       "      <td>0.00</td>\n",
       "      <td>331799687</td>\n",
       "      <td>13,195,985.16</td>\n",
       "      <td>Subiu</td>\n",
       "      <td>Alimentos</td>\n",
       "      <td>12</td>\n",
       "      <td>Menos que 50 anos</td>\n",
       "    </tr>\n",
       "    <tr>\n",
       "      <th>47</th>\n",
       "      <td>BBSE3</td>\n",
       "      <td>BB Seguridade</td>\n",
       "      <td>33.65</td>\n",
       "      <td>33.73</td>\n",
       "      <td>0.08</td>\n",
       "      <td>0.24</td>\n",
       "      <td>0.00</td>\n",
       "      <td>671750768</td>\n",
       "      <td>54,249,369.68</td>\n",
       "      <td>Subiu</td>\n",
       "      <td>Seguros</td>\n",
       "      <td>11</td>\n",
       "      <td>Menos que 50 anos</td>\n",
       "    </tr>\n",
       "    <tr>\n",
       "      <th>48</th>\n",
       "      <td>SBSP3</td>\n",
       "      <td>Sabesp</td>\n",
       "      <td>75.37</td>\n",
       "      <td>77.04</td>\n",
       "      <td>1.67</td>\n",
       "      <td>2.22</td>\n",
       "      <td>0.02</td>\n",
       "      <td>340001799</td>\n",
       "      <td>568,872,037.57</td>\n",
       "      <td>Subiu</td>\n",
       "      <td>Saneamento</td>\n",
       "      <td>48</td>\n",
       "      <td>Menos que 50 anos</td>\n",
       "    </tr>\n",
       "    <tr>\n",
       "      <th>50</th>\n",
       "      <td>CMIG4</td>\n",
       "      <td>CEMIG</td>\n",
       "      <td>11.48</td>\n",
       "      <td>11.64</td>\n",
       "      <td>0.16</td>\n",
       "      <td>1.39</td>\n",
       "      <td>0.01</td>\n",
       "      <td>1437415777</td>\n",
       "      <td>229,379,744.61</td>\n",
       "      <td>Subiu</td>\n",
       "      <td>Energia</td>\n",
       "      <td>70</td>\n",
       "      <td>Entre 50 e 100</td>\n",
       "    </tr>\n",
       "    <tr>\n",
       "      <th>55</th>\n",
       "      <td>SLCE3</td>\n",
       "      <td>SLC Agrícola</td>\n",
       "      <td>18.82</td>\n",
       "      <td>19.30</td>\n",
       "      <td>0.48</td>\n",
       "      <td>2.55</td>\n",
       "      <td>0.03</td>\n",
       "      <td>195751130</td>\n",
       "      <td>93,943,362.88</td>\n",
       "      <td>Subiu</td>\n",
       "      <td>Agronegócio</td>\n",
       "      <td>44</td>\n",
       "      <td>Menos que 50 anos</td>\n",
       "    </tr>\n",
       "    <tr>\n",
       "      <th>61</th>\n",
       "      <td>VBBR3</td>\n",
       "      <td>Vibra Energia</td>\n",
       "      <td>22.76</td>\n",
       "      <td>23.23</td>\n",
       "      <td>0.47</td>\n",
       "      <td>2.07</td>\n",
       "      <td>0.02</td>\n",
       "      <td>1114412532</td>\n",
       "      <td>525,009,821.25</td>\n",
       "      <td>Subiu</td>\n",
       "      <td>Energia</td>\n",
       "      <td>11</td>\n",
       "      <td>Menos que 50 anos</td>\n",
       "    </tr>\n",
       "    <tr>\n",
       "      <th>71</th>\n",
       "      <td>EMBR3</td>\n",
       "      <td>Embraer</td>\n",
       "      <td>22.39</td>\n",
       "      <td>22.40</td>\n",
       "      <td>0.01</td>\n",
       "      <td>0.04</td>\n",
       "      <td>0.00</td>\n",
       "      <td>734632705</td>\n",
       "      <td>6,579,677.17</td>\n",
       "      <td>Subiu</td>\n",
       "      <td>Aeroespacial</td>\n",
       "      <td>53</td>\n",
       "      <td>Entre 50 e 100</td>\n",
       "    </tr>\n",
       "    <tr>\n",
       "      <th>73</th>\n",
       "      <td>ASAI3</td>\n",
       "      <td>Assaí</td>\n",
       "      <td>13.53</td>\n",
       "      <td>13.80</td>\n",
       "      <td>0.27</td>\n",
       "      <td>2.00</td>\n",
       "      <td>0.02</td>\n",
       "      <td>1349217892</td>\n",
       "      <td>365,082,488.42</td>\n",
       "      <td>Subiu</td>\n",
       "      <td>Atacado</td>\n",
       "      <td>54</td>\n",
       "      <td>Entre 50 e 100</td>\n",
       "    </tr>\n",
       "  </tbody>\n",
       "</table>\n",
       "</div>"
      ],
      "text/plain": [
       "   ticker                 nome  valor_inicial  valor_final  var_reais  \\\n",
       "0   USIM5             Usiminas           9.29         9.50       0.21   \n",
       "2   PETR3          Petrobras 3          38.98        41.96       2.98   \n",
       "6   PETR4           Petrobras4          37.24        39.96       2.72   \n",
       "13  RRRP3         3R Petroleum          26.28        28.75       2.47   \n",
       "17  UGPA3             Ultrapar          26.51        28.31       1.80   \n",
       "22  PCAR3  Grupo Pão de Açúcar           4.06         4.14       0.08   \n",
       "23  BRFS3                  BRF          13.81        14.61       0.80   \n",
       "26  CIEL3                Cielo           4.63         4.90       0.27   \n",
       "31  RECV3       PetroRecôncavo          21.72        23.83       2.11   \n",
       "33  BBAS3      Banco do Brasil          55.39        56.97       1.58   \n",
       "45  MRFG3              Marfrig           9.70         9.74       0.04   \n",
       "47  BBSE3        BB Seguridade          33.65        33.73       0.08   \n",
       "48  SBSP3               Sabesp          75.37        77.04       1.67   \n",
       "50  CMIG4                CEMIG          11.48        11.64       0.16   \n",
       "55  SLCE3         SLC Agrícola          18.82        19.30       0.48   \n",
       "61  VBBR3        Vibra Energia          22.76        23.23       0.47   \n",
       "71  EMBR3              Embraer          22.39        22.40       0.01   \n",
       "73  ASAI3                Assaí          13.53        13.80       0.27   \n",
       "\n",
       "    var_mensal_pct  var_pct  qtd_teorica   var_reais_total resultado  \\\n",
       "0             2.26     0.02    515117391    108,151,480.39     Subiu   \n",
       "2             7.64     0.08   2379877655  7,087,772,680.46     Subiu   \n",
       "6             7.30     0.07   4566445852 12,414,434,171.44     Subiu   \n",
       "13            9.40     0.09    235665566    582,162,881.28     Subiu   \n",
       "17            6.79     0.07   1086411192  1,955,569,648.29     Subiu   \n",
       "22            1.97     0.02    159430826     12,751,651.77     Subiu   \n",
       "23            5.79     0.06   1677525446  1,341,384,486.01     Subiu   \n",
       "26            5.83     0.06   1095462329    295,701,335.66     Subiu   \n",
       "31            9.71     0.10    275005663    580,014,290.93     Subiu   \n",
       "33            2.85     0.03   1420949112  2,243,186,116.63     Subiu   \n",
       "45            0.41     0.00    331799687     13,195,985.16     Subiu   \n",
       "47            0.24     0.00    671750768     54,249,369.68     Subiu   \n",
       "48            2.22     0.02    340001799    568,872,037.57     Subiu   \n",
       "50            1.39     0.01   1437415777    229,379,744.61     Subiu   \n",
       "55            2.55     0.03    195751130     93,943,362.88     Subiu   \n",
       "61            2.07     0.02   1114412532    525,009,821.25     Subiu   \n",
       "71            0.04     0.00    734632705      6,579,677.17     Subiu   \n",
       "73            2.00     0.02   1349217892    365,082,488.42     Subiu   \n",
       "\n",
       "                segmento  idade          cat_idade  \n",
       "0             Siderurgia     59     Entre 50 e 100  \n",
       "2         Petróleo e Gás     68     Entre 50 e 100  \n",
       "6         Petróleo e Gás     68     Entre 50 e 100  \n",
       "13        Petróleo e Gás      9  Menos que 50 anos  \n",
       "17          Conglomerado     84     Entre 50 e 100  \n",
       "22                Varejo     62     Entre 50 e 100  \n",
       "23             Alimentos     85     Entre 50 e 100  \n",
       "26  Serviços Financeiros     23  Menos que 50 anos  \n",
       "31        Petróleo e Gás      9  Menos que 50 anos  \n",
       "33                Bancos    214       Mais que 100  \n",
       "45             Alimentos     12  Menos que 50 anos  \n",
       "47               Seguros     11  Menos que 50 anos  \n",
       "48            Saneamento     48  Menos que 50 anos  \n",
       "50               Energia     70     Entre 50 e 100  \n",
       "55           Agronegócio     44  Menos que 50 anos  \n",
       "61               Energia     11  Menos que 50 anos  \n",
       "71          Aeroespacial     53     Entre 50 e 100  \n",
       "73               Atacado     54     Entre 50 e 100  "
      ]
     },
     "execution_count": 118,
     "metadata": {},
     "output_type": "execute_result"
    }
   ],
   "source": [
    "df_principal_mensal_subiu = df_principal_mensal[df_principal_mensal['resultado'] == \"Subiu\"]\n",
    "df_principal_mensal_subiu"
   ]
  },
  {
   "cell_type": "code",
   "execution_count": null,
   "metadata": {},
   "outputs": [
    {
     "data": {
      "text/html": [
       "<div>\n",
       "<style scoped>\n",
       "    .dataframe tbody tr th:only-of-type {\n",
       "        vertical-align: middle;\n",
       "    }\n",
       "\n",
       "    .dataframe tbody tr th {\n",
       "        vertical-align: top;\n",
       "    }\n",
       "\n",
       "    .dataframe thead th {\n",
       "        text-align: right;\n",
       "    }\n",
       "</style>\n",
       "<table border=\"1\" class=\"dataframe\">\n",
       "  <thead>\n",
       "    <tr style=\"text-align: right;\">\n",
       "      <th></th>\n",
       "      <th>segmento</th>\n",
       "      <th>var_reais_total</th>\n",
       "    </tr>\n",
       "  </thead>\n",
       "  <tbody>\n",
       "    <tr>\n",
       "      <th>0</th>\n",
       "      <td>Aeroespacial</td>\n",
       "      <td>6,579,677.17</td>\n",
       "    </tr>\n",
       "    <tr>\n",
       "      <th>1</th>\n",
       "      <td>Agronegócio</td>\n",
       "      <td>93,943,362.88</td>\n",
       "    </tr>\n",
       "    <tr>\n",
       "      <th>2</th>\n",
       "      <td>Alimentos</td>\n",
       "      <td>1,354,580,471.18</td>\n",
       "    </tr>\n",
       "    <tr>\n",
       "      <th>3</th>\n",
       "      <td>Atacado</td>\n",
       "      <td>365,082,488.42</td>\n",
       "    </tr>\n",
       "    <tr>\n",
       "      <th>4</th>\n",
       "      <td>Bancos</td>\n",
       "      <td>2,243,186,116.63</td>\n",
       "    </tr>\n",
       "    <tr>\n",
       "      <th>5</th>\n",
       "      <td>Conglomerado</td>\n",
       "      <td>1,955,569,648.29</td>\n",
       "    </tr>\n",
       "    <tr>\n",
       "      <th>6</th>\n",
       "      <td>Energia</td>\n",
       "      <td>754,389,565.86</td>\n",
       "    </tr>\n",
       "    <tr>\n",
       "      <th>7</th>\n",
       "      <td>Petróleo e Gás</td>\n",
       "      <td>20,664,384,024.10</td>\n",
       "    </tr>\n",
       "    <tr>\n",
       "      <th>8</th>\n",
       "      <td>Saneamento</td>\n",
       "      <td>568,872,037.57</td>\n",
       "    </tr>\n",
       "    <tr>\n",
       "      <th>9</th>\n",
       "      <td>Seguros</td>\n",
       "      <td>54,249,369.68</td>\n",
       "    </tr>\n",
       "    <tr>\n",
       "      <th>10</th>\n",
       "      <td>Serviços Financeiros</td>\n",
       "      <td>295,701,335.66</td>\n",
       "    </tr>\n",
       "    <tr>\n",
       "      <th>11</th>\n",
       "      <td>Siderurgia</td>\n",
       "      <td>108,151,480.39</td>\n",
       "    </tr>\n",
       "    <tr>\n",
       "      <th>12</th>\n",
       "      <td>Varejo</td>\n",
       "      <td>12,751,651.77</td>\n",
       "    </tr>\n",
       "  </tbody>\n",
       "</table>\n",
       "</div>"
      ],
      "text/plain": [
       "                segmento   var_reais_total\n",
       "0           Aeroespacial      6,579,677.17\n",
       "1            Agronegócio     93,943,362.88\n",
       "2              Alimentos  1,354,580,471.18\n",
       "3                Atacado    365,082,488.42\n",
       "4                 Bancos  2,243,186,116.63\n",
       "5           Conglomerado  1,955,569,648.29\n",
       "6                Energia    754,389,565.86\n",
       "7         Petróleo e Gás 20,664,384,024.10\n",
       "8             Saneamento    568,872,037.57\n",
       "9                Seguros     54,249,369.68\n",
       "10  Serviços Financeiros    295,701,335.66\n",
       "11            Siderurgia    108,151,480.39\n",
       "12                Varejo     12,751,651.77"
      ]
     },
     "execution_count": 119,
     "metadata": {},
     "output_type": "execute_result"
    }
   ],
   "source": [
    "df_analise_segmento_mensal = df_principal_mensal_subiu.groupby('segmento')[\"var_reais_total\"].sum().reset_index()\n",
    "df_analise_segmento_mensal"
   ]
  },
  {
   "cell_type": "code",
   "execution_count": 169,
   "metadata": {},
   "outputs": [
    {
     "data": {
      "application/vnd.plotly.v1+json": {
       "config": {
        "plotlyServerURL": "https://plot.ly"
       },
       "data": [
        {
         "customdata": [
          [
           "Aeroespacial"
          ],
          [
           "Agronegócio"
          ],
          [
           "Alimentos"
          ],
          [
           "Atacado"
          ],
          [
           "Bancos"
          ],
          [
           "Conglomerado"
          ],
          [
           "Energia"
          ],
          [
           "Petróleo e Gás"
          ],
          [
           "Saneamento"
          ],
          [
           "Seguros"
          ],
          [
           "Serviços Financeiros"
          ],
          [
           "Siderurgia"
          ],
          [
           "Varejo"
          ]
         ],
         "domain": {
          "x": [
           0,
           1
          ],
          "y": [
           0,
           1
          ]
         },
         "hovertemplate": "segmento=%{customdata[0]}<br>var_reais_total=%{value}<extra></extra>",
         "labels": [
          "Aeroespacial",
          "Agronegócio",
          "Alimentos",
          "Atacado",
          "Bancos",
          "Conglomerado",
          "Energia",
          "Petróleo e Gás",
          "Saneamento",
          "Seguros",
          "Serviços Financeiros",
          "Siderurgia",
          "Varejo"
         ],
         "legendgroup": "",
         "name": "",
         "showlegend": true,
         "textposition": "inside",
         "type": "pie",
         "values": [
          6579677.1659332905,
          93943362.876158,
          1354580471.1761255,
          365082488.4235305,
          2243186116.629303,
          1955569648.2917976,
          754389565.8556498,
          20664384024.10235,
          568872037.5739695,
          54249369.683895245,
          295701335.65664715,
          108151480.39086604,
          12751651.767096197
         ]
        }
       ],
       "layout": {
        "legend": {
         "tracegroupgap": 0
        },
        "template": {
         "data": {
          "bar": [
           {
            "error_x": {
             "color": "#2a3f5f"
            },
            "error_y": {
             "color": "#2a3f5f"
            },
            "marker": {
             "line": {
              "color": "#E5ECF6",
              "width": 0.5
             },
             "pattern": {
              "fillmode": "overlay",
              "size": 10,
              "solidity": 0.2
             }
            },
            "type": "bar"
           }
          ],
          "barpolar": [
           {
            "marker": {
             "line": {
              "color": "#E5ECF6",
              "width": 0.5
             },
             "pattern": {
              "fillmode": "overlay",
              "size": 10,
              "solidity": 0.2
             }
            },
            "type": "barpolar"
           }
          ],
          "carpet": [
           {
            "aaxis": {
             "endlinecolor": "#2a3f5f",
             "gridcolor": "white",
             "linecolor": "white",
             "minorgridcolor": "white",
             "startlinecolor": "#2a3f5f"
            },
            "baxis": {
             "endlinecolor": "#2a3f5f",
             "gridcolor": "white",
             "linecolor": "white",
             "minorgridcolor": "white",
             "startlinecolor": "#2a3f5f"
            },
            "type": "carpet"
           }
          ],
          "choropleth": [
           {
            "colorbar": {
             "outlinewidth": 0,
             "ticks": ""
            },
            "type": "choropleth"
           }
          ],
          "contour": [
           {
            "colorbar": {
             "outlinewidth": 0,
             "ticks": ""
            },
            "colorscale": [
             [
              0,
              "#0d0887"
             ],
             [
              0.1111111111111111,
              "#46039f"
             ],
             [
              0.2222222222222222,
              "#7201a8"
             ],
             [
              0.3333333333333333,
              "#9c179e"
             ],
             [
              0.4444444444444444,
              "#bd3786"
             ],
             [
              0.5555555555555556,
              "#d8576b"
             ],
             [
              0.6666666666666666,
              "#ed7953"
             ],
             [
              0.7777777777777778,
              "#fb9f3a"
             ],
             [
              0.8888888888888888,
              "#fdca26"
             ],
             [
              1,
              "#f0f921"
             ]
            ],
            "type": "contour"
           }
          ],
          "contourcarpet": [
           {
            "colorbar": {
             "outlinewidth": 0,
             "ticks": ""
            },
            "type": "contourcarpet"
           }
          ],
          "heatmap": [
           {
            "colorbar": {
             "outlinewidth": 0,
             "ticks": ""
            },
            "colorscale": [
             [
              0,
              "#0d0887"
             ],
             [
              0.1111111111111111,
              "#46039f"
             ],
             [
              0.2222222222222222,
              "#7201a8"
             ],
             [
              0.3333333333333333,
              "#9c179e"
             ],
             [
              0.4444444444444444,
              "#bd3786"
             ],
             [
              0.5555555555555556,
              "#d8576b"
             ],
             [
              0.6666666666666666,
              "#ed7953"
             ],
             [
              0.7777777777777778,
              "#fb9f3a"
             ],
             [
              0.8888888888888888,
              "#fdca26"
             ],
             [
              1,
              "#f0f921"
             ]
            ],
            "type": "heatmap"
           }
          ],
          "heatmapgl": [
           {
            "colorbar": {
             "outlinewidth": 0,
             "ticks": ""
            },
            "colorscale": [
             [
              0,
              "#0d0887"
             ],
             [
              0.1111111111111111,
              "#46039f"
             ],
             [
              0.2222222222222222,
              "#7201a8"
             ],
             [
              0.3333333333333333,
              "#9c179e"
             ],
             [
              0.4444444444444444,
              "#bd3786"
             ],
             [
              0.5555555555555556,
              "#d8576b"
             ],
             [
              0.6666666666666666,
              "#ed7953"
             ],
             [
              0.7777777777777778,
              "#fb9f3a"
             ],
             [
              0.8888888888888888,
              "#fdca26"
             ],
             [
              1,
              "#f0f921"
             ]
            ],
            "type": "heatmapgl"
           }
          ],
          "histogram": [
           {
            "marker": {
             "pattern": {
              "fillmode": "overlay",
              "size": 10,
              "solidity": 0.2
             }
            },
            "type": "histogram"
           }
          ],
          "histogram2d": [
           {
            "colorbar": {
             "outlinewidth": 0,
             "ticks": ""
            },
            "colorscale": [
             [
              0,
              "#0d0887"
             ],
             [
              0.1111111111111111,
              "#46039f"
             ],
             [
              0.2222222222222222,
              "#7201a8"
             ],
             [
              0.3333333333333333,
              "#9c179e"
             ],
             [
              0.4444444444444444,
              "#bd3786"
             ],
             [
              0.5555555555555556,
              "#d8576b"
             ],
             [
              0.6666666666666666,
              "#ed7953"
             ],
             [
              0.7777777777777778,
              "#fb9f3a"
             ],
             [
              0.8888888888888888,
              "#fdca26"
             ],
             [
              1,
              "#f0f921"
             ]
            ],
            "type": "histogram2d"
           }
          ],
          "histogram2dcontour": [
           {
            "colorbar": {
             "outlinewidth": 0,
             "ticks": ""
            },
            "colorscale": [
             [
              0,
              "#0d0887"
             ],
             [
              0.1111111111111111,
              "#46039f"
             ],
             [
              0.2222222222222222,
              "#7201a8"
             ],
             [
              0.3333333333333333,
              "#9c179e"
             ],
             [
              0.4444444444444444,
              "#bd3786"
             ],
             [
              0.5555555555555556,
              "#d8576b"
             ],
             [
              0.6666666666666666,
              "#ed7953"
             ],
             [
              0.7777777777777778,
              "#fb9f3a"
             ],
             [
              0.8888888888888888,
              "#fdca26"
             ],
             [
              1,
              "#f0f921"
             ]
            ],
            "type": "histogram2dcontour"
           }
          ],
          "mesh3d": [
           {
            "colorbar": {
             "outlinewidth": 0,
             "ticks": ""
            },
            "type": "mesh3d"
           }
          ],
          "parcoords": [
           {
            "line": {
             "colorbar": {
              "outlinewidth": 0,
              "ticks": ""
             }
            },
            "type": "parcoords"
           }
          ],
          "pie": [
           {
            "automargin": true,
            "type": "pie"
           }
          ],
          "scatter": [
           {
            "fillpattern": {
             "fillmode": "overlay",
             "size": 10,
             "solidity": 0.2
            },
            "type": "scatter"
           }
          ],
          "scatter3d": [
           {
            "line": {
             "colorbar": {
              "outlinewidth": 0,
              "ticks": ""
             }
            },
            "marker": {
             "colorbar": {
              "outlinewidth": 0,
              "ticks": ""
             }
            },
            "type": "scatter3d"
           }
          ],
          "scattercarpet": [
           {
            "marker": {
             "colorbar": {
              "outlinewidth": 0,
              "ticks": ""
             }
            },
            "type": "scattercarpet"
           }
          ],
          "scattergeo": [
           {
            "marker": {
             "colorbar": {
              "outlinewidth": 0,
              "ticks": ""
             }
            },
            "type": "scattergeo"
           }
          ],
          "scattergl": [
           {
            "marker": {
             "colorbar": {
              "outlinewidth": 0,
              "ticks": ""
             }
            },
            "type": "scattergl"
           }
          ],
          "scattermapbox": [
           {
            "marker": {
             "colorbar": {
              "outlinewidth": 0,
              "ticks": ""
             }
            },
            "type": "scattermapbox"
           }
          ],
          "scatterpolar": [
           {
            "marker": {
             "colorbar": {
              "outlinewidth": 0,
              "ticks": ""
             }
            },
            "type": "scatterpolar"
           }
          ],
          "scatterpolargl": [
           {
            "marker": {
             "colorbar": {
              "outlinewidth": 0,
              "ticks": ""
             }
            },
            "type": "scatterpolargl"
           }
          ],
          "scatterternary": [
           {
            "marker": {
             "colorbar": {
              "outlinewidth": 0,
              "ticks": ""
             }
            },
            "type": "scatterternary"
           }
          ],
          "surface": [
           {
            "colorbar": {
             "outlinewidth": 0,
             "ticks": ""
            },
            "colorscale": [
             [
              0,
              "#0d0887"
             ],
             [
              0.1111111111111111,
              "#46039f"
             ],
             [
              0.2222222222222222,
              "#7201a8"
             ],
             [
              0.3333333333333333,
              "#9c179e"
             ],
             [
              0.4444444444444444,
              "#bd3786"
             ],
             [
              0.5555555555555556,
              "#d8576b"
             ],
             [
              0.6666666666666666,
              "#ed7953"
             ],
             [
              0.7777777777777778,
              "#fb9f3a"
             ],
             [
              0.8888888888888888,
              "#fdca26"
             ],
             [
              1,
              "#f0f921"
             ]
            ],
            "type": "surface"
           }
          ],
          "table": [
           {
            "cells": {
             "fill": {
              "color": "#EBF0F8"
             },
             "line": {
              "color": "white"
             }
            },
            "header": {
             "fill": {
              "color": "#C8D4E3"
             },
             "line": {
              "color": "white"
             }
            },
            "type": "table"
           }
          ]
         },
         "layout": {
          "annotationdefaults": {
           "arrowcolor": "#2a3f5f",
           "arrowhead": 0,
           "arrowwidth": 1
          },
          "autotypenumbers": "strict",
          "coloraxis": {
           "colorbar": {
            "outlinewidth": 0,
            "ticks": ""
           }
          },
          "colorscale": {
           "diverging": [
            [
             0,
             "#8e0152"
            ],
            [
             0.1,
             "#c51b7d"
            ],
            [
             0.2,
             "#de77ae"
            ],
            [
             0.3,
             "#f1b6da"
            ],
            [
             0.4,
             "#fde0ef"
            ],
            [
             0.5,
             "#f7f7f7"
            ],
            [
             0.6,
             "#e6f5d0"
            ],
            [
             0.7,
             "#b8e186"
            ],
            [
             0.8,
             "#7fbc41"
            ],
            [
             0.9,
             "#4d9221"
            ],
            [
             1,
             "#276419"
            ]
           ],
           "sequential": [
            [
             0,
             "#0d0887"
            ],
            [
             0.1111111111111111,
             "#46039f"
            ],
            [
             0.2222222222222222,
             "#7201a8"
            ],
            [
             0.3333333333333333,
             "#9c179e"
            ],
            [
             0.4444444444444444,
             "#bd3786"
            ],
            [
             0.5555555555555556,
             "#d8576b"
            ],
            [
             0.6666666666666666,
             "#ed7953"
            ],
            [
             0.7777777777777778,
             "#fb9f3a"
            ],
            [
             0.8888888888888888,
             "#fdca26"
            ],
            [
             1,
             "#f0f921"
            ]
           ],
           "sequentialminus": [
            [
             0,
             "#0d0887"
            ],
            [
             0.1111111111111111,
             "#46039f"
            ],
            [
             0.2222222222222222,
             "#7201a8"
            ],
            [
             0.3333333333333333,
             "#9c179e"
            ],
            [
             0.4444444444444444,
             "#bd3786"
            ],
            [
             0.5555555555555556,
             "#d8576b"
            ],
            [
             0.6666666666666666,
             "#ed7953"
            ],
            [
             0.7777777777777778,
             "#fb9f3a"
            ],
            [
             0.8888888888888888,
             "#fdca26"
            ],
            [
             1,
             "#f0f921"
            ]
           ]
          },
          "colorway": [
           "#636efa",
           "#EF553B",
           "#00cc96",
           "#ab63fa",
           "#FFA15A",
           "#19d3f3",
           "#FF6692",
           "#B6E880",
           "#FF97FF",
           "#FECB52"
          ],
          "font": {
           "color": "#2a3f5f"
          },
          "geo": {
           "bgcolor": "white",
           "lakecolor": "white",
           "landcolor": "#E5ECF6",
           "showlakes": true,
           "showland": true,
           "subunitcolor": "white"
          },
          "hoverlabel": {
           "align": "left"
          },
          "hovermode": "closest",
          "mapbox": {
           "style": "light"
          },
          "paper_bgcolor": "white",
          "plot_bgcolor": "#E5ECF6",
          "polar": {
           "angularaxis": {
            "gridcolor": "white",
            "linecolor": "white",
            "ticks": ""
           },
           "bgcolor": "#E5ECF6",
           "radialaxis": {
            "gridcolor": "white",
            "linecolor": "white",
            "ticks": ""
           }
          },
          "scene": {
           "xaxis": {
            "backgroundcolor": "#E5ECF6",
            "gridcolor": "white",
            "gridwidth": 2,
            "linecolor": "white",
            "showbackground": true,
            "ticks": "",
            "zerolinecolor": "white"
           },
           "yaxis": {
            "backgroundcolor": "#E5ECF6",
            "gridcolor": "white",
            "gridwidth": 2,
            "linecolor": "white",
            "showbackground": true,
            "ticks": "",
            "zerolinecolor": "white"
           },
           "zaxis": {
            "backgroundcolor": "#E5ECF6",
            "gridcolor": "white",
            "gridwidth": 2,
            "linecolor": "white",
            "showbackground": true,
            "ticks": "",
            "zerolinecolor": "white"
           }
          },
          "shapedefaults": {
           "line": {
            "color": "#2a3f5f"
           }
          },
          "ternary": {
           "aaxis": {
            "gridcolor": "white",
            "linecolor": "white",
            "ticks": ""
           },
           "baxis": {
            "gridcolor": "white",
            "linecolor": "white",
            "ticks": ""
           },
           "bgcolor": "#E5ECF6",
           "caxis": {
            "gridcolor": "white",
            "linecolor": "white",
            "ticks": ""
           }
          },
          "title": {
           "x": 0.05
          },
          "xaxis": {
           "automargin": true,
           "gridcolor": "white",
           "linecolor": "white",
           "ticks": "",
           "title": {
            "standoff": 15
           },
           "zerolinecolor": "white",
           "zerolinewidth": 2
          },
          "yaxis": {
           "automargin": true,
           "gridcolor": "white",
           "linecolor": "white",
           "ticks": "",
           "title": {
            "standoff": 15
           },
           "zerolinecolor": "white",
           "zerolinewidth": 2
          }
         }
        },
        "title": {
         "text": "Quantidade de acoes por segmento."
        }
       }
      }
     },
     "metadata": {},
     "output_type": "display_data"
    }
   ],
   "source": [
    "fig_mensal = px.pie(df_analise_segmento_mensal,\n",
    "                 values=\"var_reais_total\",\n",
    "                 names=\"segmento\",\n",
    "                 title=\"Quantidade de acoes por segmento.\",\n",
    "                 hover_data=[\"segmento\"]\n",
    "                 )\n",
    "fig_mensal.update_traces(textposition = \"inside\")\n",
    "fig_mensal.show()"
   ]
  },
  {
   "cell_type": "code",
   "execution_count": null,
   "metadata": {},
   "outputs": [
    {
     "data": {
      "text/html": [
       "<div>\n",
       "<style scoped>\n",
       "    .dataframe tbody tr th:only-of-type {\n",
       "        vertical-align: middle;\n",
       "    }\n",
       "\n",
       "    .dataframe tbody tr th {\n",
       "        vertical-align: top;\n",
       "    }\n",
       "\n",
       "    .dataframe thead th {\n",
       "        text-align: right;\n",
       "    }\n",
       "</style>\n",
       "<table border=\"1\" class=\"dataframe\">\n",
       "  <thead>\n",
       "    <tr style=\"text-align: right;\">\n",
       "      <th></th>\n",
       "      <th>resultado</th>\n",
       "      <th>var_reais_total</th>\n",
       "    </tr>\n",
       "  </thead>\n",
       "  <tbody>\n",
       "    <tr>\n",
       "      <th>0</th>\n",
       "      <td>Desceu</td>\n",
       "      <td>-122,162,144,069.30</td>\n",
       "    </tr>\n",
       "    <tr>\n",
       "      <th>1</th>\n",
       "      <td>Subiu</td>\n",
       "      <td>28,477,441,229.59</td>\n",
       "    </tr>\n",
       "  </tbody>\n",
       "</table>\n",
       "</div>"
      ],
      "text/plain": [
       "  resultado     var_reais_total\n",
       "0    Desceu -122,162,144,069.30\n",
       "1     Subiu   28,477,441,229.59"
      ]
     },
     "execution_count": 120,
     "metadata": {},
     "output_type": "execute_result"
    }
   ],
   "source": [
    "df_analise_mensal_saldo = df_principal_mensal.groupby('resultado')['var_reais_total'].sum().reset_index()\n",
    "df_analise_mensal_saldo"
   ]
  },
  {
   "cell_type": "code",
   "execution_count": 158,
   "metadata": {},
   "outputs": [
    {
     "data": {
      "application/vnd.plotly.v1+json": {
       "config": {
        "plotlyServerURL": "https://plot.ly"
       },
       "data": [
        {
         "alignmentgroup": "True",
         "hovertemplate": "var_reais_total=%{x}<br>resultado=%{y}<extra></extra>",
         "legendgroup": "",
         "marker": {
          "color": "#636efa",
          "pattern": {
           "shape": ""
          }
         },
         "name": "",
         "offsetgroup": "",
         "orientation": "h",
         "showlegend": false,
         "textposition": "auto",
         "type": "bar",
         "x": [
          -122162144069.3018,
          28477441229.593323
         ],
         "xaxis": "x",
         "y": [
          "Desceu",
          "Subiu"
         ],
         "yaxis": "y"
        }
       ],
       "layout": {
        "barmode": "relative",
        "legend": {
         "tracegroupgap": 0
        },
        "template": {
         "data": {
          "bar": [
           {
            "error_x": {
             "color": "#2a3f5f"
            },
            "error_y": {
             "color": "#2a3f5f"
            },
            "marker": {
             "line": {
              "color": "#E5ECF6",
              "width": 0.5
             },
             "pattern": {
              "fillmode": "overlay",
              "size": 10,
              "solidity": 0.2
             }
            },
            "type": "bar"
           }
          ],
          "barpolar": [
           {
            "marker": {
             "line": {
              "color": "#E5ECF6",
              "width": 0.5
             },
             "pattern": {
              "fillmode": "overlay",
              "size": 10,
              "solidity": 0.2
             }
            },
            "type": "barpolar"
           }
          ],
          "carpet": [
           {
            "aaxis": {
             "endlinecolor": "#2a3f5f",
             "gridcolor": "white",
             "linecolor": "white",
             "minorgridcolor": "white",
             "startlinecolor": "#2a3f5f"
            },
            "baxis": {
             "endlinecolor": "#2a3f5f",
             "gridcolor": "white",
             "linecolor": "white",
             "minorgridcolor": "white",
             "startlinecolor": "#2a3f5f"
            },
            "type": "carpet"
           }
          ],
          "choropleth": [
           {
            "colorbar": {
             "outlinewidth": 0,
             "ticks": ""
            },
            "type": "choropleth"
           }
          ],
          "contour": [
           {
            "colorbar": {
             "outlinewidth": 0,
             "ticks": ""
            },
            "colorscale": [
             [
              0,
              "#0d0887"
             ],
             [
              0.1111111111111111,
              "#46039f"
             ],
             [
              0.2222222222222222,
              "#7201a8"
             ],
             [
              0.3333333333333333,
              "#9c179e"
             ],
             [
              0.4444444444444444,
              "#bd3786"
             ],
             [
              0.5555555555555556,
              "#d8576b"
             ],
             [
              0.6666666666666666,
              "#ed7953"
             ],
             [
              0.7777777777777778,
              "#fb9f3a"
             ],
             [
              0.8888888888888888,
              "#fdca26"
             ],
             [
              1,
              "#f0f921"
             ]
            ],
            "type": "contour"
           }
          ],
          "contourcarpet": [
           {
            "colorbar": {
             "outlinewidth": 0,
             "ticks": ""
            },
            "type": "contourcarpet"
           }
          ],
          "heatmap": [
           {
            "colorbar": {
             "outlinewidth": 0,
             "ticks": ""
            },
            "colorscale": [
             [
              0,
              "#0d0887"
             ],
             [
              0.1111111111111111,
              "#46039f"
             ],
             [
              0.2222222222222222,
              "#7201a8"
             ],
             [
              0.3333333333333333,
              "#9c179e"
             ],
             [
              0.4444444444444444,
              "#bd3786"
             ],
             [
              0.5555555555555556,
              "#d8576b"
             ],
             [
              0.6666666666666666,
              "#ed7953"
             ],
             [
              0.7777777777777778,
              "#fb9f3a"
             ],
             [
              0.8888888888888888,
              "#fdca26"
             ],
             [
              1,
              "#f0f921"
             ]
            ],
            "type": "heatmap"
           }
          ],
          "heatmapgl": [
           {
            "colorbar": {
             "outlinewidth": 0,
             "ticks": ""
            },
            "colorscale": [
             [
              0,
              "#0d0887"
             ],
             [
              0.1111111111111111,
              "#46039f"
             ],
             [
              0.2222222222222222,
              "#7201a8"
             ],
             [
              0.3333333333333333,
              "#9c179e"
             ],
             [
              0.4444444444444444,
              "#bd3786"
             ],
             [
              0.5555555555555556,
              "#d8576b"
             ],
             [
              0.6666666666666666,
              "#ed7953"
             ],
             [
              0.7777777777777778,
              "#fb9f3a"
             ],
             [
              0.8888888888888888,
              "#fdca26"
             ],
             [
              1,
              "#f0f921"
             ]
            ],
            "type": "heatmapgl"
           }
          ],
          "histogram": [
           {
            "marker": {
             "pattern": {
              "fillmode": "overlay",
              "size": 10,
              "solidity": 0.2
             }
            },
            "type": "histogram"
           }
          ],
          "histogram2d": [
           {
            "colorbar": {
             "outlinewidth": 0,
             "ticks": ""
            },
            "colorscale": [
             [
              0,
              "#0d0887"
             ],
             [
              0.1111111111111111,
              "#46039f"
             ],
             [
              0.2222222222222222,
              "#7201a8"
             ],
             [
              0.3333333333333333,
              "#9c179e"
             ],
             [
              0.4444444444444444,
              "#bd3786"
             ],
             [
              0.5555555555555556,
              "#d8576b"
             ],
             [
              0.6666666666666666,
              "#ed7953"
             ],
             [
              0.7777777777777778,
              "#fb9f3a"
             ],
             [
              0.8888888888888888,
              "#fdca26"
             ],
             [
              1,
              "#f0f921"
             ]
            ],
            "type": "histogram2d"
           }
          ],
          "histogram2dcontour": [
           {
            "colorbar": {
             "outlinewidth": 0,
             "ticks": ""
            },
            "colorscale": [
             [
              0,
              "#0d0887"
             ],
             [
              0.1111111111111111,
              "#46039f"
             ],
             [
              0.2222222222222222,
              "#7201a8"
             ],
             [
              0.3333333333333333,
              "#9c179e"
             ],
             [
              0.4444444444444444,
              "#bd3786"
             ],
             [
              0.5555555555555556,
              "#d8576b"
             ],
             [
              0.6666666666666666,
              "#ed7953"
             ],
             [
              0.7777777777777778,
              "#fb9f3a"
             ],
             [
              0.8888888888888888,
              "#fdca26"
             ],
             [
              1,
              "#f0f921"
             ]
            ],
            "type": "histogram2dcontour"
           }
          ],
          "mesh3d": [
           {
            "colorbar": {
             "outlinewidth": 0,
             "ticks": ""
            },
            "type": "mesh3d"
           }
          ],
          "parcoords": [
           {
            "line": {
             "colorbar": {
              "outlinewidth": 0,
              "ticks": ""
             }
            },
            "type": "parcoords"
           }
          ],
          "pie": [
           {
            "automargin": true,
            "type": "pie"
           }
          ],
          "scatter": [
           {
            "fillpattern": {
             "fillmode": "overlay",
             "size": 10,
             "solidity": 0.2
            },
            "type": "scatter"
           }
          ],
          "scatter3d": [
           {
            "line": {
             "colorbar": {
              "outlinewidth": 0,
              "ticks": ""
             }
            },
            "marker": {
             "colorbar": {
              "outlinewidth": 0,
              "ticks": ""
             }
            },
            "type": "scatter3d"
           }
          ],
          "scattercarpet": [
           {
            "marker": {
             "colorbar": {
              "outlinewidth": 0,
              "ticks": ""
             }
            },
            "type": "scattercarpet"
           }
          ],
          "scattergeo": [
           {
            "marker": {
             "colorbar": {
              "outlinewidth": 0,
              "ticks": ""
             }
            },
            "type": "scattergeo"
           }
          ],
          "scattergl": [
           {
            "marker": {
             "colorbar": {
              "outlinewidth": 0,
              "ticks": ""
             }
            },
            "type": "scattergl"
           }
          ],
          "scattermapbox": [
           {
            "marker": {
             "colorbar": {
              "outlinewidth": 0,
              "ticks": ""
             }
            },
            "type": "scattermapbox"
           }
          ],
          "scatterpolar": [
           {
            "marker": {
             "colorbar": {
              "outlinewidth": 0,
              "ticks": ""
             }
            },
            "type": "scatterpolar"
           }
          ],
          "scatterpolargl": [
           {
            "marker": {
             "colorbar": {
              "outlinewidth": 0,
              "ticks": ""
             }
            },
            "type": "scatterpolargl"
           }
          ],
          "scatterternary": [
           {
            "marker": {
             "colorbar": {
              "outlinewidth": 0,
              "ticks": ""
             }
            },
            "type": "scatterternary"
           }
          ],
          "surface": [
           {
            "colorbar": {
             "outlinewidth": 0,
             "ticks": ""
            },
            "colorscale": [
             [
              0,
              "#0d0887"
             ],
             [
              0.1111111111111111,
              "#46039f"
             ],
             [
              0.2222222222222222,
              "#7201a8"
             ],
             [
              0.3333333333333333,
              "#9c179e"
             ],
             [
              0.4444444444444444,
              "#bd3786"
             ],
             [
              0.5555555555555556,
              "#d8576b"
             ],
             [
              0.6666666666666666,
              "#ed7953"
             ],
             [
              0.7777777777777778,
              "#fb9f3a"
             ],
             [
              0.8888888888888888,
              "#fdca26"
             ],
             [
              1,
              "#f0f921"
             ]
            ],
            "type": "surface"
           }
          ],
          "table": [
           {
            "cells": {
             "fill": {
              "color": "#EBF0F8"
             },
             "line": {
              "color": "white"
             }
            },
            "header": {
             "fill": {
              "color": "#C8D4E3"
             },
             "line": {
              "color": "white"
             }
            },
            "type": "table"
           }
          ]
         },
         "layout": {
          "annotationdefaults": {
           "arrowcolor": "#2a3f5f",
           "arrowhead": 0,
           "arrowwidth": 1
          },
          "autotypenumbers": "strict",
          "coloraxis": {
           "colorbar": {
            "outlinewidth": 0,
            "ticks": ""
           }
          },
          "colorscale": {
           "diverging": [
            [
             0,
             "#8e0152"
            ],
            [
             0.1,
             "#c51b7d"
            ],
            [
             0.2,
             "#de77ae"
            ],
            [
             0.3,
             "#f1b6da"
            ],
            [
             0.4,
             "#fde0ef"
            ],
            [
             0.5,
             "#f7f7f7"
            ],
            [
             0.6,
             "#e6f5d0"
            ],
            [
             0.7,
             "#b8e186"
            ],
            [
             0.8,
             "#7fbc41"
            ],
            [
             0.9,
             "#4d9221"
            ],
            [
             1,
             "#276419"
            ]
           ],
           "sequential": [
            [
             0,
             "#0d0887"
            ],
            [
             0.1111111111111111,
             "#46039f"
            ],
            [
             0.2222222222222222,
             "#7201a8"
            ],
            [
             0.3333333333333333,
             "#9c179e"
            ],
            [
             0.4444444444444444,
             "#bd3786"
            ],
            [
             0.5555555555555556,
             "#d8576b"
            ],
            [
             0.6666666666666666,
             "#ed7953"
            ],
            [
             0.7777777777777778,
             "#fb9f3a"
            ],
            [
             0.8888888888888888,
             "#fdca26"
            ],
            [
             1,
             "#f0f921"
            ]
           ],
           "sequentialminus": [
            [
             0,
             "#0d0887"
            ],
            [
             0.1111111111111111,
             "#46039f"
            ],
            [
             0.2222222222222222,
             "#7201a8"
            ],
            [
             0.3333333333333333,
             "#9c179e"
            ],
            [
             0.4444444444444444,
             "#bd3786"
            ],
            [
             0.5555555555555556,
             "#d8576b"
            ],
            [
             0.6666666666666666,
             "#ed7953"
            ],
            [
             0.7777777777777778,
             "#fb9f3a"
            ],
            [
             0.8888888888888888,
             "#fdca26"
            ],
            [
             1,
             "#f0f921"
            ]
           ]
          },
          "colorway": [
           "#636efa",
           "#EF553B",
           "#00cc96",
           "#ab63fa",
           "#FFA15A",
           "#19d3f3",
           "#FF6692",
           "#B6E880",
           "#FF97FF",
           "#FECB52"
          ],
          "font": {
           "color": "#2a3f5f"
          },
          "geo": {
           "bgcolor": "white",
           "lakecolor": "white",
           "landcolor": "#E5ECF6",
           "showlakes": true,
           "showland": true,
           "subunitcolor": "white"
          },
          "hoverlabel": {
           "align": "left"
          },
          "hovermode": "closest",
          "mapbox": {
           "style": "light"
          },
          "paper_bgcolor": "white",
          "plot_bgcolor": "#E5ECF6",
          "polar": {
           "angularaxis": {
            "gridcolor": "white",
            "linecolor": "white",
            "ticks": ""
           },
           "bgcolor": "#E5ECF6",
           "radialaxis": {
            "gridcolor": "white",
            "linecolor": "white",
            "ticks": ""
           }
          },
          "scene": {
           "xaxis": {
            "backgroundcolor": "#E5ECF6",
            "gridcolor": "white",
            "gridwidth": 2,
            "linecolor": "white",
            "showbackground": true,
            "ticks": "",
            "zerolinecolor": "white"
           },
           "yaxis": {
            "backgroundcolor": "#E5ECF6",
            "gridcolor": "white",
            "gridwidth": 2,
            "linecolor": "white",
            "showbackground": true,
            "ticks": "",
            "zerolinecolor": "white"
           },
           "zaxis": {
            "backgroundcolor": "#E5ECF6",
            "gridcolor": "white",
            "gridwidth": 2,
            "linecolor": "white",
            "showbackground": true,
            "ticks": "",
            "zerolinecolor": "white"
           }
          },
          "shapedefaults": {
           "line": {
            "color": "#2a3f5f"
           }
          },
          "ternary": {
           "aaxis": {
            "gridcolor": "white",
            "linecolor": "white",
            "ticks": ""
           },
           "baxis": {
            "gridcolor": "white",
            "linecolor": "white",
            "ticks": ""
           },
           "bgcolor": "#E5ECF6",
           "caxis": {
            "gridcolor": "white",
            "linecolor": "white",
            "ticks": ""
           }
          },
          "title": {
           "x": 0.05
          },
          "xaxis": {
           "automargin": true,
           "gridcolor": "white",
           "linecolor": "white",
           "ticks": "",
           "title": {
            "standoff": 15
           },
           "zerolinecolor": "white",
           "zerolinewidth": 2
          },
          "yaxis": {
           "automargin": true,
           "gridcolor": "white",
           "linecolor": "white",
           "ticks": "",
           "title": {
            "standoff": 15
           },
           "zerolinecolor": "white",
           "zerolinewidth": 2
          }
         }
        },
        "title": {
         "text": "Variação Reais por Resultado"
        },
        "xaxis": {
         "anchor": "y",
         "domain": [
          0,
          1
         ],
         "title": {
          "text": "var_reais_total"
         }
        },
        "yaxis": {
         "anchor": "x",
         "domain": [
          0,
          1
         ],
         "title": {
          "text": "resultado"
         }
        }
       }
      }
     },
     "metadata": {},
     "output_type": "display_data"
    }
   ],
   "source": [
    "fig_mensal = px.bar(df_analise_mensal_saldo, x= \"var_reais_total\", y=\"resultado\", title=\"Variação Reais por Resultado\")\n",
    "fig_mensal.show()"
   ]
  },
  {
   "cell_type": "code",
   "execution_count": null,
   "metadata": {},
   "outputs": [
    {
     "data": {
      "text/html": [
       "<div>\n",
       "<style scoped>\n",
       "    .dataframe tbody tr th:only-of-type {\n",
       "        vertical-align: middle;\n",
       "    }\n",
       "\n",
       "    .dataframe tbody tr th {\n",
       "        vertical-align: top;\n",
       "    }\n",
       "\n",
       "    .dataframe thead th {\n",
       "        text-align: right;\n",
       "    }\n",
       "</style>\n",
       "<table border=\"1\" class=\"dataframe\">\n",
       "  <thead>\n",
       "    <tr style=\"text-align: right;\">\n",
       "      <th></th>\n",
       "      <th>ticker</th>\n",
       "      <th>nome</th>\n",
       "      <th>valor_final</th>\n",
       "      <th>var_anual_pct</th>\n",
       "      <th>qtd_teorica</th>\n",
       "      <th>segmento</th>\n",
       "      <th>idade</th>\n",
       "    </tr>\n",
       "  </thead>\n",
       "  <tbody>\n",
       "    <tr>\n",
       "      <th>0</th>\n",
       "      <td>USIM5</td>\n",
       "      <td>Usiminas</td>\n",
       "      <td>9.50</td>\n",
       "      <td>2.26</td>\n",
       "      <td>515117391</td>\n",
       "      <td>Siderurgia</td>\n",
       "      <td>59</td>\n",
       "    </tr>\n",
       "    <tr>\n",
       "      <th>1</th>\n",
       "      <td>CMIN3</td>\n",
       "      <td>CSN Mineração</td>\n",
       "      <td>6.82</td>\n",
       "      <td>-12.11</td>\n",
       "      <td>1110559345</td>\n",
       "      <td>Mineração</td>\n",
       "      <td>81</td>\n",
       "    </tr>\n",
       "    <tr>\n",
       "      <th>2</th>\n",
       "      <td>PETR3</td>\n",
       "      <td>Petrobras 3</td>\n",
       "      <td>41.96</td>\n",
       "      <td>7.64</td>\n",
       "      <td>2379877655</td>\n",
       "      <td>Petróleo e Gás</td>\n",
       "      <td>68</td>\n",
       "    </tr>\n",
       "    <tr>\n",
       "      <th>3</th>\n",
       "      <td>SUZB3</td>\n",
       "      <td>Suzano</td>\n",
       "      <td>52.91</td>\n",
       "      <td>-4.89</td>\n",
       "      <td>683452836</td>\n",
       "      <td>Papel e Celulose</td>\n",
       "      <td>97</td>\n",
       "    </tr>\n",
       "    <tr>\n",
       "      <th>4</th>\n",
       "      <td>CPFE3</td>\n",
       "      <td>CPFL Energia</td>\n",
       "      <td>37.10</td>\n",
       "      <td>-3.66</td>\n",
       "      <td>187732538</td>\n",
       "      <td>Energia</td>\n",
       "      <td>109</td>\n",
       "    </tr>\n",
       "    <tr>\n",
       "      <th>...</th>\n",
       "      <td>...</td>\n",
       "      <td>...</td>\n",
       "      <td>...</td>\n",
       "      <td>...</td>\n",
       "      <td>...</td>\n",
       "      <td>...</td>\n",
       "      <td>...</td>\n",
       "    </tr>\n",
       "    <tr>\n",
       "      <th>78</th>\n",
       "      <td>LREN3</td>\n",
       "      <td>Lojas Renner</td>\n",
       "      <td>15.78</td>\n",
       "      <td>-9.41</td>\n",
       "      <td>951329770</td>\n",
       "      <td>Vestuário</td>\n",
       "      <td>54</td>\n",
       "    </tr>\n",
       "    <tr>\n",
       "      <th>79</th>\n",
       "      <td>CRFB3</td>\n",
       "      <td>Carrefour Brasil</td>\n",
       "      <td>10.71</td>\n",
       "      <td>-13.98</td>\n",
       "      <td>533990587</td>\n",
       "      <td>Varejo</td>\n",
       "      <td>44</td>\n",
       "    </tr>\n",
       "    <tr>\n",
       "      <th>80</th>\n",
       "      <td>RENT3</td>\n",
       "      <td>Localiza</td>\n",
       "      <td>56.24</td>\n",
       "      <td>-11.57</td>\n",
       "      <td>853202347</td>\n",
       "      <td>Aluguel de Carros</td>\n",
       "      <td>48</td>\n",
       "    </tr>\n",
       "    <tr>\n",
       "      <th>81</th>\n",
       "      <td>CVCB3</td>\n",
       "      <td>CVC</td>\n",
       "      <td>3.07</td>\n",
       "      <td>-12.29</td>\n",
       "      <td>525582771</td>\n",
       "      <td>Turismo</td>\n",
       "      <td>49</td>\n",
       "    </tr>\n",
       "    <tr>\n",
       "      <th>82</th>\n",
       "      <td>GOLL4</td>\n",
       "      <td>GOL</td>\n",
       "      <td>5.92</td>\n",
       "      <td>-34.00</td>\n",
       "      <td>198184909</td>\n",
       "      <td>Transporte Aéreo</td>\n",
       "      <td>22</td>\n",
       "    </tr>\n",
       "  </tbody>\n",
       "</table>\n",
       "<p>83 rows × 7 columns</p>\n",
       "</div>"
      ],
      "text/plain": [
       "   ticker              nome  valor_final  var_anual_pct  qtd_teorica  \\\n",
       "0   USIM5          Usiminas         9.50           2.26    515117391   \n",
       "1   CMIN3     CSN Mineração         6.82         -12.11   1110559345   \n",
       "2   PETR3       Petrobras 3        41.96           7.64   2379877655   \n",
       "3   SUZB3            Suzano        52.91          -4.89    683452836   \n",
       "4   CPFE3      CPFL Energia        37.10          -3.66    187732538   \n",
       "..    ...               ...          ...            ...          ...   \n",
       "78  LREN3      Lojas Renner        15.78          -9.41    951329770   \n",
       "79  CRFB3  Carrefour Brasil        10.71         -13.98    533990587   \n",
       "80  RENT3          Localiza        56.24         -11.57    853202347   \n",
       "81  CVCB3               CVC         3.07         -12.29    525582771   \n",
       "82  GOLL4               GOL         5.92         -34.00    198184909   \n",
       "\n",
       "             segmento  idade  \n",
       "0          Siderurgia     59  \n",
       "1           Mineração     81  \n",
       "2      Petróleo e Gás     68  \n",
       "3    Papel e Celulose     97  \n",
       "4             Energia    109  \n",
       "..                ...    ...  \n",
       "78          Vestuário     54  \n",
       "79             Varejo     44  \n",
       "80  Aluguel de Carros     48  \n",
       "81            Turismo     49  \n",
       "82   Transporte Aéreo     22  \n",
       "\n",
       "[83 rows x 7 columns]"
      ]
     },
     "execution_count": 121,
     "metadata": {},
     "output_type": "execute_result"
    }
   ],
   "source": [
    "df_principal_anual = df_principal[[\n",
    "    \"ticker\",\n",
    "    \"nome\",\n",
    "    \"valor_final\",\n",
    "    \"var_anual_pct\",\n",
    "    \"qtd_teorica\",\n",
    "    \"segmento\",\n",
    "    \"idade\"\n",
    "    ]].copy()\n",
    "df_principal_anual"
   ]
  },
  {
   "cell_type": "code",
   "execution_count": null,
   "metadata": {},
   "outputs": [
    {
     "data": {
      "text/html": [
       "<div>\n",
       "<style scoped>\n",
       "    .dataframe tbody tr th:only-of-type {\n",
       "        vertical-align: middle;\n",
       "    }\n",
       "\n",
       "    .dataframe tbody tr th {\n",
       "        vertical-align: top;\n",
       "    }\n",
       "\n",
       "    .dataframe thead th {\n",
       "        text-align: right;\n",
       "    }\n",
       "</style>\n",
       "<table border=\"1\" class=\"dataframe\">\n",
       "  <thead>\n",
       "    <tr style=\"text-align: right;\">\n",
       "      <th></th>\n",
       "      <th>ticker</th>\n",
       "      <th>nome</th>\n",
       "      <th>valor_final</th>\n",
       "      <th>var_anual_pct</th>\n",
       "      <th>qtd_teorica</th>\n",
       "      <th>segmento</th>\n",
       "      <th>idade</th>\n",
       "      <th>var_pct</th>\n",
       "      <th>valor_inicial</th>\n",
       "      <th>var_reais</th>\n",
       "      <th>var_reais_total</th>\n",
       "    </tr>\n",
       "  </thead>\n",
       "  <tbody>\n",
       "    <tr>\n",
       "      <th>0</th>\n",
       "      <td>USIM5</td>\n",
       "      <td>Usiminas</td>\n",
       "      <td>9.50</td>\n",
       "      <td>2.26</td>\n",
       "      <td>515117391</td>\n",
       "      <td>Siderurgia</td>\n",
       "      <td>59</td>\n",
       "      <td>0.02</td>\n",
       "      <td>9.29</td>\n",
       "      <td>0.21</td>\n",
       "      <td>108,151,480.39</td>\n",
       "    </tr>\n",
       "    <tr>\n",
       "      <th>1</th>\n",
       "      <td>CMIN3</td>\n",
       "      <td>CSN Mineração</td>\n",
       "      <td>6.82</td>\n",
       "      <td>-12.11</td>\n",
       "      <td>1110559345</td>\n",
       "      <td>Mineração</td>\n",
       "      <td>81</td>\n",
       "      <td>-0.12</td>\n",
       "      <td>7.76</td>\n",
       "      <td>-0.94</td>\n",
       "      <td>-1,043,592,199.52</td>\n",
       "    </tr>\n",
       "    <tr>\n",
       "      <th>2</th>\n",
       "      <td>PETR3</td>\n",
       "      <td>Petrobras 3</td>\n",
       "      <td>41.96</td>\n",
       "      <td>7.64</td>\n",
       "      <td>2379877655</td>\n",
       "      <td>Petróleo e Gás</td>\n",
       "      <td>68</td>\n",
       "      <td>0.08</td>\n",
       "      <td>38.98</td>\n",
       "      <td>2.98</td>\n",
       "      <td>7,087,772,680.46</td>\n",
       "    </tr>\n",
       "    <tr>\n",
       "      <th>3</th>\n",
       "      <td>SUZB3</td>\n",
       "      <td>Suzano</td>\n",
       "      <td>52.91</td>\n",
       "      <td>-4.89</td>\n",
       "      <td>683452836</td>\n",
       "      <td>Papel e Celulose</td>\n",
       "      <td>97</td>\n",
       "      <td>-0.05</td>\n",
       "      <td>55.63</td>\n",
       "      <td>-2.72</td>\n",
       "      <td>-1,859,212,321.66</td>\n",
       "    </tr>\n",
       "    <tr>\n",
       "      <th>4</th>\n",
       "      <td>CPFE3</td>\n",
       "      <td>CPFL Energia</td>\n",
       "      <td>37.10</td>\n",
       "      <td>-3.66</td>\n",
       "      <td>187732538</td>\n",
       "      <td>Energia</td>\n",
       "      <td>109</td>\n",
       "      <td>-0.04</td>\n",
       "      <td>38.51</td>\n",
       "      <td>-1.41</td>\n",
       "      <td>-264,598,820.89</td>\n",
       "    </tr>\n",
       "    <tr>\n",
       "      <th>...</th>\n",
       "      <td>...</td>\n",
       "      <td>...</td>\n",
       "      <td>...</td>\n",
       "      <td>...</td>\n",
       "      <td>...</td>\n",
       "      <td>...</td>\n",
       "      <td>...</td>\n",
       "      <td>...</td>\n",
       "      <td>...</td>\n",
       "      <td>...</td>\n",
       "      <td>...</td>\n",
       "    </tr>\n",
       "    <tr>\n",
       "      <th>78</th>\n",
       "      <td>LREN3</td>\n",
       "      <td>Lojas Renner</td>\n",
       "      <td>15.78</td>\n",
       "      <td>-9.41</td>\n",
       "      <td>951329770</td>\n",
       "      <td>Vestuário</td>\n",
       "      <td>54</td>\n",
       "      <td>-0.09</td>\n",
       "      <td>17.42</td>\n",
       "      <td>-1.64</td>\n",
       "      <td>-1,559,363,807.06</td>\n",
       "    </tr>\n",
       "    <tr>\n",
       "      <th>79</th>\n",
       "      <td>CRFB3</td>\n",
       "      <td>Carrefour Brasil</td>\n",
       "      <td>10.71</td>\n",
       "      <td>-13.98</td>\n",
       "      <td>533990587</td>\n",
       "      <td>Varejo</td>\n",
       "      <td>44</td>\n",
       "      <td>-0.14</td>\n",
       "      <td>12.45</td>\n",
       "      <td>-1.74</td>\n",
       "      <td>-929,460,216.59</td>\n",
       "    </tr>\n",
       "    <tr>\n",
       "      <th>80</th>\n",
       "      <td>RENT3</td>\n",
       "      <td>Localiza</td>\n",
       "      <td>56.24</td>\n",
       "      <td>-11.57</td>\n",
       "      <td>853202347</td>\n",
       "      <td>Aluguel de Carros</td>\n",
       "      <td>48</td>\n",
       "      <td>-0.12</td>\n",
       "      <td>63.60</td>\n",
       "      <td>-7.36</td>\n",
       "      <td>-6,278,141,320.20</td>\n",
       "    </tr>\n",
       "    <tr>\n",
       "      <th>81</th>\n",
       "      <td>CVCB3</td>\n",
       "      <td>CVC</td>\n",
       "      <td>3.07</td>\n",
       "      <td>-12.29</td>\n",
       "      <td>525582771</td>\n",
       "      <td>Turismo</td>\n",
       "      <td>49</td>\n",
       "      <td>-0.12</td>\n",
       "      <td>3.50</td>\n",
       "      <td>-0.43</td>\n",
       "      <td>-226,090,475.71</td>\n",
       "    </tr>\n",
       "    <tr>\n",
       "      <th>82</th>\n",
       "      <td>GOLL4</td>\n",
       "      <td>GOL</td>\n",
       "      <td>5.92</td>\n",
       "      <td>-34.00</td>\n",
       "      <td>198184909</td>\n",
       "      <td>Transporte Aéreo</td>\n",
       "      <td>22</td>\n",
       "      <td>-0.34</td>\n",
       "      <td>8.97</td>\n",
       "      <td>-3.05</td>\n",
       "      <td>-604,403,916.42</td>\n",
       "    </tr>\n",
       "  </tbody>\n",
       "</table>\n",
       "<p>83 rows × 11 columns</p>\n",
       "</div>"
      ],
      "text/plain": [
       "   ticker              nome  valor_final  var_anual_pct  qtd_teorica  \\\n",
       "0   USIM5          Usiminas         9.50           2.26    515117391   \n",
       "1   CMIN3     CSN Mineração         6.82         -12.11   1110559345   \n",
       "2   PETR3       Petrobras 3        41.96           7.64   2379877655   \n",
       "3   SUZB3            Suzano        52.91          -4.89    683452836   \n",
       "4   CPFE3      CPFL Energia        37.10          -3.66    187732538   \n",
       "..    ...               ...          ...            ...          ...   \n",
       "78  LREN3      Lojas Renner        15.78          -9.41    951329770   \n",
       "79  CRFB3  Carrefour Brasil        10.71         -13.98    533990587   \n",
       "80  RENT3          Localiza        56.24         -11.57    853202347   \n",
       "81  CVCB3               CVC         3.07         -12.29    525582771   \n",
       "82  GOLL4               GOL         5.92         -34.00    198184909   \n",
       "\n",
       "             segmento  idade  var_pct  valor_inicial  var_reais  \\\n",
       "0          Siderurgia     59     0.02           9.29       0.21   \n",
       "1           Mineração     81    -0.12           7.76      -0.94   \n",
       "2      Petróleo e Gás     68     0.08          38.98       2.98   \n",
       "3    Papel e Celulose     97    -0.05          55.63      -2.72   \n",
       "4             Energia    109    -0.04          38.51      -1.41   \n",
       "..                ...    ...      ...            ...        ...   \n",
       "78          Vestuário     54    -0.09          17.42      -1.64   \n",
       "79             Varejo     44    -0.14          12.45      -1.74   \n",
       "80  Aluguel de Carros     48    -0.12          63.60      -7.36   \n",
       "81            Turismo     49    -0.12           3.50      -0.43   \n",
       "82   Transporte Aéreo     22    -0.34           8.97      -3.05   \n",
       "\n",
       "     var_reais_total  \n",
       "0     108,151,480.39  \n",
       "1  -1,043,592,199.52  \n",
       "2   7,087,772,680.46  \n",
       "3  -1,859,212,321.66  \n",
       "4    -264,598,820.89  \n",
       "..               ...  \n",
       "78 -1,559,363,807.06  \n",
       "79   -929,460,216.59  \n",
       "80 -6,278,141,320.20  \n",
       "81   -226,090,475.71  \n",
       "82   -604,403,916.42  \n",
       "\n",
       "[83 rows x 11 columns]"
      ]
     },
     "execution_count": 122,
     "metadata": {},
     "output_type": "execute_result"
    }
   ],
   "source": [
    "df_principal_anual[\"var_pct\"] = df_principal_anual[\"var_anual_pct\"]/100\n",
    "df_principal_anual[\"valor_inicial\"] = df_principal_anual[\"valor_final\"]/(df_principal_anual[\"var_pct\"]+1)\n",
    "df_principal_anual[\"var_reais\"] = df_principal_anual[\"valor_final\"]-df_principal_anual[\"valor_inicial\"]\n",
    "df_principal_anual[\"var_reais_total\"] = df_principal_anual[\"var_reais\"]*df_principal_anual[\"qtd_teorica\"]\n",
    "df_principal_anual"
   ]
  },
  {
   "cell_type": "code",
   "execution_count": null,
   "metadata": {},
   "outputs": [
    {
     "data": {
      "text/html": [
       "<div>\n",
       "<style scoped>\n",
       "    .dataframe tbody tr th:only-of-type {\n",
       "        vertical-align: middle;\n",
       "    }\n",
       "\n",
       "    .dataframe tbody tr th {\n",
       "        vertical-align: top;\n",
       "    }\n",
       "\n",
       "    .dataframe thead th {\n",
       "        text-align: right;\n",
       "    }\n",
       "</style>\n",
       "<table border=\"1\" class=\"dataframe\">\n",
       "  <thead>\n",
       "    <tr style=\"text-align: right;\">\n",
       "      <th></th>\n",
       "      <th>ticker</th>\n",
       "      <th>nome</th>\n",
       "      <th>valor_final</th>\n",
       "      <th>var_anual_pct</th>\n",
       "      <th>qtd_teorica</th>\n",
       "      <th>segmento</th>\n",
       "      <th>idade</th>\n",
       "      <th>var_pct</th>\n",
       "      <th>valor_inicial</th>\n",
       "      <th>var_reais</th>\n",
       "      <th>var_reais_total</th>\n",
       "      <th>resultado</th>\n",
       "      <th>cat_idade</th>\n",
       "    </tr>\n",
       "  </thead>\n",
       "  <tbody>\n",
       "    <tr>\n",
       "      <th>0</th>\n",
       "      <td>USIM5</td>\n",
       "      <td>Usiminas</td>\n",
       "      <td>9.50</td>\n",
       "      <td>2.26</td>\n",
       "      <td>515117391</td>\n",
       "      <td>Siderurgia</td>\n",
       "      <td>59</td>\n",
       "      <td>0.02</td>\n",
       "      <td>9.29</td>\n",
       "      <td>0.21</td>\n",
       "      <td>108,151,480.39</td>\n",
       "      <td>Subiu</td>\n",
       "      <td>Entre 50 e 100</td>\n",
       "    </tr>\n",
       "    <tr>\n",
       "      <th>1</th>\n",
       "      <td>CMIN3</td>\n",
       "      <td>CSN Mineração</td>\n",
       "      <td>6.82</td>\n",
       "      <td>-12.11</td>\n",
       "      <td>1110559345</td>\n",
       "      <td>Mineração</td>\n",
       "      <td>81</td>\n",
       "      <td>-0.12</td>\n",
       "      <td>7.76</td>\n",
       "      <td>-0.94</td>\n",
       "      <td>-1,043,592,199.52</td>\n",
       "      <td>Desceu</td>\n",
       "      <td>Entre 50 e 100</td>\n",
       "    </tr>\n",
       "    <tr>\n",
       "      <th>2</th>\n",
       "      <td>PETR3</td>\n",
       "      <td>Petrobras 3</td>\n",
       "      <td>41.96</td>\n",
       "      <td>7.64</td>\n",
       "      <td>2379877655</td>\n",
       "      <td>Petróleo e Gás</td>\n",
       "      <td>68</td>\n",
       "      <td>0.08</td>\n",
       "      <td>38.98</td>\n",
       "      <td>2.98</td>\n",
       "      <td>7,087,772,680.46</td>\n",
       "      <td>Subiu</td>\n",
       "      <td>Entre 50 e 100</td>\n",
       "    </tr>\n",
       "    <tr>\n",
       "      <th>3</th>\n",
       "      <td>SUZB3</td>\n",
       "      <td>Suzano</td>\n",
       "      <td>52.91</td>\n",
       "      <td>-4.89</td>\n",
       "      <td>683452836</td>\n",
       "      <td>Papel e Celulose</td>\n",
       "      <td>97</td>\n",
       "      <td>-0.05</td>\n",
       "      <td>55.63</td>\n",
       "      <td>-2.72</td>\n",
       "      <td>-1,859,212,321.66</td>\n",
       "      <td>Desceu</td>\n",
       "      <td>Entre 50 e 100</td>\n",
       "    </tr>\n",
       "    <tr>\n",
       "      <th>4</th>\n",
       "      <td>CPFE3</td>\n",
       "      <td>CPFL Energia</td>\n",
       "      <td>37.10</td>\n",
       "      <td>-3.66</td>\n",
       "      <td>187732538</td>\n",
       "      <td>Energia</td>\n",
       "      <td>109</td>\n",
       "      <td>-0.04</td>\n",
       "      <td>38.51</td>\n",
       "      <td>-1.41</td>\n",
       "      <td>-264,598,820.89</td>\n",
       "      <td>Desceu</td>\n",
       "      <td>Mais que 100</td>\n",
       "    </tr>\n",
       "    <tr>\n",
       "      <th>...</th>\n",
       "      <td>...</td>\n",
       "      <td>...</td>\n",
       "      <td>...</td>\n",
       "      <td>...</td>\n",
       "      <td>...</td>\n",
       "      <td>...</td>\n",
       "      <td>...</td>\n",
       "      <td>...</td>\n",
       "      <td>...</td>\n",
       "      <td>...</td>\n",
       "      <td>...</td>\n",
       "      <td>...</td>\n",
       "      <td>...</td>\n",
       "    </tr>\n",
       "    <tr>\n",
       "      <th>78</th>\n",
       "      <td>LREN3</td>\n",
       "      <td>Lojas Renner</td>\n",
       "      <td>15.78</td>\n",
       "      <td>-9.41</td>\n",
       "      <td>951329770</td>\n",
       "      <td>Vestuário</td>\n",
       "      <td>54</td>\n",
       "      <td>-0.09</td>\n",
       "      <td>17.42</td>\n",
       "      <td>-1.64</td>\n",
       "      <td>-1,559,363,807.06</td>\n",
       "      <td>Desceu</td>\n",
       "      <td>Entre 50 e 100</td>\n",
       "    </tr>\n",
       "    <tr>\n",
       "      <th>79</th>\n",
       "      <td>CRFB3</td>\n",
       "      <td>Carrefour Brasil</td>\n",
       "      <td>10.71</td>\n",
       "      <td>-13.98</td>\n",
       "      <td>533990587</td>\n",
       "      <td>Varejo</td>\n",
       "      <td>44</td>\n",
       "      <td>-0.14</td>\n",
       "      <td>12.45</td>\n",
       "      <td>-1.74</td>\n",
       "      <td>-929,460,216.59</td>\n",
       "      <td>Desceu</td>\n",
       "      <td>Menos que 50 anos</td>\n",
       "    </tr>\n",
       "    <tr>\n",
       "      <th>80</th>\n",
       "      <td>RENT3</td>\n",
       "      <td>Localiza</td>\n",
       "      <td>56.24</td>\n",
       "      <td>-11.57</td>\n",
       "      <td>853202347</td>\n",
       "      <td>Aluguel de Carros</td>\n",
       "      <td>48</td>\n",
       "      <td>-0.12</td>\n",
       "      <td>63.60</td>\n",
       "      <td>-7.36</td>\n",
       "      <td>-6,278,141,320.20</td>\n",
       "      <td>Desceu</td>\n",
       "      <td>Menos que 50 anos</td>\n",
       "    </tr>\n",
       "    <tr>\n",
       "      <th>81</th>\n",
       "      <td>CVCB3</td>\n",
       "      <td>CVC</td>\n",
       "      <td>3.07</td>\n",
       "      <td>-12.29</td>\n",
       "      <td>525582771</td>\n",
       "      <td>Turismo</td>\n",
       "      <td>49</td>\n",
       "      <td>-0.12</td>\n",
       "      <td>3.50</td>\n",
       "      <td>-0.43</td>\n",
       "      <td>-226,090,475.71</td>\n",
       "      <td>Desceu</td>\n",
       "      <td>Menos que 50 anos</td>\n",
       "    </tr>\n",
       "    <tr>\n",
       "      <th>82</th>\n",
       "      <td>GOLL4</td>\n",
       "      <td>GOL</td>\n",
       "      <td>5.92</td>\n",
       "      <td>-34.00</td>\n",
       "      <td>198184909</td>\n",
       "      <td>Transporte Aéreo</td>\n",
       "      <td>22</td>\n",
       "      <td>-0.34</td>\n",
       "      <td>8.97</td>\n",
       "      <td>-3.05</td>\n",
       "      <td>-604,403,916.42</td>\n",
       "      <td>Desceu</td>\n",
       "      <td>Menos que 50 anos</td>\n",
       "    </tr>\n",
       "  </tbody>\n",
       "</table>\n",
       "<p>83 rows × 13 columns</p>\n",
       "</div>"
      ],
      "text/plain": [
       "   ticker              nome  valor_final  var_anual_pct  qtd_teorica  \\\n",
       "0   USIM5          Usiminas         9.50           2.26    515117391   \n",
       "1   CMIN3     CSN Mineração         6.82         -12.11   1110559345   \n",
       "2   PETR3       Petrobras 3        41.96           7.64   2379877655   \n",
       "3   SUZB3            Suzano        52.91          -4.89    683452836   \n",
       "4   CPFE3      CPFL Energia        37.10          -3.66    187732538   \n",
       "..    ...               ...          ...            ...          ...   \n",
       "78  LREN3      Lojas Renner        15.78          -9.41    951329770   \n",
       "79  CRFB3  Carrefour Brasil        10.71         -13.98    533990587   \n",
       "80  RENT3          Localiza        56.24         -11.57    853202347   \n",
       "81  CVCB3               CVC         3.07         -12.29    525582771   \n",
       "82  GOLL4               GOL         5.92         -34.00    198184909   \n",
       "\n",
       "             segmento  idade  var_pct  valor_inicial  var_reais  \\\n",
       "0          Siderurgia     59     0.02           9.29       0.21   \n",
       "1           Mineração     81    -0.12           7.76      -0.94   \n",
       "2      Petróleo e Gás     68     0.08          38.98       2.98   \n",
       "3    Papel e Celulose     97    -0.05          55.63      -2.72   \n",
       "4             Energia    109    -0.04          38.51      -1.41   \n",
       "..                ...    ...      ...            ...        ...   \n",
       "78          Vestuário     54    -0.09          17.42      -1.64   \n",
       "79             Varejo     44    -0.14          12.45      -1.74   \n",
       "80  Aluguel de Carros     48    -0.12          63.60      -7.36   \n",
       "81            Turismo     49    -0.12           3.50      -0.43   \n",
       "82   Transporte Aéreo     22    -0.34           8.97      -3.05   \n",
       "\n",
       "     var_reais_total resultado          cat_idade  \n",
       "0     108,151,480.39     Subiu     Entre 50 e 100  \n",
       "1  -1,043,592,199.52    Desceu     Entre 50 e 100  \n",
       "2   7,087,772,680.46     Subiu     Entre 50 e 100  \n",
       "3  -1,859,212,321.66    Desceu     Entre 50 e 100  \n",
       "4    -264,598,820.89    Desceu       Mais que 100  \n",
       "..               ...       ...                ...  \n",
       "78 -1,559,363,807.06    Desceu     Entre 50 e 100  \n",
       "79   -929,460,216.59    Desceu  Menos que 50 anos  \n",
       "80 -6,278,141,320.20    Desceu  Menos que 50 anos  \n",
       "81   -226,090,475.71    Desceu  Menos que 50 anos  \n",
       "82   -604,403,916.42    Desceu  Menos que 50 anos  \n",
       "\n",
       "[83 rows x 13 columns]"
      ]
     },
     "execution_count": 123,
     "metadata": {},
     "output_type": "execute_result"
    }
   ],
   "source": [
    "df_principal_anual[\"resultado\"] = df_principal_anual[\"var_reais\"].apply(lambda x:\"Subiu\" if x > 0 else (\"Desceu\" if x<0 else \"Estavel\"))\n",
    "df_principal_anual[\"cat_idade\"] = df_principal_anual[\"idade\"].apply(lambda x:\"Menos que 50 anos\" if x<50 else (\"Mais que 100\" if x>100 else \"Entre 50 e 100\"))\n",
    "df_principal_anual"
   ]
  },
  {
   "cell_type": "code",
   "execution_count": null,
   "metadata": {},
   "outputs": [
    {
     "data": {
      "text/html": [
       "<div>\n",
       "<style scoped>\n",
       "    .dataframe tbody tr th:only-of-type {\n",
       "        vertical-align: middle;\n",
       "    }\n",
       "\n",
       "    .dataframe tbody tr th {\n",
       "        vertical-align: top;\n",
       "    }\n",
       "\n",
       "    .dataframe thead th {\n",
       "        text-align: right;\n",
       "    }\n",
       "</style>\n",
       "<table border=\"1\" class=\"dataframe\">\n",
       "  <thead>\n",
       "    <tr style=\"text-align: right;\">\n",
       "      <th></th>\n",
       "      <th>ticker</th>\n",
       "      <th>nome</th>\n",
       "      <th>valor_inicial</th>\n",
       "      <th>valor_final</th>\n",
       "      <th>var_reais</th>\n",
       "      <th>var_anual_pct</th>\n",
       "      <th>var_pct</th>\n",
       "      <th>qtd_teorica</th>\n",
       "      <th>var_reais_total</th>\n",
       "      <th>resultado</th>\n",
       "      <th>segmento</th>\n",
       "      <th>idade</th>\n",
       "      <th>cat_idade</th>\n",
       "    </tr>\n",
       "  </thead>\n",
       "  <tbody>\n",
       "    <tr>\n",
       "      <th>0</th>\n",
       "      <td>USIM5</td>\n",
       "      <td>Usiminas</td>\n",
       "      <td>9.29</td>\n",
       "      <td>9.50</td>\n",
       "      <td>0.21</td>\n",
       "      <td>2.26</td>\n",
       "      <td>0.02</td>\n",
       "      <td>515117391</td>\n",
       "      <td>108,151,480.39</td>\n",
       "      <td>Subiu</td>\n",
       "      <td>Siderurgia</td>\n",
       "      <td>59</td>\n",
       "      <td>Entre 50 e 100</td>\n",
       "    </tr>\n",
       "    <tr>\n",
       "      <th>1</th>\n",
       "      <td>CMIN3</td>\n",
       "      <td>CSN Mineração</td>\n",
       "      <td>7.76</td>\n",
       "      <td>6.82</td>\n",
       "      <td>-0.94</td>\n",
       "      <td>-12.11</td>\n",
       "      <td>-0.12</td>\n",
       "      <td>1110559345</td>\n",
       "      <td>-1,043,592,199.52</td>\n",
       "      <td>Desceu</td>\n",
       "      <td>Mineração</td>\n",
       "      <td>81</td>\n",
       "      <td>Entre 50 e 100</td>\n",
       "    </tr>\n",
       "    <tr>\n",
       "      <th>2</th>\n",
       "      <td>PETR3</td>\n",
       "      <td>Petrobras 3</td>\n",
       "      <td>38.98</td>\n",
       "      <td>41.96</td>\n",
       "      <td>2.98</td>\n",
       "      <td>7.64</td>\n",
       "      <td>0.08</td>\n",
       "      <td>2379877655</td>\n",
       "      <td>7,087,772,680.46</td>\n",
       "      <td>Subiu</td>\n",
       "      <td>Petróleo e Gás</td>\n",
       "      <td>68</td>\n",
       "      <td>Entre 50 e 100</td>\n",
       "    </tr>\n",
       "    <tr>\n",
       "      <th>3</th>\n",
       "      <td>SUZB3</td>\n",
       "      <td>Suzano</td>\n",
       "      <td>55.63</td>\n",
       "      <td>52.91</td>\n",
       "      <td>-2.72</td>\n",
       "      <td>-4.89</td>\n",
       "      <td>-0.05</td>\n",
       "      <td>683452836</td>\n",
       "      <td>-1,859,212,321.66</td>\n",
       "      <td>Desceu</td>\n",
       "      <td>Papel e Celulose</td>\n",
       "      <td>97</td>\n",
       "      <td>Entre 50 e 100</td>\n",
       "    </tr>\n",
       "    <tr>\n",
       "      <th>4</th>\n",
       "      <td>CPFE3</td>\n",
       "      <td>CPFL Energia</td>\n",
       "      <td>38.51</td>\n",
       "      <td>37.10</td>\n",
       "      <td>-1.41</td>\n",
       "      <td>-3.66</td>\n",
       "      <td>-0.04</td>\n",
       "      <td>187732538</td>\n",
       "      <td>-264,598,820.89</td>\n",
       "      <td>Desceu</td>\n",
       "      <td>Energia</td>\n",
       "      <td>109</td>\n",
       "      <td>Mais que 100</td>\n",
       "    </tr>\n",
       "    <tr>\n",
       "      <th>...</th>\n",
       "      <td>...</td>\n",
       "      <td>...</td>\n",
       "      <td>...</td>\n",
       "      <td>...</td>\n",
       "      <td>...</td>\n",
       "      <td>...</td>\n",
       "      <td>...</td>\n",
       "      <td>...</td>\n",
       "      <td>...</td>\n",
       "      <td>...</td>\n",
       "      <td>...</td>\n",
       "      <td>...</td>\n",
       "      <td>...</td>\n",
       "    </tr>\n",
       "    <tr>\n",
       "      <th>78</th>\n",
       "      <td>LREN3</td>\n",
       "      <td>Lojas Renner</td>\n",
       "      <td>17.42</td>\n",
       "      <td>15.78</td>\n",
       "      <td>-1.64</td>\n",
       "      <td>-9.41</td>\n",
       "      <td>-0.09</td>\n",
       "      <td>951329770</td>\n",
       "      <td>-1,559,363,807.06</td>\n",
       "      <td>Desceu</td>\n",
       "      <td>Vestuário</td>\n",
       "      <td>54</td>\n",
       "      <td>Entre 50 e 100</td>\n",
       "    </tr>\n",
       "    <tr>\n",
       "      <th>79</th>\n",
       "      <td>CRFB3</td>\n",
       "      <td>Carrefour Brasil</td>\n",
       "      <td>12.45</td>\n",
       "      <td>10.71</td>\n",
       "      <td>-1.74</td>\n",
       "      <td>-13.98</td>\n",
       "      <td>-0.14</td>\n",
       "      <td>533990587</td>\n",
       "      <td>-929,460,216.59</td>\n",
       "      <td>Desceu</td>\n",
       "      <td>Varejo</td>\n",
       "      <td>44</td>\n",
       "      <td>Menos que 50 anos</td>\n",
       "    </tr>\n",
       "    <tr>\n",
       "      <th>80</th>\n",
       "      <td>RENT3</td>\n",
       "      <td>Localiza</td>\n",
       "      <td>63.60</td>\n",
       "      <td>56.24</td>\n",
       "      <td>-7.36</td>\n",
       "      <td>-11.57</td>\n",
       "      <td>-0.12</td>\n",
       "      <td>853202347</td>\n",
       "      <td>-6,278,141,320.20</td>\n",
       "      <td>Desceu</td>\n",
       "      <td>Aluguel de Carros</td>\n",
       "      <td>48</td>\n",
       "      <td>Menos que 50 anos</td>\n",
       "    </tr>\n",
       "    <tr>\n",
       "      <th>81</th>\n",
       "      <td>CVCB3</td>\n",
       "      <td>CVC</td>\n",
       "      <td>3.50</td>\n",
       "      <td>3.07</td>\n",
       "      <td>-0.43</td>\n",
       "      <td>-12.29</td>\n",
       "      <td>-0.12</td>\n",
       "      <td>525582771</td>\n",
       "      <td>-226,090,475.71</td>\n",
       "      <td>Desceu</td>\n",
       "      <td>Turismo</td>\n",
       "      <td>49</td>\n",
       "      <td>Menos que 50 anos</td>\n",
       "    </tr>\n",
       "    <tr>\n",
       "      <th>82</th>\n",
       "      <td>GOLL4</td>\n",
       "      <td>GOL</td>\n",
       "      <td>8.97</td>\n",
       "      <td>5.92</td>\n",
       "      <td>-3.05</td>\n",
       "      <td>-34.00</td>\n",
       "      <td>-0.34</td>\n",
       "      <td>198184909</td>\n",
       "      <td>-604,403,916.42</td>\n",
       "      <td>Desceu</td>\n",
       "      <td>Transporte Aéreo</td>\n",
       "      <td>22</td>\n",
       "      <td>Menos que 50 anos</td>\n",
       "    </tr>\n",
       "  </tbody>\n",
       "</table>\n",
       "<p>83 rows × 13 columns</p>\n",
       "</div>"
      ],
      "text/plain": [
       "   ticker              nome  valor_inicial  valor_final  var_reais  \\\n",
       "0   USIM5          Usiminas           9.29         9.50       0.21   \n",
       "1   CMIN3     CSN Mineração           7.76         6.82      -0.94   \n",
       "2   PETR3       Petrobras 3          38.98        41.96       2.98   \n",
       "3   SUZB3            Suzano          55.63        52.91      -2.72   \n",
       "4   CPFE3      CPFL Energia          38.51        37.10      -1.41   \n",
       "..    ...               ...            ...          ...        ...   \n",
       "78  LREN3      Lojas Renner          17.42        15.78      -1.64   \n",
       "79  CRFB3  Carrefour Brasil          12.45        10.71      -1.74   \n",
       "80  RENT3          Localiza          63.60        56.24      -7.36   \n",
       "81  CVCB3               CVC           3.50         3.07      -0.43   \n",
       "82  GOLL4               GOL           8.97         5.92      -3.05   \n",
       "\n",
       "    var_anual_pct  var_pct  qtd_teorica   var_reais_total resultado  \\\n",
       "0            2.26     0.02    515117391    108,151,480.39     Subiu   \n",
       "1          -12.11    -0.12   1110559345 -1,043,592,199.52    Desceu   \n",
       "2            7.64     0.08   2379877655  7,087,772,680.46     Subiu   \n",
       "3           -4.89    -0.05    683452836 -1,859,212,321.66    Desceu   \n",
       "4           -3.66    -0.04    187732538   -264,598,820.89    Desceu   \n",
       "..            ...      ...          ...               ...       ...   \n",
       "78          -9.41    -0.09    951329770 -1,559,363,807.06    Desceu   \n",
       "79         -13.98    -0.14    533990587   -929,460,216.59    Desceu   \n",
       "80         -11.57    -0.12    853202347 -6,278,141,320.20    Desceu   \n",
       "81         -12.29    -0.12    525582771   -226,090,475.71    Desceu   \n",
       "82         -34.00    -0.34    198184909   -604,403,916.42    Desceu   \n",
       "\n",
       "             segmento  idade          cat_idade  \n",
       "0          Siderurgia     59     Entre 50 e 100  \n",
       "1           Mineração     81     Entre 50 e 100  \n",
       "2      Petróleo e Gás     68     Entre 50 e 100  \n",
       "3    Papel e Celulose     97     Entre 50 e 100  \n",
       "4             Energia    109       Mais que 100  \n",
       "..                ...    ...                ...  \n",
       "78          Vestuário     54     Entre 50 e 100  \n",
       "79             Varejo     44  Menos que 50 anos  \n",
       "80  Aluguel de Carros     48  Menos que 50 anos  \n",
       "81            Turismo     49  Menos que 50 anos  \n",
       "82   Transporte Aéreo     22  Menos que 50 anos  \n",
       "\n",
       "[83 rows x 13 columns]"
      ]
     },
     "execution_count": 124,
     "metadata": {},
     "output_type": "execute_result"
    }
   ],
   "source": [
    "df_principal_anual = df_principal_anual[[\n",
    "    \"ticker\",\n",
    "    \"nome\",\n",
    "    \"valor_inicial\",\n",
    "    \"valor_final\",\n",
    "    \"var_reais\",\n",
    "    \"var_anual_pct\",\n",
    "    \"var_pct\",\n",
    "    \"qtd_teorica\",\n",
    "    \"var_reais_total\",\n",
    "    \"resultado\",\n",
    "    \"segmento\",\n",
    "    \"idade\",\n",
    "    \"cat_idade\"\n",
    "    ]]\n",
    "df_principal_anual"
   ]
  },
  {
   "cell_type": "code",
   "execution_count": null,
   "metadata": {},
   "outputs": [
    {
     "name": "stdout",
     "output_type": "stream",
     "text": [
      "Maior\tR$ 12,414,434,171.44\n",
      "Menor\tR$ -32,301,586,275.92\n",
      "Méanual\tR$ -1,128,731,359.51\n",
      "Méanual de quem subiu\tR$ 1,582,080,068.31\n",
      "Méanual de quem desceu\tR$ -1,879,417,601.07\n"
     ]
    }
   ],
   "source": [
    "# Calculando o maior valor\n",
    "maior = df_principal_anual['var_reais_total'].max()\n",
    "\n",
    "# Calculando o menor valor\n",
    "menor = df_principal_anual['var_reais_total'].min()\n",
    "\n",
    "# Calculando a méanual\n",
    "meanual = df_principal_anual['var_reais_total'].mean()\n",
    "\n",
    "# Calculando a méanual de quem subiu\n",
    "meanual_subiu = df_principal_anual[df_principal_anual['resultado'] == 'Subiu']['var_reais_total'].mean()\n",
    "\n",
    "# Calculando a méanual de quem desceu\n",
    "meanual_desceu = df_principal_anual[df_principal_anual['resultado'] == 'Desceu']['var_reais_total'].mean()\n",
    "\n",
    "# Imprimindo os resultados\n",
    "print(f\"Maior\\tR$ {maior:,.2f}\")\n",
    "print(f\"Menor\\tR$ {menor:,.2f}\")\n",
    "print(f\"Méanual\\tR$ {meanual:,.2f}\")\n",
    "print(f\"Méanual de quem subiu\\tR$ {meanual_subiu:,.2f}\")\n",
    "print(f\"Méanual de quem desceu\\tR$ {meanual_desceu:,.2f}\")"
   ]
  },
  {
   "cell_type": "code",
   "execution_count": null,
   "metadata": {},
   "outputs": [
    {
     "data": {
      "text/html": [
       "<div>\n",
       "<style scoped>\n",
       "    .dataframe tbody tr th:only-of-type {\n",
       "        vertical-align: middle;\n",
       "    }\n",
       "\n",
       "    .dataframe tbody tr th {\n",
       "        vertical-align: top;\n",
       "    }\n",
       "\n",
       "    .dataframe thead th {\n",
       "        text-align: right;\n",
       "    }\n",
       "</style>\n",
       "<table border=\"1\" class=\"dataframe\">\n",
       "  <thead>\n",
       "    <tr style=\"text-align: right;\">\n",
       "      <th></th>\n",
       "      <th>ticker</th>\n",
       "      <th>nome</th>\n",
       "      <th>valor_inicial</th>\n",
       "      <th>valor_final</th>\n",
       "      <th>var_reais</th>\n",
       "      <th>var_anual_pct</th>\n",
       "      <th>var_pct</th>\n",
       "      <th>qtd_teorica</th>\n",
       "      <th>var_reais_total</th>\n",
       "      <th>resultado</th>\n",
       "      <th>segmento</th>\n",
       "      <th>idade</th>\n",
       "      <th>cat_idade</th>\n",
       "    </tr>\n",
       "  </thead>\n",
       "  <tbody>\n",
       "    <tr>\n",
       "      <th>0</th>\n",
       "      <td>USIM5</td>\n",
       "      <td>Usiminas</td>\n",
       "      <td>9.29</td>\n",
       "      <td>9.50</td>\n",
       "      <td>0.21</td>\n",
       "      <td>2.26</td>\n",
       "      <td>0.02</td>\n",
       "      <td>515117391</td>\n",
       "      <td>108,151,480.39</td>\n",
       "      <td>Subiu</td>\n",
       "      <td>Siderurgia</td>\n",
       "      <td>59</td>\n",
       "      <td>Entre 50 e 100</td>\n",
       "    </tr>\n",
       "    <tr>\n",
       "      <th>2</th>\n",
       "      <td>PETR3</td>\n",
       "      <td>Petrobras 3</td>\n",
       "      <td>38.98</td>\n",
       "      <td>41.96</td>\n",
       "      <td>2.98</td>\n",
       "      <td>7.64</td>\n",
       "      <td>0.08</td>\n",
       "      <td>2379877655</td>\n",
       "      <td>7,087,772,680.46</td>\n",
       "      <td>Subiu</td>\n",
       "      <td>Petróleo e Gás</td>\n",
       "      <td>68</td>\n",
       "      <td>Entre 50 e 100</td>\n",
       "    </tr>\n",
       "    <tr>\n",
       "      <th>6</th>\n",
       "      <td>PETR4</td>\n",
       "      <td>Petrobras4</td>\n",
       "      <td>37.24</td>\n",
       "      <td>39.96</td>\n",
       "      <td>2.72</td>\n",
       "      <td>7.30</td>\n",
       "      <td>0.07</td>\n",
       "      <td>4566445852</td>\n",
       "      <td>12,414,434,171.44</td>\n",
       "      <td>Subiu</td>\n",
       "      <td>Petróleo e Gás</td>\n",
       "      <td>68</td>\n",
       "      <td>Entre 50 e 100</td>\n",
       "    </tr>\n",
       "    <tr>\n",
       "      <th>13</th>\n",
       "      <td>RRRP3</td>\n",
       "      <td>3R Petroleum</td>\n",
       "      <td>26.28</td>\n",
       "      <td>28.75</td>\n",
       "      <td>2.47</td>\n",
       "      <td>9.40</td>\n",
       "      <td>0.09</td>\n",
       "      <td>235665566</td>\n",
       "      <td>582,162,881.28</td>\n",
       "      <td>Subiu</td>\n",
       "      <td>Petróleo e Gás</td>\n",
       "      <td>9</td>\n",
       "      <td>Menos que 50 anos</td>\n",
       "    </tr>\n",
       "    <tr>\n",
       "      <th>17</th>\n",
       "      <td>UGPA3</td>\n",
       "      <td>Ultrapar</td>\n",
       "      <td>26.51</td>\n",
       "      <td>28.31</td>\n",
       "      <td>1.80</td>\n",
       "      <td>6.79</td>\n",
       "      <td>0.07</td>\n",
       "      <td>1086411192</td>\n",
       "      <td>1,955,569,648.29</td>\n",
       "      <td>Subiu</td>\n",
       "      <td>Conglomerado</td>\n",
       "      <td>84</td>\n",
       "      <td>Entre 50 e 100</td>\n",
       "    </tr>\n",
       "    <tr>\n",
       "      <th>22</th>\n",
       "      <td>PCAR3</td>\n",
       "      <td>Grupo Pão de Açúcar</td>\n",
       "      <td>4.06</td>\n",
       "      <td>4.14</td>\n",
       "      <td>0.08</td>\n",
       "      <td>1.97</td>\n",
       "      <td>0.02</td>\n",
       "      <td>159430826</td>\n",
       "      <td>12,751,651.77</td>\n",
       "      <td>Subiu</td>\n",
       "      <td>Varejo</td>\n",
       "      <td>62</td>\n",
       "      <td>Entre 50 e 100</td>\n",
       "    </tr>\n",
       "    <tr>\n",
       "      <th>23</th>\n",
       "      <td>BRFS3</td>\n",
       "      <td>BRF</td>\n",
       "      <td>13.81</td>\n",
       "      <td>14.61</td>\n",
       "      <td>0.80</td>\n",
       "      <td>5.79</td>\n",
       "      <td>0.06</td>\n",
       "      <td>1677525446</td>\n",
       "      <td>1,341,384,486.01</td>\n",
       "      <td>Subiu</td>\n",
       "      <td>Alimentos</td>\n",
       "      <td>85</td>\n",
       "      <td>Entre 50 e 100</td>\n",
       "    </tr>\n",
       "    <tr>\n",
       "      <th>26</th>\n",
       "      <td>CIEL3</td>\n",
       "      <td>Cielo</td>\n",
       "      <td>4.63</td>\n",
       "      <td>4.90</td>\n",
       "      <td>0.27</td>\n",
       "      <td>5.83</td>\n",
       "      <td>0.06</td>\n",
       "      <td>1095462329</td>\n",
       "      <td>295,701,335.66</td>\n",
       "      <td>Subiu</td>\n",
       "      <td>Serviços Financeiros</td>\n",
       "      <td>23</td>\n",
       "      <td>Menos que 50 anos</td>\n",
       "    </tr>\n",
       "    <tr>\n",
       "      <th>31</th>\n",
       "      <td>RECV3</td>\n",
       "      <td>PetroRecôncavo</td>\n",
       "      <td>21.72</td>\n",
       "      <td>23.83</td>\n",
       "      <td>2.11</td>\n",
       "      <td>9.71</td>\n",
       "      <td>0.10</td>\n",
       "      <td>275005663</td>\n",
       "      <td>580,014,290.93</td>\n",
       "      <td>Subiu</td>\n",
       "      <td>Petróleo e Gás</td>\n",
       "      <td>9</td>\n",
       "      <td>Menos que 50 anos</td>\n",
       "    </tr>\n",
       "    <tr>\n",
       "      <th>33</th>\n",
       "      <td>BBAS3</td>\n",
       "      <td>Banco do Brasil</td>\n",
       "      <td>55.39</td>\n",
       "      <td>56.97</td>\n",
       "      <td>1.58</td>\n",
       "      <td>2.85</td>\n",
       "      <td>0.03</td>\n",
       "      <td>1420949112</td>\n",
       "      <td>2,243,186,116.63</td>\n",
       "      <td>Subiu</td>\n",
       "      <td>Bancos</td>\n",
       "      <td>214</td>\n",
       "      <td>Mais que 100</td>\n",
       "    </tr>\n",
       "    <tr>\n",
       "      <th>45</th>\n",
       "      <td>MRFG3</td>\n",
       "      <td>Marfrig</td>\n",
       "      <td>9.70</td>\n",
       "      <td>9.74</td>\n",
       "      <td>0.04</td>\n",
       "      <td>0.41</td>\n",
       "      <td>0.00</td>\n",
       "      <td>331799687</td>\n",
       "      <td>13,195,985.16</td>\n",
       "      <td>Subiu</td>\n",
       "      <td>Alimentos</td>\n",
       "      <td>12</td>\n",
       "      <td>Menos que 50 anos</td>\n",
       "    </tr>\n",
       "    <tr>\n",
       "      <th>47</th>\n",
       "      <td>BBSE3</td>\n",
       "      <td>BB Seguridade</td>\n",
       "      <td>33.65</td>\n",
       "      <td>33.73</td>\n",
       "      <td>0.08</td>\n",
       "      <td>0.24</td>\n",
       "      <td>0.00</td>\n",
       "      <td>671750768</td>\n",
       "      <td>54,249,369.68</td>\n",
       "      <td>Subiu</td>\n",
       "      <td>Seguros</td>\n",
       "      <td>11</td>\n",
       "      <td>Menos que 50 anos</td>\n",
       "    </tr>\n",
       "    <tr>\n",
       "      <th>48</th>\n",
       "      <td>SBSP3</td>\n",
       "      <td>Sabesp</td>\n",
       "      <td>75.37</td>\n",
       "      <td>77.04</td>\n",
       "      <td>1.67</td>\n",
       "      <td>2.22</td>\n",
       "      <td>0.02</td>\n",
       "      <td>340001799</td>\n",
       "      <td>568,872,037.57</td>\n",
       "      <td>Subiu</td>\n",
       "      <td>Saneamento</td>\n",
       "      <td>48</td>\n",
       "      <td>Menos que 50 anos</td>\n",
       "    </tr>\n",
       "    <tr>\n",
       "      <th>50</th>\n",
       "      <td>CMIG4</td>\n",
       "      <td>CEMIG</td>\n",
       "      <td>11.48</td>\n",
       "      <td>11.64</td>\n",
       "      <td>0.16</td>\n",
       "      <td>1.39</td>\n",
       "      <td>0.01</td>\n",
       "      <td>1437415777</td>\n",
       "      <td>229,379,744.61</td>\n",
       "      <td>Subiu</td>\n",
       "      <td>Energia</td>\n",
       "      <td>70</td>\n",
       "      <td>Entre 50 e 100</td>\n",
       "    </tr>\n",
       "    <tr>\n",
       "      <th>55</th>\n",
       "      <td>SLCE3</td>\n",
       "      <td>SLC Agrícola</td>\n",
       "      <td>18.82</td>\n",
       "      <td>19.30</td>\n",
       "      <td>0.48</td>\n",
       "      <td>2.55</td>\n",
       "      <td>0.03</td>\n",
       "      <td>195751130</td>\n",
       "      <td>93,943,362.88</td>\n",
       "      <td>Subiu</td>\n",
       "      <td>Agronegócio</td>\n",
       "      <td>44</td>\n",
       "      <td>Menos que 50 anos</td>\n",
       "    </tr>\n",
       "    <tr>\n",
       "      <th>61</th>\n",
       "      <td>VBBR3</td>\n",
       "      <td>Vibra Energia</td>\n",
       "      <td>22.76</td>\n",
       "      <td>23.23</td>\n",
       "      <td>0.47</td>\n",
       "      <td>2.07</td>\n",
       "      <td>0.02</td>\n",
       "      <td>1114412532</td>\n",
       "      <td>525,009,821.25</td>\n",
       "      <td>Subiu</td>\n",
       "      <td>Energia</td>\n",
       "      <td>11</td>\n",
       "      <td>Menos que 50 anos</td>\n",
       "    </tr>\n",
       "    <tr>\n",
       "      <th>71</th>\n",
       "      <td>EMBR3</td>\n",
       "      <td>Embraer</td>\n",
       "      <td>22.39</td>\n",
       "      <td>22.40</td>\n",
       "      <td>0.01</td>\n",
       "      <td>0.04</td>\n",
       "      <td>0.00</td>\n",
       "      <td>734632705</td>\n",
       "      <td>6,579,677.17</td>\n",
       "      <td>Subiu</td>\n",
       "      <td>Aeroespacial</td>\n",
       "      <td>53</td>\n",
       "      <td>Entre 50 e 100</td>\n",
       "    </tr>\n",
       "    <tr>\n",
       "      <th>73</th>\n",
       "      <td>ASAI3</td>\n",
       "      <td>Assaí</td>\n",
       "      <td>13.53</td>\n",
       "      <td>13.80</td>\n",
       "      <td>0.27</td>\n",
       "      <td>2.00</td>\n",
       "      <td>0.02</td>\n",
       "      <td>1349217892</td>\n",
       "      <td>365,082,488.42</td>\n",
       "      <td>Subiu</td>\n",
       "      <td>Atacado</td>\n",
       "      <td>54</td>\n",
       "      <td>Entre 50 e 100</td>\n",
       "    </tr>\n",
       "  </tbody>\n",
       "</table>\n",
       "</div>"
      ],
      "text/plain": [
       "   ticker                 nome  valor_inicial  valor_final  var_reais  \\\n",
       "0   USIM5             Usiminas           9.29         9.50       0.21   \n",
       "2   PETR3          Petrobras 3          38.98        41.96       2.98   \n",
       "6   PETR4           Petrobras4          37.24        39.96       2.72   \n",
       "13  RRRP3         3R Petroleum          26.28        28.75       2.47   \n",
       "17  UGPA3             Ultrapar          26.51        28.31       1.80   \n",
       "22  PCAR3  Grupo Pão de Açúcar           4.06         4.14       0.08   \n",
       "23  BRFS3                  BRF          13.81        14.61       0.80   \n",
       "26  CIEL3                Cielo           4.63         4.90       0.27   \n",
       "31  RECV3       PetroRecôncavo          21.72        23.83       2.11   \n",
       "33  BBAS3      Banco do Brasil          55.39        56.97       1.58   \n",
       "45  MRFG3              Marfrig           9.70         9.74       0.04   \n",
       "47  BBSE3        BB Seguridade          33.65        33.73       0.08   \n",
       "48  SBSP3               Sabesp          75.37        77.04       1.67   \n",
       "50  CMIG4                CEMIG          11.48        11.64       0.16   \n",
       "55  SLCE3         SLC Agrícola          18.82        19.30       0.48   \n",
       "61  VBBR3        Vibra Energia          22.76        23.23       0.47   \n",
       "71  EMBR3              Embraer          22.39        22.40       0.01   \n",
       "73  ASAI3                Assaí          13.53        13.80       0.27   \n",
       "\n",
       "    var_anual_pct  var_pct  qtd_teorica   var_reais_total resultado  \\\n",
       "0            2.26     0.02    515117391    108,151,480.39     Subiu   \n",
       "2            7.64     0.08   2379877655  7,087,772,680.46     Subiu   \n",
       "6            7.30     0.07   4566445852 12,414,434,171.44     Subiu   \n",
       "13           9.40     0.09    235665566    582,162,881.28     Subiu   \n",
       "17           6.79     0.07   1086411192  1,955,569,648.29     Subiu   \n",
       "22           1.97     0.02    159430826     12,751,651.77     Subiu   \n",
       "23           5.79     0.06   1677525446  1,341,384,486.01     Subiu   \n",
       "26           5.83     0.06   1095462329    295,701,335.66     Subiu   \n",
       "31           9.71     0.10    275005663    580,014,290.93     Subiu   \n",
       "33           2.85     0.03   1420949112  2,243,186,116.63     Subiu   \n",
       "45           0.41     0.00    331799687     13,195,985.16     Subiu   \n",
       "47           0.24     0.00    671750768     54,249,369.68     Subiu   \n",
       "48           2.22     0.02    340001799    568,872,037.57     Subiu   \n",
       "50           1.39     0.01   1437415777    229,379,744.61     Subiu   \n",
       "55           2.55     0.03    195751130     93,943,362.88     Subiu   \n",
       "61           2.07     0.02   1114412532    525,009,821.25     Subiu   \n",
       "71           0.04     0.00    734632705      6,579,677.17     Subiu   \n",
       "73           2.00     0.02   1349217892    365,082,488.42     Subiu   \n",
       "\n",
       "                segmento  idade          cat_idade  \n",
       "0             Siderurgia     59     Entre 50 e 100  \n",
       "2         Petróleo e Gás     68     Entre 50 e 100  \n",
       "6         Petróleo e Gás     68     Entre 50 e 100  \n",
       "13        Petróleo e Gás      9  Menos que 50 anos  \n",
       "17          Conglomerado     84     Entre 50 e 100  \n",
       "22                Varejo     62     Entre 50 e 100  \n",
       "23             Alimentos     85     Entre 50 e 100  \n",
       "26  Serviços Financeiros     23  Menos que 50 anos  \n",
       "31        Petróleo e Gás      9  Menos que 50 anos  \n",
       "33                Bancos    214       Mais que 100  \n",
       "45             Alimentos     12  Menos que 50 anos  \n",
       "47               Seguros     11  Menos que 50 anos  \n",
       "48            Saneamento     48  Menos que 50 anos  \n",
       "50               Energia     70     Entre 50 e 100  \n",
       "55           Agronegócio     44  Menos que 50 anos  \n",
       "61               Energia     11  Menos que 50 anos  \n",
       "71          Aeroespacial     53     Entre 50 e 100  \n",
       "73               Atacado     54     Entre 50 e 100  "
      ]
     },
     "execution_count": 126,
     "metadata": {},
     "output_type": "execute_result"
    }
   ],
   "source": [
    "df_principal_anual_subiu = df_principal_anual[df_principal_anual['resultado'] == \"Subiu\"]\n",
    "df_principal_anual_subiu"
   ]
  },
  {
   "cell_type": "code",
   "execution_count": null,
   "metadata": {},
   "outputs": [
    {
     "data": {
      "text/html": [
       "<div>\n",
       "<style scoped>\n",
       "    .dataframe tbody tr th:only-of-type {\n",
       "        vertical-align: middle;\n",
       "    }\n",
       "\n",
       "    .dataframe tbody tr th {\n",
       "        vertical-align: top;\n",
       "    }\n",
       "\n",
       "    .dataframe thead th {\n",
       "        text-align: right;\n",
       "    }\n",
       "</style>\n",
       "<table border=\"1\" class=\"dataframe\">\n",
       "  <thead>\n",
       "    <tr style=\"text-align: right;\">\n",
       "      <th></th>\n",
       "      <th>segmento</th>\n",
       "      <th>var_reais_total</th>\n",
       "    </tr>\n",
       "  </thead>\n",
       "  <tbody>\n",
       "    <tr>\n",
       "      <th>0</th>\n",
       "      <td>Aeroespacial</td>\n",
       "      <td>6,579,677.17</td>\n",
       "    </tr>\n",
       "    <tr>\n",
       "      <th>1</th>\n",
       "      <td>Agronegócio</td>\n",
       "      <td>93,943,362.88</td>\n",
       "    </tr>\n",
       "    <tr>\n",
       "      <th>2</th>\n",
       "      <td>Alimentos</td>\n",
       "      <td>1,354,580,471.18</td>\n",
       "    </tr>\n",
       "    <tr>\n",
       "      <th>3</th>\n",
       "      <td>Atacado</td>\n",
       "      <td>365,082,488.42</td>\n",
       "    </tr>\n",
       "    <tr>\n",
       "      <th>4</th>\n",
       "      <td>Bancos</td>\n",
       "      <td>2,243,186,116.63</td>\n",
       "    </tr>\n",
       "    <tr>\n",
       "      <th>5</th>\n",
       "      <td>Conglomerado</td>\n",
       "      <td>1,955,569,648.29</td>\n",
       "    </tr>\n",
       "    <tr>\n",
       "      <th>6</th>\n",
       "      <td>Energia</td>\n",
       "      <td>754,389,565.86</td>\n",
       "    </tr>\n",
       "    <tr>\n",
       "      <th>7</th>\n",
       "      <td>Petróleo e Gás</td>\n",
       "      <td>20,664,384,024.10</td>\n",
       "    </tr>\n",
       "    <tr>\n",
       "      <th>8</th>\n",
       "      <td>Saneamento</td>\n",
       "      <td>568,872,037.57</td>\n",
       "    </tr>\n",
       "    <tr>\n",
       "      <th>9</th>\n",
       "      <td>Seguros</td>\n",
       "      <td>54,249,369.68</td>\n",
       "    </tr>\n",
       "    <tr>\n",
       "      <th>10</th>\n",
       "      <td>Serviços Financeiros</td>\n",
       "      <td>295,701,335.66</td>\n",
       "    </tr>\n",
       "    <tr>\n",
       "      <th>11</th>\n",
       "      <td>Siderurgia</td>\n",
       "      <td>108,151,480.39</td>\n",
       "    </tr>\n",
       "    <tr>\n",
       "      <th>12</th>\n",
       "      <td>Varejo</td>\n",
       "      <td>12,751,651.77</td>\n",
       "    </tr>\n",
       "  </tbody>\n",
       "</table>\n",
       "</div>"
      ],
      "text/plain": [
       "                segmento   var_reais_total\n",
       "0           Aeroespacial      6,579,677.17\n",
       "1            Agronegócio     93,943,362.88\n",
       "2              Alimentos  1,354,580,471.18\n",
       "3                Atacado    365,082,488.42\n",
       "4                 Bancos  2,243,186,116.63\n",
       "5           Conglomerado  1,955,569,648.29\n",
       "6                Energia    754,389,565.86\n",
       "7         Petróleo e Gás 20,664,384,024.10\n",
       "8             Saneamento    568,872,037.57\n",
       "9                Seguros     54,249,369.68\n",
       "10  Serviços Financeiros    295,701,335.66\n",
       "11            Siderurgia    108,151,480.39\n",
       "12                Varejo     12,751,651.77"
      ]
     },
     "execution_count": 127,
     "metadata": {},
     "output_type": "execute_result"
    }
   ],
   "source": [
    "df_analise_segmento_anual = df_principal_anual_subiu.groupby('segmento')[\"var_reais_total\"].sum().reset_index()\n",
    "df_analise_segmento_anual"
   ]
  },
  {
   "cell_type": "code",
   "execution_count": 170,
   "metadata": {},
   "outputs": [
    {
     "data": {
      "application/vnd.plotly.v1+json": {
       "config": {
        "plotlyServerURL": "https://plot.ly"
       },
       "data": [
        {
         "customdata": [
          [
           "Aeroespacial"
          ],
          [
           "Agronegócio"
          ],
          [
           "Alimentos"
          ],
          [
           "Atacado"
          ],
          [
           "Bancos"
          ],
          [
           "Conglomerado"
          ],
          [
           "Energia"
          ],
          [
           "Petróleo e Gás"
          ],
          [
           "Saneamento"
          ],
          [
           "Seguros"
          ],
          [
           "Serviços Financeiros"
          ],
          [
           "Siderurgia"
          ],
          [
           "Varejo"
          ]
         ],
         "domain": {
          "x": [
           0,
           1
          ],
          "y": [
           0,
           1
          ]
         },
         "hovertemplate": "segmento=%{customdata[0]}<br>var_reais_total=%{value}<extra></extra>",
         "labels": [
          "Aeroespacial",
          "Agronegócio",
          "Alimentos",
          "Atacado",
          "Bancos",
          "Conglomerado",
          "Energia",
          "Petróleo e Gás",
          "Saneamento",
          "Seguros",
          "Serviços Financeiros",
          "Siderurgia",
          "Varejo"
         ],
         "legendgroup": "",
         "name": "",
         "showlegend": true,
         "textposition": "inside",
         "type": "pie",
         "values": [
          6579677.1659332905,
          93943362.876158,
          1354580471.1761255,
          365082488.4235305,
          2243186116.629303,
          1955569648.2917976,
          754389565.8556498,
          20664384024.10235,
          568872037.5739695,
          54249369.683895245,
          295701335.65664715,
          108151480.39086604,
          12751651.767096197
         ]
        }
       ],
       "layout": {
        "legend": {
         "tracegroupgap": 0
        },
        "template": {
         "data": {
          "bar": [
           {
            "error_x": {
             "color": "#2a3f5f"
            },
            "error_y": {
             "color": "#2a3f5f"
            },
            "marker": {
             "line": {
              "color": "#E5ECF6",
              "width": 0.5
             },
             "pattern": {
              "fillmode": "overlay",
              "size": 10,
              "solidity": 0.2
             }
            },
            "type": "bar"
           }
          ],
          "barpolar": [
           {
            "marker": {
             "line": {
              "color": "#E5ECF6",
              "width": 0.5
             },
             "pattern": {
              "fillmode": "overlay",
              "size": 10,
              "solidity": 0.2
             }
            },
            "type": "barpolar"
           }
          ],
          "carpet": [
           {
            "aaxis": {
             "endlinecolor": "#2a3f5f",
             "gridcolor": "white",
             "linecolor": "white",
             "minorgridcolor": "white",
             "startlinecolor": "#2a3f5f"
            },
            "baxis": {
             "endlinecolor": "#2a3f5f",
             "gridcolor": "white",
             "linecolor": "white",
             "minorgridcolor": "white",
             "startlinecolor": "#2a3f5f"
            },
            "type": "carpet"
           }
          ],
          "choropleth": [
           {
            "colorbar": {
             "outlinewidth": 0,
             "ticks": ""
            },
            "type": "choropleth"
           }
          ],
          "contour": [
           {
            "colorbar": {
             "outlinewidth": 0,
             "ticks": ""
            },
            "colorscale": [
             [
              0,
              "#0d0887"
             ],
             [
              0.1111111111111111,
              "#46039f"
             ],
             [
              0.2222222222222222,
              "#7201a8"
             ],
             [
              0.3333333333333333,
              "#9c179e"
             ],
             [
              0.4444444444444444,
              "#bd3786"
             ],
             [
              0.5555555555555556,
              "#d8576b"
             ],
             [
              0.6666666666666666,
              "#ed7953"
             ],
             [
              0.7777777777777778,
              "#fb9f3a"
             ],
             [
              0.8888888888888888,
              "#fdca26"
             ],
             [
              1,
              "#f0f921"
             ]
            ],
            "type": "contour"
           }
          ],
          "contourcarpet": [
           {
            "colorbar": {
             "outlinewidth": 0,
             "ticks": ""
            },
            "type": "contourcarpet"
           }
          ],
          "heatmap": [
           {
            "colorbar": {
             "outlinewidth": 0,
             "ticks": ""
            },
            "colorscale": [
             [
              0,
              "#0d0887"
             ],
             [
              0.1111111111111111,
              "#46039f"
             ],
             [
              0.2222222222222222,
              "#7201a8"
             ],
             [
              0.3333333333333333,
              "#9c179e"
             ],
             [
              0.4444444444444444,
              "#bd3786"
             ],
             [
              0.5555555555555556,
              "#d8576b"
             ],
             [
              0.6666666666666666,
              "#ed7953"
             ],
             [
              0.7777777777777778,
              "#fb9f3a"
             ],
             [
              0.8888888888888888,
              "#fdca26"
             ],
             [
              1,
              "#f0f921"
             ]
            ],
            "type": "heatmap"
           }
          ],
          "heatmapgl": [
           {
            "colorbar": {
             "outlinewidth": 0,
             "ticks": ""
            },
            "colorscale": [
             [
              0,
              "#0d0887"
             ],
             [
              0.1111111111111111,
              "#46039f"
             ],
             [
              0.2222222222222222,
              "#7201a8"
             ],
             [
              0.3333333333333333,
              "#9c179e"
             ],
             [
              0.4444444444444444,
              "#bd3786"
             ],
             [
              0.5555555555555556,
              "#d8576b"
             ],
             [
              0.6666666666666666,
              "#ed7953"
             ],
             [
              0.7777777777777778,
              "#fb9f3a"
             ],
             [
              0.8888888888888888,
              "#fdca26"
             ],
             [
              1,
              "#f0f921"
             ]
            ],
            "type": "heatmapgl"
           }
          ],
          "histogram": [
           {
            "marker": {
             "pattern": {
              "fillmode": "overlay",
              "size": 10,
              "solidity": 0.2
             }
            },
            "type": "histogram"
           }
          ],
          "histogram2d": [
           {
            "colorbar": {
             "outlinewidth": 0,
             "ticks": ""
            },
            "colorscale": [
             [
              0,
              "#0d0887"
             ],
             [
              0.1111111111111111,
              "#46039f"
             ],
             [
              0.2222222222222222,
              "#7201a8"
             ],
             [
              0.3333333333333333,
              "#9c179e"
             ],
             [
              0.4444444444444444,
              "#bd3786"
             ],
             [
              0.5555555555555556,
              "#d8576b"
             ],
             [
              0.6666666666666666,
              "#ed7953"
             ],
             [
              0.7777777777777778,
              "#fb9f3a"
             ],
             [
              0.8888888888888888,
              "#fdca26"
             ],
             [
              1,
              "#f0f921"
             ]
            ],
            "type": "histogram2d"
           }
          ],
          "histogram2dcontour": [
           {
            "colorbar": {
             "outlinewidth": 0,
             "ticks": ""
            },
            "colorscale": [
             [
              0,
              "#0d0887"
             ],
             [
              0.1111111111111111,
              "#46039f"
             ],
             [
              0.2222222222222222,
              "#7201a8"
             ],
             [
              0.3333333333333333,
              "#9c179e"
             ],
             [
              0.4444444444444444,
              "#bd3786"
             ],
             [
              0.5555555555555556,
              "#d8576b"
             ],
             [
              0.6666666666666666,
              "#ed7953"
             ],
             [
              0.7777777777777778,
              "#fb9f3a"
             ],
             [
              0.8888888888888888,
              "#fdca26"
             ],
             [
              1,
              "#f0f921"
             ]
            ],
            "type": "histogram2dcontour"
           }
          ],
          "mesh3d": [
           {
            "colorbar": {
             "outlinewidth": 0,
             "ticks": ""
            },
            "type": "mesh3d"
           }
          ],
          "parcoords": [
           {
            "line": {
             "colorbar": {
              "outlinewidth": 0,
              "ticks": ""
             }
            },
            "type": "parcoords"
           }
          ],
          "pie": [
           {
            "automargin": true,
            "type": "pie"
           }
          ],
          "scatter": [
           {
            "fillpattern": {
             "fillmode": "overlay",
             "size": 10,
             "solidity": 0.2
            },
            "type": "scatter"
           }
          ],
          "scatter3d": [
           {
            "line": {
             "colorbar": {
              "outlinewidth": 0,
              "ticks": ""
             }
            },
            "marker": {
             "colorbar": {
              "outlinewidth": 0,
              "ticks": ""
             }
            },
            "type": "scatter3d"
           }
          ],
          "scattercarpet": [
           {
            "marker": {
             "colorbar": {
              "outlinewidth": 0,
              "ticks": ""
             }
            },
            "type": "scattercarpet"
           }
          ],
          "scattergeo": [
           {
            "marker": {
             "colorbar": {
              "outlinewidth": 0,
              "ticks": ""
             }
            },
            "type": "scattergeo"
           }
          ],
          "scattergl": [
           {
            "marker": {
             "colorbar": {
              "outlinewidth": 0,
              "ticks": ""
             }
            },
            "type": "scattergl"
           }
          ],
          "scattermapbox": [
           {
            "marker": {
             "colorbar": {
              "outlinewidth": 0,
              "ticks": ""
             }
            },
            "type": "scattermapbox"
           }
          ],
          "scatterpolar": [
           {
            "marker": {
             "colorbar": {
              "outlinewidth": 0,
              "ticks": ""
             }
            },
            "type": "scatterpolar"
           }
          ],
          "scatterpolargl": [
           {
            "marker": {
             "colorbar": {
              "outlinewidth": 0,
              "ticks": ""
             }
            },
            "type": "scatterpolargl"
           }
          ],
          "scatterternary": [
           {
            "marker": {
             "colorbar": {
              "outlinewidth": 0,
              "ticks": ""
             }
            },
            "type": "scatterternary"
           }
          ],
          "surface": [
           {
            "colorbar": {
             "outlinewidth": 0,
             "ticks": ""
            },
            "colorscale": [
             [
              0,
              "#0d0887"
             ],
             [
              0.1111111111111111,
              "#46039f"
             ],
             [
              0.2222222222222222,
              "#7201a8"
             ],
             [
              0.3333333333333333,
              "#9c179e"
             ],
             [
              0.4444444444444444,
              "#bd3786"
             ],
             [
              0.5555555555555556,
              "#d8576b"
             ],
             [
              0.6666666666666666,
              "#ed7953"
             ],
             [
              0.7777777777777778,
              "#fb9f3a"
             ],
             [
              0.8888888888888888,
              "#fdca26"
             ],
             [
              1,
              "#f0f921"
             ]
            ],
            "type": "surface"
           }
          ],
          "table": [
           {
            "cells": {
             "fill": {
              "color": "#EBF0F8"
             },
             "line": {
              "color": "white"
             }
            },
            "header": {
             "fill": {
              "color": "#C8D4E3"
             },
             "line": {
              "color": "white"
             }
            },
            "type": "table"
           }
          ]
         },
         "layout": {
          "annotationdefaults": {
           "arrowcolor": "#2a3f5f",
           "arrowhead": 0,
           "arrowwidth": 1
          },
          "autotypenumbers": "strict",
          "coloraxis": {
           "colorbar": {
            "outlinewidth": 0,
            "ticks": ""
           }
          },
          "colorscale": {
           "diverging": [
            [
             0,
             "#8e0152"
            ],
            [
             0.1,
             "#c51b7d"
            ],
            [
             0.2,
             "#de77ae"
            ],
            [
             0.3,
             "#f1b6da"
            ],
            [
             0.4,
             "#fde0ef"
            ],
            [
             0.5,
             "#f7f7f7"
            ],
            [
             0.6,
             "#e6f5d0"
            ],
            [
             0.7,
             "#b8e186"
            ],
            [
             0.8,
             "#7fbc41"
            ],
            [
             0.9,
             "#4d9221"
            ],
            [
             1,
             "#276419"
            ]
           ],
           "sequential": [
            [
             0,
             "#0d0887"
            ],
            [
             0.1111111111111111,
             "#46039f"
            ],
            [
             0.2222222222222222,
             "#7201a8"
            ],
            [
             0.3333333333333333,
             "#9c179e"
            ],
            [
             0.4444444444444444,
             "#bd3786"
            ],
            [
             0.5555555555555556,
             "#d8576b"
            ],
            [
             0.6666666666666666,
             "#ed7953"
            ],
            [
             0.7777777777777778,
             "#fb9f3a"
            ],
            [
             0.8888888888888888,
             "#fdca26"
            ],
            [
             1,
             "#f0f921"
            ]
           ],
           "sequentialminus": [
            [
             0,
             "#0d0887"
            ],
            [
             0.1111111111111111,
             "#46039f"
            ],
            [
             0.2222222222222222,
             "#7201a8"
            ],
            [
             0.3333333333333333,
             "#9c179e"
            ],
            [
             0.4444444444444444,
             "#bd3786"
            ],
            [
             0.5555555555555556,
             "#d8576b"
            ],
            [
             0.6666666666666666,
             "#ed7953"
            ],
            [
             0.7777777777777778,
             "#fb9f3a"
            ],
            [
             0.8888888888888888,
             "#fdca26"
            ],
            [
             1,
             "#f0f921"
            ]
           ]
          },
          "colorway": [
           "#636efa",
           "#EF553B",
           "#00cc96",
           "#ab63fa",
           "#FFA15A",
           "#19d3f3",
           "#FF6692",
           "#B6E880",
           "#FF97FF",
           "#FECB52"
          ],
          "font": {
           "color": "#2a3f5f"
          },
          "geo": {
           "bgcolor": "white",
           "lakecolor": "white",
           "landcolor": "#E5ECF6",
           "showlakes": true,
           "showland": true,
           "subunitcolor": "white"
          },
          "hoverlabel": {
           "align": "left"
          },
          "hovermode": "closest",
          "mapbox": {
           "style": "light"
          },
          "paper_bgcolor": "white",
          "plot_bgcolor": "#E5ECF6",
          "polar": {
           "angularaxis": {
            "gridcolor": "white",
            "linecolor": "white",
            "ticks": ""
           },
           "bgcolor": "#E5ECF6",
           "radialaxis": {
            "gridcolor": "white",
            "linecolor": "white",
            "ticks": ""
           }
          },
          "scene": {
           "xaxis": {
            "backgroundcolor": "#E5ECF6",
            "gridcolor": "white",
            "gridwidth": 2,
            "linecolor": "white",
            "showbackground": true,
            "ticks": "",
            "zerolinecolor": "white"
           },
           "yaxis": {
            "backgroundcolor": "#E5ECF6",
            "gridcolor": "white",
            "gridwidth": 2,
            "linecolor": "white",
            "showbackground": true,
            "ticks": "",
            "zerolinecolor": "white"
           },
           "zaxis": {
            "backgroundcolor": "#E5ECF6",
            "gridcolor": "white",
            "gridwidth": 2,
            "linecolor": "white",
            "showbackground": true,
            "ticks": "",
            "zerolinecolor": "white"
           }
          },
          "shapedefaults": {
           "line": {
            "color": "#2a3f5f"
           }
          },
          "ternary": {
           "aaxis": {
            "gridcolor": "white",
            "linecolor": "white",
            "ticks": ""
           },
           "baxis": {
            "gridcolor": "white",
            "linecolor": "white",
            "ticks": ""
           },
           "bgcolor": "#E5ECF6",
           "caxis": {
            "gridcolor": "white",
            "linecolor": "white",
            "ticks": ""
           }
          },
          "title": {
           "x": 0.05
          },
          "xaxis": {
           "automargin": true,
           "gridcolor": "white",
           "linecolor": "white",
           "ticks": "",
           "title": {
            "standoff": 15
           },
           "zerolinecolor": "white",
           "zerolinewidth": 2
          },
          "yaxis": {
           "automargin": true,
           "gridcolor": "white",
           "linecolor": "white",
           "ticks": "",
           "title": {
            "standoff": 15
           },
           "zerolinecolor": "white",
           "zerolinewidth": 2
          }
         }
        },
        "title": {
         "text": "Quantidade de acoes por segmento."
        }
       }
      }
     },
     "metadata": {},
     "output_type": "display_data"
    }
   ],
   "source": [
    "fig_anual = px.pie(df_analise_segmento_anual,\n",
    "                 values=\"var_reais_total\",\n",
    "                 names=\"segmento\",\n",
    "                 title=\"Quantidade de acoes por segmento.\",\n",
    "                 hover_data=[\"segmento\"]\n",
    "                 )\n",
    "fig_anual.update_traces(textposition = \"inside\")\n",
    "fig_anual.show()"
   ]
  },
  {
   "cell_type": "code",
   "execution_count": null,
   "metadata": {},
   "outputs": [
    {
     "data": {
      "text/html": [
       "<div>\n",
       "<style scoped>\n",
       "    .dataframe tbody tr th:only-of-type {\n",
       "        vertical-align: middle;\n",
       "    }\n",
       "\n",
       "    .dataframe tbody tr th {\n",
       "        vertical-align: top;\n",
       "    }\n",
       "\n",
       "    .dataframe thead th {\n",
       "        text-align: right;\n",
       "    }\n",
       "</style>\n",
       "<table border=\"1\" class=\"dataframe\">\n",
       "  <thead>\n",
       "    <tr style=\"text-align: right;\">\n",
       "      <th></th>\n",
       "      <th>resultado</th>\n",
       "      <th>var_reais_total</th>\n",
       "    </tr>\n",
       "  </thead>\n",
       "  <tbody>\n",
       "    <tr>\n",
       "      <th>0</th>\n",
       "      <td>Desceu</td>\n",
       "      <td>-122,162,144,069.30</td>\n",
       "    </tr>\n",
       "    <tr>\n",
       "      <th>1</th>\n",
       "      <td>Subiu</td>\n",
       "      <td>28,477,441,229.59</td>\n",
       "    </tr>\n",
       "  </tbody>\n",
       "</table>\n",
       "</div>"
      ],
      "text/plain": [
       "  resultado     var_reais_total\n",
       "0    Desceu -122,162,144,069.30\n",
       "1     Subiu   28,477,441,229.59"
      ]
     },
     "execution_count": 128,
     "metadata": {},
     "output_type": "execute_result"
    }
   ],
   "source": [
    "df_analise_anual_saldo = df_principal_anual.groupby('resultado')['var_reais_total'].sum().reset_index()\n",
    "df_analise_anual_saldo"
   ]
  },
  {
   "cell_type": "code",
   "execution_count": 159,
   "metadata": {},
   "outputs": [
    {
     "data": {
      "application/vnd.plotly.v1+json": {
       "config": {
        "plotlyServerURL": "https://plot.ly"
       },
       "data": [
        {
         "alignmentgroup": "True",
         "hovertemplate": "var_reais_total=%{x}<br>resultado=%{y}<extra></extra>",
         "legendgroup": "",
         "marker": {
          "color": "#636efa",
          "pattern": {
           "shape": ""
          }
         },
         "name": "",
         "offsetgroup": "",
         "orientation": "h",
         "showlegend": false,
         "textposition": "auto",
         "type": "bar",
         "x": [
          -122162144069.3018,
          28477441229.593323
         ],
         "xaxis": "x",
         "y": [
          "Desceu",
          "Subiu"
         ],
         "yaxis": "y"
        }
       ],
       "layout": {
        "barmode": "relative",
        "legend": {
         "tracegroupgap": 0
        },
        "template": {
         "data": {
          "bar": [
           {
            "error_x": {
             "color": "#2a3f5f"
            },
            "error_y": {
             "color": "#2a3f5f"
            },
            "marker": {
             "line": {
              "color": "#E5ECF6",
              "width": 0.5
             },
             "pattern": {
              "fillmode": "overlay",
              "size": 10,
              "solidity": 0.2
             }
            },
            "type": "bar"
           }
          ],
          "barpolar": [
           {
            "marker": {
             "line": {
              "color": "#E5ECF6",
              "width": 0.5
             },
             "pattern": {
              "fillmode": "overlay",
              "size": 10,
              "solidity": 0.2
             }
            },
            "type": "barpolar"
           }
          ],
          "carpet": [
           {
            "aaxis": {
             "endlinecolor": "#2a3f5f",
             "gridcolor": "white",
             "linecolor": "white",
             "minorgridcolor": "white",
             "startlinecolor": "#2a3f5f"
            },
            "baxis": {
             "endlinecolor": "#2a3f5f",
             "gridcolor": "white",
             "linecolor": "white",
             "minorgridcolor": "white",
             "startlinecolor": "#2a3f5f"
            },
            "type": "carpet"
           }
          ],
          "choropleth": [
           {
            "colorbar": {
             "outlinewidth": 0,
             "ticks": ""
            },
            "type": "choropleth"
           }
          ],
          "contour": [
           {
            "colorbar": {
             "outlinewidth": 0,
             "ticks": ""
            },
            "colorscale": [
             [
              0,
              "#0d0887"
             ],
             [
              0.1111111111111111,
              "#46039f"
             ],
             [
              0.2222222222222222,
              "#7201a8"
             ],
             [
              0.3333333333333333,
              "#9c179e"
             ],
             [
              0.4444444444444444,
              "#bd3786"
             ],
             [
              0.5555555555555556,
              "#d8576b"
             ],
             [
              0.6666666666666666,
              "#ed7953"
             ],
             [
              0.7777777777777778,
              "#fb9f3a"
             ],
             [
              0.8888888888888888,
              "#fdca26"
             ],
             [
              1,
              "#f0f921"
             ]
            ],
            "type": "contour"
           }
          ],
          "contourcarpet": [
           {
            "colorbar": {
             "outlinewidth": 0,
             "ticks": ""
            },
            "type": "contourcarpet"
           }
          ],
          "heatmap": [
           {
            "colorbar": {
             "outlinewidth": 0,
             "ticks": ""
            },
            "colorscale": [
             [
              0,
              "#0d0887"
             ],
             [
              0.1111111111111111,
              "#46039f"
             ],
             [
              0.2222222222222222,
              "#7201a8"
             ],
             [
              0.3333333333333333,
              "#9c179e"
             ],
             [
              0.4444444444444444,
              "#bd3786"
             ],
             [
              0.5555555555555556,
              "#d8576b"
             ],
             [
              0.6666666666666666,
              "#ed7953"
             ],
             [
              0.7777777777777778,
              "#fb9f3a"
             ],
             [
              0.8888888888888888,
              "#fdca26"
             ],
             [
              1,
              "#f0f921"
             ]
            ],
            "type": "heatmap"
           }
          ],
          "heatmapgl": [
           {
            "colorbar": {
             "outlinewidth": 0,
             "ticks": ""
            },
            "colorscale": [
             [
              0,
              "#0d0887"
             ],
             [
              0.1111111111111111,
              "#46039f"
             ],
             [
              0.2222222222222222,
              "#7201a8"
             ],
             [
              0.3333333333333333,
              "#9c179e"
             ],
             [
              0.4444444444444444,
              "#bd3786"
             ],
             [
              0.5555555555555556,
              "#d8576b"
             ],
             [
              0.6666666666666666,
              "#ed7953"
             ],
             [
              0.7777777777777778,
              "#fb9f3a"
             ],
             [
              0.8888888888888888,
              "#fdca26"
             ],
             [
              1,
              "#f0f921"
             ]
            ],
            "type": "heatmapgl"
           }
          ],
          "histogram": [
           {
            "marker": {
             "pattern": {
              "fillmode": "overlay",
              "size": 10,
              "solidity": 0.2
             }
            },
            "type": "histogram"
           }
          ],
          "histogram2d": [
           {
            "colorbar": {
             "outlinewidth": 0,
             "ticks": ""
            },
            "colorscale": [
             [
              0,
              "#0d0887"
             ],
             [
              0.1111111111111111,
              "#46039f"
             ],
             [
              0.2222222222222222,
              "#7201a8"
             ],
             [
              0.3333333333333333,
              "#9c179e"
             ],
             [
              0.4444444444444444,
              "#bd3786"
             ],
             [
              0.5555555555555556,
              "#d8576b"
             ],
             [
              0.6666666666666666,
              "#ed7953"
             ],
             [
              0.7777777777777778,
              "#fb9f3a"
             ],
             [
              0.8888888888888888,
              "#fdca26"
             ],
             [
              1,
              "#f0f921"
             ]
            ],
            "type": "histogram2d"
           }
          ],
          "histogram2dcontour": [
           {
            "colorbar": {
             "outlinewidth": 0,
             "ticks": ""
            },
            "colorscale": [
             [
              0,
              "#0d0887"
             ],
             [
              0.1111111111111111,
              "#46039f"
             ],
             [
              0.2222222222222222,
              "#7201a8"
             ],
             [
              0.3333333333333333,
              "#9c179e"
             ],
             [
              0.4444444444444444,
              "#bd3786"
             ],
             [
              0.5555555555555556,
              "#d8576b"
             ],
             [
              0.6666666666666666,
              "#ed7953"
             ],
             [
              0.7777777777777778,
              "#fb9f3a"
             ],
             [
              0.8888888888888888,
              "#fdca26"
             ],
             [
              1,
              "#f0f921"
             ]
            ],
            "type": "histogram2dcontour"
           }
          ],
          "mesh3d": [
           {
            "colorbar": {
             "outlinewidth": 0,
             "ticks": ""
            },
            "type": "mesh3d"
           }
          ],
          "parcoords": [
           {
            "line": {
             "colorbar": {
              "outlinewidth": 0,
              "ticks": ""
             }
            },
            "type": "parcoords"
           }
          ],
          "pie": [
           {
            "automargin": true,
            "type": "pie"
           }
          ],
          "scatter": [
           {
            "fillpattern": {
             "fillmode": "overlay",
             "size": 10,
             "solidity": 0.2
            },
            "type": "scatter"
           }
          ],
          "scatter3d": [
           {
            "line": {
             "colorbar": {
              "outlinewidth": 0,
              "ticks": ""
             }
            },
            "marker": {
             "colorbar": {
              "outlinewidth": 0,
              "ticks": ""
             }
            },
            "type": "scatter3d"
           }
          ],
          "scattercarpet": [
           {
            "marker": {
             "colorbar": {
              "outlinewidth": 0,
              "ticks": ""
             }
            },
            "type": "scattercarpet"
           }
          ],
          "scattergeo": [
           {
            "marker": {
             "colorbar": {
              "outlinewidth": 0,
              "ticks": ""
             }
            },
            "type": "scattergeo"
           }
          ],
          "scattergl": [
           {
            "marker": {
             "colorbar": {
              "outlinewidth": 0,
              "ticks": ""
             }
            },
            "type": "scattergl"
           }
          ],
          "scattermapbox": [
           {
            "marker": {
             "colorbar": {
              "outlinewidth": 0,
              "ticks": ""
             }
            },
            "type": "scattermapbox"
           }
          ],
          "scatterpolar": [
           {
            "marker": {
             "colorbar": {
              "outlinewidth": 0,
              "ticks": ""
             }
            },
            "type": "scatterpolar"
           }
          ],
          "scatterpolargl": [
           {
            "marker": {
             "colorbar": {
              "outlinewidth": 0,
              "ticks": ""
             }
            },
            "type": "scatterpolargl"
           }
          ],
          "scatterternary": [
           {
            "marker": {
             "colorbar": {
              "outlinewidth": 0,
              "ticks": ""
             }
            },
            "type": "scatterternary"
           }
          ],
          "surface": [
           {
            "colorbar": {
             "outlinewidth": 0,
             "ticks": ""
            },
            "colorscale": [
             [
              0,
              "#0d0887"
             ],
             [
              0.1111111111111111,
              "#46039f"
             ],
             [
              0.2222222222222222,
              "#7201a8"
             ],
             [
              0.3333333333333333,
              "#9c179e"
             ],
             [
              0.4444444444444444,
              "#bd3786"
             ],
             [
              0.5555555555555556,
              "#d8576b"
             ],
             [
              0.6666666666666666,
              "#ed7953"
             ],
             [
              0.7777777777777778,
              "#fb9f3a"
             ],
             [
              0.8888888888888888,
              "#fdca26"
             ],
             [
              1,
              "#f0f921"
             ]
            ],
            "type": "surface"
           }
          ],
          "table": [
           {
            "cells": {
             "fill": {
              "color": "#EBF0F8"
             },
             "line": {
              "color": "white"
             }
            },
            "header": {
             "fill": {
              "color": "#C8D4E3"
             },
             "line": {
              "color": "white"
             }
            },
            "type": "table"
           }
          ]
         },
         "layout": {
          "annotationdefaults": {
           "arrowcolor": "#2a3f5f",
           "arrowhead": 0,
           "arrowwidth": 1
          },
          "autotypenumbers": "strict",
          "coloraxis": {
           "colorbar": {
            "outlinewidth": 0,
            "ticks": ""
           }
          },
          "colorscale": {
           "diverging": [
            [
             0,
             "#8e0152"
            ],
            [
             0.1,
             "#c51b7d"
            ],
            [
             0.2,
             "#de77ae"
            ],
            [
             0.3,
             "#f1b6da"
            ],
            [
             0.4,
             "#fde0ef"
            ],
            [
             0.5,
             "#f7f7f7"
            ],
            [
             0.6,
             "#e6f5d0"
            ],
            [
             0.7,
             "#b8e186"
            ],
            [
             0.8,
             "#7fbc41"
            ],
            [
             0.9,
             "#4d9221"
            ],
            [
             1,
             "#276419"
            ]
           ],
           "sequential": [
            [
             0,
             "#0d0887"
            ],
            [
             0.1111111111111111,
             "#46039f"
            ],
            [
             0.2222222222222222,
             "#7201a8"
            ],
            [
             0.3333333333333333,
             "#9c179e"
            ],
            [
             0.4444444444444444,
             "#bd3786"
            ],
            [
             0.5555555555555556,
             "#d8576b"
            ],
            [
             0.6666666666666666,
             "#ed7953"
            ],
            [
             0.7777777777777778,
             "#fb9f3a"
            ],
            [
             0.8888888888888888,
             "#fdca26"
            ],
            [
             1,
             "#f0f921"
            ]
           ],
           "sequentialminus": [
            [
             0,
             "#0d0887"
            ],
            [
             0.1111111111111111,
             "#46039f"
            ],
            [
             0.2222222222222222,
             "#7201a8"
            ],
            [
             0.3333333333333333,
             "#9c179e"
            ],
            [
             0.4444444444444444,
             "#bd3786"
            ],
            [
             0.5555555555555556,
             "#d8576b"
            ],
            [
             0.6666666666666666,
             "#ed7953"
            ],
            [
             0.7777777777777778,
             "#fb9f3a"
            ],
            [
             0.8888888888888888,
             "#fdca26"
            ],
            [
             1,
             "#f0f921"
            ]
           ]
          },
          "colorway": [
           "#636efa",
           "#EF553B",
           "#00cc96",
           "#ab63fa",
           "#FFA15A",
           "#19d3f3",
           "#FF6692",
           "#B6E880",
           "#FF97FF",
           "#FECB52"
          ],
          "font": {
           "color": "#2a3f5f"
          },
          "geo": {
           "bgcolor": "white",
           "lakecolor": "white",
           "landcolor": "#E5ECF6",
           "showlakes": true,
           "showland": true,
           "subunitcolor": "white"
          },
          "hoverlabel": {
           "align": "left"
          },
          "hovermode": "closest",
          "mapbox": {
           "style": "light"
          },
          "paper_bgcolor": "white",
          "plot_bgcolor": "#E5ECF6",
          "polar": {
           "angularaxis": {
            "gridcolor": "white",
            "linecolor": "white",
            "ticks": ""
           },
           "bgcolor": "#E5ECF6",
           "radialaxis": {
            "gridcolor": "white",
            "linecolor": "white",
            "ticks": ""
           }
          },
          "scene": {
           "xaxis": {
            "backgroundcolor": "#E5ECF6",
            "gridcolor": "white",
            "gridwidth": 2,
            "linecolor": "white",
            "showbackground": true,
            "ticks": "",
            "zerolinecolor": "white"
           },
           "yaxis": {
            "backgroundcolor": "#E5ECF6",
            "gridcolor": "white",
            "gridwidth": 2,
            "linecolor": "white",
            "showbackground": true,
            "ticks": "",
            "zerolinecolor": "white"
           },
           "zaxis": {
            "backgroundcolor": "#E5ECF6",
            "gridcolor": "white",
            "gridwidth": 2,
            "linecolor": "white",
            "showbackground": true,
            "ticks": "",
            "zerolinecolor": "white"
           }
          },
          "shapedefaults": {
           "line": {
            "color": "#2a3f5f"
           }
          },
          "ternary": {
           "aaxis": {
            "gridcolor": "white",
            "linecolor": "white",
            "ticks": ""
           },
           "baxis": {
            "gridcolor": "white",
            "linecolor": "white",
            "ticks": ""
           },
           "bgcolor": "#E5ECF6",
           "caxis": {
            "gridcolor": "white",
            "linecolor": "white",
            "ticks": ""
           }
          },
          "title": {
           "x": 0.05
          },
          "xaxis": {
           "automargin": true,
           "gridcolor": "white",
           "linecolor": "white",
           "ticks": "",
           "title": {
            "standoff": 15
           },
           "zerolinecolor": "white",
           "zerolinewidth": 2
          },
          "yaxis": {
           "automargin": true,
           "gridcolor": "white",
           "linecolor": "white",
           "ticks": "",
           "title": {
            "standoff": 15
           },
           "zerolinecolor": "white",
           "zerolinewidth": 2
          }
         }
        },
        "title": {
         "text": "Variação Reais por Resultado"
        },
        "xaxis": {
         "anchor": "y",
         "domain": [
          0,
          1
         ],
         "title": {
          "text": "var_reais_total"
         }
        },
        "yaxis": {
         "anchor": "x",
         "domain": [
          0,
          1
         ],
         "title": {
          "text": "resultado"
         }
        }
       }
      }
     },
     "metadata": {},
     "output_type": "display_data"
    }
   ],
   "source": [
    "fig_anual = px.bar(df_analise_anual_saldo, x= \"var_reais_total\", y=\"resultado\", title=\"Variação Reais por Resultado\")\n",
    "fig_anual.show()"
   ]
  },
  {
   "cell_type": "code",
   "execution_count": null,
   "metadata": {},
   "outputs": [
    {
     "data": {
      "text/html": [
       "<div>\n",
       "<style scoped>\n",
       "    .dataframe tbody tr th:only-of-type {\n",
       "        vertical-align: middle;\n",
       "    }\n",
       "\n",
       "    .dataframe tbody tr th {\n",
       "        vertical-align: top;\n",
       "    }\n",
       "\n",
       "    .dataframe thead th {\n",
       "        text-align: right;\n",
       "    }\n",
       "</style>\n",
       "<table border=\"1\" class=\"dataframe\">\n",
       "  <thead>\n",
       "    <tr style=\"text-align: right;\">\n",
       "      <th></th>\n",
       "      <th>ticker</th>\n",
       "      <th>nome</th>\n",
       "      <th>valor_final</th>\n",
       "      <th>var_12m_pct</th>\n",
       "      <th>qtd_teorica</th>\n",
       "      <th>segmento</th>\n",
       "      <th>idade</th>\n",
       "    </tr>\n",
       "  </thead>\n",
       "  <tbody>\n",
       "    <tr>\n",
       "      <th>0</th>\n",
       "      <td>USIM5</td>\n",
       "      <td>Usiminas</td>\n",
       "      <td>9.50</td>\n",
       "      <td>15.97</td>\n",
       "      <td>515117391</td>\n",
       "      <td>Siderurgia</td>\n",
       "      <td>59</td>\n",
       "    </tr>\n",
       "    <tr>\n",
       "      <th>1</th>\n",
       "      <td>CMIN3</td>\n",
       "      <td>CSN Mineração</td>\n",
       "      <td>6.82</td>\n",
       "      <td>50.56</td>\n",
       "      <td>1110559345</td>\n",
       "      <td>Mineração</td>\n",
       "      <td>81</td>\n",
       "    </tr>\n",
       "    <tr>\n",
       "      <th>2</th>\n",
       "      <td>PETR3</td>\n",
       "      <td>Petrobras 3</td>\n",
       "      <td>41.96</td>\n",
       "      <td>77.55</td>\n",
       "      <td>2379877655</td>\n",
       "      <td>Petróleo e Gás</td>\n",
       "      <td>68</td>\n",
       "    </tr>\n",
       "    <tr>\n",
       "      <th>3</th>\n",
       "      <td>SUZB3</td>\n",
       "      <td>Suzano</td>\n",
       "      <td>52.91</td>\n",
       "      <td>18.85</td>\n",
       "      <td>683452836</td>\n",
       "      <td>Papel e Celulose</td>\n",
       "      <td>97</td>\n",
       "    </tr>\n",
       "    <tr>\n",
       "      <th>4</th>\n",
       "      <td>CPFE3</td>\n",
       "      <td>CPFL Energia</td>\n",
       "      <td>37.10</td>\n",
       "      <td>20.70</td>\n",
       "      <td>187732538</td>\n",
       "      <td>Energia</td>\n",
       "      <td>109</td>\n",
       "    </tr>\n",
       "    <tr>\n",
       "      <th>...</th>\n",
       "      <td>...</td>\n",
       "      <td>...</td>\n",
       "      <td>...</td>\n",
       "      <td>...</td>\n",
       "      <td>...</td>\n",
       "      <td>...</td>\n",
       "      <td>...</td>\n",
       "    </tr>\n",
       "    <tr>\n",
       "      <th>78</th>\n",
       "      <td>LREN3</td>\n",
       "      <td>Lojas Renner</td>\n",
       "      <td>15.78</td>\n",
       "      <td>-24.94</td>\n",
       "      <td>951329770</td>\n",
       "      <td>Vestuário</td>\n",
       "      <td>54</td>\n",
       "    </tr>\n",
       "    <tr>\n",
       "      <th>79</th>\n",
       "      <td>CRFB3</td>\n",
       "      <td>Carrefour Brasil</td>\n",
       "      <td>10.71</td>\n",
       "      <td>-32.72</td>\n",
       "      <td>533990587</td>\n",
       "      <td>Varejo</td>\n",
       "      <td>44</td>\n",
       "    </tr>\n",
       "    <tr>\n",
       "      <th>80</th>\n",
       "      <td>RENT3</td>\n",
       "      <td>Localiza</td>\n",
       "      <td>56.24</td>\n",
       "      <td>-2.77</td>\n",
       "      <td>853202347</td>\n",
       "      <td>Aluguel de Carros</td>\n",
       "      <td>48</td>\n",
       "    </tr>\n",
       "    <tr>\n",
       "      <th>81</th>\n",
       "      <td>CVCB3</td>\n",
       "      <td>CVC</td>\n",
       "      <td>3.07</td>\n",
       "      <td>-36.83</td>\n",
       "      <td>525582771</td>\n",
       "      <td>Turismo</td>\n",
       "      <td>49</td>\n",
       "    </tr>\n",
       "    <tr>\n",
       "      <th>82</th>\n",
       "      <td>GOLL4</td>\n",
       "      <td>GOL</td>\n",
       "      <td>5.92</td>\n",
       "      <td>-25.44</td>\n",
       "      <td>198184909</td>\n",
       "      <td>Transporte Aéreo</td>\n",
       "      <td>22</td>\n",
       "    </tr>\n",
       "  </tbody>\n",
       "</table>\n",
       "<p>83 rows × 7 columns</p>\n",
       "</div>"
      ],
      "text/plain": [
       "   ticker              nome  valor_final  var_12m_pct  qtd_teorica  \\\n",
       "0   USIM5          Usiminas         9.50        15.97    515117391   \n",
       "1   CMIN3     CSN Mineração         6.82        50.56   1110559345   \n",
       "2   PETR3       Petrobras 3        41.96        77.55   2379877655   \n",
       "3   SUZB3            Suzano        52.91        18.85    683452836   \n",
       "4   CPFE3      CPFL Energia        37.10        20.70    187732538   \n",
       "..    ...               ...          ...          ...          ...   \n",
       "78  LREN3      Lojas Renner        15.78       -24.94    951329770   \n",
       "79  CRFB3  Carrefour Brasil        10.71       -32.72    533990587   \n",
       "80  RENT3          Localiza        56.24        -2.77    853202347   \n",
       "81  CVCB3               CVC         3.07       -36.83    525582771   \n",
       "82  GOLL4               GOL         5.92       -25.44    198184909   \n",
       "\n",
       "             segmento  idade  \n",
       "0          Siderurgia     59  \n",
       "1           Mineração     81  \n",
       "2      Petróleo e Gás     68  \n",
       "3    Papel e Celulose     97  \n",
       "4             Energia    109  \n",
       "..                ...    ...  \n",
       "78          Vestuário     54  \n",
       "79             Varejo     44  \n",
       "80  Aluguel de Carros     48  \n",
       "81            Turismo     49  \n",
       "82   Transporte Aéreo     22  \n",
       "\n",
       "[83 rows x 7 columns]"
      ]
     },
     "execution_count": 129,
     "metadata": {},
     "output_type": "execute_result"
    }
   ],
   "source": [
    "df_principal_12m = df_principal[[\n",
    "    \"ticker\",\n",
    "    \"nome\",\n",
    "    \"valor_final\",\n",
    "    \"var_12m_pct\",\n",
    "    \"qtd_teorica\",\n",
    "    \"segmento\",\n",
    "    \"idade\"\n",
    "    ]].copy()\n",
    "df_principal_12m"
   ]
  },
  {
   "cell_type": "code",
   "execution_count": null,
   "metadata": {},
   "outputs": [
    {
     "data": {
      "text/html": [
       "<div>\n",
       "<style scoped>\n",
       "    .dataframe tbody tr th:only-of-type {\n",
       "        vertical-align: middle;\n",
       "    }\n",
       "\n",
       "    .dataframe tbody tr th {\n",
       "        vertical-align: top;\n",
       "    }\n",
       "\n",
       "    .dataframe thead th {\n",
       "        text-align: right;\n",
       "    }\n",
       "</style>\n",
       "<table border=\"1\" class=\"dataframe\">\n",
       "  <thead>\n",
       "    <tr style=\"text-align: right;\">\n",
       "      <th></th>\n",
       "      <th>ticker</th>\n",
       "      <th>nome</th>\n",
       "      <th>valor_final</th>\n",
       "      <th>var_12m_pct</th>\n",
       "      <th>qtd_teorica</th>\n",
       "      <th>segmento</th>\n",
       "      <th>idade</th>\n",
       "      <th>var_pct</th>\n",
       "      <th>valor_inicial</th>\n",
       "      <th>var_reais</th>\n",
       "      <th>var_reais_total</th>\n",
       "    </tr>\n",
       "  </thead>\n",
       "  <tbody>\n",
       "    <tr>\n",
       "      <th>0</th>\n",
       "      <td>USIM5</td>\n",
       "      <td>Usiminas</td>\n",
       "      <td>9.50</td>\n",
       "      <td>15.97</td>\n",
       "      <td>515117391</td>\n",
       "      <td>Siderurgia</td>\n",
       "      <td>59</td>\n",
       "      <td>0.16</td>\n",
       "      <td>8.19</td>\n",
       "      <td>1.31</td>\n",
       "      <td>673,890,100.68</td>\n",
       "    </tr>\n",
       "    <tr>\n",
       "      <th>1</th>\n",
       "      <td>CMIN3</td>\n",
       "      <td>CSN Mineração</td>\n",
       "      <td>6.82</td>\n",
       "      <td>50.56</td>\n",
       "      <td>1110559345</td>\n",
       "      <td>Mineração</td>\n",
       "      <td>81</td>\n",
       "      <td>0.51</td>\n",
       "      <td>4.53</td>\n",
       "      <td>2.29</td>\n",
       "      <td>2,543,452,343.89</td>\n",
       "    </tr>\n",
       "    <tr>\n",
       "      <th>2</th>\n",
       "      <td>PETR3</td>\n",
       "      <td>Petrobras 3</td>\n",
       "      <td>41.96</td>\n",
       "      <td>77.55</td>\n",
       "      <td>2379877655</td>\n",
       "      <td>Petróleo e Gás</td>\n",
       "      <td>68</td>\n",
       "      <td>0.78</td>\n",
       "      <td>23.63</td>\n",
       "      <td>18.33</td>\n",
       "      <td>43,616,542,549.22</td>\n",
       "    </tr>\n",
       "    <tr>\n",
       "      <th>3</th>\n",
       "      <td>SUZB3</td>\n",
       "      <td>Suzano</td>\n",
       "      <td>52.91</td>\n",
       "      <td>18.85</td>\n",
       "      <td>683452836</td>\n",
       "      <td>Papel e Celulose</td>\n",
       "      <td>97</td>\n",
       "      <td>0.19</td>\n",
       "      <td>44.52</td>\n",
       "      <td>8.39</td>\n",
       "      <td>5,735,330,905.09</td>\n",
       "    </tr>\n",
       "    <tr>\n",
       "      <th>4</th>\n",
       "      <td>CPFE3</td>\n",
       "      <td>CPFL Energia</td>\n",
       "      <td>37.10</td>\n",
       "      <td>20.70</td>\n",
       "      <td>187732538</td>\n",
       "      <td>Energia</td>\n",
       "      <td>109</td>\n",
       "      <td>0.21</td>\n",
       "      <td>30.74</td>\n",
       "      <td>6.36</td>\n",
       "      <td>1,194,473,547.70</td>\n",
       "    </tr>\n",
       "    <tr>\n",
       "      <th>...</th>\n",
       "      <td>...</td>\n",
       "      <td>...</td>\n",
       "      <td>...</td>\n",
       "      <td>...</td>\n",
       "      <td>...</td>\n",
       "      <td>...</td>\n",
       "      <td>...</td>\n",
       "      <td>...</td>\n",
       "      <td>...</td>\n",
       "      <td>...</td>\n",
       "      <td>...</td>\n",
       "    </tr>\n",
       "    <tr>\n",
       "      <th>78</th>\n",
       "      <td>LREN3</td>\n",
       "      <td>Lojas Renner</td>\n",
       "      <td>15.78</td>\n",
       "      <td>-24.94</td>\n",
       "      <td>951329770</td>\n",
       "      <td>Vestuário</td>\n",
       "      <td>54</td>\n",
       "      <td>-0.25</td>\n",
       "      <td>21.02</td>\n",
       "      <td>-5.24</td>\n",
       "      <td>-4,987,994,607.50</td>\n",
       "    </tr>\n",
       "    <tr>\n",
       "      <th>79</th>\n",
       "      <td>CRFB3</td>\n",
       "      <td>Carrefour Brasil</td>\n",
       "      <td>10.71</td>\n",
       "      <td>-32.72</td>\n",
       "      <td>533990587</td>\n",
       "      <td>Varejo</td>\n",
       "      <td>44</td>\n",
       "      <td>-0.33</td>\n",
       "      <td>15.92</td>\n",
       "      <td>-5.21</td>\n",
       "      <td>-2,781,316,322.70</td>\n",
       "    </tr>\n",
       "    <tr>\n",
       "      <th>80</th>\n",
       "      <td>RENT3</td>\n",
       "      <td>Localiza</td>\n",
       "      <td>56.24</td>\n",
       "      <td>-2.77</td>\n",
       "      <td>853202347</td>\n",
       "      <td>Aluguel de Carros</td>\n",
       "      <td>48</td>\n",
       "      <td>-0.03</td>\n",
       "      <td>57.84</td>\n",
       "      <td>-1.60</td>\n",
       "      <td>-1,367,026,195.48</td>\n",
       "    </tr>\n",
       "    <tr>\n",
       "      <th>81</th>\n",
       "      <td>CVCB3</td>\n",
       "      <td>CVC</td>\n",
       "      <td>3.07</td>\n",
       "      <td>-36.83</td>\n",
       "      <td>525582771</td>\n",
       "      <td>Turismo</td>\n",
       "      <td>49</td>\n",
       "      <td>-0.37</td>\n",
       "      <td>4.86</td>\n",
       "      <td>-1.79</td>\n",
       "      <td>-940,741,575.27</td>\n",
       "    </tr>\n",
       "    <tr>\n",
       "      <th>82</th>\n",
       "      <td>GOLL4</td>\n",
       "      <td>GOL</td>\n",
       "      <td>5.92</td>\n",
       "      <td>-25.44</td>\n",
       "      <td>198184909</td>\n",
       "      <td>Transporte Aéreo</td>\n",
       "      <td>22</td>\n",
       "      <td>-0.25</td>\n",
       "      <td>7.94</td>\n",
       "      <td>-2.02</td>\n",
       "      <td>-400,316,504.60</td>\n",
       "    </tr>\n",
       "  </tbody>\n",
       "</table>\n",
       "<p>83 rows × 11 columns</p>\n",
       "</div>"
      ],
      "text/plain": [
       "   ticker              nome  valor_final  var_12m_pct  qtd_teorica  \\\n",
       "0   USIM5          Usiminas         9.50        15.97    515117391   \n",
       "1   CMIN3     CSN Mineração         6.82        50.56   1110559345   \n",
       "2   PETR3       Petrobras 3        41.96        77.55   2379877655   \n",
       "3   SUZB3            Suzano        52.91        18.85    683452836   \n",
       "4   CPFE3      CPFL Energia        37.10        20.70    187732538   \n",
       "..    ...               ...          ...          ...          ...   \n",
       "78  LREN3      Lojas Renner        15.78       -24.94    951329770   \n",
       "79  CRFB3  Carrefour Brasil        10.71       -32.72    533990587   \n",
       "80  RENT3          Localiza        56.24        -2.77    853202347   \n",
       "81  CVCB3               CVC         3.07       -36.83    525582771   \n",
       "82  GOLL4               GOL         5.92       -25.44    198184909   \n",
       "\n",
       "             segmento  idade  var_pct  valor_inicial  var_reais  \\\n",
       "0          Siderurgia     59     0.16           8.19       1.31   \n",
       "1           Mineração     81     0.51           4.53       2.29   \n",
       "2      Petróleo e Gás     68     0.78          23.63      18.33   \n",
       "3    Papel e Celulose     97     0.19          44.52       8.39   \n",
       "4             Energia    109     0.21          30.74       6.36   \n",
       "..                ...    ...      ...            ...        ...   \n",
       "78          Vestuário     54    -0.25          21.02      -5.24   \n",
       "79             Varejo     44    -0.33          15.92      -5.21   \n",
       "80  Aluguel de Carros     48    -0.03          57.84      -1.60   \n",
       "81            Turismo     49    -0.37           4.86      -1.79   \n",
       "82   Transporte Aéreo     22    -0.25           7.94      -2.02   \n",
       "\n",
       "     var_reais_total  \n",
       "0     673,890,100.68  \n",
       "1   2,543,452,343.89  \n",
       "2  43,616,542,549.22  \n",
       "3   5,735,330,905.09  \n",
       "4   1,194,473,547.70  \n",
       "..               ...  \n",
       "78 -4,987,994,607.50  \n",
       "79 -2,781,316,322.70  \n",
       "80 -1,367,026,195.48  \n",
       "81   -940,741,575.27  \n",
       "82   -400,316,504.60  \n",
       "\n",
       "[83 rows x 11 columns]"
      ]
     },
     "execution_count": 130,
     "metadata": {},
     "output_type": "execute_result"
    }
   ],
   "source": [
    "df_principal_12m[\"var_pct\"] = df_principal_12m[\"var_12m_pct\"]/100\n",
    "df_principal_12m[\"valor_inicial\"] = df_principal_12m[\"valor_final\"]/(df_principal_12m[\"var_pct\"]+1)\n",
    "df_principal_12m[\"var_reais\"] = df_principal_12m[\"valor_final\"]-df_principal_12m[\"valor_inicial\"]\n",
    "df_principal_12m[\"var_reais_total\"] = df_principal_12m[\"var_reais\"]*df_principal_12m[\"qtd_teorica\"]\n",
    "df_principal_12m"
   ]
  },
  {
   "cell_type": "code",
   "execution_count": null,
   "metadata": {},
   "outputs": [
    {
     "data": {
      "text/html": [
       "<div>\n",
       "<style scoped>\n",
       "    .dataframe tbody tr th:only-of-type {\n",
       "        vertical-align: middle;\n",
       "    }\n",
       "\n",
       "    .dataframe tbody tr th {\n",
       "        vertical-align: top;\n",
       "    }\n",
       "\n",
       "    .dataframe thead th {\n",
       "        text-align: right;\n",
       "    }\n",
       "</style>\n",
       "<table border=\"1\" class=\"dataframe\">\n",
       "  <thead>\n",
       "    <tr style=\"text-align: right;\">\n",
       "      <th></th>\n",
       "      <th>ticker</th>\n",
       "      <th>nome</th>\n",
       "      <th>valor_final</th>\n",
       "      <th>var_12m_pct</th>\n",
       "      <th>qtd_teorica</th>\n",
       "      <th>segmento</th>\n",
       "      <th>idade</th>\n",
       "      <th>var_pct</th>\n",
       "      <th>valor_inicial</th>\n",
       "      <th>var_reais</th>\n",
       "      <th>var_reais_total</th>\n",
       "      <th>resultado</th>\n",
       "      <th>cat_idade</th>\n",
       "    </tr>\n",
       "  </thead>\n",
       "  <tbody>\n",
       "    <tr>\n",
       "      <th>0</th>\n",
       "      <td>USIM5</td>\n",
       "      <td>Usiminas</td>\n",
       "      <td>9.50</td>\n",
       "      <td>15.97</td>\n",
       "      <td>515117391</td>\n",
       "      <td>Siderurgia</td>\n",
       "      <td>59</td>\n",
       "      <td>0.16</td>\n",
       "      <td>8.19</td>\n",
       "      <td>1.31</td>\n",
       "      <td>673,890,100.68</td>\n",
       "      <td>Subiu</td>\n",
       "      <td>Entre 50 e 100</td>\n",
       "    </tr>\n",
       "    <tr>\n",
       "      <th>1</th>\n",
       "      <td>CMIN3</td>\n",
       "      <td>CSN Mineração</td>\n",
       "      <td>6.82</td>\n",
       "      <td>50.56</td>\n",
       "      <td>1110559345</td>\n",
       "      <td>Mineração</td>\n",
       "      <td>81</td>\n",
       "      <td>0.51</td>\n",
       "      <td>4.53</td>\n",
       "      <td>2.29</td>\n",
       "      <td>2,543,452,343.89</td>\n",
       "      <td>Subiu</td>\n",
       "      <td>Entre 50 e 100</td>\n",
       "    </tr>\n",
       "    <tr>\n",
       "      <th>2</th>\n",
       "      <td>PETR3</td>\n",
       "      <td>Petrobras 3</td>\n",
       "      <td>41.96</td>\n",
       "      <td>77.55</td>\n",
       "      <td>2379877655</td>\n",
       "      <td>Petróleo e Gás</td>\n",
       "      <td>68</td>\n",
       "      <td>0.78</td>\n",
       "      <td>23.63</td>\n",
       "      <td>18.33</td>\n",
       "      <td>43,616,542,549.22</td>\n",
       "      <td>Subiu</td>\n",
       "      <td>Entre 50 e 100</td>\n",
       "    </tr>\n",
       "    <tr>\n",
       "      <th>3</th>\n",
       "      <td>SUZB3</td>\n",
       "      <td>Suzano</td>\n",
       "      <td>52.91</td>\n",
       "      <td>18.85</td>\n",
       "      <td>683452836</td>\n",
       "      <td>Papel e Celulose</td>\n",
       "      <td>97</td>\n",
       "      <td>0.19</td>\n",
       "      <td>44.52</td>\n",
       "      <td>8.39</td>\n",
       "      <td>5,735,330,905.09</td>\n",
       "      <td>Subiu</td>\n",
       "      <td>Entre 50 e 100</td>\n",
       "    </tr>\n",
       "    <tr>\n",
       "      <th>4</th>\n",
       "      <td>CPFE3</td>\n",
       "      <td>CPFL Energia</td>\n",
       "      <td>37.10</td>\n",
       "      <td>20.70</td>\n",
       "      <td>187732538</td>\n",
       "      <td>Energia</td>\n",
       "      <td>109</td>\n",
       "      <td>0.21</td>\n",
       "      <td>30.74</td>\n",
       "      <td>6.36</td>\n",
       "      <td>1,194,473,547.70</td>\n",
       "      <td>Subiu</td>\n",
       "      <td>Mais que 100</td>\n",
       "    </tr>\n",
       "    <tr>\n",
       "      <th>...</th>\n",
       "      <td>...</td>\n",
       "      <td>...</td>\n",
       "      <td>...</td>\n",
       "      <td>...</td>\n",
       "      <td>...</td>\n",
       "      <td>...</td>\n",
       "      <td>...</td>\n",
       "      <td>...</td>\n",
       "      <td>...</td>\n",
       "      <td>...</td>\n",
       "      <td>...</td>\n",
       "      <td>...</td>\n",
       "      <td>...</td>\n",
       "    </tr>\n",
       "    <tr>\n",
       "      <th>78</th>\n",
       "      <td>LREN3</td>\n",
       "      <td>Lojas Renner</td>\n",
       "      <td>15.78</td>\n",
       "      <td>-24.94</td>\n",
       "      <td>951329770</td>\n",
       "      <td>Vestuário</td>\n",
       "      <td>54</td>\n",
       "      <td>-0.25</td>\n",
       "      <td>21.02</td>\n",
       "      <td>-5.24</td>\n",
       "      <td>-4,987,994,607.50</td>\n",
       "      <td>Desceu</td>\n",
       "      <td>Entre 50 e 100</td>\n",
       "    </tr>\n",
       "    <tr>\n",
       "      <th>79</th>\n",
       "      <td>CRFB3</td>\n",
       "      <td>Carrefour Brasil</td>\n",
       "      <td>10.71</td>\n",
       "      <td>-32.72</td>\n",
       "      <td>533990587</td>\n",
       "      <td>Varejo</td>\n",
       "      <td>44</td>\n",
       "      <td>-0.33</td>\n",
       "      <td>15.92</td>\n",
       "      <td>-5.21</td>\n",
       "      <td>-2,781,316,322.70</td>\n",
       "      <td>Desceu</td>\n",
       "      <td>Menos que 50 anos</td>\n",
       "    </tr>\n",
       "    <tr>\n",
       "      <th>80</th>\n",
       "      <td>RENT3</td>\n",
       "      <td>Localiza</td>\n",
       "      <td>56.24</td>\n",
       "      <td>-2.77</td>\n",
       "      <td>853202347</td>\n",
       "      <td>Aluguel de Carros</td>\n",
       "      <td>48</td>\n",
       "      <td>-0.03</td>\n",
       "      <td>57.84</td>\n",
       "      <td>-1.60</td>\n",
       "      <td>-1,367,026,195.48</td>\n",
       "      <td>Desceu</td>\n",
       "      <td>Menos que 50 anos</td>\n",
       "    </tr>\n",
       "    <tr>\n",
       "      <th>81</th>\n",
       "      <td>CVCB3</td>\n",
       "      <td>CVC</td>\n",
       "      <td>3.07</td>\n",
       "      <td>-36.83</td>\n",
       "      <td>525582771</td>\n",
       "      <td>Turismo</td>\n",
       "      <td>49</td>\n",
       "      <td>-0.37</td>\n",
       "      <td>4.86</td>\n",
       "      <td>-1.79</td>\n",
       "      <td>-940,741,575.27</td>\n",
       "      <td>Desceu</td>\n",
       "      <td>Menos que 50 anos</td>\n",
       "    </tr>\n",
       "    <tr>\n",
       "      <th>82</th>\n",
       "      <td>GOLL4</td>\n",
       "      <td>GOL</td>\n",
       "      <td>5.92</td>\n",
       "      <td>-25.44</td>\n",
       "      <td>198184909</td>\n",
       "      <td>Transporte Aéreo</td>\n",
       "      <td>22</td>\n",
       "      <td>-0.25</td>\n",
       "      <td>7.94</td>\n",
       "      <td>-2.02</td>\n",
       "      <td>-400,316,504.60</td>\n",
       "      <td>Desceu</td>\n",
       "      <td>Menos que 50 anos</td>\n",
       "    </tr>\n",
       "  </tbody>\n",
       "</table>\n",
       "<p>83 rows × 13 columns</p>\n",
       "</div>"
      ],
      "text/plain": [
       "   ticker              nome  valor_final  var_12m_pct  qtd_teorica  \\\n",
       "0   USIM5          Usiminas         9.50        15.97    515117391   \n",
       "1   CMIN3     CSN Mineração         6.82        50.56   1110559345   \n",
       "2   PETR3       Petrobras 3        41.96        77.55   2379877655   \n",
       "3   SUZB3            Suzano        52.91        18.85    683452836   \n",
       "4   CPFE3      CPFL Energia        37.10        20.70    187732538   \n",
       "..    ...               ...          ...          ...          ...   \n",
       "78  LREN3      Lojas Renner        15.78       -24.94    951329770   \n",
       "79  CRFB3  Carrefour Brasil        10.71       -32.72    533990587   \n",
       "80  RENT3          Localiza        56.24        -2.77    853202347   \n",
       "81  CVCB3               CVC         3.07       -36.83    525582771   \n",
       "82  GOLL4               GOL         5.92       -25.44    198184909   \n",
       "\n",
       "             segmento  idade  var_pct  valor_inicial  var_reais  \\\n",
       "0          Siderurgia     59     0.16           8.19       1.31   \n",
       "1           Mineração     81     0.51           4.53       2.29   \n",
       "2      Petróleo e Gás     68     0.78          23.63      18.33   \n",
       "3    Papel e Celulose     97     0.19          44.52       8.39   \n",
       "4             Energia    109     0.21          30.74       6.36   \n",
       "..                ...    ...      ...            ...        ...   \n",
       "78          Vestuário     54    -0.25          21.02      -5.24   \n",
       "79             Varejo     44    -0.33          15.92      -5.21   \n",
       "80  Aluguel de Carros     48    -0.03          57.84      -1.60   \n",
       "81            Turismo     49    -0.37           4.86      -1.79   \n",
       "82   Transporte Aéreo     22    -0.25           7.94      -2.02   \n",
       "\n",
       "     var_reais_total resultado          cat_idade  \n",
       "0     673,890,100.68     Subiu     Entre 50 e 100  \n",
       "1   2,543,452,343.89     Subiu     Entre 50 e 100  \n",
       "2  43,616,542,549.22     Subiu     Entre 50 e 100  \n",
       "3   5,735,330,905.09     Subiu     Entre 50 e 100  \n",
       "4   1,194,473,547.70     Subiu       Mais que 100  \n",
       "..               ...       ...                ...  \n",
       "78 -4,987,994,607.50    Desceu     Entre 50 e 100  \n",
       "79 -2,781,316,322.70    Desceu  Menos que 50 anos  \n",
       "80 -1,367,026,195.48    Desceu  Menos que 50 anos  \n",
       "81   -940,741,575.27    Desceu  Menos que 50 anos  \n",
       "82   -400,316,504.60    Desceu  Menos que 50 anos  \n",
       "\n",
       "[83 rows x 13 columns]"
      ]
     },
     "execution_count": 131,
     "metadata": {},
     "output_type": "execute_result"
    }
   ],
   "source": [
    "df_principal_12m[\"resultado\"] = df_principal_12m[\"var_reais\"].apply(lambda x:\"Subiu\" if x > 0 else (\"Desceu\" if x<0 else \"Estavel\"))\n",
    "df_principal_12m[\"cat_idade\"] = df_principal_12m[\"idade\"].apply(lambda x:\"Menos que 50 anos\" if x<50 else (\"Mais que 100\" if x>100 else \"Entre 50 e 100\"))\n",
    "df_principal_12m"
   ]
  },
  {
   "cell_type": "code",
   "execution_count": null,
   "metadata": {},
   "outputs": [
    {
     "data": {
      "text/html": [
       "<div>\n",
       "<style scoped>\n",
       "    .dataframe tbody tr th:only-of-type {\n",
       "        vertical-align: middle;\n",
       "    }\n",
       "\n",
       "    .dataframe tbody tr th {\n",
       "        vertical-align: top;\n",
       "    }\n",
       "\n",
       "    .dataframe thead th {\n",
       "        text-align: right;\n",
       "    }\n",
       "</style>\n",
       "<table border=\"1\" class=\"dataframe\">\n",
       "  <thead>\n",
       "    <tr style=\"text-align: right;\">\n",
       "      <th></th>\n",
       "      <th>ticker</th>\n",
       "      <th>nome</th>\n",
       "      <th>valor_inicial</th>\n",
       "      <th>valor_final</th>\n",
       "      <th>var_reais</th>\n",
       "      <th>var_12m_pct</th>\n",
       "      <th>var_pct</th>\n",
       "      <th>qtd_teorica</th>\n",
       "      <th>var_reais_total</th>\n",
       "      <th>resultado</th>\n",
       "      <th>segmento</th>\n",
       "      <th>idade</th>\n",
       "      <th>cat_idade</th>\n",
       "    </tr>\n",
       "  </thead>\n",
       "  <tbody>\n",
       "    <tr>\n",
       "      <th>0</th>\n",
       "      <td>USIM5</td>\n",
       "      <td>Usiminas</td>\n",
       "      <td>8.19</td>\n",
       "      <td>9.50</td>\n",
       "      <td>1.31</td>\n",
       "      <td>15.97</td>\n",
       "      <td>0.16</td>\n",
       "      <td>515117391</td>\n",
       "      <td>673,890,100.68</td>\n",
       "      <td>Subiu</td>\n",
       "      <td>Siderurgia</td>\n",
       "      <td>59</td>\n",
       "      <td>Entre 50 e 100</td>\n",
       "    </tr>\n",
       "    <tr>\n",
       "      <th>1</th>\n",
       "      <td>CMIN3</td>\n",
       "      <td>CSN Mineração</td>\n",
       "      <td>4.53</td>\n",
       "      <td>6.82</td>\n",
       "      <td>2.29</td>\n",
       "      <td>50.56</td>\n",
       "      <td>0.51</td>\n",
       "      <td>1110559345</td>\n",
       "      <td>2,543,452,343.89</td>\n",
       "      <td>Subiu</td>\n",
       "      <td>Mineração</td>\n",
       "      <td>81</td>\n",
       "      <td>Entre 50 e 100</td>\n",
       "    </tr>\n",
       "    <tr>\n",
       "      <th>2</th>\n",
       "      <td>PETR3</td>\n",
       "      <td>Petrobras 3</td>\n",
       "      <td>23.63</td>\n",
       "      <td>41.96</td>\n",
       "      <td>18.33</td>\n",
       "      <td>77.55</td>\n",
       "      <td>0.78</td>\n",
       "      <td>2379877655</td>\n",
       "      <td>43,616,542,549.22</td>\n",
       "      <td>Subiu</td>\n",
       "      <td>Petróleo e Gás</td>\n",
       "      <td>68</td>\n",
       "      <td>Entre 50 e 100</td>\n",
       "    </tr>\n",
       "    <tr>\n",
       "      <th>3</th>\n",
       "      <td>SUZB3</td>\n",
       "      <td>Suzano</td>\n",
       "      <td>44.52</td>\n",
       "      <td>52.91</td>\n",
       "      <td>8.39</td>\n",
       "      <td>18.85</td>\n",
       "      <td>0.19</td>\n",
       "      <td>683452836</td>\n",
       "      <td>5,735,330,905.09</td>\n",
       "      <td>Subiu</td>\n",
       "      <td>Papel e Celulose</td>\n",
       "      <td>97</td>\n",
       "      <td>Entre 50 e 100</td>\n",
       "    </tr>\n",
       "    <tr>\n",
       "      <th>4</th>\n",
       "      <td>CPFE3</td>\n",
       "      <td>CPFL Energia</td>\n",
       "      <td>30.74</td>\n",
       "      <td>37.10</td>\n",
       "      <td>6.36</td>\n",
       "      <td>20.70</td>\n",
       "      <td>0.21</td>\n",
       "      <td>187732538</td>\n",
       "      <td>1,194,473,547.70</td>\n",
       "      <td>Subiu</td>\n",
       "      <td>Energia</td>\n",
       "      <td>109</td>\n",
       "      <td>Mais que 100</td>\n",
       "    </tr>\n",
       "    <tr>\n",
       "      <th>...</th>\n",
       "      <td>...</td>\n",
       "      <td>...</td>\n",
       "      <td>...</td>\n",
       "      <td>...</td>\n",
       "      <td>...</td>\n",
       "      <td>...</td>\n",
       "      <td>...</td>\n",
       "      <td>...</td>\n",
       "      <td>...</td>\n",
       "      <td>...</td>\n",
       "      <td>...</td>\n",
       "      <td>...</td>\n",
       "      <td>...</td>\n",
       "    </tr>\n",
       "    <tr>\n",
       "      <th>78</th>\n",
       "      <td>LREN3</td>\n",
       "      <td>Lojas Renner</td>\n",
       "      <td>21.02</td>\n",
       "      <td>15.78</td>\n",
       "      <td>-5.24</td>\n",
       "      <td>-24.94</td>\n",
       "      <td>-0.25</td>\n",
       "      <td>951329770</td>\n",
       "      <td>-4,987,994,607.50</td>\n",
       "      <td>Desceu</td>\n",
       "      <td>Vestuário</td>\n",
       "      <td>54</td>\n",
       "      <td>Entre 50 e 100</td>\n",
       "    </tr>\n",
       "    <tr>\n",
       "      <th>79</th>\n",
       "      <td>CRFB3</td>\n",
       "      <td>Carrefour Brasil</td>\n",
       "      <td>15.92</td>\n",
       "      <td>10.71</td>\n",
       "      <td>-5.21</td>\n",
       "      <td>-32.72</td>\n",
       "      <td>-0.33</td>\n",
       "      <td>533990587</td>\n",
       "      <td>-2,781,316,322.70</td>\n",
       "      <td>Desceu</td>\n",
       "      <td>Varejo</td>\n",
       "      <td>44</td>\n",
       "      <td>Menos que 50 anos</td>\n",
       "    </tr>\n",
       "    <tr>\n",
       "      <th>80</th>\n",
       "      <td>RENT3</td>\n",
       "      <td>Localiza</td>\n",
       "      <td>57.84</td>\n",
       "      <td>56.24</td>\n",
       "      <td>-1.60</td>\n",
       "      <td>-2.77</td>\n",
       "      <td>-0.03</td>\n",
       "      <td>853202347</td>\n",
       "      <td>-1,367,026,195.48</td>\n",
       "      <td>Desceu</td>\n",
       "      <td>Aluguel de Carros</td>\n",
       "      <td>48</td>\n",
       "      <td>Menos que 50 anos</td>\n",
       "    </tr>\n",
       "    <tr>\n",
       "      <th>81</th>\n",
       "      <td>CVCB3</td>\n",
       "      <td>CVC</td>\n",
       "      <td>4.86</td>\n",
       "      <td>3.07</td>\n",
       "      <td>-1.79</td>\n",
       "      <td>-36.83</td>\n",
       "      <td>-0.37</td>\n",
       "      <td>525582771</td>\n",
       "      <td>-940,741,575.27</td>\n",
       "      <td>Desceu</td>\n",
       "      <td>Turismo</td>\n",
       "      <td>49</td>\n",
       "      <td>Menos que 50 anos</td>\n",
       "    </tr>\n",
       "    <tr>\n",
       "      <th>82</th>\n",
       "      <td>GOLL4</td>\n",
       "      <td>GOL</td>\n",
       "      <td>7.94</td>\n",
       "      <td>5.92</td>\n",
       "      <td>-2.02</td>\n",
       "      <td>-25.44</td>\n",
       "      <td>-0.25</td>\n",
       "      <td>198184909</td>\n",
       "      <td>-400,316,504.60</td>\n",
       "      <td>Desceu</td>\n",
       "      <td>Transporte Aéreo</td>\n",
       "      <td>22</td>\n",
       "      <td>Menos que 50 anos</td>\n",
       "    </tr>\n",
       "  </tbody>\n",
       "</table>\n",
       "<p>83 rows × 13 columns</p>\n",
       "</div>"
      ],
      "text/plain": [
       "   ticker              nome  valor_inicial  valor_final  var_reais  \\\n",
       "0   USIM5          Usiminas           8.19         9.50       1.31   \n",
       "1   CMIN3     CSN Mineração           4.53         6.82       2.29   \n",
       "2   PETR3       Petrobras 3          23.63        41.96      18.33   \n",
       "3   SUZB3            Suzano          44.52        52.91       8.39   \n",
       "4   CPFE3      CPFL Energia          30.74        37.10       6.36   \n",
       "..    ...               ...            ...          ...        ...   \n",
       "78  LREN3      Lojas Renner          21.02        15.78      -5.24   \n",
       "79  CRFB3  Carrefour Brasil          15.92        10.71      -5.21   \n",
       "80  RENT3          Localiza          57.84        56.24      -1.60   \n",
       "81  CVCB3               CVC           4.86         3.07      -1.79   \n",
       "82  GOLL4               GOL           7.94         5.92      -2.02   \n",
       "\n",
       "    var_12m_pct  var_pct  qtd_teorica   var_reais_total resultado  \\\n",
       "0         15.97     0.16    515117391    673,890,100.68     Subiu   \n",
       "1         50.56     0.51   1110559345  2,543,452,343.89     Subiu   \n",
       "2         77.55     0.78   2379877655 43,616,542,549.22     Subiu   \n",
       "3         18.85     0.19    683452836  5,735,330,905.09     Subiu   \n",
       "4         20.70     0.21    187732538  1,194,473,547.70     Subiu   \n",
       "..          ...      ...          ...               ...       ...   \n",
       "78       -24.94    -0.25    951329770 -4,987,994,607.50    Desceu   \n",
       "79       -32.72    -0.33    533990587 -2,781,316,322.70    Desceu   \n",
       "80        -2.77    -0.03    853202347 -1,367,026,195.48    Desceu   \n",
       "81       -36.83    -0.37    525582771   -940,741,575.27    Desceu   \n",
       "82       -25.44    -0.25    198184909   -400,316,504.60    Desceu   \n",
       "\n",
       "             segmento  idade          cat_idade  \n",
       "0          Siderurgia     59     Entre 50 e 100  \n",
       "1           Mineração     81     Entre 50 e 100  \n",
       "2      Petróleo e Gás     68     Entre 50 e 100  \n",
       "3    Papel e Celulose     97     Entre 50 e 100  \n",
       "4             Energia    109       Mais que 100  \n",
       "..                ...    ...                ...  \n",
       "78          Vestuário     54     Entre 50 e 100  \n",
       "79             Varejo     44  Menos que 50 anos  \n",
       "80  Aluguel de Carros     48  Menos que 50 anos  \n",
       "81            Turismo     49  Menos que 50 anos  \n",
       "82   Transporte Aéreo     22  Menos que 50 anos  \n",
       "\n",
       "[83 rows x 13 columns]"
      ]
     },
     "execution_count": 132,
     "metadata": {},
     "output_type": "execute_result"
    }
   ],
   "source": [
    "df_principal_12m[\"qtd_teorica\"] = df_principal_12m[\"qtd_teorica\"]\n",
    "df_principal_12m = df_principal_12m[[\n",
    "    \"ticker\",\n",
    "    \"nome\",\n",
    "    \"valor_inicial\",\n",
    "    \"valor_final\",\n",
    "    \"var_reais\",\n",
    "    \"var_12m_pct\",\n",
    "    \"var_pct\",\n",
    "    \"qtd_teorica\",\n",
    "    \"var_reais_total\",\n",
    "    \"resultado\",\n",
    "    \"segmento\",\n",
    "    \"idade\",\n",
    "    \"cat_idade\"\n",
    "    ]]\n",
    "df_principal_12m"
   ]
  },
  {
   "cell_type": "code",
   "execution_count": null,
   "metadata": {},
   "outputs": [
    {
     "name": "stdout",
     "output_type": "stream",
     "text": [
      "Maior\tR$ 88,902,961,361.60\n",
      "Menor\tR$ -89,553,127,391.29\n",
      "Mé12m\tR$ 2,576,248,819.31\n",
      "Mé12m de quem subiu\tR$ 7,198,167,662.47\n",
      "Mé12m de quem desceu\tR$ -5,589,141,136.93\n"
     ]
    }
   ],
   "source": [
    "# Calculando o maior valor\n",
    "maior = df_principal_12m['var_reais_total'].max()\n",
    "\n",
    "# Calculando o menor valor\n",
    "menor = df_principal_12m['var_reais_total'].min()\n",
    "\n",
    "# Calculando a mé12m\n",
    "me12m = df_principal_12m['var_reais_total'].mean()\n",
    "\n",
    "# Calculando a mé12m de quem subiu\n",
    "me12m_subiu = df_principal_12m[df_principal_12m['resultado'] == 'Subiu']['var_reais_total'].mean()\n",
    "\n",
    "# Calculando a mé12m de quem desceu\n",
    "me12m_desceu = df_principal_12m[df_principal_12m['resultado'] == 'Desceu']['var_reais_total'].mean()\n",
    "\n",
    "# Imprimindo os resultados\n",
    "print(f\"Maior\\tR$ {maior:,.2f}\")\n",
    "print(f\"Menor\\tR$ {menor:,.2f}\")\n",
    "print(f\"Mé12m\\tR$ {me12m:,.2f}\")\n",
    "print(f\"Mé12m de quem subiu\\tR$ {me12m_subiu:,.2f}\")\n",
    "print(f\"Mé12m de quem desceu\\tR$ {me12m_desceu:,.2f}\")"
   ]
  },
  {
   "cell_type": "code",
   "execution_count": null,
   "metadata": {},
   "outputs": [
    {
     "data": {
      "text/html": [
       "<div>\n",
       "<style scoped>\n",
       "    .dataframe tbody tr th:only-of-type {\n",
       "        vertical-align: middle;\n",
       "    }\n",
       "\n",
       "    .dataframe tbody tr th {\n",
       "        vertical-align: top;\n",
       "    }\n",
       "\n",
       "    .dataframe thead th {\n",
       "        text-align: right;\n",
       "    }\n",
       "</style>\n",
       "<table border=\"1\" class=\"dataframe\">\n",
       "  <thead>\n",
       "    <tr style=\"text-align: right;\">\n",
       "      <th></th>\n",
       "      <th>ticker</th>\n",
       "      <th>nome</th>\n",
       "      <th>valor_inicial</th>\n",
       "      <th>valor_final</th>\n",
       "      <th>var_reais</th>\n",
       "      <th>var_12m_pct</th>\n",
       "      <th>var_pct</th>\n",
       "      <th>qtd_teorica</th>\n",
       "      <th>var_reais_total</th>\n",
       "      <th>resultado</th>\n",
       "      <th>segmento</th>\n",
       "      <th>idade</th>\n",
       "      <th>cat_idade</th>\n",
       "    </tr>\n",
       "  </thead>\n",
       "  <tbody>\n",
       "    <tr>\n",
       "      <th>0</th>\n",
       "      <td>USIM5</td>\n",
       "      <td>Usiminas</td>\n",
       "      <td>8.19</td>\n",
       "      <td>9.50</td>\n",
       "      <td>1.31</td>\n",
       "      <td>15.97</td>\n",
       "      <td>0.16</td>\n",
       "      <td>515117391</td>\n",
       "      <td>673,890,100.68</td>\n",
       "      <td>Subiu</td>\n",
       "      <td>Siderurgia</td>\n",
       "      <td>59</td>\n",
       "      <td>Entre 50 e 100</td>\n",
       "    </tr>\n",
       "    <tr>\n",
       "      <th>1</th>\n",
       "      <td>CMIN3</td>\n",
       "      <td>CSN Mineração</td>\n",
       "      <td>4.53</td>\n",
       "      <td>6.82</td>\n",
       "      <td>2.29</td>\n",
       "      <td>50.56</td>\n",
       "      <td>0.51</td>\n",
       "      <td>1110559345</td>\n",
       "      <td>2,543,452,343.89</td>\n",
       "      <td>Subiu</td>\n",
       "      <td>Mineração</td>\n",
       "      <td>81</td>\n",
       "      <td>Entre 50 e 100</td>\n",
       "    </tr>\n",
       "    <tr>\n",
       "      <th>2</th>\n",
       "      <td>PETR3</td>\n",
       "      <td>Petrobras 3</td>\n",
       "      <td>23.63</td>\n",
       "      <td>41.96</td>\n",
       "      <td>18.33</td>\n",
       "      <td>77.55</td>\n",
       "      <td>0.78</td>\n",
       "      <td>2379877655</td>\n",
       "      <td>43,616,542,549.22</td>\n",
       "      <td>Subiu</td>\n",
       "      <td>Petróleo e Gás</td>\n",
       "      <td>68</td>\n",
       "      <td>Entre 50 e 100</td>\n",
       "    </tr>\n",
       "    <tr>\n",
       "      <th>3</th>\n",
       "      <td>SUZB3</td>\n",
       "      <td>Suzano</td>\n",
       "      <td>44.52</td>\n",
       "      <td>52.91</td>\n",
       "      <td>8.39</td>\n",
       "      <td>18.85</td>\n",
       "      <td>0.19</td>\n",
       "      <td>683452836</td>\n",
       "      <td>5,735,330,905.09</td>\n",
       "      <td>Subiu</td>\n",
       "      <td>Papel e Celulose</td>\n",
       "      <td>97</td>\n",
       "      <td>Entre 50 e 100</td>\n",
       "    </tr>\n",
       "    <tr>\n",
       "      <th>4</th>\n",
       "      <td>CPFE3</td>\n",
       "      <td>CPFL Energia</td>\n",
       "      <td>30.74</td>\n",
       "      <td>37.10</td>\n",
       "      <td>6.36</td>\n",
       "      <td>20.70</td>\n",
       "      <td>0.21</td>\n",
       "      <td>187732538</td>\n",
       "      <td>1,194,473,547.70</td>\n",
       "      <td>Subiu</td>\n",
       "      <td>Energia</td>\n",
       "      <td>109</td>\n",
       "      <td>Mais que 100</td>\n",
       "    </tr>\n",
       "    <tr>\n",
       "      <th>5</th>\n",
       "      <td>PRIO3</td>\n",
       "      <td>PetroRio</td>\n",
       "      <td>42.27</td>\n",
       "      <td>45.69</td>\n",
       "      <td>3.42</td>\n",
       "      <td>8.08</td>\n",
       "      <td>0.08</td>\n",
       "      <td>800010734</td>\n",
       "      <td>2,732,643,622.56</td>\n",
       "      <td>Subiu</td>\n",
       "      <td>Petróleo e Gás</td>\n",
       "      <td>8</td>\n",
       "      <td>Menos que 50 anos</td>\n",
       "    </tr>\n",
       "    <tr>\n",
       "      <th>6</th>\n",
       "      <td>PETR4</td>\n",
       "      <td>Petrobras4</td>\n",
       "      <td>20.49</td>\n",
       "      <td>39.96</td>\n",
       "      <td>19.47</td>\n",
       "      <td>95.01</td>\n",
       "      <td>0.95</td>\n",
       "      <td>4566445852</td>\n",
       "      <td>88,902,961,361.60</td>\n",
       "      <td>Subiu</td>\n",
       "      <td>Petróleo e Gás</td>\n",
       "      <td>68</td>\n",
       "      <td>Entre 50 e 100</td>\n",
       "    </tr>\n",
       "    <tr>\n",
       "      <th>8</th>\n",
       "      <td>MULT3</td>\n",
       "      <td>Multiplan</td>\n",
       "      <td>22.73</td>\n",
       "      <td>28.19</td>\n",
       "      <td>5.46</td>\n",
       "      <td>24.02</td>\n",
       "      <td>0.24</td>\n",
       "      <td>268505432</td>\n",
       "      <td>1,465,984,667.28</td>\n",
       "      <td>Subiu</td>\n",
       "      <td>Shopping Centers</td>\n",
       "      <td>50</td>\n",
       "      <td>Entre 50 e 100</td>\n",
       "    </tr>\n",
       "    <tr>\n",
       "      <th>9</th>\n",
       "      <td>ITUB4</td>\n",
       "      <td>Itaú Unibanco</td>\n",
       "      <td>24.44</td>\n",
       "      <td>32.81</td>\n",
       "      <td>8.37</td>\n",
       "      <td>34.25</td>\n",
       "      <td>0.34</td>\n",
       "      <td>4801593832</td>\n",
       "      <td>40,191,843,998.18</td>\n",
       "      <td>Subiu</td>\n",
       "      <td>Bancos</td>\n",
       "      <td>98</td>\n",
       "      <td>Entre 50 e 100</td>\n",
       "    </tr>\n",
       "    <tr>\n",
       "      <th>12</th>\n",
       "      <td>AZUL4</td>\n",
       "      <td>Azul</td>\n",
       "      <td>12.04</td>\n",
       "      <td>14.27</td>\n",
       "      <td>2.23</td>\n",
       "      <td>18.52</td>\n",
       "      <td>0.19</td>\n",
       "      <td>327593725</td>\n",
       "      <td>730,480,937.23</td>\n",
       "      <td>Subiu</td>\n",
       "      <td>Transporte Aéreo</td>\n",
       "      <td>13</td>\n",
       "      <td>Menos que 50 anos</td>\n",
       "    </tr>\n",
       "    <tr>\n",
       "      <th>14</th>\n",
       "      <td>EQTL3</td>\n",
       "      <td>Equatorial Energia</td>\n",
       "      <td>27.59</td>\n",
       "      <td>35.32</td>\n",
       "      <td>7.73</td>\n",
       "      <td>28.01</td>\n",
       "      <td>0.28</td>\n",
       "      <td>1095587251</td>\n",
       "      <td>8,467,142,638.59</td>\n",
       "      <td>Subiu</td>\n",
       "      <td>Energia</td>\n",
       "      <td>24</td>\n",
       "      <td>Menos que 50 anos</td>\n",
       "    </tr>\n",
       "    <tr>\n",
       "      <th>15</th>\n",
       "      <td>CSNA3</td>\n",
       "      <td>Siderúrgica Nacional</td>\n",
       "      <td>16.15</td>\n",
       "      <td>18.16</td>\n",
       "      <td>2.01</td>\n",
       "      <td>12.45</td>\n",
       "      <td>0.12</td>\n",
       "      <td>600865451</td>\n",
       "      <td>1,208,100,236.08</td>\n",
       "      <td>Subiu</td>\n",
       "      <td>Siderurgia</td>\n",
       "      <td>78</td>\n",
       "      <td>Entre 50 e 100</td>\n",
       "    </tr>\n",
       "    <tr>\n",
       "      <th>16</th>\n",
       "      <td>YDUQ3</td>\n",
       "      <td>YDUQS</td>\n",
       "      <td>9.48</td>\n",
       "      <td>19.77</td>\n",
       "      <td>10.29</td>\n",
       "      <td>108.45</td>\n",
       "      <td>1.08</td>\n",
       "      <td>289347914</td>\n",
       "      <td>2,976,149,080.23</td>\n",
       "      <td>Subiu</td>\n",
       "      <td>Educação</td>\n",
       "      <td>56</td>\n",
       "      <td>Entre 50 e 100</td>\n",
       "    </tr>\n",
       "    <tr>\n",
       "      <th>17</th>\n",
       "      <td>UGPA3</td>\n",
       "      <td>Ultrapar</td>\n",
       "      <td>12.88</td>\n",
       "      <td>28.31</td>\n",
       "      <td>15.43</td>\n",
       "      <td>119.82</td>\n",
       "      <td>1.20</td>\n",
       "      <td>1086411192</td>\n",
       "      <td>16,764,716,437.59</td>\n",
       "      <td>Subiu</td>\n",
       "      <td>Conglomerado</td>\n",
       "      <td>84</td>\n",
       "      <td>Entre 50 e 100</td>\n",
       "    </tr>\n",
       "    <tr>\n",
       "      <th>18</th>\n",
       "      <td>MRVE3</td>\n",
       "      <td>MRV</td>\n",
       "      <td>7.08</td>\n",
       "      <td>8.08</td>\n",
       "      <td>1.00</td>\n",
       "      <td>14.12</td>\n",
       "      <td>0.14</td>\n",
       "      <td>376187582</td>\n",
       "      <td>376,087,370.80</td>\n",
       "      <td>Subiu</td>\n",
       "      <td>Construção Civil</td>\n",
       "      <td>42</td>\n",
       "      <td>Menos que 50 anos</td>\n",
       "    </tr>\n",
       "    <tr>\n",
       "      <th>20</th>\n",
       "      <td>BBDC4</td>\n",
       "      <td>Banco Bradesco4</td>\n",
       "      <td>13.37</td>\n",
       "      <td>15.52</td>\n",
       "      <td>2.15</td>\n",
       "      <td>16.11</td>\n",
       "      <td>0.16</td>\n",
       "      <td>5146576868</td>\n",
       "      <td>11,082,458,047.46</td>\n",
       "      <td>Subiu</td>\n",
       "      <td>Bancos</td>\n",
       "      <td>78</td>\n",
       "      <td>Entre 50 e 100</td>\n",
       "    </tr>\n",
       "    <tr>\n",
       "      <th>23</th>\n",
       "      <td>BRFS3</td>\n",
       "      <td>BRF</td>\n",
       "      <td>8.20</td>\n",
       "      <td>14.61</td>\n",
       "      <td>6.41</td>\n",
       "      <td>78.17</td>\n",
       "      <td>0.78</td>\n",
       "      <td>1677525446</td>\n",
       "      <td>10,752,881,617.01</td>\n",
       "      <td>Subiu</td>\n",
       "      <td>Alimentos</td>\n",
       "      <td>85</td>\n",
       "      <td>Entre 50 e 100</td>\n",
       "    </tr>\n",
       "    <tr>\n",
       "      <th>24</th>\n",
       "      <td>VIVT3</td>\n",
       "      <td>Vivo</td>\n",
       "      <td>38.56</td>\n",
       "      <td>51.20</td>\n",
       "      <td>12.64</td>\n",
       "      <td>32.78</td>\n",
       "      <td>0.33</td>\n",
       "      <td>423091712</td>\n",
       "      <td>5,347,869,043.16</td>\n",
       "      <td>Subiu</td>\n",
       "      <td>Telecomunicações</td>\n",
       "      <td>23</td>\n",
       "      <td>Menos que 50 anos</td>\n",
       "    </tr>\n",
       "    <tr>\n",
       "      <th>25</th>\n",
       "      <td>RAIL3</td>\n",
       "      <td>Rumo</td>\n",
       "      <td>18.72</td>\n",
       "      <td>22.64</td>\n",
       "      <td>3.92</td>\n",
       "      <td>20.93</td>\n",
       "      <td>0.21</td>\n",
       "      <td>1218352541</td>\n",
       "      <td>4,774,023,707.81</td>\n",
       "      <td>Subiu</td>\n",
       "      <td>Logística</td>\n",
       "      <td>13</td>\n",
       "      <td>Menos que 50 anos</td>\n",
       "    </tr>\n",
       "    <tr>\n",
       "      <th>27</th>\n",
       "      <td>DXCO3</td>\n",
       "      <td>Dexco</td>\n",
       "      <td>7.10</td>\n",
       "      <td>7.81</td>\n",
       "      <td>0.71</td>\n",
       "      <td>9.94</td>\n",
       "      <td>0.10</td>\n",
       "      <td>302768240</td>\n",
       "      <td>213,792,271.66</td>\n",
       "      <td>Subiu</td>\n",
       "      <td>Comércio</td>\n",
       "      <td>72</td>\n",
       "      <td>Entre 50 e 100</td>\n",
       "    </tr>\n",
       "    <tr>\n",
       "      <th>28</th>\n",
       "      <td>TIMS3</td>\n",
       "      <td>TIM</td>\n",
       "      <td>11.17</td>\n",
       "      <td>17.52</td>\n",
       "      <td>6.35</td>\n",
       "      <td>56.87</td>\n",
       "      <td>0.57</td>\n",
       "      <td>807896814</td>\n",
       "      <td>5,131,369,978.64</td>\n",
       "      <td>Subiu</td>\n",
       "      <td>Telecomunicações</td>\n",
       "      <td>25</td>\n",
       "      <td>Menos que 50 anos</td>\n",
       "    </tr>\n",
       "    <tr>\n",
       "      <th>32</th>\n",
       "      <td>ITSA4</td>\n",
       "      <td>Itaúsa</td>\n",
       "      <td>7.76</td>\n",
       "      <td>10.01</td>\n",
       "      <td>2.25</td>\n",
       "      <td>29.00</td>\n",
       "      <td>0.29</td>\n",
       "      <td>5372783971</td>\n",
       "      <td>12,090,429,914.28</td>\n",
       "      <td>Subiu</td>\n",
       "      <td>Holding Financeira</td>\n",
       "      <td>56</td>\n",
       "      <td>Entre 50 e 100</td>\n",
       "    </tr>\n",
       "    <tr>\n",
       "      <th>33</th>\n",
       "      <td>BBAS3</td>\n",
       "      <td>Banco do Brasil</td>\n",
       "      <td>37.27</td>\n",
       "      <td>56.97</td>\n",
       "      <td>19.70</td>\n",
       "      <td>52.87</td>\n",
       "      <td>0.53</td>\n",
       "      <td>1420949112</td>\n",
       "      <td>27,997,018,820.21</td>\n",
       "      <td>Subiu</td>\n",
       "      <td>Bancos</td>\n",
       "      <td>214</td>\n",
       "      <td>Mais que 100</td>\n",
       "    </tr>\n",
       "    <tr>\n",
       "      <th>34</th>\n",
       "      <td>RADL3</td>\n",
       "      <td>RaiaDrogasil</td>\n",
       "      <td>23.77</td>\n",
       "      <td>26.16</td>\n",
       "      <td>2.39</td>\n",
       "      <td>10.07</td>\n",
       "      <td>0.10</td>\n",
       "      <td>1275798515</td>\n",
       "      <td>3,053,376,340.19</td>\n",
       "      <td>Subiu</td>\n",
       "      <td>Varejo Farmacêutico</td>\n",
       "      <td>118</td>\n",
       "      <td>Mais que 100</td>\n",
       "    </tr>\n",
       "    <tr>\n",
       "      <th>36</th>\n",
       "      <td>CSAN3</td>\n",
       "      <td>Cosan</td>\n",
       "      <td>16.38</td>\n",
       "      <td>18.57</td>\n",
       "      <td>2.19</td>\n",
       "      <td>13.35</td>\n",
       "      <td>0.13</td>\n",
       "      <td>1168097881</td>\n",
       "      <td>2,554,764,549.01</td>\n",
       "      <td>Subiu</td>\n",
       "      <td>Energia</td>\n",
       "      <td>14</td>\n",
       "      <td>Menos que 50 anos</td>\n",
       "    </tr>\n",
       "    <tr>\n",
       "      <th>37</th>\n",
       "      <td>JBSS3</td>\n",
       "      <td>JBS</td>\n",
       "      <td>20.75</td>\n",
       "      <td>24.34</td>\n",
       "      <td>3.59</td>\n",
       "      <td>17.29</td>\n",
       "      <td>0.17</td>\n",
       "      <td>1134986472</td>\n",
       "      <td>4,072,351,589.18</td>\n",
       "      <td>Subiu</td>\n",
       "      <td>Alimentos</td>\n",
       "      <td>68</td>\n",
       "      <td>Entre 50 e 100</td>\n",
       "    </tr>\n",
       "    <tr>\n",
       "      <th>39</th>\n",
       "      <td>BBDC3</td>\n",
       "      <td>Banco Bradesco3</td>\n",
       "      <td>11.88</td>\n",
       "      <td>13.75</td>\n",
       "      <td>1.87</td>\n",
       "      <td>15.78</td>\n",
       "      <td>0.16</td>\n",
       "      <td>1500728902</td>\n",
       "      <td>2,812,408,477.38</td>\n",
       "      <td>Subiu</td>\n",
       "      <td>Bancos</td>\n",
       "      <td>78</td>\n",
       "      <td>Entre 50 e 100</td>\n",
       "    </tr>\n",
       "    <tr>\n",
       "      <th>41</th>\n",
       "      <td>RAIZ4</td>\n",
       "      <td>Raízen</td>\n",
       "      <td>3.24</td>\n",
       "      <td>3.74</td>\n",
       "      <td>0.50</td>\n",
       "      <td>15.46</td>\n",
       "      <td>0.15</td>\n",
       "      <td>1193047233</td>\n",
       "      <td>597,457,718.96</td>\n",
       "      <td>Subiu</td>\n",
       "      <td>Energia</td>\n",
       "      <td>10</td>\n",
       "      <td>Menos que 50 anos</td>\n",
       "    </tr>\n",
       "    <tr>\n",
       "      <th>42</th>\n",
       "      <td>CPLE3</td>\n",
       "      <td>Copel</td>\n",
       "      <td>7.62</td>\n",
       "      <td>10.07</td>\n",
       "      <td>2.45</td>\n",
       "      <td>32.08</td>\n",
       "      <td>0.32</td>\n",
       "      <td>2982810591</td>\n",
       "      <td>7,295,456,064.93</td>\n",
       "      <td>Subiu</td>\n",
       "      <td>Energia</td>\n",
       "      <td>67</td>\n",
       "      <td>Entre 50 e 100</td>\n",
       "    </tr>\n",
       "    <tr>\n",
       "      <th>43</th>\n",
       "      <td>CPLE3</td>\n",
       "      <td>Copel</td>\n",
       "      <td>7.62</td>\n",
       "      <td>10.07</td>\n",
       "      <td>2.45</td>\n",
       "      <td>32.08</td>\n",
       "      <td>0.32</td>\n",
       "      <td>2982810591</td>\n",
       "      <td>7,295,456,064.93</td>\n",
       "      <td>Subiu</td>\n",
       "      <td>Energia</td>\n",
       "      <td>67</td>\n",
       "      <td>Entre 50 e 100</td>\n",
       "    </tr>\n",
       "    <tr>\n",
       "      <th>45</th>\n",
       "      <td>MRFG3</td>\n",
       "      <td>Marfrig</td>\n",
       "      <td>8.25</td>\n",
       "      <td>9.74</td>\n",
       "      <td>1.49</td>\n",
       "      <td>17.99</td>\n",
       "      <td>0.18</td>\n",
       "      <td>331799687</td>\n",
       "      <td>492,743,485.34</td>\n",
       "      <td>Subiu</td>\n",
       "      <td>Alimentos</td>\n",
       "      <td>12</td>\n",
       "      <td>Menos que 50 anos</td>\n",
       "    </tr>\n",
       "    <tr>\n",
       "      <th>46</th>\n",
       "      <td>ABEV3</td>\n",
       "      <td>Ambev</td>\n",
       "      <td>13.16</td>\n",
       "      <td>13.20</td>\n",
       "      <td>0.04</td>\n",
       "      <td>0.30</td>\n",
       "      <td>0.00</td>\n",
       "      <td>4394245879</td>\n",
       "      <td>173,491,661.82</td>\n",
       "      <td>Subiu</td>\n",
       "      <td>Bebidas</td>\n",
       "      <td>30</td>\n",
       "      <td>Menos que 50 anos</td>\n",
       "    </tr>\n",
       "    <tr>\n",
       "      <th>47</th>\n",
       "      <td>BBSE3</td>\n",
       "      <td>BB Seguridade</td>\n",
       "      <td>33.43</td>\n",
       "      <td>33.73</td>\n",
       "      <td>0.30</td>\n",
       "      <td>0.91</td>\n",
       "      <td>0.01</td>\n",
       "      <td>671750768</td>\n",
       "      <td>204,329,794.85</td>\n",
       "      <td>Subiu</td>\n",
       "      <td>Seguros</td>\n",
       "      <td>11</td>\n",
       "      <td>Menos que 50 anos</td>\n",
       "    </tr>\n",
       "    <tr>\n",
       "      <th>48</th>\n",
       "      <td>SBSP3</td>\n",
       "      <td>Sabesp</td>\n",
       "      <td>52.80</td>\n",
       "      <td>77.04</td>\n",
       "      <td>24.24</td>\n",
       "      <td>45.92</td>\n",
       "      <td>0.46</td>\n",
       "      <td>340001799</td>\n",
       "      <td>8,242,985,720.12</td>\n",
       "      <td>Subiu</td>\n",
       "      <td>Saneamento</td>\n",
       "      <td>48</td>\n",
       "      <td>Menos que 50 anos</td>\n",
       "    </tr>\n",
       "    <tr>\n",
       "      <th>49</th>\n",
       "      <td>TOTS3</td>\n",
       "      <td>Totvs</td>\n",
       "      <td>29.16</td>\n",
       "      <td>30.88</td>\n",
       "      <td>1.72</td>\n",
       "      <td>5.89</td>\n",
       "      <td>0.06</td>\n",
       "      <td>514122351</td>\n",
       "      <td>883,088,283.99</td>\n",
       "      <td>Subiu</td>\n",
       "      <td>Software</td>\n",
       "      <td>39</td>\n",
       "      <td>Menos que 50 anos</td>\n",
       "    </tr>\n",
       "    <tr>\n",
       "      <th>50</th>\n",
       "      <td>CMIG4</td>\n",
       "      <td>CEMIG</td>\n",
       "      <td>10.37</td>\n",
       "      <td>11.64</td>\n",
       "      <td>1.27</td>\n",
       "      <td>12.26</td>\n",
       "      <td>0.12</td>\n",
       "      <td>1437415777</td>\n",
       "      <td>1,827,261,988.59</td>\n",
       "      <td>Subiu</td>\n",
       "      <td>Energia</td>\n",
       "      <td>70</td>\n",
       "      <td>Entre 50 e 100</td>\n",
       "    </tr>\n",
       "    <tr>\n",
       "      <th>51</th>\n",
       "      <td>ELET3</td>\n",
       "      <td>Eletrobras</td>\n",
       "      <td>42.86</td>\n",
       "      <td>46.04</td>\n",
       "      <td>3.18</td>\n",
       "      <td>7.43</td>\n",
       "      <td>0.07</td>\n",
       "      <td>1980568384</td>\n",
       "      <td>6,306,499,927.46</td>\n",
       "      <td>Subiu</td>\n",
       "      <td>Energia</td>\n",
       "      <td>58</td>\n",
       "      <td>Entre 50 e 100</td>\n",
       "    </tr>\n",
       "    <tr>\n",
       "      <th>52</th>\n",
       "      <td>ELET3</td>\n",
       "      <td>Eletrobras</td>\n",
       "      <td>42.86</td>\n",
       "      <td>46.04</td>\n",
       "      <td>3.18</td>\n",
       "      <td>7.43</td>\n",
       "      <td>0.07</td>\n",
       "      <td>1980568384</td>\n",
       "      <td>6,306,499,927.46</td>\n",
       "      <td>Subiu</td>\n",
       "      <td>Energia</td>\n",
       "      <td>58</td>\n",
       "      <td>Entre 50 e 100</td>\n",
       "    </tr>\n",
       "    <tr>\n",
       "      <th>53</th>\n",
       "      <td>ENEV3</td>\n",
       "      <td>Eneva</td>\n",
       "      <td>12.10</td>\n",
       "      <td>12.87</td>\n",
       "      <td>0.77</td>\n",
       "      <td>6.36</td>\n",
       "      <td>0.06</td>\n",
       "      <td>1579130168</td>\n",
       "      <td>1,215,276,960.02</td>\n",
       "      <td>Subiu</td>\n",
       "      <td>Energia</td>\n",
       "      <td>20</td>\n",
       "      <td>Menos que 50 anos</td>\n",
       "    </tr>\n",
       "    <tr>\n",
       "      <th>56</th>\n",
       "      <td>ALOS3</td>\n",
       "      <td>ALOS3</td>\n",
       "      <td>17.61</td>\n",
       "      <td>24.62</td>\n",
       "      <td>7.01</td>\n",
       "      <td>39.82</td>\n",
       "      <td>0.40</td>\n",
       "      <td>532616595</td>\n",
       "      <td>3,734,519,232.25</td>\n",
       "      <td>Subiu</td>\n",
       "      <td>Calçados</td>\n",
       "      <td>113</td>\n",
       "      <td>Mais que 100</td>\n",
       "    </tr>\n",
       "    <tr>\n",
       "      <th>57</th>\n",
       "      <td>CCRO3</td>\n",
       "      <td>Grupo CCR</td>\n",
       "      <td>11.68</td>\n",
       "      <td>13.27</td>\n",
       "      <td>1.59</td>\n",
       "      <td>13.59</td>\n",
       "      <td>0.14</td>\n",
       "      <td>995335937</td>\n",
       "      <td>1,580,228,771.40</td>\n",
       "      <td>Subiu</td>\n",
       "      <td>Infraestrutura</td>\n",
       "      <td>23</td>\n",
       "      <td>Menos que 50 anos</td>\n",
       "    </tr>\n",
       "    <tr>\n",
       "      <th>58</th>\n",
       "      <td>COGN3</td>\n",
       "      <td>Cogna</td>\n",
       "      <td>2.20</td>\n",
       "      <td>3.03</td>\n",
       "      <td>0.83</td>\n",
       "      <td>37.73</td>\n",
       "      <td>0.38</td>\n",
       "      <td>1814920980</td>\n",
       "      <td>1,506,463,477.70</td>\n",
       "      <td>Subiu</td>\n",
       "      <td>Educação</td>\n",
       "      <td>80</td>\n",
       "      <td>Entre 50 e 100</td>\n",
       "    </tr>\n",
       "    <tr>\n",
       "      <th>59</th>\n",
       "      <td>TRPL4</td>\n",
       "      <td>Transmissão Paulista</td>\n",
       "      <td>21.27</td>\n",
       "      <td>26.12</td>\n",
       "      <td>4.85</td>\n",
       "      <td>22.81</td>\n",
       "      <td>0.23</td>\n",
       "      <td>395801044</td>\n",
       "      <td>1,920,178,762.09</td>\n",
       "      <td>Subiu</td>\n",
       "      <td>Energia</td>\n",
       "      <td>24</td>\n",
       "      <td>Menos que 50 anos</td>\n",
       "    </tr>\n",
       "    <tr>\n",
       "      <th>60</th>\n",
       "      <td>EGIE3</td>\n",
       "      <td>Engie</td>\n",
       "      <td>36.19</td>\n",
       "      <td>41.04</td>\n",
       "      <td>4.85</td>\n",
       "      <td>13.41</td>\n",
       "      <td>0.13</td>\n",
       "      <td>255236961</td>\n",
       "      <td>1,238,592,210.86</td>\n",
       "      <td>Subiu</td>\n",
       "      <td>Energia</td>\n",
       "      <td>28</td>\n",
       "      <td>Menos que 50 anos</td>\n",
       "    </tr>\n",
       "    <tr>\n",
       "      <th>61</th>\n",
       "      <td>VBBR3</td>\n",
       "      <td>Vibra Energia</td>\n",
       "      <td>15.42</td>\n",
       "      <td>23.23</td>\n",
       "      <td>7.81</td>\n",
       "      <td>50.65</td>\n",
       "      <td>0.51</td>\n",
       "      <td>1114412532</td>\n",
       "      <td>8,703,732,014.24</td>\n",
       "      <td>Subiu</td>\n",
       "      <td>Energia</td>\n",
       "      <td>11</td>\n",
       "      <td>Menos que 50 anos</td>\n",
       "    </tr>\n",
       "    <tr>\n",
       "      <th>62</th>\n",
       "      <td>IRBR3</td>\n",
       "      <td>IRB Brasil RE</td>\n",
       "      <td>23.43</td>\n",
       "      <td>40.65</td>\n",
       "      <td>17.22</td>\n",
       "      <td>73.50</td>\n",
       "      <td>0.73</td>\n",
       "      <td>81838843</td>\n",
       "      <td>1,409,314,404.29</td>\n",
       "      <td>Subiu</td>\n",
       "      <td>Seguros</td>\n",
       "      <td>84</td>\n",
       "      <td>Entre 50 e 100</td>\n",
       "    </tr>\n",
       "    <tr>\n",
       "      <th>66</th>\n",
       "      <td>EZTC3</td>\n",
       "      <td>EZTEC</td>\n",
       "      <td>14.61</td>\n",
       "      <td>15.91</td>\n",
       "      <td>1.30</td>\n",
       "      <td>8.93</td>\n",
       "      <td>0.09</td>\n",
       "      <td>91514307</td>\n",
       "      <td>119,361,187.33</td>\n",
       "      <td>Subiu</td>\n",
       "      <td>Construção Civil</td>\n",
       "      <td>42</td>\n",
       "      <td>Menos que 50 anos</td>\n",
       "    </tr>\n",
       "    <tr>\n",
       "      <th>67</th>\n",
       "      <td>FLRY3</td>\n",
       "      <td>Fleury</td>\n",
       "      <td>14.07</td>\n",
       "      <td>16.49</td>\n",
       "      <td>2.42</td>\n",
       "      <td>17.16</td>\n",
       "      <td>0.17</td>\n",
       "      <td>240822651</td>\n",
       "      <td>581,642,200.73</td>\n",
       "      <td>Subiu</td>\n",
       "      <td>Saúde</td>\n",
       "      <td>94</td>\n",
       "      <td>Entre 50 e 100</td>\n",
       "    </tr>\n",
       "    <tr>\n",
       "      <th>70</th>\n",
       "      <td>CYRE3</td>\n",
       "      <td>Cyrela</td>\n",
       "      <td>14.27</td>\n",
       "      <td>22.84</td>\n",
       "      <td>8.57</td>\n",
       "      <td>60.09</td>\n",
       "      <td>0.60</td>\n",
       "      <td>265784616</td>\n",
       "      <td>2,278,578,203.65</td>\n",
       "      <td>Subiu</td>\n",
       "      <td>Construção Civil</td>\n",
       "      <td>59</td>\n",
       "      <td>Entre 50 e 100</td>\n",
       "    </tr>\n",
       "    <tr>\n",
       "      <th>71</th>\n",
       "      <td>EMBR3</td>\n",
       "      <td>Embraer</td>\n",
       "      <td>16.68</td>\n",
       "      <td>22.40</td>\n",
       "      <td>5.72</td>\n",
       "      <td>34.29</td>\n",
       "      <td>0.34</td>\n",
       "      <td>734632705</td>\n",
       "      <td>4,201,864,935.44</td>\n",
       "      <td>Subiu</td>\n",
       "      <td>Aeroespacial</td>\n",
       "      <td>53</td>\n",
       "      <td>Entre 50 e 100</td>\n",
       "    </tr>\n",
       "    <tr>\n",
       "      <th>72</th>\n",
       "      <td>NTCO3</td>\n",
       "      <td>Natura</td>\n",
       "      <td>12.93</td>\n",
       "      <td>15.97</td>\n",
       "      <td>3.04</td>\n",
       "      <td>23.51</td>\n",
       "      <td>0.24</td>\n",
       "      <td>846244302</td>\n",
       "      <td>2,572,475,107.56</td>\n",
       "      <td>Subiu</td>\n",
       "      <td>Cosméticos</td>\n",
       "      <td>54</td>\n",
       "      <td>Entre 50 e 100</td>\n",
       "    </tr>\n",
       "    <tr>\n",
       "      <th>74</th>\n",
       "      <td>B3SA3</td>\n",
       "      <td>B3</td>\n",
       "      <td>12.73</td>\n",
       "      <td>13.22</td>\n",
       "      <td>0.49</td>\n",
       "      <td>3.88</td>\n",
       "      <td>0.04</td>\n",
       "      <td>5602790110</td>\n",
       "      <td>2,766,531,332.17</td>\n",
       "      <td>Subiu</td>\n",
       "      <td>Bolsa de Valores</td>\n",
       "      <td>131</td>\n",
       "      <td>Mais que 100</td>\n",
       "    </tr>\n",
       "    <tr>\n",
       "      <th>76</th>\n",
       "      <td>SMTO3</td>\n",
       "      <td>São Martinho</td>\n",
       "      <td>24.08</td>\n",
       "      <td>28.20</td>\n",
       "      <td>4.12</td>\n",
       "      <td>17.10</td>\n",
       "      <td>0.17</td>\n",
       "      <td>142377330</td>\n",
       "      <td>586,312,519.83</td>\n",
       "      <td>Subiu</td>\n",
       "      <td>Açúcar e Álcool</td>\n",
       "      <td>81</td>\n",
       "      <td>Entre 50 e 100</td>\n",
       "    </tr>\n",
       "  </tbody>\n",
       "</table>\n",
       "</div>"
      ],
      "text/plain": [
       "   ticker                  nome  valor_inicial  valor_final  var_reais  \\\n",
       "0   USIM5              Usiminas           8.19         9.50       1.31   \n",
       "1   CMIN3         CSN Mineração           4.53         6.82       2.29   \n",
       "2   PETR3           Petrobras 3          23.63        41.96      18.33   \n",
       "3   SUZB3                Suzano          44.52        52.91       8.39   \n",
       "4   CPFE3          CPFL Energia          30.74        37.10       6.36   \n",
       "5   PRIO3              PetroRio          42.27        45.69       3.42   \n",
       "6   PETR4            Petrobras4          20.49        39.96      19.47   \n",
       "8   MULT3             Multiplan          22.73        28.19       5.46   \n",
       "9   ITUB4         Itaú Unibanco          24.44        32.81       8.37   \n",
       "12  AZUL4                  Azul          12.04        14.27       2.23   \n",
       "14  EQTL3    Equatorial Energia          27.59        35.32       7.73   \n",
       "15  CSNA3  Siderúrgica Nacional          16.15        18.16       2.01   \n",
       "16  YDUQ3                 YDUQS           9.48        19.77      10.29   \n",
       "17  UGPA3              Ultrapar          12.88        28.31      15.43   \n",
       "18  MRVE3                   MRV           7.08         8.08       1.00   \n",
       "20  BBDC4       Banco Bradesco4          13.37        15.52       2.15   \n",
       "23  BRFS3                   BRF           8.20        14.61       6.41   \n",
       "24  VIVT3                  Vivo          38.56        51.20      12.64   \n",
       "25  RAIL3                  Rumo          18.72        22.64       3.92   \n",
       "27  DXCO3                 Dexco           7.10         7.81       0.71   \n",
       "28  TIMS3                   TIM          11.17        17.52       6.35   \n",
       "32  ITSA4                Itaúsa           7.76        10.01       2.25   \n",
       "33  BBAS3       Banco do Brasil          37.27        56.97      19.70   \n",
       "34  RADL3          RaiaDrogasil          23.77        26.16       2.39   \n",
       "36  CSAN3                 Cosan          16.38        18.57       2.19   \n",
       "37  JBSS3                   JBS          20.75        24.34       3.59   \n",
       "39  BBDC3       Banco Bradesco3          11.88        13.75       1.87   \n",
       "41  RAIZ4                Raízen           3.24         3.74       0.50   \n",
       "42  CPLE3                 Copel           7.62        10.07       2.45   \n",
       "43  CPLE3                 Copel           7.62        10.07       2.45   \n",
       "45  MRFG3               Marfrig           8.25         9.74       1.49   \n",
       "46  ABEV3                 Ambev          13.16        13.20       0.04   \n",
       "47  BBSE3         BB Seguridade          33.43        33.73       0.30   \n",
       "48  SBSP3                Sabesp          52.80        77.04      24.24   \n",
       "49  TOTS3                 Totvs          29.16        30.88       1.72   \n",
       "50  CMIG4                 CEMIG          10.37        11.64       1.27   \n",
       "51  ELET3            Eletrobras          42.86        46.04       3.18   \n",
       "52  ELET3            Eletrobras          42.86        46.04       3.18   \n",
       "53  ENEV3                 Eneva          12.10        12.87       0.77   \n",
       "56  ALOS3                 ALOS3          17.61        24.62       7.01   \n",
       "57  CCRO3             Grupo CCR          11.68        13.27       1.59   \n",
       "58  COGN3                 Cogna           2.20         3.03       0.83   \n",
       "59  TRPL4  Transmissão Paulista          21.27        26.12       4.85   \n",
       "60  EGIE3                 Engie          36.19        41.04       4.85   \n",
       "61  VBBR3         Vibra Energia          15.42        23.23       7.81   \n",
       "62  IRBR3         IRB Brasil RE          23.43        40.65      17.22   \n",
       "66  EZTC3                 EZTEC          14.61        15.91       1.30   \n",
       "67  FLRY3                Fleury          14.07        16.49       2.42   \n",
       "70  CYRE3                Cyrela          14.27        22.84       8.57   \n",
       "71  EMBR3               Embraer          16.68        22.40       5.72   \n",
       "72  NTCO3                Natura          12.93        15.97       3.04   \n",
       "74  B3SA3                    B3          12.73        13.22       0.49   \n",
       "76  SMTO3          São Martinho          24.08        28.20       4.12   \n",
       "\n",
       "    var_12m_pct  var_pct  qtd_teorica   var_reais_total resultado  \\\n",
       "0         15.97     0.16    515117391    673,890,100.68     Subiu   \n",
       "1         50.56     0.51   1110559345  2,543,452,343.89     Subiu   \n",
       "2         77.55     0.78   2379877655 43,616,542,549.22     Subiu   \n",
       "3         18.85     0.19    683452836  5,735,330,905.09     Subiu   \n",
       "4         20.70     0.21    187732538  1,194,473,547.70     Subiu   \n",
       "5          8.08     0.08    800010734  2,732,643,622.56     Subiu   \n",
       "6         95.01     0.95   4566445852 88,902,961,361.60     Subiu   \n",
       "8         24.02     0.24    268505432  1,465,984,667.28     Subiu   \n",
       "9         34.25     0.34   4801593832 40,191,843,998.18     Subiu   \n",
       "12        18.52     0.19    327593725    730,480,937.23     Subiu   \n",
       "14        28.01     0.28   1095587251  8,467,142,638.59     Subiu   \n",
       "15        12.45     0.12    600865451  1,208,100,236.08     Subiu   \n",
       "16       108.45     1.08    289347914  2,976,149,080.23     Subiu   \n",
       "17       119.82     1.20   1086411192 16,764,716,437.59     Subiu   \n",
       "18        14.12     0.14    376187582    376,087,370.80     Subiu   \n",
       "20        16.11     0.16   5146576868 11,082,458,047.46     Subiu   \n",
       "23        78.17     0.78   1677525446 10,752,881,617.01     Subiu   \n",
       "24        32.78     0.33    423091712  5,347,869,043.16     Subiu   \n",
       "25        20.93     0.21   1218352541  4,774,023,707.81     Subiu   \n",
       "27         9.94     0.10    302768240    213,792,271.66     Subiu   \n",
       "28        56.87     0.57    807896814  5,131,369,978.64     Subiu   \n",
       "32        29.00     0.29   5372783971 12,090,429,914.28     Subiu   \n",
       "33        52.87     0.53   1420949112 27,997,018,820.21     Subiu   \n",
       "34        10.07     0.10   1275798515  3,053,376,340.19     Subiu   \n",
       "36        13.35     0.13   1168097881  2,554,764,549.01     Subiu   \n",
       "37        17.29     0.17   1134986472  4,072,351,589.18     Subiu   \n",
       "39        15.78     0.16   1500728902  2,812,408,477.38     Subiu   \n",
       "41        15.46     0.15   1193047233    597,457,718.96     Subiu   \n",
       "42        32.08     0.32   2982810591  7,295,456,064.93     Subiu   \n",
       "43        32.08     0.32   2982810591  7,295,456,064.93     Subiu   \n",
       "45        17.99     0.18    331799687    492,743,485.34     Subiu   \n",
       "46         0.30     0.00   4394245879    173,491,661.82     Subiu   \n",
       "47         0.91     0.01    671750768    204,329,794.85     Subiu   \n",
       "48        45.92     0.46    340001799  8,242,985,720.12     Subiu   \n",
       "49         5.89     0.06    514122351    883,088,283.99     Subiu   \n",
       "50        12.26     0.12   1437415777  1,827,261,988.59     Subiu   \n",
       "51         7.43     0.07   1980568384  6,306,499,927.46     Subiu   \n",
       "52         7.43     0.07   1980568384  6,306,499,927.46     Subiu   \n",
       "53         6.36     0.06   1579130168  1,215,276,960.02     Subiu   \n",
       "56        39.82     0.40    532616595  3,734,519,232.25     Subiu   \n",
       "57        13.59     0.14    995335937  1,580,228,771.40     Subiu   \n",
       "58        37.73     0.38   1814920980  1,506,463,477.70     Subiu   \n",
       "59        22.81     0.23    395801044  1,920,178,762.09     Subiu   \n",
       "60        13.41     0.13    255236961  1,238,592,210.86     Subiu   \n",
       "61        50.65     0.51   1114412532  8,703,732,014.24     Subiu   \n",
       "62        73.50     0.73     81838843  1,409,314,404.29     Subiu   \n",
       "66         8.93     0.09     91514307    119,361,187.33     Subiu   \n",
       "67        17.16     0.17    240822651    581,642,200.73     Subiu   \n",
       "70        60.09     0.60    265784616  2,278,578,203.65     Subiu   \n",
       "71        34.29     0.34    734632705  4,201,864,935.44     Subiu   \n",
       "72        23.51     0.24    846244302  2,572,475,107.56     Subiu   \n",
       "74         3.88     0.04   5602790110  2,766,531,332.17     Subiu   \n",
       "76        17.10     0.17    142377330    586,312,519.83     Subiu   \n",
       "\n",
       "               segmento  idade          cat_idade  \n",
       "0            Siderurgia     59     Entre 50 e 100  \n",
       "1             Mineração     81     Entre 50 e 100  \n",
       "2        Petróleo e Gás     68     Entre 50 e 100  \n",
       "3      Papel e Celulose     97     Entre 50 e 100  \n",
       "4               Energia    109       Mais que 100  \n",
       "5        Petróleo e Gás      8  Menos que 50 anos  \n",
       "6        Petróleo e Gás     68     Entre 50 e 100  \n",
       "8      Shopping Centers     50     Entre 50 e 100  \n",
       "9                Bancos     98     Entre 50 e 100  \n",
       "12     Transporte Aéreo     13  Menos que 50 anos  \n",
       "14              Energia     24  Menos que 50 anos  \n",
       "15           Siderurgia     78     Entre 50 e 100  \n",
       "16             Educação     56     Entre 50 e 100  \n",
       "17         Conglomerado     84     Entre 50 e 100  \n",
       "18     Construção Civil     42  Menos que 50 anos  \n",
       "20               Bancos     78     Entre 50 e 100  \n",
       "23            Alimentos     85     Entre 50 e 100  \n",
       "24     Telecomunicações     23  Menos que 50 anos  \n",
       "25            Logística     13  Menos que 50 anos  \n",
       "27             Comércio     72     Entre 50 e 100  \n",
       "28     Telecomunicações     25  Menos que 50 anos  \n",
       "32   Holding Financeira     56     Entre 50 e 100  \n",
       "33               Bancos    214       Mais que 100  \n",
       "34  Varejo Farmacêutico    118       Mais que 100  \n",
       "36              Energia     14  Menos que 50 anos  \n",
       "37            Alimentos     68     Entre 50 e 100  \n",
       "39               Bancos     78     Entre 50 e 100  \n",
       "41              Energia     10  Menos que 50 anos  \n",
       "42              Energia     67     Entre 50 e 100  \n",
       "43              Energia     67     Entre 50 e 100  \n",
       "45            Alimentos     12  Menos que 50 anos  \n",
       "46              Bebidas     30  Menos que 50 anos  \n",
       "47              Seguros     11  Menos que 50 anos  \n",
       "48           Saneamento     48  Menos que 50 anos  \n",
       "49             Software     39  Menos que 50 anos  \n",
       "50              Energia     70     Entre 50 e 100  \n",
       "51              Energia     58     Entre 50 e 100  \n",
       "52              Energia     58     Entre 50 e 100  \n",
       "53              Energia     20  Menos que 50 anos  \n",
       "56             Calçados    113       Mais que 100  \n",
       "57       Infraestrutura     23  Menos que 50 anos  \n",
       "58             Educação     80     Entre 50 e 100  \n",
       "59              Energia     24  Menos que 50 anos  \n",
       "60              Energia     28  Menos que 50 anos  \n",
       "61              Energia     11  Menos que 50 anos  \n",
       "62              Seguros     84     Entre 50 e 100  \n",
       "66     Construção Civil     42  Menos que 50 anos  \n",
       "67                Saúde     94     Entre 50 e 100  \n",
       "70     Construção Civil     59     Entre 50 e 100  \n",
       "71         Aeroespacial     53     Entre 50 e 100  \n",
       "72           Cosméticos     54     Entre 50 e 100  \n",
       "74     Bolsa de Valores    131       Mais que 100  \n",
       "76      Açúcar e Álcool     81     Entre 50 e 100  "
      ]
     },
     "execution_count": 134,
     "metadata": {},
     "output_type": "execute_result"
    }
   ],
   "source": [
    "df_principal_12m_subiu = df_principal_12m[df_principal_12m['resultado'] == \"Subiu\"]\n",
    "df_principal_12m_subiu"
   ]
  },
  {
   "cell_type": "code",
   "execution_count": null,
   "metadata": {},
   "outputs": [
    {
     "data": {
      "text/html": [
       "<div>\n",
       "<style scoped>\n",
       "    .dataframe tbody tr th:only-of-type {\n",
       "        vertical-align: middle;\n",
       "    }\n",
       "\n",
       "    .dataframe tbody tr th {\n",
       "        vertical-align: top;\n",
       "    }\n",
       "\n",
       "    .dataframe thead th {\n",
       "        text-align: right;\n",
       "    }\n",
       "</style>\n",
       "<table border=\"1\" class=\"dataframe\">\n",
       "  <thead>\n",
       "    <tr style=\"text-align: right;\">\n",
       "      <th></th>\n",
       "      <th>segmento</th>\n",
       "      <th>var_reais_total</th>\n",
       "    </tr>\n",
       "  </thead>\n",
       "  <tbody>\n",
       "    <tr>\n",
       "      <th>0</th>\n",
       "      <td>Aeroespacial</td>\n",
       "      <td>4,201,864,935.44</td>\n",
       "    </tr>\n",
       "    <tr>\n",
       "      <th>1</th>\n",
       "      <td>Alimentos</td>\n",
       "      <td>15,317,976,691.54</td>\n",
       "    </tr>\n",
       "    <tr>\n",
       "      <th>2</th>\n",
       "      <td>Açúcar e Álcool</td>\n",
       "      <td>586,312,519.83</td>\n",
       "    </tr>\n",
       "    <tr>\n",
       "      <th>3</th>\n",
       "      <td>Bancos</td>\n",
       "      <td>82,083,729,343.24</td>\n",
       "    </tr>\n",
       "    <tr>\n",
       "      <th>4</th>\n",
       "      <td>Bebidas</td>\n",
       "      <td>173,491,661.82</td>\n",
       "    </tr>\n",
       "    <tr>\n",
       "      <th>5</th>\n",
       "      <td>Bolsa de Valores</td>\n",
       "      <td>2,766,531,332.17</td>\n",
       "    </tr>\n",
       "    <tr>\n",
       "      <th>6</th>\n",
       "      <td>Calçados</td>\n",
       "      <td>3,734,519,232.25</td>\n",
       "    </tr>\n",
       "    <tr>\n",
       "      <th>7</th>\n",
       "      <td>Comércio</td>\n",
       "      <td>213,792,271.66</td>\n",
       "    </tr>\n",
       "    <tr>\n",
       "      <th>8</th>\n",
       "      <td>Conglomerado</td>\n",
       "      <td>16,764,716,437.59</td>\n",
       "    </tr>\n",
       "    <tr>\n",
       "      <th>9</th>\n",
       "      <td>Construção Civil</td>\n",
       "      <td>2,774,026,761.78</td>\n",
       "    </tr>\n",
       "    <tr>\n",
       "      <th>10</th>\n",
       "      <td>Cosméticos</td>\n",
       "      <td>2,572,475,107.56</td>\n",
       "    </tr>\n",
       "    <tr>\n",
       "      <th>11</th>\n",
       "      <td>Educação</td>\n",
       "      <td>4,482,612,557.92</td>\n",
       "    </tr>\n",
       "    <tr>\n",
       "      <th>12</th>\n",
       "      <td>Energia</td>\n",
       "      <td>54,922,792,374.83</td>\n",
       "    </tr>\n",
       "    <tr>\n",
       "      <th>13</th>\n",
       "      <td>Holding Financeira</td>\n",
       "      <td>12,090,429,914.28</td>\n",
       "    </tr>\n",
       "    <tr>\n",
       "      <th>14</th>\n",
       "      <td>Infraestrutura</td>\n",
       "      <td>1,580,228,771.40</td>\n",
       "    </tr>\n",
       "    <tr>\n",
       "      <th>15</th>\n",
       "      <td>Logística</td>\n",
       "      <td>4,774,023,707.81</td>\n",
       "    </tr>\n",
       "    <tr>\n",
       "      <th>16</th>\n",
       "      <td>Mineração</td>\n",
       "      <td>2,543,452,343.89</td>\n",
       "    </tr>\n",
       "    <tr>\n",
       "      <th>17</th>\n",
       "      <td>Papel e Celulose</td>\n",
       "      <td>5,735,330,905.09</td>\n",
       "    </tr>\n",
       "    <tr>\n",
       "      <th>18</th>\n",
       "      <td>Petróleo e Gás</td>\n",
       "      <td>135,252,147,533.38</td>\n",
       "    </tr>\n",
       "    <tr>\n",
       "      <th>19</th>\n",
       "      <td>Saneamento</td>\n",
       "      <td>8,242,985,720.12</td>\n",
       "    </tr>\n",
       "    <tr>\n",
       "      <th>20</th>\n",
       "      <td>Saúde</td>\n",
       "      <td>581,642,200.73</td>\n",
       "    </tr>\n",
       "    <tr>\n",
       "      <th>21</th>\n",
       "      <td>Seguros</td>\n",
       "      <td>1,613,644,199.14</td>\n",
       "    </tr>\n",
       "    <tr>\n",
       "      <th>22</th>\n",
       "      <td>Shopping Centers</td>\n",
       "      <td>1,465,984,667.28</td>\n",
       "    </tr>\n",
       "    <tr>\n",
       "      <th>23</th>\n",
       "      <td>Siderurgia</td>\n",
       "      <td>1,881,990,336.76</td>\n",
       "    </tr>\n",
       "    <tr>\n",
       "      <th>24</th>\n",
       "      <td>Software</td>\n",
       "      <td>883,088,283.99</td>\n",
       "    </tr>\n",
       "    <tr>\n",
       "      <th>25</th>\n",
       "      <td>Telecomunicações</td>\n",
       "      <td>10,479,239,021.80</td>\n",
       "    </tr>\n",
       "    <tr>\n",
       "      <th>26</th>\n",
       "      <td>Transporte Aéreo</td>\n",
       "      <td>730,480,937.23</td>\n",
       "    </tr>\n",
       "    <tr>\n",
       "      <th>27</th>\n",
       "      <td>Varejo Farmacêutico</td>\n",
       "      <td>3,053,376,340.19</td>\n",
       "    </tr>\n",
       "  </tbody>\n",
       "</table>\n",
       "</div>"
      ],
      "text/plain": [
       "               segmento    var_reais_total\n",
       "0          Aeroespacial   4,201,864,935.44\n",
       "1             Alimentos  15,317,976,691.54\n",
       "2       Açúcar e Álcool     586,312,519.83\n",
       "3                Bancos  82,083,729,343.24\n",
       "4               Bebidas     173,491,661.82\n",
       "5      Bolsa de Valores   2,766,531,332.17\n",
       "6              Calçados   3,734,519,232.25\n",
       "7              Comércio     213,792,271.66\n",
       "8          Conglomerado  16,764,716,437.59\n",
       "9      Construção Civil   2,774,026,761.78\n",
       "10           Cosméticos   2,572,475,107.56\n",
       "11             Educação   4,482,612,557.92\n",
       "12              Energia  54,922,792,374.83\n",
       "13   Holding Financeira  12,090,429,914.28\n",
       "14       Infraestrutura   1,580,228,771.40\n",
       "15            Logística   4,774,023,707.81\n",
       "16            Mineração   2,543,452,343.89\n",
       "17     Papel e Celulose   5,735,330,905.09\n",
       "18       Petróleo e Gás 135,252,147,533.38\n",
       "19           Saneamento   8,242,985,720.12\n",
       "20                Saúde     581,642,200.73\n",
       "21              Seguros   1,613,644,199.14\n",
       "22     Shopping Centers   1,465,984,667.28\n",
       "23           Siderurgia   1,881,990,336.76\n",
       "24             Software     883,088,283.99\n",
       "25     Telecomunicações  10,479,239,021.80\n",
       "26     Transporte Aéreo     730,480,937.23\n",
       "27  Varejo Farmacêutico   3,053,376,340.19"
      ]
     },
     "execution_count": 135,
     "metadata": {},
     "output_type": "execute_result"
    }
   ],
   "source": [
    "df_analise_segmento_12m = df_principal_12m_subiu.groupby('segmento')[\"var_reais_total\"].sum().reset_index()\n",
    "df_analise_segmento_12m"
   ]
  },
  {
   "cell_type": "code",
   "execution_count": 172,
   "metadata": {},
   "outputs": [
    {
     "data": {
      "application/vnd.plotly.v1+json": {
       "config": {
        "plotlyServerURL": "https://plot.ly"
       },
       "data": [
        {
         "customdata": [
          [
           "Aeroespacial"
          ],
          [
           "Alimentos"
          ],
          [
           "Açúcar e Álcool"
          ],
          [
           "Bancos"
          ],
          [
           "Bebidas"
          ],
          [
           "Bolsa de Valores"
          ],
          [
           "Calçados"
          ],
          [
           "Comércio"
          ],
          [
           "Conglomerado"
          ],
          [
           "Construção Civil"
          ],
          [
           "Cosméticos"
          ],
          [
           "Educação"
          ],
          [
           "Energia"
          ],
          [
           "Holding Financeira"
          ],
          [
           "Infraestrutura"
          ],
          [
           "Logística"
          ],
          [
           "Mineração"
          ],
          [
           "Papel e Celulose"
          ],
          [
           "Petróleo e Gás"
          ],
          [
           "Saneamento"
          ],
          [
           "Saúde"
          ],
          [
           "Seguros"
          ],
          [
           "Shopping Centers"
          ],
          [
           "Siderurgia"
          ],
          [
           "Software"
          ],
          [
           "Telecomunicações"
          ],
          [
           "Transporte Aéreo"
          ],
          [
           "Varejo Farmacêutico"
          ]
         ],
         "domain": {
          "x": [
           0,
           1
          ],
          "y": [
           0,
           1
          ]
         },
         "hovertemplate": "segmento=%{customdata[0]}<br>var_reais_total=%{value}<extra></extra>",
         "labels": [
          "Aeroespacial",
          "Alimentos",
          "Açúcar e Álcool",
          "Bancos",
          "Bebidas",
          "Bolsa de Valores",
          "Calçados",
          "Comércio",
          "Conglomerado",
          "Construção Civil",
          "Cosméticos",
          "Educação",
          "Energia",
          "Holding Financeira",
          "Infraestrutura",
          "Logística",
          "Mineração",
          "Papel e Celulose",
          "Petróleo e Gás",
          "Saneamento",
          "Saúde",
          "Seguros",
          "Shopping Centers",
          "Siderurgia",
          "Software",
          "Telecomunicações",
          "Transporte Aéreo",
          "Varejo Farmacêutico"
         ],
         "legendgroup": "",
         "name": "",
         "showlegend": true,
         "textposition": "inside",
         "type": "pie",
         "values": [
          4201864935.4358473,
          15317976691.536083,
          586312519.8343296,
          82083729343.24004,
          173491661.82292238,
          2766531332.1745872,
          3734519232.252883,
          213792271.6639619,
          16764716437.586235,
          2774026761.7793107,
          2572475107.5550113,
          4482612557.924995,
          54922792374.83178,
          12090429914.275892,
          1580228771.400863,
          4774023707.814962,
          2543452343.8856535,
          5735330905.086459,
          135252147533.38284,
          8242985720.124475,
          581642200.7274528,
          1613644199.1391578,
          1465984667.2833545,
          1881990336.7600927,
          883088283.9871855,
          10479239021.804241,
          730480937.2299191,
          3053376340.1895885
         ]
        }
       ],
       "layout": {
        "legend": {
         "tracegroupgap": 0
        },
        "template": {
         "data": {
          "bar": [
           {
            "error_x": {
             "color": "#2a3f5f"
            },
            "error_y": {
             "color": "#2a3f5f"
            },
            "marker": {
             "line": {
              "color": "#E5ECF6",
              "width": 0.5
             },
             "pattern": {
              "fillmode": "overlay",
              "size": 10,
              "solidity": 0.2
             }
            },
            "type": "bar"
           }
          ],
          "barpolar": [
           {
            "marker": {
             "line": {
              "color": "#E5ECF6",
              "width": 0.5
             },
             "pattern": {
              "fillmode": "overlay",
              "size": 10,
              "solidity": 0.2
             }
            },
            "type": "barpolar"
           }
          ],
          "carpet": [
           {
            "aaxis": {
             "endlinecolor": "#2a3f5f",
             "gridcolor": "white",
             "linecolor": "white",
             "minorgridcolor": "white",
             "startlinecolor": "#2a3f5f"
            },
            "baxis": {
             "endlinecolor": "#2a3f5f",
             "gridcolor": "white",
             "linecolor": "white",
             "minorgridcolor": "white",
             "startlinecolor": "#2a3f5f"
            },
            "type": "carpet"
           }
          ],
          "choropleth": [
           {
            "colorbar": {
             "outlinewidth": 0,
             "ticks": ""
            },
            "type": "choropleth"
           }
          ],
          "contour": [
           {
            "colorbar": {
             "outlinewidth": 0,
             "ticks": ""
            },
            "colorscale": [
             [
              0,
              "#0d0887"
             ],
             [
              0.1111111111111111,
              "#46039f"
             ],
             [
              0.2222222222222222,
              "#7201a8"
             ],
             [
              0.3333333333333333,
              "#9c179e"
             ],
             [
              0.4444444444444444,
              "#bd3786"
             ],
             [
              0.5555555555555556,
              "#d8576b"
             ],
             [
              0.6666666666666666,
              "#ed7953"
             ],
             [
              0.7777777777777778,
              "#fb9f3a"
             ],
             [
              0.8888888888888888,
              "#fdca26"
             ],
             [
              1,
              "#f0f921"
             ]
            ],
            "type": "contour"
           }
          ],
          "contourcarpet": [
           {
            "colorbar": {
             "outlinewidth": 0,
             "ticks": ""
            },
            "type": "contourcarpet"
           }
          ],
          "heatmap": [
           {
            "colorbar": {
             "outlinewidth": 0,
             "ticks": ""
            },
            "colorscale": [
             [
              0,
              "#0d0887"
             ],
             [
              0.1111111111111111,
              "#46039f"
             ],
             [
              0.2222222222222222,
              "#7201a8"
             ],
             [
              0.3333333333333333,
              "#9c179e"
             ],
             [
              0.4444444444444444,
              "#bd3786"
             ],
             [
              0.5555555555555556,
              "#d8576b"
             ],
             [
              0.6666666666666666,
              "#ed7953"
             ],
             [
              0.7777777777777778,
              "#fb9f3a"
             ],
             [
              0.8888888888888888,
              "#fdca26"
             ],
             [
              1,
              "#f0f921"
             ]
            ],
            "type": "heatmap"
           }
          ],
          "heatmapgl": [
           {
            "colorbar": {
             "outlinewidth": 0,
             "ticks": ""
            },
            "colorscale": [
             [
              0,
              "#0d0887"
             ],
             [
              0.1111111111111111,
              "#46039f"
             ],
             [
              0.2222222222222222,
              "#7201a8"
             ],
             [
              0.3333333333333333,
              "#9c179e"
             ],
             [
              0.4444444444444444,
              "#bd3786"
             ],
             [
              0.5555555555555556,
              "#d8576b"
             ],
             [
              0.6666666666666666,
              "#ed7953"
             ],
             [
              0.7777777777777778,
              "#fb9f3a"
             ],
             [
              0.8888888888888888,
              "#fdca26"
             ],
             [
              1,
              "#f0f921"
             ]
            ],
            "type": "heatmapgl"
           }
          ],
          "histogram": [
           {
            "marker": {
             "pattern": {
              "fillmode": "overlay",
              "size": 10,
              "solidity": 0.2
             }
            },
            "type": "histogram"
           }
          ],
          "histogram2d": [
           {
            "colorbar": {
             "outlinewidth": 0,
             "ticks": ""
            },
            "colorscale": [
             [
              0,
              "#0d0887"
             ],
             [
              0.1111111111111111,
              "#46039f"
             ],
             [
              0.2222222222222222,
              "#7201a8"
             ],
             [
              0.3333333333333333,
              "#9c179e"
             ],
             [
              0.4444444444444444,
              "#bd3786"
             ],
             [
              0.5555555555555556,
              "#d8576b"
             ],
             [
              0.6666666666666666,
              "#ed7953"
             ],
             [
              0.7777777777777778,
              "#fb9f3a"
             ],
             [
              0.8888888888888888,
              "#fdca26"
             ],
             [
              1,
              "#f0f921"
             ]
            ],
            "type": "histogram2d"
           }
          ],
          "histogram2dcontour": [
           {
            "colorbar": {
             "outlinewidth": 0,
             "ticks": ""
            },
            "colorscale": [
             [
              0,
              "#0d0887"
             ],
             [
              0.1111111111111111,
              "#46039f"
             ],
             [
              0.2222222222222222,
              "#7201a8"
             ],
             [
              0.3333333333333333,
              "#9c179e"
             ],
             [
              0.4444444444444444,
              "#bd3786"
             ],
             [
              0.5555555555555556,
              "#d8576b"
             ],
             [
              0.6666666666666666,
              "#ed7953"
             ],
             [
              0.7777777777777778,
              "#fb9f3a"
             ],
             [
              0.8888888888888888,
              "#fdca26"
             ],
             [
              1,
              "#f0f921"
             ]
            ],
            "type": "histogram2dcontour"
           }
          ],
          "mesh3d": [
           {
            "colorbar": {
             "outlinewidth": 0,
             "ticks": ""
            },
            "type": "mesh3d"
           }
          ],
          "parcoords": [
           {
            "line": {
             "colorbar": {
              "outlinewidth": 0,
              "ticks": ""
             }
            },
            "type": "parcoords"
           }
          ],
          "pie": [
           {
            "automargin": true,
            "type": "pie"
           }
          ],
          "scatter": [
           {
            "fillpattern": {
             "fillmode": "overlay",
             "size": 10,
             "solidity": 0.2
            },
            "type": "scatter"
           }
          ],
          "scatter3d": [
           {
            "line": {
             "colorbar": {
              "outlinewidth": 0,
              "ticks": ""
             }
            },
            "marker": {
             "colorbar": {
              "outlinewidth": 0,
              "ticks": ""
             }
            },
            "type": "scatter3d"
           }
          ],
          "scattercarpet": [
           {
            "marker": {
             "colorbar": {
              "outlinewidth": 0,
              "ticks": ""
             }
            },
            "type": "scattercarpet"
           }
          ],
          "scattergeo": [
           {
            "marker": {
             "colorbar": {
              "outlinewidth": 0,
              "ticks": ""
             }
            },
            "type": "scattergeo"
           }
          ],
          "scattergl": [
           {
            "marker": {
             "colorbar": {
              "outlinewidth": 0,
              "ticks": ""
             }
            },
            "type": "scattergl"
           }
          ],
          "scattermapbox": [
           {
            "marker": {
             "colorbar": {
              "outlinewidth": 0,
              "ticks": ""
             }
            },
            "type": "scattermapbox"
           }
          ],
          "scatterpolar": [
           {
            "marker": {
             "colorbar": {
              "outlinewidth": 0,
              "ticks": ""
             }
            },
            "type": "scatterpolar"
           }
          ],
          "scatterpolargl": [
           {
            "marker": {
             "colorbar": {
              "outlinewidth": 0,
              "ticks": ""
             }
            },
            "type": "scatterpolargl"
           }
          ],
          "scatterternary": [
           {
            "marker": {
             "colorbar": {
              "outlinewidth": 0,
              "ticks": ""
             }
            },
            "type": "scatterternary"
           }
          ],
          "surface": [
           {
            "colorbar": {
             "outlinewidth": 0,
             "ticks": ""
            },
            "colorscale": [
             [
              0,
              "#0d0887"
             ],
             [
              0.1111111111111111,
              "#46039f"
             ],
             [
              0.2222222222222222,
              "#7201a8"
             ],
             [
              0.3333333333333333,
              "#9c179e"
             ],
             [
              0.4444444444444444,
              "#bd3786"
             ],
             [
              0.5555555555555556,
              "#d8576b"
             ],
             [
              0.6666666666666666,
              "#ed7953"
             ],
             [
              0.7777777777777778,
              "#fb9f3a"
             ],
             [
              0.8888888888888888,
              "#fdca26"
             ],
             [
              1,
              "#f0f921"
             ]
            ],
            "type": "surface"
           }
          ],
          "table": [
           {
            "cells": {
             "fill": {
              "color": "#EBF0F8"
             },
             "line": {
              "color": "white"
             }
            },
            "header": {
             "fill": {
              "color": "#C8D4E3"
             },
             "line": {
              "color": "white"
             }
            },
            "type": "table"
           }
          ]
         },
         "layout": {
          "annotationdefaults": {
           "arrowcolor": "#2a3f5f",
           "arrowhead": 0,
           "arrowwidth": 1
          },
          "autotypenumbers": "strict",
          "coloraxis": {
           "colorbar": {
            "outlinewidth": 0,
            "ticks": ""
           }
          },
          "colorscale": {
           "diverging": [
            [
             0,
             "#8e0152"
            ],
            [
             0.1,
             "#c51b7d"
            ],
            [
             0.2,
             "#de77ae"
            ],
            [
             0.3,
             "#f1b6da"
            ],
            [
             0.4,
             "#fde0ef"
            ],
            [
             0.5,
             "#f7f7f7"
            ],
            [
             0.6,
             "#e6f5d0"
            ],
            [
             0.7,
             "#b8e186"
            ],
            [
             0.8,
             "#7fbc41"
            ],
            [
             0.9,
             "#4d9221"
            ],
            [
             1,
             "#276419"
            ]
           ],
           "sequential": [
            [
             0,
             "#0d0887"
            ],
            [
             0.1111111111111111,
             "#46039f"
            ],
            [
             0.2222222222222222,
             "#7201a8"
            ],
            [
             0.3333333333333333,
             "#9c179e"
            ],
            [
             0.4444444444444444,
             "#bd3786"
            ],
            [
             0.5555555555555556,
             "#d8576b"
            ],
            [
             0.6666666666666666,
             "#ed7953"
            ],
            [
             0.7777777777777778,
             "#fb9f3a"
            ],
            [
             0.8888888888888888,
             "#fdca26"
            ],
            [
             1,
             "#f0f921"
            ]
           ],
           "sequentialminus": [
            [
             0,
             "#0d0887"
            ],
            [
             0.1111111111111111,
             "#46039f"
            ],
            [
             0.2222222222222222,
             "#7201a8"
            ],
            [
             0.3333333333333333,
             "#9c179e"
            ],
            [
             0.4444444444444444,
             "#bd3786"
            ],
            [
             0.5555555555555556,
             "#d8576b"
            ],
            [
             0.6666666666666666,
             "#ed7953"
            ],
            [
             0.7777777777777778,
             "#fb9f3a"
            ],
            [
             0.8888888888888888,
             "#fdca26"
            ],
            [
             1,
             "#f0f921"
            ]
           ]
          },
          "colorway": [
           "#636efa",
           "#EF553B",
           "#00cc96",
           "#ab63fa",
           "#FFA15A",
           "#19d3f3",
           "#FF6692",
           "#B6E880",
           "#FF97FF",
           "#FECB52"
          ],
          "font": {
           "color": "#2a3f5f"
          },
          "geo": {
           "bgcolor": "white",
           "lakecolor": "white",
           "landcolor": "#E5ECF6",
           "showlakes": true,
           "showland": true,
           "subunitcolor": "white"
          },
          "hoverlabel": {
           "align": "left"
          },
          "hovermode": "closest",
          "mapbox": {
           "style": "light"
          },
          "paper_bgcolor": "white",
          "plot_bgcolor": "#E5ECF6",
          "polar": {
           "angularaxis": {
            "gridcolor": "white",
            "linecolor": "white",
            "ticks": ""
           },
           "bgcolor": "#E5ECF6",
           "radialaxis": {
            "gridcolor": "white",
            "linecolor": "white",
            "ticks": ""
           }
          },
          "scene": {
           "xaxis": {
            "backgroundcolor": "#E5ECF6",
            "gridcolor": "white",
            "gridwidth": 2,
            "linecolor": "white",
            "showbackground": true,
            "ticks": "",
            "zerolinecolor": "white"
           },
           "yaxis": {
            "backgroundcolor": "#E5ECF6",
            "gridcolor": "white",
            "gridwidth": 2,
            "linecolor": "white",
            "showbackground": true,
            "ticks": "",
            "zerolinecolor": "white"
           },
           "zaxis": {
            "backgroundcolor": "#E5ECF6",
            "gridcolor": "white",
            "gridwidth": 2,
            "linecolor": "white",
            "showbackground": true,
            "ticks": "",
            "zerolinecolor": "white"
           }
          },
          "shapedefaults": {
           "line": {
            "color": "#2a3f5f"
           }
          },
          "ternary": {
           "aaxis": {
            "gridcolor": "white",
            "linecolor": "white",
            "ticks": ""
           },
           "baxis": {
            "gridcolor": "white",
            "linecolor": "white",
            "ticks": ""
           },
           "bgcolor": "#E5ECF6",
           "caxis": {
            "gridcolor": "white",
            "linecolor": "white",
            "ticks": ""
           }
          },
          "title": {
           "x": 0.05
          },
          "xaxis": {
           "automargin": true,
           "gridcolor": "white",
           "linecolor": "white",
           "ticks": "",
           "title": {
            "standoff": 15
           },
           "zerolinecolor": "white",
           "zerolinewidth": 2
          },
          "yaxis": {
           "automargin": true,
           "gridcolor": "white",
           "linecolor": "white",
           "ticks": "",
           "title": {
            "standoff": 15
           },
           "zerolinecolor": "white",
           "zerolinewidth": 2
          }
         }
        },
        "title": {
         "text": "Quantidade de acoes por segmento."
        }
       }
      }
     },
     "metadata": {},
     "output_type": "display_data"
    }
   ],
   "source": [
    "fig_12m = px.pie(df_analise_segmento_12m,\n",
    "                 values=\"var_reais_total\",\n",
    "                 names=\"segmento\",\n",
    "                 title=\"Quantidade de acoes por segmento.\",\n",
    "                 hover_data=[\"segmento\"]\n",
    "                 )\n",
    "fig_12m.update_traces(textposition = \"inside\")\n",
    "fig_12m.show()"
   ]
  },
  {
   "cell_type": "code",
   "execution_count": null,
   "metadata": {},
   "outputs": [
    {
     "data": {
      "text/html": [
       "<div>\n",
       "<style scoped>\n",
       "    .dataframe tbody tr th:only-of-type {\n",
       "        vertical-align: middle;\n",
       "    }\n",
       "\n",
       "    .dataframe tbody tr th {\n",
       "        vertical-align: top;\n",
       "    }\n",
       "\n",
       "    .dataframe thead th {\n",
       "        text-align: right;\n",
       "    }\n",
       "</style>\n",
       "<table border=\"1\" class=\"dataframe\">\n",
       "  <thead>\n",
       "    <tr style=\"text-align: right;\">\n",
       "      <th></th>\n",
       "      <th>resultado</th>\n",
       "      <th>var_reais_total</th>\n",
       "    </tr>\n",
       "  </thead>\n",
       "  <tbody>\n",
       "    <tr>\n",
       "      <th>0</th>\n",
       "      <td>Desceu</td>\n",
       "      <td>-167,674,234,107.83</td>\n",
       "    </tr>\n",
       "    <tr>\n",
       "      <th>1</th>\n",
       "      <td>Subiu</td>\n",
       "      <td>381,502,886,110.73</td>\n",
       "    </tr>\n",
       "  </tbody>\n",
       "</table>\n",
       "</div>"
      ],
      "text/plain": [
       "  resultado     var_reais_total\n",
       "0    Desceu -167,674,234,107.83\n",
       "1     Subiu  381,502,886,110.73"
      ]
     },
     "execution_count": 136,
     "metadata": {},
     "output_type": "execute_result"
    }
   ],
   "source": [
    "df_analise_12m_saldo = df_principal_12m.groupby('resultado')['var_reais_total'].sum().reset_index()\n",
    "df_analise_12m_saldo"
   ]
  },
  {
   "cell_type": "code",
   "execution_count": 160,
   "metadata": {},
   "outputs": [
    {
     "data": {
      "application/vnd.plotly.v1+json": {
       "config": {
        "plotlyServerURL": "https://plot.ly"
       },
       "data": [
        {
         "alignmentgroup": "True",
         "hovertemplate": "var_reais_total=%{x}<br>resultado=%{y}<extra></extra>",
         "legendgroup": "",
         "marker": {
          "color": "#636efa",
          "pattern": {
           "shape": ""
          }
         },
         "name": "",
         "offsetgroup": "",
         "orientation": "h",
         "showlegend": false,
         "textposition": "auto",
         "type": "bar",
         "x": [
          -167674234107.82703,
          381502886110.7301
         ],
         "xaxis": "x",
         "y": [
          "Desceu",
          "Subiu"
         ],
         "yaxis": "y"
        }
       ],
       "layout": {
        "barmode": "relative",
        "legend": {
         "tracegroupgap": 0
        },
        "template": {
         "data": {
          "bar": [
           {
            "error_x": {
             "color": "#2a3f5f"
            },
            "error_y": {
             "color": "#2a3f5f"
            },
            "marker": {
             "line": {
              "color": "#E5ECF6",
              "width": 0.5
             },
             "pattern": {
              "fillmode": "overlay",
              "size": 10,
              "solidity": 0.2
             }
            },
            "type": "bar"
           }
          ],
          "barpolar": [
           {
            "marker": {
             "line": {
              "color": "#E5ECF6",
              "width": 0.5
             },
             "pattern": {
              "fillmode": "overlay",
              "size": 10,
              "solidity": 0.2
             }
            },
            "type": "barpolar"
           }
          ],
          "carpet": [
           {
            "aaxis": {
             "endlinecolor": "#2a3f5f",
             "gridcolor": "white",
             "linecolor": "white",
             "minorgridcolor": "white",
             "startlinecolor": "#2a3f5f"
            },
            "baxis": {
             "endlinecolor": "#2a3f5f",
             "gridcolor": "white",
             "linecolor": "white",
             "minorgridcolor": "white",
             "startlinecolor": "#2a3f5f"
            },
            "type": "carpet"
           }
          ],
          "choropleth": [
           {
            "colorbar": {
             "outlinewidth": 0,
             "ticks": ""
            },
            "type": "choropleth"
           }
          ],
          "contour": [
           {
            "colorbar": {
             "outlinewidth": 0,
             "ticks": ""
            },
            "colorscale": [
             [
              0,
              "#0d0887"
             ],
             [
              0.1111111111111111,
              "#46039f"
             ],
             [
              0.2222222222222222,
              "#7201a8"
             ],
             [
              0.3333333333333333,
              "#9c179e"
             ],
             [
              0.4444444444444444,
              "#bd3786"
             ],
             [
              0.5555555555555556,
              "#d8576b"
             ],
             [
              0.6666666666666666,
              "#ed7953"
             ],
             [
              0.7777777777777778,
              "#fb9f3a"
             ],
             [
              0.8888888888888888,
              "#fdca26"
             ],
             [
              1,
              "#f0f921"
             ]
            ],
            "type": "contour"
           }
          ],
          "contourcarpet": [
           {
            "colorbar": {
             "outlinewidth": 0,
             "ticks": ""
            },
            "type": "contourcarpet"
           }
          ],
          "heatmap": [
           {
            "colorbar": {
             "outlinewidth": 0,
             "ticks": ""
            },
            "colorscale": [
             [
              0,
              "#0d0887"
             ],
             [
              0.1111111111111111,
              "#46039f"
             ],
             [
              0.2222222222222222,
              "#7201a8"
             ],
             [
              0.3333333333333333,
              "#9c179e"
             ],
             [
              0.4444444444444444,
              "#bd3786"
             ],
             [
              0.5555555555555556,
              "#d8576b"
             ],
             [
              0.6666666666666666,
              "#ed7953"
             ],
             [
              0.7777777777777778,
              "#fb9f3a"
             ],
             [
              0.8888888888888888,
              "#fdca26"
             ],
             [
              1,
              "#f0f921"
             ]
            ],
            "type": "heatmap"
           }
          ],
          "heatmapgl": [
           {
            "colorbar": {
             "outlinewidth": 0,
             "ticks": ""
            },
            "colorscale": [
             [
              0,
              "#0d0887"
             ],
             [
              0.1111111111111111,
              "#46039f"
             ],
             [
              0.2222222222222222,
              "#7201a8"
             ],
             [
              0.3333333333333333,
              "#9c179e"
             ],
             [
              0.4444444444444444,
              "#bd3786"
             ],
             [
              0.5555555555555556,
              "#d8576b"
             ],
             [
              0.6666666666666666,
              "#ed7953"
             ],
             [
              0.7777777777777778,
              "#fb9f3a"
             ],
             [
              0.8888888888888888,
              "#fdca26"
             ],
             [
              1,
              "#f0f921"
             ]
            ],
            "type": "heatmapgl"
           }
          ],
          "histogram": [
           {
            "marker": {
             "pattern": {
              "fillmode": "overlay",
              "size": 10,
              "solidity": 0.2
             }
            },
            "type": "histogram"
           }
          ],
          "histogram2d": [
           {
            "colorbar": {
             "outlinewidth": 0,
             "ticks": ""
            },
            "colorscale": [
             [
              0,
              "#0d0887"
             ],
             [
              0.1111111111111111,
              "#46039f"
             ],
             [
              0.2222222222222222,
              "#7201a8"
             ],
             [
              0.3333333333333333,
              "#9c179e"
             ],
             [
              0.4444444444444444,
              "#bd3786"
             ],
             [
              0.5555555555555556,
              "#d8576b"
             ],
             [
              0.6666666666666666,
              "#ed7953"
             ],
             [
              0.7777777777777778,
              "#fb9f3a"
             ],
             [
              0.8888888888888888,
              "#fdca26"
             ],
             [
              1,
              "#f0f921"
             ]
            ],
            "type": "histogram2d"
           }
          ],
          "histogram2dcontour": [
           {
            "colorbar": {
             "outlinewidth": 0,
             "ticks": ""
            },
            "colorscale": [
             [
              0,
              "#0d0887"
             ],
             [
              0.1111111111111111,
              "#46039f"
             ],
             [
              0.2222222222222222,
              "#7201a8"
             ],
             [
              0.3333333333333333,
              "#9c179e"
             ],
             [
              0.4444444444444444,
              "#bd3786"
             ],
             [
              0.5555555555555556,
              "#d8576b"
             ],
             [
              0.6666666666666666,
              "#ed7953"
             ],
             [
              0.7777777777777778,
              "#fb9f3a"
             ],
             [
              0.8888888888888888,
              "#fdca26"
             ],
             [
              1,
              "#f0f921"
             ]
            ],
            "type": "histogram2dcontour"
           }
          ],
          "mesh3d": [
           {
            "colorbar": {
             "outlinewidth": 0,
             "ticks": ""
            },
            "type": "mesh3d"
           }
          ],
          "parcoords": [
           {
            "line": {
             "colorbar": {
              "outlinewidth": 0,
              "ticks": ""
             }
            },
            "type": "parcoords"
           }
          ],
          "pie": [
           {
            "automargin": true,
            "type": "pie"
           }
          ],
          "scatter": [
           {
            "fillpattern": {
             "fillmode": "overlay",
             "size": 10,
             "solidity": 0.2
            },
            "type": "scatter"
           }
          ],
          "scatter3d": [
           {
            "line": {
             "colorbar": {
              "outlinewidth": 0,
              "ticks": ""
             }
            },
            "marker": {
             "colorbar": {
              "outlinewidth": 0,
              "ticks": ""
             }
            },
            "type": "scatter3d"
           }
          ],
          "scattercarpet": [
           {
            "marker": {
             "colorbar": {
              "outlinewidth": 0,
              "ticks": ""
             }
            },
            "type": "scattercarpet"
           }
          ],
          "scattergeo": [
           {
            "marker": {
             "colorbar": {
              "outlinewidth": 0,
              "ticks": ""
             }
            },
            "type": "scattergeo"
           }
          ],
          "scattergl": [
           {
            "marker": {
             "colorbar": {
              "outlinewidth": 0,
              "ticks": ""
             }
            },
            "type": "scattergl"
           }
          ],
          "scattermapbox": [
           {
            "marker": {
             "colorbar": {
              "outlinewidth": 0,
              "ticks": ""
             }
            },
            "type": "scattermapbox"
           }
          ],
          "scatterpolar": [
           {
            "marker": {
             "colorbar": {
              "outlinewidth": 0,
              "ticks": ""
             }
            },
            "type": "scatterpolar"
           }
          ],
          "scatterpolargl": [
           {
            "marker": {
             "colorbar": {
              "outlinewidth": 0,
              "ticks": ""
             }
            },
            "type": "scatterpolargl"
           }
          ],
          "scatterternary": [
           {
            "marker": {
             "colorbar": {
              "outlinewidth": 0,
              "ticks": ""
             }
            },
            "type": "scatterternary"
           }
          ],
          "surface": [
           {
            "colorbar": {
             "outlinewidth": 0,
             "ticks": ""
            },
            "colorscale": [
             [
              0,
              "#0d0887"
             ],
             [
              0.1111111111111111,
              "#46039f"
             ],
             [
              0.2222222222222222,
              "#7201a8"
             ],
             [
              0.3333333333333333,
              "#9c179e"
             ],
             [
              0.4444444444444444,
              "#bd3786"
             ],
             [
              0.5555555555555556,
              "#d8576b"
             ],
             [
              0.6666666666666666,
              "#ed7953"
             ],
             [
              0.7777777777777778,
              "#fb9f3a"
             ],
             [
              0.8888888888888888,
              "#fdca26"
             ],
             [
              1,
              "#f0f921"
             ]
            ],
            "type": "surface"
           }
          ],
          "table": [
           {
            "cells": {
             "fill": {
              "color": "#EBF0F8"
             },
             "line": {
              "color": "white"
             }
            },
            "header": {
             "fill": {
              "color": "#C8D4E3"
             },
             "line": {
              "color": "white"
             }
            },
            "type": "table"
           }
          ]
         },
         "layout": {
          "annotationdefaults": {
           "arrowcolor": "#2a3f5f",
           "arrowhead": 0,
           "arrowwidth": 1
          },
          "autotypenumbers": "strict",
          "coloraxis": {
           "colorbar": {
            "outlinewidth": 0,
            "ticks": ""
           }
          },
          "colorscale": {
           "diverging": [
            [
             0,
             "#8e0152"
            ],
            [
             0.1,
             "#c51b7d"
            ],
            [
             0.2,
             "#de77ae"
            ],
            [
             0.3,
             "#f1b6da"
            ],
            [
             0.4,
             "#fde0ef"
            ],
            [
             0.5,
             "#f7f7f7"
            ],
            [
             0.6,
             "#e6f5d0"
            ],
            [
             0.7,
             "#b8e186"
            ],
            [
             0.8,
             "#7fbc41"
            ],
            [
             0.9,
             "#4d9221"
            ],
            [
             1,
             "#276419"
            ]
           ],
           "sequential": [
            [
             0,
             "#0d0887"
            ],
            [
             0.1111111111111111,
             "#46039f"
            ],
            [
             0.2222222222222222,
             "#7201a8"
            ],
            [
             0.3333333333333333,
             "#9c179e"
            ],
            [
             0.4444444444444444,
             "#bd3786"
            ],
            [
             0.5555555555555556,
             "#d8576b"
            ],
            [
             0.6666666666666666,
             "#ed7953"
            ],
            [
             0.7777777777777778,
             "#fb9f3a"
            ],
            [
             0.8888888888888888,
             "#fdca26"
            ],
            [
             1,
             "#f0f921"
            ]
           ],
           "sequentialminus": [
            [
             0,
             "#0d0887"
            ],
            [
             0.1111111111111111,
             "#46039f"
            ],
            [
             0.2222222222222222,
             "#7201a8"
            ],
            [
             0.3333333333333333,
             "#9c179e"
            ],
            [
             0.4444444444444444,
             "#bd3786"
            ],
            [
             0.5555555555555556,
             "#d8576b"
            ],
            [
             0.6666666666666666,
             "#ed7953"
            ],
            [
             0.7777777777777778,
             "#fb9f3a"
            ],
            [
             0.8888888888888888,
             "#fdca26"
            ],
            [
             1,
             "#f0f921"
            ]
           ]
          },
          "colorway": [
           "#636efa",
           "#EF553B",
           "#00cc96",
           "#ab63fa",
           "#FFA15A",
           "#19d3f3",
           "#FF6692",
           "#B6E880",
           "#FF97FF",
           "#FECB52"
          ],
          "font": {
           "color": "#2a3f5f"
          },
          "geo": {
           "bgcolor": "white",
           "lakecolor": "white",
           "landcolor": "#E5ECF6",
           "showlakes": true,
           "showland": true,
           "subunitcolor": "white"
          },
          "hoverlabel": {
           "align": "left"
          },
          "hovermode": "closest",
          "mapbox": {
           "style": "light"
          },
          "paper_bgcolor": "white",
          "plot_bgcolor": "#E5ECF6",
          "polar": {
           "angularaxis": {
            "gridcolor": "white",
            "linecolor": "white",
            "ticks": ""
           },
           "bgcolor": "#E5ECF6",
           "radialaxis": {
            "gridcolor": "white",
            "linecolor": "white",
            "ticks": ""
           }
          },
          "scene": {
           "xaxis": {
            "backgroundcolor": "#E5ECF6",
            "gridcolor": "white",
            "gridwidth": 2,
            "linecolor": "white",
            "showbackground": true,
            "ticks": "",
            "zerolinecolor": "white"
           },
           "yaxis": {
            "backgroundcolor": "#E5ECF6",
            "gridcolor": "white",
            "gridwidth": 2,
            "linecolor": "white",
            "showbackground": true,
            "ticks": "",
            "zerolinecolor": "white"
           },
           "zaxis": {
            "backgroundcolor": "#E5ECF6",
            "gridcolor": "white",
            "gridwidth": 2,
            "linecolor": "white",
            "showbackground": true,
            "ticks": "",
            "zerolinecolor": "white"
           }
          },
          "shapedefaults": {
           "line": {
            "color": "#2a3f5f"
           }
          },
          "ternary": {
           "aaxis": {
            "gridcolor": "white",
            "linecolor": "white",
            "ticks": ""
           },
           "baxis": {
            "gridcolor": "white",
            "linecolor": "white",
            "ticks": ""
           },
           "bgcolor": "#E5ECF6",
           "caxis": {
            "gridcolor": "white",
            "linecolor": "white",
            "ticks": ""
           }
          },
          "title": {
           "x": 0.05
          },
          "xaxis": {
           "automargin": true,
           "gridcolor": "white",
           "linecolor": "white",
           "ticks": "",
           "title": {
            "standoff": 15
           },
           "zerolinecolor": "white",
           "zerolinewidth": 2
          },
          "yaxis": {
           "automargin": true,
           "gridcolor": "white",
           "linecolor": "white",
           "ticks": "",
           "title": {
            "standoff": 15
           },
           "zerolinecolor": "white",
           "zerolinewidth": 2
          }
         }
        },
        "title": {
         "text": "Variação Reais por Resultado"
        },
        "xaxis": {
         "anchor": "y",
         "domain": [
          0,
          1
         ],
         "title": {
          "text": "var_reais_total"
         }
        },
        "yaxis": {
         "anchor": "x",
         "domain": [
          0,
          1
         ],
         "title": {
          "text": "resultado"
         }
        }
       }
      }
     },
     "metadata": {},
     "output_type": "display_data"
    }
   ],
   "source": [
    "fig_12m = px.bar(df_analise_12m_saldo, x= \"var_reais_total\", y=\"resultado\", title=\"Variação Reais por Resultado\")\n",
    "fig_12m.show()"
   ]
  }
 ],
 "metadata": {
  "kernelspec": {
   "display_name": "Python 3",
   "language": "python",
   "name": "python3"
  },
  "language_info": {
   "codemirror_mode": {
    "name": "ipython",
    "version": 3
   },
   "file_extension": ".py",
   "mimetype": "text/x-python",
   "name": "python",
   "nbconvert_exporter": "python",
   "pygments_lexer": "ipython3",
   "version": "3.12.3"
  }
 },
 "nbformat": 4,
 "nbformat_minor": 2
}
